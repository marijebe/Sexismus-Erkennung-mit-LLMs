{
  "cells": [
    {
      "cell_type": "markdown",
      "metadata": {
        "id": "pf19Dar7nkR0"
      },
      "source": [
        "# **Sexismus-Erkennung mit Large Language Models**"
      ]
    },
    {
      "cell_type": "markdown",
      "metadata": {
        "id": "1IUDdVhrYt00"
      },
      "source": [
        "# Imports & Setup"
      ]
    },
    {
      "cell_type": "code",
      "execution_count": null,
      "metadata": {
        "colab": {
          "base_uri": "https://localhost:8080/"
        },
        "id": "5kVMxAlCGuE0",
        "outputId": "0457498d-c9ec-4449-fa55-05a6d4643196"
      },
      "outputs": [
        {
          "name": "stdout",
          "output_type": "stream",
          "text": [
            "Requirement already satisfied: pandas in /usr/local/lib/python3.12/dist-packages (from -r requirements.txt (line 1)) (2.2.2)\n",
            "Requirement already satisfied: numpy in /usr/local/lib/python3.12/dist-packages (from -r requirements.txt (line 2)) (2.0.2)\n",
            "Requirement already satisfied: torch in /usr/local/lib/python3.12/dist-packages (from -r requirements.txt (line 3)) (2.8.0+cu126)\n",
            "Requirement already satisfied: tensorflow in /usr/local/lib/python3.12/dist-packages (from -r requirements.txt (line 4)) (2.19.0)\n",
            "Requirement already satisfied: datasets in /usr/local/lib/python3.12/dist-packages (from -r requirements.txt (line 5)) (4.0.0)\n",
            "Requirement already satisfied: matplotlib in /usr/local/lib/python3.12/dist-packages (from -r requirements.txt (line 6)) (3.10.0)\n",
            "Requirement already satisfied: transformers in /usr/local/lib/python3.12/dist-packages (from -r requirements.txt (line 7)) (4.56.1)\n",
            "Requirement already satisfied: scikit-learn in /usr/local/lib/python3.12/dist-packages (from -r requirements.txt (line 8)) (1.6.1)\n",
            "Requirement already satisfied: tqdm in /usr/local/lib/python3.12/dist-packages (from -r requirements.txt (line 9)) (4.67.1)\n",
            "Collecting optuna (from -r requirements.txt (line 10))\n",
            "  Downloading optuna-4.5.0-py3-none-any.whl.metadata (17 kB)\n",
            "Requirement already satisfied: nltk in /usr/local/lib/python3.12/dist-packages (from -r requirements.txt (line 11)) (3.9.1)\n",
            "Requirement already satisfied: seaborn in /usr/local/lib/python3.12/dist-packages (from -r requirements.txt (line 12)) (0.13.2)\n",
            "Requirement already satisfied: spacy in /usr/local/lib/python3.12/dist-packages (from -r requirements.txt (line 13)) (3.8.7)\n",
            "Requirement already satisfied: python-dateutil>=2.8.2 in /usr/local/lib/python3.12/dist-packages (from pandas->-r requirements.txt (line 1)) (2.9.0.post0)\n",
            "Requirement already satisfied: pytz>=2020.1 in /usr/local/lib/python3.12/dist-packages (from pandas->-r requirements.txt (line 1)) (2025.2)\n",
            "Requirement already satisfied: tzdata>=2022.7 in /usr/local/lib/python3.12/dist-packages (from pandas->-r requirements.txt (line 1)) (2025.2)\n",
            "Requirement already satisfied: filelock in /usr/local/lib/python3.12/dist-packages (from torch->-r requirements.txt (line 3)) (3.19.1)\n",
            "Requirement already satisfied: typing-extensions>=4.10.0 in /usr/local/lib/python3.12/dist-packages (from torch->-r requirements.txt (line 3)) (4.15.0)\n",
            "Requirement already satisfied: setuptools in /usr/local/lib/python3.12/dist-packages (from torch->-r requirements.txt (line 3)) (75.2.0)\n",
            "Requirement already satisfied: sympy>=1.13.3 in /usr/local/lib/python3.12/dist-packages (from torch->-r requirements.txt (line 3)) (1.13.3)\n",
            "Requirement already satisfied: networkx in /usr/local/lib/python3.12/dist-packages (from torch->-r requirements.txt (line 3)) (3.5)\n",
            "Requirement already satisfied: jinja2 in /usr/local/lib/python3.12/dist-packages (from torch->-r requirements.txt (line 3)) (3.1.6)\n",
            "Requirement already satisfied: fsspec in /usr/local/lib/python3.12/dist-packages (from torch->-r requirements.txt (line 3)) (2025.3.0)\n",
            "Requirement already satisfied: nvidia-cuda-nvrtc-cu12==12.6.77 in /usr/local/lib/python3.12/dist-packages (from torch->-r requirements.txt (line 3)) (12.6.77)\n",
            "Requirement already satisfied: nvidia-cuda-runtime-cu12==12.6.77 in /usr/local/lib/python3.12/dist-packages (from torch->-r requirements.txt (line 3)) (12.6.77)\n",
            "Requirement already satisfied: nvidia-cuda-cupti-cu12==12.6.80 in /usr/local/lib/python3.12/dist-packages (from torch->-r requirements.txt (line 3)) (12.6.80)\n",
            "Requirement already satisfied: nvidia-cudnn-cu12==9.10.2.21 in /usr/local/lib/python3.12/dist-packages (from torch->-r requirements.txt (line 3)) (9.10.2.21)\n",
            "Requirement already satisfied: nvidia-cublas-cu12==12.6.4.1 in /usr/local/lib/python3.12/dist-packages (from torch->-r requirements.txt (line 3)) (12.6.4.1)\n",
            "Requirement already satisfied: nvidia-cufft-cu12==11.3.0.4 in /usr/local/lib/python3.12/dist-packages (from torch->-r requirements.txt (line 3)) (11.3.0.4)\n",
            "Requirement already satisfied: nvidia-curand-cu12==10.3.7.77 in /usr/local/lib/python3.12/dist-packages (from torch->-r requirements.txt (line 3)) (10.3.7.77)\n",
            "Requirement already satisfied: nvidia-cusolver-cu12==11.7.1.2 in /usr/local/lib/python3.12/dist-packages (from torch->-r requirements.txt (line 3)) (11.7.1.2)\n",
            "Requirement already satisfied: nvidia-cusparse-cu12==12.5.4.2 in /usr/local/lib/python3.12/dist-packages (from torch->-r requirements.txt (line 3)) (12.5.4.2)\n",
            "Requirement already satisfied: nvidia-cusparselt-cu12==0.7.1 in /usr/local/lib/python3.12/dist-packages (from torch->-r requirements.txt (line 3)) (0.7.1)\n",
            "Requirement already satisfied: nvidia-nccl-cu12==2.27.3 in /usr/local/lib/python3.12/dist-packages (from torch->-r requirements.txt (line 3)) (2.27.3)\n",
            "Requirement already satisfied: nvidia-nvtx-cu12==12.6.77 in /usr/local/lib/python3.12/dist-packages (from torch->-r requirements.txt (line 3)) (12.6.77)\n",
            "Requirement already satisfied: nvidia-nvjitlink-cu12==12.6.85 in /usr/local/lib/python3.12/dist-packages (from torch->-r requirements.txt (line 3)) (12.6.85)\n",
            "Requirement already satisfied: nvidia-cufile-cu12==1.11.1.6 in /usr/local/lib/python3.12/dist-packages (from torch->-r requirements.txt (line 3)) (1.11.1.6)\n",
            "Requirement already satisfied: triton==3.4.0 in /usr/local/lib/python3.12/dist-packages (from torch->-r requirements.txt (line 3)) (3.4.0)\n",
            "Requirement already satisfied: absl-py>=1.0.0 in /usr/local/lib/python3.12/dist-packages (from tensorflow->-r requirements.txt (line 4)) (1.4.0)\n",
            "Requirement already satisfied: astunparse>=1.6.0 in /usr/local/lib/python3.12/dist-packages (from tensorflow->-r requirements.txt (line 4)) (1.6.3)\n",
            "Requirement already satisfied: flatbuffers>=24.3.25 in /usr/local/lib/python3.12/dist-packages (from tensorflow->-r requirements.txt (line 4)) (25.2.10)\n",
            "Requirement already satisfied: gast!=0.5.0,!=0.5.1,!=0.5.2,>=0.2.1 in /usr/local/lib/python3.12/dist-packages (from tensorflow->-r requirements.txt (line 4)) (0.6.0)\n",
            "Requirement already satisfied: google-pasta>=0.1.1 in /usr/local/lib/python3.12/dist-packages (from tensorflow->-r requirements.txt (line 4)) (0.2.0)\n",
            "Requirement already satisfied: libclang>=13.0.0 in /usr/local/lib/python3.12/dist-packages (from tensorflow->-r requirements.txt (line 4)) (18.1.1)\n",
            "Requirement already satisfied: opt-einsum>=2.3.2 in /usr/local/lib/python3.12/dist-packages (from tensorflow->-r requirements.txt (line 4)) (3.4.0)\n",
            "Requirement already satisfied: packaging in /usr/local/lib/python3.12/dist-packages (from tensorflow->-r requirements.txt (line 4)) (25.0)\n",
            "Requirement already satisfied: protobuf!=4.21.0,!=4.21.1,!=4.21.2,!=4.21.3,!=4.21.4,!=4.21.5,<6.0.0dev,>=3.20.3 in /usr/local/lib/python3.12/dist-packages (from tensorflow->-r requirements.txt (line 4)) (5.29.5)\n",
            "Requirement already satisfied: requests<3,>=2.21.0 in /usr/local/lib/python3.12/dist-packages (from tensorflow->-r requirements.txt (line 4)) (2.32.4)\n",
            "Requirement already satisfied: six>=1.12.0 in /usr/local/lib/python3.12/dist-packages (from tensorflow->-r requirements.txt (line 4)) (1.17.0)\n",
            "Requirement already satisfied: termcolor>=1.1.0 in /usr/local/lib/python3.12/dist-packages (from tensorflow->-r requirements.txt (line 4)) (3.1.0)\n",
            "Requirement already satisfied: wrapt>=1.11.0 in /usr/local/lib/python3.12/dist-packages (from tensorflow->-r requirements.txt (line 4)) (1.17.3)\n",
            "Requirement already satisfied: grpcio<2.0,>=1.24.3 in /usr/local/lib/python3.12/dist-packages (from tensorflow->-r requirements.txt (line 4)) (1.75.0)\n",
            "Requirement already satisfied: tensorboard~=2.19.0 in /usr/local/lib/python3.12/dist-packages (from tensorflow->-r requirements.txt (line 4)) (2.19.0)\n",
            "Requirement already satisfied: keras>=3.5.0 in /usr/local/lib/python3.12/dist-packages (from tensorflow->-r requirements.txt (line 4)) (3.10.0)\n",
            "Requirement already satisfied: h5py>=3.11.0 in /usr/local/lib/python3.12/dist-packages (from tensorflow->-r requirements.txt (line 4)) (3.14.0)\n",
            "Requirement already satisfied: ml-dtypes<1.0.0,>=0.5.1 in /usr/local/lib/python3.12/dist-packages (from tensorflow->-r requirements.txt (line 4)) (0.5.3)\n",
            "Requirement already satisfied: pyarrow>=15.0.0 in /usr/local/lib/python3.12/dist-packages (from datasets->-r requirements.txt (line 5)) (18.1.0)\n",
            "Requirement already satisfied: dill<0.3.9,>=0.3.0 in /usr/local/lib/python3.12/dist-packages (from datasets->-r requirements.txt (line 5)) (0.3.8)\n",
            "Requirement already satisfied: xxhash in /usr/local/lib/python3.12/dist-packages (from datasets->-r requirements.txt (line 5)) (3.5.0)\n",
            "Requirement already satisfied: multiprocess<0.70.17 in /usr/local/lib/python3.12/dist-packages (from datasets->-r requirements.txt (line 5)) (0.70.16)\n",
            "Requirement already satisfied: huggingface-hub>=0.24.0 in /usr/local/lib/python3.12/dist-packages (from datasets->-r requirements.txt (line 5)) (0.35.0)\n",
            "Requirement already satisfied: pyyaml>=5.1 in /usr/local/lib/python3.12/dist-packages (from datasets->-r requirements.txt (line 5)) (6.0.2)\n",
            "Requirement already satisfied: contourpy>=1.0.1 in /usr/local/lib/python3.12/dist-packages (from matplotlib->-r requirements.txt (line 6)) (1.3.3)\n",
            "Requirement already satisfied: cycler>=0.10 in /usr/local/lib/python3.12/dist-packages (from matplotlib->-r requirements.txt (line 6)) (0.12.1)\n",
            "Requirement already satisfied: fonttools>=4.22.0 in /usr/local/lib/python3.12/dist-packages (from matplotlib->-r requirements.txt (line 6)) (4.60.0)\n",
            "Requirement already satisfied: kiwisolver>=1.3.1 in /usr/local/lib/python3.12/dist-packages (from matplotlib->-r requirements.txt (line 6)) (1.4.9)\n",
            "Requirement already satisfied: pillow>=8 in /usr/local/lib/python3.12/dist-packages (from matplotlib->-r requirements.txt (line 6)) (11.3.0)\n",
            "Requirement already satisfied: pyparsing>=2.3.1 in /usr/local/lib/python3.12/dist-packages (from matplotlib->-r requirements.txt (line 6)) (3.2.4)\n",
            "Requirement already satisfied: regex!=2019.12.17 in /usr/local/lib/python3.12/dist-packages (from transformers->-r requirements.txt (line 7)) (2024.11.6)\n",
            "Requirement already satisfied: tokenizers<=0.23.0,>=0.22.0 in /usr/local/lib/python3.12/dist-packages (from transformers->-r requirements.txt (line 7)) (0.22.0)\n",
            "Requirement already satisfied: safetensors>=0.4.3 in /usr/local/lib/python3.12/dist-packages (from transformers->-r requirements.txt (line 7)) (0.6.2)\n",
            "Requirement already satisfied: scipy>=1.6.0 in /usr/local/lib/python3.12/dist-packages (from scikit-learn->-r requirements.txt (line 8)) (1.16.2)\n",
            "Requirement already satisfied: joblib>=1.2.0 in /usr/local/lib/python3.12/dist-packages (from scikit-learn->-r requirements.txt (line 8)) (1.5.2)\n",
            "Requirement already satisfied: threadpoolctl>=3.1.0 in /usr/local/lib/python3.12/dist-packages (from scikit-learn->-r requirements.txt (line 8)) (3.6.0)\n",
            "Requirement already satisfied: alembic>=1.5.0 in /usr/local/lib/python3.12/dist-packages (from optuna->-r requirements.txt (line 10)) (1.16.5)\n",
            "Collecting colorlog (from optuna->-r requirements.txt (line 10))\n",
            "  Downloading colorlog-6.9.0-py3-none-any.whl.metadata (10 kB)\n",
            "Requirement already satisfied: sqlalchemy>=1.4.2 in /usr/local/lib/python3.12/dist-packages (from optuna->-r requirements.txt (line 10)) (2.0.43)\n",
            "Requirement already satisfied: click in /usr/local/lib/python3.12/dist-packages (from nltk->-r requirements.txt (line 11)) (8.2.1)\n",
            "Requirement already satisfied: spacy-legacy<3.1.0,>=3.0.11 in /usr/local/lib/python3.12/dist-packages (from spacy->-r requirements.txt (line 13)) (3.0.12)\n",
            "Requirement already satisfied: spacy-loggers<2.0.0,>=1.0.0 in /usr/local/lib/python3.12/dist-packages (from spacy->-r requirements.txt (line 13)) (1.0.5)\n",
            "Requirement already satisfied: murmurhash<1.1.0,>=0.28.0 in /usr/local/lib/python3.12/dist-packages (from spacy->-r requirements.txt (line 13)) (1.0.13)\n",
            "Requirement already satisfied: cymem<2.1.0,>=2.0.2 in /usr/local/lib/python3.12/dist-packages (from spacy->-r requirements.txt (line 13)) (2.0.11)\n",
            "Requirement already satisfied: preshed<3.1.0,>=3.0.2 in /usr/local/lib/python3.12/dist-packages (from spacy->-r requirements.txt (line 13)) (3.0.10)\n",
            "Requirement already satisfied: thinc<8.4.0,>=8.3.4 in /usr/local/lib/python3.12/dist-packages (from spacy->-r requirements.txt (line 13)) (8.3.6)\n",
            "Requirement already satisfied: wasabi<1.2.0,>=0.9.1 in /usr/local/lib/python3.12/dist-packages (from spacy->-r requirements.txt (line 13)) (1.1.3)\n",
            "Requirement already satisfied: srsly<3.0.0,>=2.4.3 in /usr/local/lib/python3.12/dist-packages (from spacy->-r requirements.txt (line 13)) (2.5.1)\n",
            "Requirement already satisfied: catalogue<2.1.0,>=2.0.6 in /usr/local/lib/python3.12/dist-packages (from spacy->-r requirements.txt (line 13)) (2.0.10)\n",
            "Requirement already satisfied: weasel<0.5.0,>=0.1.0 in /usr/local/lib/python3.12/dist-packages (from spacy->-r requirements.txt (line 13)) (0.4.1)\n",
            "Requirement already satisfied: typer<1.0.0,>=0.3.0 in /usr/local/lib/python3.12/dist-packages (from spacy->-r requirements.txt (line 13)) (0.17.4)\n",
            "Requirement already satisfied: pydantic!=1.8,!=1.8.1,<3.0.0,>=1.7.4 in /usr/local/lib/python3.12/dist-packages (from spacy->-r requirements.txt (line 13)) (2.11.9)\n",
            "Requirement already satisfied: langcodes<4.0.0,>=3.2.0 in /usr/local/lib/python3.12/dist-packages (from spacy->-r requirements.txt (line 13)) (3.5.0)\n",
            "Requirement already satisfied: Mako in /usr/local/lib/python3.12/dist-packages (from alembic>=1.5.0->optuna->-r requirements.txt (line 10)) (1.3.10)\n",
            "Requirement already satisfied: wheel<1.0,>=0.23.0 in /usr/local/lib/python3.12/dist-packages (from astunparse>=1.6.0->tensorflow->-r requirements.txt (line 4)) (0.45.1)\n",
            "Requirement already satisfied: aiohttp!=4.0.0a0,!=4.0.0a1 in /usr/local/lib/python3.12/dist-packages (from fsspec[http]<=2025.3.0,>=2023.1.0->datasets->-r requirements.txt (line 5)) (3.12.15)\n",
            "Requirement already satisfied: hf-xet<2.0.0,>=1.1.3 in /usr/local/lib/python3.12/dist-packages (from huggingface-hub>=0.24.0->datasets->-r requirements.txt (line 5)) (1.1.10)\n",
            "Requirement already satisfied: rich in /usr/local/lib/python3.12/dist-packages (from keras>=3.5.0->tensorflow->-r requirements.txt (line 4)) (13.9.4)\n",
            "Requirement already satisfied: namex in /usr/local/lib/python3.12/dist-packages (from keras>=3.5.0->tensorflow->-r requirements.txt (line 4)) (0.1.0)\n",
            "Requirement already satisfied: optree in /usr/local/lib/python3.12/dist-packages (from keras>=3.5.0->tensorflow->-r requirements.txt (line 4)) (0.17.0)\n",
            "Requirement already satisfied: language-data>=1.2 in /usr/local/lib/python3.12/dist-packages (from langcodes<4.0.0,>=3.2.0->spacy->-r requirements.txt (line 13)) (1.3.0)\n",
            "Requirement already satisfied: annotated-types>=0.6.0 in /usr/local/lib/python3.12/dist-packages (from pydantic!=1.8,!=1.8.1,<3.0.0,>=1.7.4->spacy->-r requirements.txt (line 13)) (0.7.0)\n",
            "Requirement already satisfied: pydantic-core==2.33.2 in /usr/local/lib/python3.12/dist-packages (from pydantic!=1.8,!=1.8.1,<3.0.0,>=1.7.4->spacy->-r requirements.txt (line 13)) (2.33.2)\n",
            "Requirement already satisfied: typing-inspection>=0.4.0 in /usr/local/lib/python3.12/dist-packages (from pydantic!=1.8,!=1.8.1,<3.0.0,>=1.7.4->spacy->-r requirements.txt (line 13)) (0.4.1)\n",
            "Requirement already satisfied: charset_normalizer<4,>=2 in /usr/local/lib/python3.12/dist-packages (from requests<3,>=2.21.0->tensorflow->-r requirements.txt (line 4)) (3.4.3)\n",
            "Requirement already satisfied: idna<4,>=2.5 in /usr/local/lib/python3.12/dist-packages (from requests<3,>=2.21.0->tensorflow->-r requirements.txt (line 4)) (3.10)\n",
            "Requirement already satisfied: urllib3<3,>=1.21.1 in /usr/local/lib/python3.12/dist-packages (from requests<3,>=2.21.0->tensorflow->-r requirements.txt (line 4)) (2.5.0)\n",
            "Requirement already satisfied: certifi>=2017.4.17 in /usr/local/lib/python3.12/dist-packages (from requests<3,>=2.21.0->tensorflow->-r requirements.txt (line 4)) (2025.8.3)\n",
            "Requirement already satisfied: greenlet>=1 in /usr/local/lib/python3.12/dist-packages (from sqlalchemy>=1.4.2->optuna->-r requirements.txt (line 10)) (3.2.4)\n",
            "Requirement already satisfied: mpmath<1.4,>=1.1.0 in /usr/local/lib/python3.12/dist-packages (from sympy>=1.13.3->torch->-r requirements.txt (line 3)) (1.3.0)\n",
            "Requirement already satisfied: markdown>=2.6.8 in /usr/local/lib/python3.12/dist-packages (from tensorboard~=2.19.0->tensorflow->-r requirements.txt (line 4)) (3.9)\n",
            "Requirement already satisfied: tensorboard-data-server<0.8.0,>=0.7.0 in /usr/local/lib/python3.12/dist-packages (from tensorboard~=2.19.0->tensorflow->-r requirements.txt (line 4)) (0.7.2)\n",
            "Requirement already satisfied: werkzeug>=1.0.1 in /usr/local/lib/python3.12/dist-packages (from tensorboard~=2.19.0->tensorflow->-r requirements.txt (line 4)) (3.1.3)\n",
            "Requirement already satisfied: blis<1.4.0,>=1.3.0 in /usr/local/lib/python3.12/dist-packages (from thinc<8.4.0,>=8.3.4->spacy->-r requirements.txt (line 13)) (1.3.0)\n",
            "Requirement already satisfied: confection<1.0.0,>=0.0.1 in /usr/local/lib/python3.12/dist-packages (from thinc<8.4.0,>=8.3.4->spacy->-r requirements.txt (line 13)) (0.1.5)\n",
            "Requirement already satisfied: shellingham>=1.3.0 in /usr/local/lib/python3.12/dist-packages (from typer<1.0.0,>=0.3.0->spacy->-r requirements.txt (line 13)) (1.5.4)\n",
            "Requirement already satisfied: cloudpathlib<1.0.0,>=0.7.0 in /usr/local/lib/python3.12/dist-packages (from weasel<0.5.0,>=0.1.0->spacy->-r requirements.txt (line 13)) (0.22.0)\n",
            "Requirement already satisfied: smart-open<8.0.0,>=5.2.1 in /usr/local/lib/python3.12/dist-packages (from weasel<0.5.0,>=0.1.0->spacy->-r requirements.txt (line 13)) (7.3.1)\n",
            "Requirement already satisfied: MarkupSafe>=2.0 in /usr/local/lib/python3.12/dist-packages (from jinja2->torch->-r requirements.txt (line 3)) (3.0.2)\n",
            "Requirement already satisfied: aiohappyeyeballs>=2.5.0 in /usr/local/lib/python3.12/dist-packages (from aiohttp!=4.0.0a0,!=4.0.0a1->fsspec[http]<=2025.3.0,>=2023.1.0->datasets->-r requirements.txt (line 5)) (2.6.1)\n",
            "Requirement already satisfied: aiosignal>=1.4.0 in /usr/local/lib/python3.12/dist-packages (from aiohttp!=4.0.0a0,!=4.0.0a1->fsspec[http]<=2025.3.0,>=2023.1.0->datasets->-r requirements.txt (line 5)) (1.4.0)\n",
            "Requirement already satisfied: attrs>=17.3.0 in /usr/local/lib/python3.12/dist-packages (from aiohttp!=4.0.0a0,!=4.0.0a1->fsspec[http]<=2025.3.0,>=2023.1.0->datasets->-r requirements.txt (line 5)) (25.3.0)\n",
            "Requirement already satisfied: frozenlist>=1.1.1 in /usr/local/lib/python3.12/dist-packages (from aiohttp!=4.0.0a0,!=4.0.0a1->fsspec[http]<=2025.3.0,>=2023.1.0->datasets->-r requirements.txt (line 5)) (1.7.0)\n",
            "Requirement already satisfied: multidict<7.0,>=4.5 in /usr/local/lib/python3.12/dist-packages (from aiohttp!=4.0.0a0,!=4.0.0a1->fsspec[http]<=2025.3.0,>=2023.1.0->datasets->-r requirements.txt (line 5)) (6.6.4)\n",
            "Requirement already satisfied: propcache>=0.2.0 in /usr/local/lib/python3.12/dist-packages (from aiohttp!=4.0.0a0,!=4.0.0a1->fsspec[http]<=2025.3.0,>=2023.1.0->datasets->-r requirements.txt (line 5)) (0.3.2)\n",
            "Requirement already satisfied: yarl<2.0,>=1.17.0 in /usr/local/lib/python3.12/dist-packages (from aiohttp!=4.0.0a0,!=4.0.0a1->fsspec[http]<=2025.3.0,>=2023.1.0->datasets->-r requirements.txt (line 5)) (1.20.1)\n",
            "Requirement already satisfied: marisa-trie>=1.1.0 in /usr/local/lib/python3.12/dist-packages (from language-data>=1.2->langcodes<4.0.0,>=3.2.0->spacy->-r requirements.txt (line 13)) (1.3.1)\n",
            "Requirement already satisfied: markdown-it-py>=2.2.0 in /usr/local/lib/python3.12/dist-packages (from rich->keras>=3.5.0->tensorflow->-r requirements.txt (line 4)) (4.0.0)\n",
            "Requirement already satisfied: pygments<3.0.0,>=2.13.0 in /usr/local/lib/python3.12/dist-packages (from rich->keras>=3.5.0->tensorflow->-r requirements.txt (line 4)) (2.19.2)\n",
            "Requirement already satisfied: mdurl~=0.1 in /usr/local/lib/python3.12/dist-packages (from markdown-it-py>=2.2.0->rich->keras>=3.5.0->tensorflow->-r requirements.txt (line 4)) (0.1.2)\n",
            "Downloading optuna-4.5.0-py3-none-any.whl (400 kB)\n",
            "\u001b[2K   \u001b[90m━━━━━━━━━━━━━━━━━━━━━━━━━━━━━━━━━━━━━━━━\u001b[0m \u001b[32m400.9/400.9 kB\u001b[0m \u001b[31m27.0 MB/s\u001b[0m eta \u001b[36m0:00:00\u001b[0m\n",
            "\u001b[?25hDownloading colorlog-6.9.0-py3-none-any.whl (11 kB)\n",
            "Installing collected packages: colorlog, optuna\n",
            "Successfully installed colorlog-6.9.0 optuna-4.5.0\n"
          ]
        }
      ],
      "source": [
        "!pip install -r requirements.txt"
      ]
    },
    {
      "cell_type": "code",
      "execution_count": null,
      "metadata": {
        "colab": {
          "base_uri": "https://localhost:8080/"
        },
        "id": "8BXbOkXk5SRN",
        "outputId": "8632269d-5a38-4d26-ea59-4bc842e238a9"
      },
      "outputs": [
        {
          "name": "stderr",
          "output_type": "stream",
          "text": [
            "[nltk_data] Downloading package stopwords to /root/nltk_data...\n",
            "[nltk_data]   Unzipping corpora/stopwords.zip.\n"
          ]
        },
        {
          "name": "stdout",
          "output_type": "stream",
          "text": [
            "Collecting de-core-news-sm==3.8.0\n",
            "  Downloading https://github.com/explosion/spacy-models/releases/download/de_core_news_sm-3.8.0/de_core_news_sm-3.8.0-py3-none-any.whl (14.6 MB)\n",
            "\u001b[2K     \u001b[90m━━━━━━━━━━━━━━━━━━━━━━━━━━━━━━━━━━━━━━━\u001b[0m \u001b[32m14.6/14.6 MB\u001b[0m \u001b[31m132.1 MB/s\u001b[0m eta \u001b[36m0:00:00\u001b[0m\n",
            "\u001b[?25hInstalling collected packages: de-core-news-sm\n",
            "Successfully installed de-core-news-sm-3.8.0\n",
            "\u001b[38;5;2m✔ Download and installation successful\u001b[0m\n",
            "You can now load the package via spacy.load('de_core_news_sm')\n",
            "\u001b[38;5;3m⚠ Restart to reload dependencies\u001b[0m\n",
            "If you are in a Jupyter or Colab notebook, you may need to restart Python in\n",
            "order to load all the package's dependencies. You can do this by selecting the\n",
            "'Restart kernel' or 'Restart runtime' option.\n"
          ]
        }
      ],
      "source": [
        "import pandas as pd\n",
        "import numpy as np\n",
        "import torch\n",
        "import torch.nn as nn\n",
        "from datasets import load_dataset, DatasetDict, Dataset, load_from_disk\n",
        "import matplotlib.pyplot as plt\n",
        "import tensorflow as tf\n",
        "import os\n",
        "from transformers import AutoTokenizer, AutoModel, TFAutoModel\n",
        "from transformers import AutoModelForSequenceClassification,  AutoConfig\n",
        "from transformers import Trainer, TrainingArguments, DataCollatorWithPadding, DistilBertModel\n",
        "from sklearn.linear_model import LogisticRegression\n",
        "from sklearn.metrics import ConfusionMatrixDisplay, confusion_matrix, classification_report\n",
        "from sklearn.metrics import accuracy_score, precision_score, recall_score, f1_score\n",
        "from sklearn.metrics import precision_recall_fscore_support\n",
        "from sklearn.model_selection import train_test_split\n",
        "from sklearn.feature_extraction.text import TfidfVectorizer\n",
        "from tqdm import tqdm\n",
        "import optuna\n",
        "from collections import Counter\n",
        "import nltk\n",
        "from nltk.corpus import stopwords\n",
        "nltk.download('stopwords')\n",
        "import seaborn as sns\n",
        "import spacy\n",
        "!python -m spacy download de_core_news_sm\n",
        "nlp = spacy.load(\"de_core_news_sm\")\n",
        "import re"
      ]
    },
    {
      "cell_type": "markdown",
      "metadata": {
        "id": "PJKZmnjv569e"
      },
      "source": [
        "## Daten laden"
      ]
    },
    {
      "cell_type": "code",
      "execution_count": null,
      "metadata": {
        "colab": {
          "base_uri": "https://localhost:8080/",
          "referenced_widgets": [
            "c7497d2ad4da4322a09b35ed53ec2b0a",
            "8aaa2150707b4f80bb6db2eed472ea42",
            "3d4dd84c36e14eacaf0ab0b000a9bc11",
            "532d45d53fbc4533a2eb731b0e01c060",
            "fbf694d21d184c34bddb419a50076428",
            "1ab35796ac0847338fda606a3283c88d",
            "f7233081cd444fcaa12bf4f460ce4df5",
            "ac170306dd1b452ab3b50c7e43eda6fa",
            "94997d7251a7495999aa0878db567e5c",
            "f29bc2710e394c57a74266680f6f34e8",
            "d06af281a85e4c13b6f1c9dc545b722f",
            "5f657727daa047ffa857516459a5ca8a",
            "78e23f41ac3f404b8445916917181b2b",
            "6746dfebc09647d19af31bc1f0ef81c1",
            "756f6f7b0ba94562871987685d6d5dda",
            "52b7308d53df4523b87f14879ef8b5c4",
            "de3a0f7cd85545688573aa82d082dcb7",
            "b17d1aa3c9474fc2b1b2bf6390f7d53e",
            "176e762d329b47b19eaf29d90646b6b9",
            "832e83e68b304e899995945829ef4484",
            "5c269a2ca0404fe8b3be123ed754bef1",
            "81dfbb2778654f589e1009aeb15a70b1",
            "fe6f00c415d343928cdfbe899616fd4d",
            "e29b93e9eb0e4ce781b32ed48142ec77",
            "5ae1b3532061481aa057ee723733938f",
            "9f746368d07644e4a8e7c958552888a1",
            "d297975fc3234688a5a12f7126bfacc8",
            "4b97f7d5a4354aa0b33f81916a2e7739",
            "de0a838f99804511a2e53184e142ebf9",
            "0e72b5cd4ae84faeb0ba2a9558c7d0b6",
            "faa3e367db0a44c1af1a92044dfaf6fd",
            "14aa37e4b4ff4053acce874df7a98e0a",
            "c9109be5f61d40b9963da6cb071b7ead",
            "cff630ea1b5241caaa46bd98f9313848",
            "7498bf4d742148aa89b58b61235cea34",
            "5d39a502d361477ea5329b4b13e45bf8",
            "5d796364480c415e9006dd0b68d92662",
            "ab7691decafd4ea7810ee24a632429f1",
            "833bc3fb88af4722b60f9312c1023124",
            "cfb432949ef74a0ebaf3d9902ed24d71",
            "e4d9c42e1bc64bbdb1291fe77cb49dec",
            "86b607d44ee34e00aae513aaf152b4ad",
            "a667c8f816e14a468c40ff47be73c18a",
            "4333409049794312a7fb17be7f22063d",
            "ace167194bb14e80802e5599a865174c",
            "a749f7310b0d4b2e92c583dbb85d08cc",
            "2bd44524252a41f695a25671db05eeda",
            "6ed8d4e050aa48e38383a3fce1aad532",
            "c369102de4f14cc4a5305728495d5a3c",
            "2854b6a3c3dd4ed98cff1f7c90df1de4",
            "dec9a01f119b4330847eb2c221d2cbb1",
            "b9574d1b9b7e48ce813ef916c9480d0c",
            "fae6bf28085a44ba98275e0339d69ac5",
            "2a28b06876ab4defa42474e6b5566a35",
            "9a553d31451a477380f4b3fbe50050b0"
          ]
        },
        "id": "r5CuRRXY52o3",
        "outputId": "ac98dd8a-78b0-445d-a668-b994ebb2950f"
      },
      "outputs": [
        {
          "name": "stderr",
          "output_type": "stream",
          "text": [
            "/usr/local/lib/python3.12/dist-packages/huggingface_hub/utils/_auth.py:104: UserWarning: \n",
            "Error while fetching `HF_TOKEN` secret value from your vault: 'Requesting secret HF_TOKEN timed out. Secrets can only be fetched when running from the Colab UI.'.\n",
            "You are not authenticated with the Hugging Face Hub in this notebook.\n",
            "If the error persists, please let us know by opening an issue on GitHub (https://github.com/huggingface/huggingface_hub/issues/new).\n",
            "  warnings.warn(\n"
          ]
        },
        {
          "data": {
            "application/vnd.jupyter.widget-view+json": {
              "model_id": "c7497d2ad4da4322a09b35ed53ec2b0a",
              "version_major": 2,
              "version_minor": 0
            },
            "text/plain": [
              "README.md: 0.00B [00:00, ?B/s]"
            ]
          },
          "metadata": {},
          "output_type": "display_data"
        },
        {
          "data": {
            "application/vnd.jupyter.widget-view+json": {
              "model_id": "5f657727daa047ffa857516459a5ca8a",
              "version_major": 2,
              "version_minor": 0
            },
            "text/plain": [
              "germs-at-train.jsonl: 0.00B [00:00, ?B/s]"
            ]
          },
          "metadata": {},
          "output_type": "display_data"
        },
        {
          "data": {
            "application/vnd.jupyter.widget-view+json": {
              "model_id": "fe6f00c415d343928cdfbe899616fd4d",
              "version_major": 2,
              "version_minor": 0
            },
            "text/plain": [
              "germs-at-test.jsonl: 0.00B [00:00, ?B/s]"
            ]
          },
          "metadata": {},
          "output_type": "display_data"
        },
        {
          "data": {
            "application/vnd.jupyter.widget-view+json": {
              "model_id": "cff630ea1b5241caaa46bd98f9313848",
              "version_major": 2,
              "version_minor": 0
            },
            "text/plain": [
              "Generating train split:   0%|          | 0/5998 [00:00<?, ? examples/s]"
            ]
          },
          "metadata": {},
          "output_type": "display_data"
        },
        {
          "data": {
            "application/vnd.jupyter.widget-view+json": {
              "model_id": "ace167194bb14e80802e5599a865174c",
              "version_major": 2,
              "version_minor": 0
            },
            "text/plain": [
              "Generating test split:   0%|          | 0/1986 [00:00<?, ? examples/s]"
            ]
          },
          "metadata": {},
          "output_type": "display_data"
        },
        {
          "data": {
            "text/plain": [
              "DatasetDict({\n",
              "    train: Dataset({\n",
              "        features: ['text', 'id', 'annotations', 'round', 'source'],\n",
              "        num_rows: 5998\n",
              "    })\n",
              "    test: Dataset({\n",
              "        features: ['text', 'id', 'annotations', 'round', 'source'],\n",
              "        num_rows: 1986\n",
              "    })\n",
              "})"
            ]
          },
          "execution_count": 4,
          "metadata": {},
          "output_type": "execute_result"
        }
      ],
      "source": [
        "def get_data():\n",
        "  ds = load_dataset(\"ofai/GerMS-AT\")\n",
        "  return ds\n",
        "\n",
        "get_data()"
      ]
    },
    {
      "cell_type": "markdown",
      "metadata": {
        "id": "wf3oi0qEUieR"
      },
      "source": [
        "# Tokenisierung und Vektorisierung"
      ]
    },
    {
      "cell_type": "markdown",
      "metadata": {
        "id": "sK_4i9pPHlRO"
      },
      "source": [
        "## Tokenisierung"
      ]
    },
    {
      "cell_type": "code",
      "execution_count": null,
      "metadata": {
        "colab": {
          "base_uri": "https://localhost:8080/",
          "referenced_widgets": [
            "f207f36831564ad7809fde040e476d22",
            "3a8d23428e3943ea8fd7d1d796aabbec",
            "51a3db22a0984369be6d554864f772e9",
            "4dbf05c035684ea69fde47d19eb8f3bc",
            "68732a6e3ae947ff8625aee7fe3feca8",
            "d1634b26eb0b4beeaae29ff574fde155",
            "7ca3fa85581d4c688ce18c1ffbe48e62",
            "7b7524f5a35b410a8830518d4730f15d",
            "c2c3fb4f622349c8b5e42095221a1c45",
            "46b1590dc04c456ca2c90a7109e2d667",
            "6759136f5123441d98d832f545ef29c0",
            "e18812349a1648a0999bed19823b75ed",
            "1e830d08f75543f18bd85c63e34b0236",
            "6272b4146c344817bc1514e61e8f007b",
            "5be81cbcdadc40f0adbbedae34b7043d",
            "910f08cbd7534e4caa584e9be564274f",
            "33cd2fa7db1345228a304ab1fa305855",
            "65c5e800c1234297b7b776c23441d2e9",
            "881e9cb6cf3d4c7eafe784490f1519c8",
            "14cbf246ad0f4c62a99110af14ba1f76",
            "4d816745f3774a8ab904f15c25d67423",
            "2254e25e96744c8db7851e0f12974e27",
            "d0baa7654f3649d09c58976891108521",
            "e9ef6c8a4c1542258f6d273fad7efd68",
            "571a412d39a34e79bbe5e6a63f3aaf6a",
            "0ff9a151f8174b51bf3cbe7e85c85ca7",
            "0a2505881638475b8ba658484e001fcd",
            "877367d353b445f2a759e62890f3f157",
            "ef9d499553f241ada80da7e55a85a6e4",
            "9677f1d132cd48379eada9c2f5ebdc69",
            "c239eef06b7f4d018a550c5d1cf12b3f",
            "1a2180e8a15a425084893ce4bc132b17",
            "721a7fbfd4504d0ab7fed540767128bb",
            "bfa6c2a694e74f998748043a238f8e2b",
            "02e2dc08d32d43c99876da86a737a0a3",
            "11973f43c6794c04b42d201fc65f61c5",
            "d8bf41510ca74f85b91ff0ad0ae15dcf",
            "da1dd0b1711b4ba49288b21eda549e0f",
            "14c61f6c0e30466f8dfac1368841d97e",
            "c53c1edff7b1471c8fa6a4ca83913183",
            "e1cc277bc0614ee58b180b90156869fb",
            "b2d5cf1e11a84951ac92628c5b44cc4e",
            "166ae8d86b4c430793beb4c26ab5a1a1",
            "4c94ee81a7764ac9b39d1c431161b542",
            "9b4e6975d60c43d585cb7139c1fe45c9",
            "33e313d26fa044f48df8a877bdeef0e4",
            "acbb0a461d6e49fe9607692ccfe83aab",
            "901a0d6a042b4b49a5ca60988f343a0c",
            "44609a760d38442ab1e93fb099a34023",
            "f1b663b876b7459a9dabfb1684365c55",
            "617a5d4a4d744ae1bca3625aec084101",
            "d7231e568fc544c7ab1217d62193dec0",
            "2c2f90a4ab7a43e28839ea172d3d71af",
            "24258f07fcf7444c9cd36f07c5c91bac",
            "5d3359c787be4067973a63307ba0c3eb",
            "512a3fb898d54301aa4f90fbda29a87b",
            "64cf4ce9d3fa46f5a52ac661067053b0",
            "0ae366c6a08643758d25c256ce7a664c",
            "34eb750e034146429c13af3a27f67866",
            "5f123bdc44a94260941e2e5fd2c6530f",
            "2f508db44acd4a70965f4fe90cb5fd73",
            "02cefb44a5914a23a7b1f006d3dc61d6",
            "f5069058e977438889e69a43239aa368",
            "6aec07f0938042b4a1817454937d2ada",
            "74a43b506aad4885afa17cab2e574e8c",
            "79af8fd99e224ff0a29c34e84bf9c0f8",
            "9c382c1ea9034557a1f07cdbed028d01",
            "6f9a1064489c4a8a912a5290b47e33d8",
            "898e3544284d473b8c51c926b9e186bc",
            "bc8161f717ea41728c0bc94f59c02bd4",
            "921acf80f0f444ad8a51c99e8e5c6d5e",
            "59b7b5ea068d484ca87fdb834b33f64a",
            "d4546097f23a4a8eabc941f4dda7ac6c",
            "415a9aa5bd1a4af2b2efb63f26a4da35",
            "2a1e3c894d144abba05b0ee975e67b4d",
            "8eb5fe95734c45cbaaee28882a285c10",
            "48f41ef5449d4c82a43289513bd912fe",
            "4206b6d8a51348fcad72dfaf4fef5d42",
            "4be6d418640b48048ceea5be81359d3f",
            "743d7c8d69894af6b790a41d62ca8b53",
            "3c2ae19017ad48eb8319e76638b78440",
            "d300626b97cc4a6eb011d583407de93c",
            "b7cb64edffa6478e9394bcedecc6462c",
            "136669acbcf247d1ace73e91381ce408",
            "43063277cece4298b42eb3bf1ac3ea3f",
            "e7e2755d8a9a4962aeab0138b26b8ce4",
            "6c8672c28ed54c02be733e8088bbb4eb",
            "b8c971497c05449ca9e4c718c5a3fac6"
          ]
        },
        "id": "KwjhYpJV6E7m",
        "outputId": "8d4412ff-f1b6-40ea-db84-b8f1404072c1"
      },
      "outputs": [
        {
          "data": {
            "application/vnd.jupyter.widget-view+json": {
              "model_id": "f207f36831564ad7809fde040e476d22",
              "version_major": 2,
              "version_minor": 0
            },
            "text/plain": [
              "tokenizer_config.json:   0%|          | 0.00/49.0 [00:00<?, ?B/s]"
            ]
          },
          "metadata": {},
          "output_type": "display_data"
        },
        {
          "data": {
            "application/vnd.jupyter.widget-view+json": {
              "model_id": "e18812349a1648a0999bed19823b75ed",
              "version_major": 2,
              "version_minor": 0
            },
            "text/plain": [
              "config.json:   0%|          | 0.00/464 [00:00<?, ?B/s]"
            ]
          },
          "metadata": {},
          "output_type": "display_data"
        },
        {
          "data": {
            "application/vnd.jupyter.widget-view+json": {
              "model_id": "d0baa7654f3649d09c58976891108521",
              "version_major": 2,
              "version_minor": 0
            },
            "text/plain": [
              "vocab.txt:   0%|          | 0.00/240k [00:00<?, ?B/s]"
            ]
          },
          "metadata": {},
          "output_type": "display_data"
        },
        {
          "data": {
            "application/vnd.jupyter.widget-view+json": {
              "model_id": "bfa6c2a694e74f998748043a238f8e2b",
              "version_major": 2,
              "version_minor": 0
            },
            "text/plain": [
              "tokenizer.json:   0%|          | 0.00/479k [00:00<?, ?B/s]"
            ]
          },
          "metadata": {},
          "output_type": "display_data"
        },
        {
          "data": {
            "application/vnd.jupyter.widget-view+json": {
              "model_id": "9b4e6975d60c43d585cb7139c1fe45c9",
              "version_major": 2,
              "version_minor": 0
            },
            "text/plain": [
              "Map:   0%|          | 0/5998 [00:00<?, ? examples/s]"
            ]
          },
          "metadata": {},
          "output_type": "display_data"
        },
        {
          "data": {
            "application/vnd.jupyter.widget-view+json": {
              "model_id": "512a3fb898d54301aa4f90fbda29a87b",
              "version_major": 2,
              "version_minor": 0
            },
            "text/plain": [
              "Map:   0%|          | 0/1986 [00:00<?, ? examples/s]"
            ]
          },
          "metadata": {},
          "output_type": "display_data"
        },
        {
          "data": {
            "application/vnd.jupyter.widget-view+json": {
              "model_id": "9c382c1ea9034557a1f07cdbed028d01",
              "version_major": 2,
              "version_minor": 0
            },
            "text/plain": [
              "Saving the dataset (0/1 shards):   0%|          | 0/5998 [00:00<?, ? examples/s]"
            ]
          },
          "metadata": {},
          "output_type": "display_data"
        },
        {
          "data": {
            "application/vnd.jupyter.widget-view+json": {
              "model_id": "4206b6d8a51348fcad72dfaf4fef5d42",
              "version_major": 2,
              "version_minor": 0
            },
            "text/plain": [
              "Saving the dataset (0/1 shards):   0%|          | 0/1986 [00:00<?, ? examples/s]"
            ]
          },
          "metadata": {},
          "output_type": "display_data"
        },
        {
          "data": {
            "text/plain": [
              "DatasetDict({\n",
              "    train: Dataset({\n",
              "        features: ['text', 'id', 'annotations', 'round', 'source', 'input_ids', 'attention_mask'],\n",
              "        num_rows: 5998\n",
              "    })\n",
              "    test: Dataset({\n",
              "        features: ['text', 'id', 'annotations', 'round', 'source', 'input_ids', 'attention_mask'],\n",
              "        num_rows: 1986\n",
              "    })\n",
              "})"
            ]
          },
          "execution_count": 5,
          "metadata": {},
          "output_type": "execute_result"
        }
      ],
      "source": [
        "def encode_dataset(dataset, batch_size=50):\n",
        "  model_ckpt = \"distilbert-base-german-cased\"\n",
        "  tokenizer = AutoTokenizer.from_pretrained(model_ckpt)\n",
        "\n",
        "  def tokenize(batch):\n",
        "      return tokenizer(batch[\"text\"], padding=True, truncation=True)\n",
        "\n",
        "  # Daten in Datei abspeichern\n",
        "  data_encoded = dataset.map(tokenize, batched=True, batch_size=batch_size)\n",
        "  data_encoded.save_to_disk(\"data_encoded\")\n",
        "  return data_encoded\n",
        "\n",
        "encode_dataset(get_data())"
      ]
    },
    {
      "cell_type": "code",
      "execution_count": null,
      "metadata": {
        "id": "PKM1q3ARG2Ic"
      },
      "outputs": [],
      "source": [
        "data_encoded = load_from_disk(\"data_encoded\")"
      ]
    },
    {
      "cell_type": "markdown",
      "metadata": {
        "id": "084CRgS1IoGF"
      },
      "source": [
        "## Extract Hidden States"
      ]
    },
    {
      "cell_type": "code",
      "execution_count": null,
      "metadata": {
        "colab": {
          "base_uri": "https://localhost:8080/",
          "height": 452,
          "referenced_widgets": [
            "251d41083dfb47309ff9e410c0fda943",
            "4591eb1e2334468c95dff1c3bf9d49e3",
            "8c5ddd9f800946cc80929d3cf9e146e3",
            "23678a4bc28d4b3d8e1c02a829f53ecb",
            "9340bdb6c4194388afa770ea9228829a",
            "c068f53cf0454582a1b55a7ba270d41e",
            "392021cc89904e99ab0892a34e8f8fca",
            "2dbc09bb33144b96b91061dda7a4aac6",
            "cf34bcada52a4287ac9f513d2c1e2671",
            "299dc76f161f449fbb94dd6d7b6b6fbf",
            "39f7f7f17ae449cc84dcb4a8a800b864",
            "eca8eead0b524885bf53da3d4eac6c89",
            "e22d5943df354ef8beed4a05e1502fe6",
            "274ca29aba754d8dbc1231553e8d7151",
            "9604c4e42faa410780fd2719c932d167",
            "029e67c3103343fe8f4d89bf0a69baac",
            "4dfe33f6b93d4c1eaf34d3f8e105bc39",
            "daf94b6d2a814fc9bd116a2f4843be7a",
            "d18f6570a75844c59df6792ea3ed1678",
            "9ad55ee22dd34fc4a05843128b77ec83",
            "250db378f9a04586b5f9105700cea0d6",
            "2fd83ef8706d4193a9c0eef79557a1da",
            "e0114b0d4ec94b2dbb0810c9c64b93cb",
            "bd6c3bd5ab9d4e40804601940fdf0d22",
            "f963d8a02d2c44c0a060d4b66b0a9d88",
            "23a588d674af44f5bdbb5be88c465e70",
            "62e47e438b8a4d828b9d9be85d88f114",
            "16a104e190fe4084a7bf5db37771ec1e",
            "14ef2a81bc4a4e74bf77ec5de5ac2267",
            "7d09e6fb4e1b4ba688bd89dea2ab12bf",
            "dddff68ba639462ea69e72feece5bb1c",
            "8813f4aa811149ebbbc2be4ad2292d91",
            "ccbf8c17878649e0a973f01fa5915056",
            "327f2f1edfcf4e52ae260e603029f7a0",
            "6b9bff155ed3495d9c6d5ff3fa85e6ee",
            "260aad1e5a1d41e88dc799b4b34ecc59",
            "b6045d0b6dc64e8982e0a467881316c8",
            "ec7d59c1af924838baec1d96fe250ee6",
            "5f6e8304c66948ec9bb465094305614f",
            "0af96a2818e9482c8130947c9b6653d2",
            "ede07316201243898fd69d5094c9c526",
            "025470bbd60b44669069456dadbc3fd9",
            "0d6b2f6d525d49278f3a1cd2ba504e05",
            "630e70b38c77401095eef091885e2d6e",
            "9c255578fc6347bca026cd43414c685b",
            "d02691de7bfb43f68d306ffb7984b991",
            "00f0b2fe8fae49e187583ba1eb37a5c6",
            "fcef5b687b0e4efdbcbf260325ff4970",
            "694acb53b61f4b4686a3961c7247568c",
            "a4172310034b47da9a9ff6e0e238d940",
            "e3ebbf28ada747f6a44ade1f1d8240e6",
            "75864a81a5734204bbf0ed0947ba2336",
            "7f276722705f47ae9e18cc402a529ebd",
            "f36c4ceb6e0f4ebf8e9eb8b8322967ed",
            "421396d09b4f4d56b7eb00a76cd8c9a7",
            "b1a5d5b1249b4d0dbb2fbc033b41c9b9",
            "14f031deeaea4723841d2206fd948255",
            "cb6f9938186847558be90869c1edb4a2",
            "2677e99eff0f487eaee733aa46847850",
            "b18cce1de2f04aa8bff488968666844d",
            "0a313fcce2a24d198dbc6af64909e628",
            "e69989fa8cdf408a9164f744f17358f2",
            "5e167ed85ee841b6a46dbf66e1aa838d",
            "376b454c17ab4e39a46b84a918625629",
            "63517fd3d8d24d129f93ead6bce2527b",
            "75e355ca250240c49093f61e02d53061",
            "a7458ac09f8b4ba4beaf093188cdd475",
            "faf85547155f4af6824066bce07021f7",
            "26d00c8ca9fe470d8b22f17ac9d6e04b",
            "22342c668b3f48058c09238ddb290821",
            "4c2ed9c9ac5c4d1097b7b32485b62e4b",
            "ad8232258ae448d9aed89b606c2e54fa",
            "44d74d0b2ee147e8a29eac97bc429bad",
            "43b566aa3e0a411dbf34b4037b3cf934",
            "6b3fc55597d6477abc12b487816334d8",
            "60267835ed3245dcb2345fef723d21d2",
            "a04e634eee6242598e09d19f5808bce8",
            "f44f000226f64bf0a130a0ef2611d7bf",
            "8f62946045244c33b65c267885fdd635",
            "9960d560e612483bb65a3db9d2930750",
            "fbdd12af7c5947ee94bf87fc8f697a10",
            "7d8e132dfb8e43aca7f80578a3cc5881",
            "a4e97c738464494a8309165e55c9d00e",
            "1c65bfca861e427b83484535d39881d2",
            "44c6122bd44c4f1a9fee0f1a9f55f684",
            "706b6e3571ad4f59b46d822203987b80",
            "acab05ad74774ff1a671f944cd1e6ee7",
            "7a176096f1744382ad7666f1cc9a03da"
          ]
        },
        "id": "3PkuI76wIsz-",
        "outputId": "156b4140-cada-4326-97fd-3771a9e50d03"
      },
      "outputs": [
        {
          "data": {
            "application/vnd.jupyter.widget-view+json": {
              "model_id": "251d41083dfb47309ff9e410c0fda943",
              "version_major": 2,
              "version_minor": 0
            },
            "text/plain": [
              "Map:   0%|          | 0/1986 [00:00<?, ? examples/s]"
            ]
          },
          "metadata": {},
          "output_type": "display_data"
        },
        {
          "data": {
            "application/vnd.jupyter.widget-view+json": {
              "model_id": "eca8eead0b524885bf53da3d4eac6c89",
              "version_major": 2,
              "version_minor": 0
            },
            "text/plain": [
              "Saving the dataset (0/1 shards):   0%|          | 0/5998 [00:00<?, ? examples/s]"
            ]
          },
          "metadata": {},
          "output_type": "display_data"
        },
        {
          "data": {
            "application/vnd.jupyter.widget-view+json": {
              "model_id": "e0114b0d4ec94b2dbb0810c9c64b93cb",
              "version_major": 2,
              "version_minor": 0
            },
            "text/plain": [
              "Saving the dataset (0/1 shards):   0%|          | 0/1986 [00:00<?, ? examples/s]"
            ]
          },
          "metadata": {},
          "output_type": "display_data"
        },
        {
          "data": {
            "application/vnd.jupyter.widget-view+json": {
              "model_id": "327f2f1edfcf4e52ae260e603029f7a0",
              "version_major": 2,
              "version_minor": 0
            },
            "text/plain": [
              "Processing batches:   0%|          | 0/5998 [00:00<?, ? examples/s]"
            ]
          },
          "metadata": {},
          "output_type": "display_data"
        },
        {
          "data": {
            "application/vnd.jupyter.widget-view+json": {
              "model_id": "9c255578fc6347bca026cd43414c685b",
              "version_major": 2,
              "version_minor": 0
            },
            "text/plain": [
              "model.safetensors:   0%|          | 0.00/270M [00:00<?, ?B/s]"
            ]
          },
          "metadata": {},
          "output_type": "display_data"
        },
        {
          "data": {
            "application/vnd.jupyter.widget-view+json": {
              "model_id": "b1a5d5b1249b4d0dbb2fbc033b41c9b9",
              "version_major": 2,
              "version_minor": 0
            },
            "text/plain": [
              "Processing batches:   0%|          | 0/1986 [00:00<?, ? examples/s]"
            ]
          },
          "metadata": {},
          "output_type": "display_data"
        },
        {
          "data": {
            "application/vnd.jupyter.widget-view+json": {
              "model_id": "a7458ac09f8b4ba4beaf093188cdd475",
              "version_major": 2,
              "version_minor": 0
            },
            "text/plain": [
              "Saving the dataset (0/1 shards):   0%|          | 0/5998 [00:00<?, ? examples/s]"
            ]
          },
          "metadata": {},
          "output_type": "display_data"
        },
        {
          "data": {
            "application/vnd.jupyter.widget-view+json": {
              "model_id": "f44f000226f64bf0a130a0ef2611d7bf",
              "version_major": 2,
              "version_minor": 0
            },
            "text/plain": [
              "Saving the dataset (0/1 shards):   0%|          | 0/1986 [00:00<?, ? examples/s]"
            ]
          },
          "metadata": {},
          "output_type": "display_data"
        },
        {
          "data": {
            "text/plain": [
              "DatasetDict({\n",
              "    train: Dataset({\n",
              "        features: ['text', 'id', 'annotations', 'round', 'source', 'input_ids', 'attention_mask', 'hidden_state'],\n",
              "        num_rows: 5998\n",
              "    })\n",
              "    test: Dataset({\n",
              "        features: ['text', 'id', 'annotations', 'round', 'source', 'input_ids', 'attention_mask', 'hidden_state'],\n",
              "        num_rows: 1986\n",
              "    })\n",
              "})"
            ]
          },
          "execution_count": 15,
          "metadata": {},
          "output_type": "execute_result"
        }
      ],
      "source": [
        "def extract_hidden_states(dataset):\n",
        "\n",
        "  def extraction(batch):\n",
        "\n",
        "      model_ckpt = \"distilbert-base-german-cased\"\n",
        "      tokenizer = AutoTokenizer.from_pretrained(model_ckpt)\n",
        "      device = \"cpu\"\n",
        "      model = AutoModel.from_pretrained(model_ckpt).to(device)\n",
        "\n",
        "      # Modelleingaben auf der GPU platzieren\n",
        "      inputs = {k:v.to(device) for k,v in batch.items()\n",
        "              if k in tokenizer.model_input_names}\n",
        "      # Hidden States extrahieren\n",
        "      with torch.no_grad():\n",
        "        last_hidden_state = model(**inputs).last_hidden_state\n",
        "      # Vektor zurückgeben\n",
        "      return {\"hidden_state\": last_hidden_state[:,0].cpu().numpy()}\n",
        "\n",
        "  dataset.set_format(\"torch\", columns=[\"input_ids\", \"attention_mask\", \"annotations\"])\n",
        "\n",
        "  data_hidden = dataset.map(extraction, batched=True, batch_size=50, desc=\"Processing batches\")\n",
        "\n",
        "  # Daten in Datei abspeichern\n",
        "  data_hidden.save_to_disk(\"data_hidden_processed\")\n",
        "  return data_hidden\n",
        "\n",
        "extract_hidden_states(encode_dataset(get_data()))"
      ]
    },
    {
      "cell_type": "code",
      "execution_count": null,
      "metadata": {
        "id": "joWxsOhtROv5"
      },
      "outputs": [],
      "source": [
        "dateipfad = \"/content/data_hidden_processed\"\n",
        "hidden_states = load_from_disk(dateipfad)"
      ]
    },
    {
      "cell_type": "markdown",
      "metadata": {
        "id": "cLo8J5eeUxOg"
      },
      "source": [
        "# Labels extrahieren"
      ]
    },
    {
      "cell_type": "markdown",
      "metadata": {
        "id": "1WWfAckAH2pI"
      },
      "source": [
        "### Median der Label-Listen extrahieren (Multi Median Methode)"
      ]
    },
    {
      "cell_type": "code",
      "execution_count": null,
      "metadata": {
        "id": "FR8anJ8ErIlL"
      },
      "outputs": [],
      "source": [
        "def extract_numeric_labels(dataset):\n",
        "  y_train = dataset[\"annotations\"]\n",
        "\n",
        "  y_train_numeric = []\n",
        "\n",
        "  for sample in y_train:\n",
        "      numeric_labels = [int(ann[\"label\"].split(\"-\")[0]) for ann in sample]  # numerisches Label extrahieren\n",
        "      mean_label = round(np.mean(numeric_labels))  # Mittelwert berechnen\n",
        "      y_train_numeric.append(mean_label)\n",
        "\n",
        "  return np.array(y_train_numeric)"
      ]
    },
    {
      "cell_type": "markdown",
      "metadata": {
        "id": "OQtU5LIWU-QU"
      },
      "source": [
        "### aufgerundeten Median der Label-Listen extrahieren (Multi Roundup Methode)"
      ]
    },
    {
      "cell_type": "code",
      "execution_count": null,
      "metadata": {
        "id": "fkPQ7tV3Hn3k"
      },
      "outputs": [],
      "source": [
        "def extract_numeric_labels_roundup(dataset):\n",
        "  y_train = dataset[\"annotations\"]\n",
        "\n",
        "  y_train_numeric = []\n",
        "\n",
        "  for sample in y_train:\n",
        "      numeric_labels = [int(ann[\"label\"].split(\"-\")[0]) for ann in sample]  # numerisches Label extrahieren\n",
        "      mean_label = round(np.mean(numeric_labels)+0.5)  # aufgerundeten Mittelwert berechnen\n",
        "      y_train_numeric.append(mean_label)\n",
        "\n",
        "  return np.array(y_train_numeric)"
      ]
    },
    {
      "cell_type": "markdown",
      "metadata": {
        "id": "Nxj1NV7VQRZh"
      },
      "source": [
        "### Labels in binäre Klassen 0 und 1 aufteilen"
      ]
    },
    {
      "cell_type": "code",
      "execution_count": null,
      "metadata": {
        "id": "sfjutKLrQdPH"
      },
      "outputs": [],
      "source": [
        "def extract_numeric_labels_binary(dataset):\n",
        "  y_train = dataset[\"annotations\"]\n",
        "\n",
        "  y_train_numeric = []\n",
        "\n",
        "  for sample in y_train:\n",
        "      numeric_labels = [int(ann[\"label\"].split(\"-\")[0]) for ann in sample]  # numerisches Label extrahieren\n",
        "      mean_label = np.mean(numeric_labels)  # Mittelwert berechnen\n",
        "      if mean_label > 0:\n",
        "        mean_label = 1 # wenn der Mittelwert größer als 0 ist wird Label 1 gewählt\n",
        "      else:\n",
        "        mean_label = 0 # ansonsten Label 0\n",
        "      y_train_numeric.append(mean_label)\n",
        "\n",
        "  return np.array(y_train_numeric)"
      ]
    },
    {
      "cell_type": "markdown",
      "metadata": {
        "id": "rAjsTVLYZRGU"
      },
      "source": [
        "### Labels der individuellen Annotatoren extrahieren"
      ]
    },
    {
      "cell_type": "code",
      "execution_count": null,
      "metadata": {
        "collapsed": true,
        "id": "iAyRZE8Xg-CU"
      },
      "outputs": [],
      "source": [
        "def extract_numeric_labels_person(dataset):\n",
        "  # Listen für jeden indivuduellen Annotator erstellen\n",
        "  a1 = []\n",
        "  a2 = []\n",
        "  a3 = []\n",
        "  a4 = []\n",
        "  a5 = []\n",
        "  a7 = []\n",
        "  a8 = []\n",
        "  a9 = []\n",
        "  a10 = []\n",
        "  a11 = []\n",
        "  a12 = []\n",
        "  text_a1 = []\n",
        "  text_a2 = []\n",
        "  text_a3 = []\n",
        "  text_a4 = []\n",
        "  text_a5 = []\n",
        "  text_a7 = []\n",
        "  text_a8 = []\n",
        "  text_a9 = []\n",
        "  text_a10 = []\n",
        "  text_a11 = []\n",
        "  text_a12 = []\n",
        "  input_ids_a1 = []\n",
        "  input_ids_a2 = []\n",
        "  input_ids_a3 = []\n",
        "  input_ids_a4 = []\n",
        "  input_ids_a5 = []\n",
        "  input_ids_a7 = []\n",
        "  input_ids_a8 = []\n",
        "  input_ids_a9 = []\n",
        "  input_ids_a10 = []\n",
        "  input_ids_a11 = []\n",
        "  input_ids_a12 = []\n",
        "  attention_mask_a1 = []\n",
        "  attention_mask_a2 = []\n",
        "  attention_mask_a3 = []\n",
        "  attention_mask_a4 = []\n",
        "  attention_mask_a5 = []\n",
        "  attention_mask_a7 = []\n",
        "  attention_mask_a8 = []\n",
        "  attention_mask_a9 = []\n",
        "  attention_mask_a10 = []\n",
        "  attention_mask_a11 = []\n",
        "  attention_mask_a12 = []\n",
        "\n",
        "  for sample in dataset:\n",
        "      text = sample[\"text\"]\n",
        "      annotations = sample[\"annotations\"]  # Liste von dicts mit \"user\" und \"label\"\n",
        "      input_ids = sample['input_ids']\n",
        "      attention_mask = sample['attention_mask']\n",
        "      for ann in annotations:\n",
        "          user = ann[\"user\"]\n",
        "          label = int(ann[\"label\"].split(\"-\")[0]) # numerisches Label extrahieren\n",
        "          if user == \"A001\":\n",
        "              a1.append(label)\n",
        "              text_a1.append(text)\n",
        "              input_ids_a1.append(input_ids)\n",
        "              attention_mask_a1.append(attention_mask)\n",
        "          if user == \"A002\":\n",
        "              a2.append(label)\n",
        "              text_a2.append(text)\n",
        "              input_ids_a2.append(input_ids)\n",
        "              attention_mask_a2.append(attention_mask)\n",
        "          if user == \"A003\":\n",
        "              a3.append(label)\n",
        "              text_a3.append(text)\n",
        "              input_ids_a3.append(input_ids)\n",
        "              attention_mask_a3.append(attention_mask)\n",
        "          if user == \"A004\":\n",
        "              a4.append(label)\n",
        "              text_a4.append(text)\n",
        "              input_ids_a4.append(input_ids)\n",
        "              attention_mask_a4.append(attention_mask)\n",
        "          if user == \"A005\":\n",
        "              a5.append(label)\n",
        "              text_a5.append(text)\n",
        "              input_ids_a5.append(input_ids)\n",
        "              attention_mask_a5.append(attention_mask)\n",
        "          if user == \"A007\":\n",
        "              a7.append(label)\n",
        "              text_a7.append(text)\n",
        "              input_ids_a7.append(input_ids)\n",
        "              attention_mask_a7.append(attention_mask)\n",
        "          if user == \"A008\":\n",
        "              a8.append(label)\n",
        "              text_a8.append(text)\n",
        "              input_ids_a8.append(input_ids)\n",
        "              attention_mask_a8.append(attention_mask)\n",
        "          if user == \"A009\":\n",
        "              a9.append(label)\n",
        "              text_a9.append(text)\n",
        "              input_ids_a9.append(input_ids)\n",
        "              attention_mask_a9.append(attention_mask)\n",
        "          if user == \"A010\":\n",
        "              a10.append(label)\n",
        "              text_a10.append(text)\n",
        "              input_ids_a10.append(input_ids)\n",
        "              attention_mask_a10.append(attention_mask)\n",
        "          if user == \"A011\":\n",
        "              a11.append(label)\n",
        "              text_a11.append(text)\n",
        "              input_ids_a11.append(input_ids)\n",
        "              attention_mask_a11.append(attention_mask)\n",
        "          if user == \"A012\":\n",
        "              a12.append(label)\n",
        "              text_a12.append(text)\n",
        "              input_ids_a12.append(input_ids)\n",
        "              attention_mask_a12.append(attention_mask)\n",
        "\n",
        "  return text_a1,a1,input_ids_a1,attention_mask_a1, text_a2,a2,input_ids_a2,attention_mask_a2, text_a3, a3,input_ids_a3,attention_mask_a3, text_a4, a4,input_ids_a4,attention_mask_a4, text_a5,a5,input_ids_a5,attention_mask_a5, text_a7,a7,input_ids_a7,attention_mask_a7, text_a8, a8,input_ids_a8,attention_mask_a8, text_a9,a9,input_ids_a9,attention_mask_a9, text_a10, a10,input_ids_a10,attention_mask_a10, text_a11, a11,input_ids_a11,attention_mask_a11, text_a12, a12,input_ids_a12,attention_mask_a12\n"
      ]
    },
    {
      "cell_type": "markdown",
      "metadata": {
        "id": "IEVEMcLWWM47"
      },
      "source": [
        "### Dictionary mit Daten der individuellen Annotatoren erstellen"
      ]
    },
    {
      "cell_type": "code",
      "execution_count": null,
      "metadata": {
        "colab": {
          "base_uri": "https://localhost:8080/",
          "referenced_widgets": [
            "b6f3541a44594100bf1921bb4e7196f4",
            "e343b9227326412e965fa7876df3befe",
            "098462ccaf98458ba82126a4fb76a8fa",
            "dd13da52983d476ba60063d89ba03b85",
            "1cd1add45c1e467da882c68cd534fe34",
            "f528aaf251324e89979c1694fde13881",
            "7803e550ebbf4fad931934a0ca2782b5",
            "d24d68939ba1479d9562fb06bebed288",
            "24976ebfe8564157ba9d8e06ded69d2f",
            "4aacaca153ce4c6991875b18eaadca1d",
            "e10c80f1f3b7485b8623efe873ac7c1f",
            "02b0158d3a444f1aa7d3fc7ca19302a0",
            "99e0f2519ce3481d8575acea9d364288",
            "9cad1070a37e41d2bd76e44398caab8d",
            "c63ae8ce12e44fc7a06b1f217a1af877",
            "73626a7d47c64da1957316a2c38e8c36",
            "e150947d45de41a1bf24de406470e982",
            "2ce8debb40ed4408ae5e5b715db70ee0",
            "ddb561c65b73404fbb25106c9f27aa2c",
            "e32f372bd96046ada489ff411ec0e5f2",
            "f68da19266f74c4db7cebd427e415405",
            "38bfca8f67a14be98e7d873777b61785",
            "d64afb37ce514d5da8e1fd78cf617e52",
            "b6c29f1e899f4cdcaaf608267ae28705",
            "0db7cf7585ca4d67a23d04a1b6afbd68",
            "51975fe5477d44a594df2e18e85c3660",
            "1d687d665d6e454db6261157292b05c5",
            "4c71c21a0bec43e8bff4e9a6d353f29a",
            "a9c57094245c4f6598a3a13602a4faa5",
            "b66cde8397044c06a81aece96ae38471",
            "53501e26de294041a4b21483d6958d74",
            "36feaace45c54b77a6629fe8eb426f7e",
            "57c28b6bebe04969aad3a0cf2a08da19",
            "a8e5823e7b674b0ea6d5a9248df66740",
            "f046fa7aee9b47719c328bf9d70dd282",
            "fced74b08bcd46cbacf551e9f3b4c031",
            "88ec4319165344a89194f71cccd4552b",
            "fb338ac98898497e89150fd966028460",
            "6ce5df3bc359495f9b15874f7f731622",
            "e30f0cd7673c4e198528af6ff0af9393",
            "587fc55befd84d7fb76019bafb847e18",
            "5866dcee4232428c9d0097ad8a9d58eb",
            "e25c744ff5024a5f93d7931652616786",
            "3c16cbf83864436ca73acfe6ccdefd3d",
            "60e57d772e174fb0bcd44d87dd2097d2",
            "d23acdc991284ec188f7d5dd6b84193e",
            "abaddadfd97542eca36789389fc7c41e",
            "a680ea9a91b145eeb3b83e789f13eb14",
            "f2686ed337ba49b6a08c642161994611",
            "d44c9d4392494bbbb075c13facb2ed65",
            "295be903380e4dc9836e1487d8ff2222",
            "50a2c788a94f4ad899a524c79e3f1439",
            "4dacaa293a434b51b33de6d9758a66fe",
            "a24a6edff5cb4b479a5dc30d154151dc",
            "134aa90bb6e8449aacedee926fbb85ad",
            "3fa09a9339704aa6943188539d22245f",
            "d5217d07bb6f4fd5addd91cd379d292c",
            "88224cdda2e14f91a1820fd514688ca9",
            "28de66df2add4d11bdd0f065107c174a",
            "d01357d780d44c7d9f06b5b455f34ec2",
            "251d719ae89e4399a165fc82c69e681a",
            "8a5f0e95bd524884bc60cacbf464036f",
            "e3604a1825ab48b0bd906fa212935521",
            "2aae81990e7142bf8448e455b202eb42",
            "e61f0fe841534443a071311d822eafa0",
            "22868b0dc8d445e982b4b4152b0aa4cd",
            "dc231345ee9541aa9a6b90aba93184c8",
            "b739982579904f78ac1bf402fa3573b7",
            "c85e4b7d7d2244fc94543f7a60e0132a",
            "2fa8b47ef90c4924b3d28fc805b1ca5e",
            "b63849db2f25402683bb689747d90742",
            "9136fe9f7e4d4200b6f552df5ba26b4e",
            "b2e72eea8a634a35b197da3e2edf8450",
            "4091b538a2824ffd95ce43e4e60f5f84",
            "dee99c30e47a489593a2481ee8f0590b",
            "111cc23a3b1145a1b7aaa1a505c8dc84",
            "134ed1bd8d21425f980189183b0e4591",
            "d47f44dc4ba24b418d4b1ebba217a042",
            "16a6182d90f04e498b0aeff00a32d40b",
            "49a1b5f41c2343a98c60f072b75d6137",
            "b45712f1301b479ebbf91aaed65d13ed",
            "183c43a0b03343059aa4eeb2d6175bcf",
            "4e5ceab92af04eee9f59ce12e081daee",
            "553afb119d804bb19bdfe4aa37b86ed7",
            "cac082bfacee46bfbb9f1084b9a3144d",
            "6ef4c6aa4c0e445c8808772561c76568",
            "83412b3f03ca46509f811d59ae580a64",
            "678ef7ab946c40679565ba135d537407",
            "e3a429e846914336945f15f6432a24e6",
            "668feff76dc84db6a339cbc104f5c97f",
            "12fd6c328051412a8e17999cfac09a82",
            "e7783775e9814d83aa4d615445e63711",
            "6a474c8bf4114149991cba616d3c30a7",
            "b90c7ab6785d43a798417f78eac05214",
            "7a44f04916cf4aa494ce1d8179e8c120",
            "a07387a910954a87a310b664dce964a3",
            "a89d44e9d2404a11bebd26be47109c27",
            "3375f3f762ed4abb879655f81019b924",
            "ce2ebe6de7ee449b97131ce31678e634",
            "33e280a3561945368e07ac505338d796",
            "c1ddf94aa8a64c8ea34bc92dc2f47972",
            "a23523e641b240c2ba0d8f51c20474e0",
            "d098422f1f7c4094803e7b1d2d835e92",
            "1b138a809a2c4d8ea264bb2c0ab17481",
            "0bcd49f77ede4d89bc1e9778dc800f69",
            "0f9f15235c3c40b8b5c64fa945535afe",
            "679f87037e0f456d9be9c605b9679af2",
            "deef7db76897472da4be695e2774f935",
            "b318b4710b784eabbb8cb708309e8b6b",
            "422131c9a6434f068218fe662f5f9f81",
            "aca3adfe3c8a464b894e8a3a79fb954e",
            "339d40e8faec4c0e957b067ef70cfe03",
            "a4ca4b60370f4f4bbde7be41414a8bbe",
            "922f36b66e3e4b9e87567eec51f4eee8",
            "b2b93f2f01c54089bd20e1e384cb258c",
            "e2404fe501b047f99f9b3394e8cabcdf",
            "04702ff500494479ad7700982dde808f",
            "1fc922e21e384525b573efc90330d953",
            "e219f48bedab44b88384016604a98508",
            "b6cfd1d4bef04352af2852b75e45af9c",
            "15861bc6059844589cc21e808e8c07ce",
            "92b793c0e5b24b8e97e3a67b8c0ccfcd",
            "83998bea98ed4fd8950fe37e19c0fe49",
            "82a0316a116e44c4ab59ee732c90e894",
            "63a004d94b5f4c61809bea62d9e1d6e7",
            "937e700de5544b77ae48f9aff31cf09f",
            "ad0eb4d09e044e1b96a9ceb97cea58f9",
            "aa8c12e326fd4707b08b8c648fa4e868",
            "64079b8b9b7447789f6b8d2951177c9a",
            "cdacabbbd4f1493fa101e012d700a279",
            "321420392e104c2cb6750a3d095f49cd",
            "1a66c06a12c640cfa57784cc93bcea51",
            "303acad55d274121973f415af43aa298",
            "0136afe5397042e192d03d91a5b31491",
            "0f6e419b3f904379a404bb04810fada2",
            "6fe8caf3d393495cbbe7d754d0a1e161",
            "036c68320c16433ebebb54607f8db890",
            "839db44977b24ba9b4b366378d0decd9",
            "272b904bee4e46b4a3fba126b6d9e351",
            "ad35b5a9ca1348f79201088bea79519d",
            "e914da16f85e44adbdc8ce46f58be2ee",
            "830850cdb59c489c91c848e6504dcdef",
            "3398cff7aa0241648aed0799958475ac",
            "3492bb8c441144b89428c59caab486f4",
            "23da5f340ae043cda88acc4157daf005",
            "1269e5c3e80641bf898baed7b270ab40",
            "85bd59d7597f4060b6d10aa9997e4084",
            "08e14d7e3f4444cbbcb12d04b106e1a9",
            "72973ab08abc47618b30ca8ceded013b",
            "c9aa9dd3eff74debbcdbbc98ee21377c",
            "ff2de5dc3f7b499b8ea59f1b19d82a47",
            "c82378f432e44c23b994f66902ac2103",
            "1f9c881fe9764e67b0a6e99d97949571",
            "9e809e93bfd442389725de35d9035ebe",
            "ca5b35a6fb7141ad95cfdb20f947008d",
            "2fb77d53c1844325bb2ae5d1a65392f9",
            "3327950bdeee407a990bf961a0d8b124",
            "3f827c8d6ca042f1a6a874ef4b2363dc",
            "84701a8dc7ac4ef894cdad5e5eba2c5d",
            "19882cd14a964bf091faa4fad38aeeba",
            "5a3074b21740470b8f60719a75586820",
            "a3938cb5840d4c87b01c354c9357c20d",
            "fdd035ef60c543058a0812b7d54fc0e0",
            "712530090cc144759d23f53220fcbcee",
            "1305cdfbef0642c49a4aef4aac60be7d",
            "e40ae57285104414bff8996ffbe47729",
            "df4e87ee62434b06af93eade7e22f17b",
            "bfdafc40379a4c4ca21f23d54c142acc",
            "254968a73c9848c6af4258de2c02c765",
            "b42af2f4d3f9428b8d54e0dfe4bb5df8",
            "bcb3da22e9ea472192f8c73dd5a6898d",
            "5bb6ee3f34464e8993d131a3492aeabf",
            "4b81e4185e61414ea08642500e855bdb",
            "7f3f26b051774f959e53e8701d61dbc6",
            "37e1964d2c944b658bc2f79a65324df1",
            "f53facd7d1a345a29c2f80b592c1841e",
            "a91867af1157460799ac0c7b4b7c80a4",
            "2be10c8f3dd849e188b8e64e51cea6f8",
            "9cdd424aabfa4da6b7f7e7646dfcf5c0",
            "40563c6cc127485fbe754342ebac6e6c",
            "641160c79fc743cab8dc42326e6142b4",
            "78beca94c08840f391299bd023c6e98b",
            "8d8928823a774725b5cd95e23c542c7f",
            "e2a11ca8946e410992d8df196ebc1b14",
            "131f3fd3aea04591937b2e747bcf913f",
            "fe24e62c6553408795d73b0e86636076",
            "9b392b3b67254cc39c7003d17e28004a",
            "708b875efd27498992efe72646e6f453",
            "2b2c09ad9a0b4f268c6b9afe4157c282",
            "61c965a73738442e9eaf9c3da8bc0c32",
            "f9c912fcc4504428b34095193721734a",
            "67eb0786fbac4de7a432d8b1a9ffadb6",
            "da5f9579382a4a79b3c4cc45c8fc6400",
            "965e878a324e4e26a4ca8046e1f373c8",
            "1289e976f2dd45f3b1d43e21ca7967cf",
            "5010401f58184a5dbda90cc33fdc3adb",
            "2fb701cedb9b478f9565e484caa522ed",
            "b4bfba94e80e43179be301be53f4b9af",
            "2388dc1971c849b5ba624d0576799f61",
            "538f2bb89e4f4911af072fd2e010925a",
            "10dc2bb8f14a44c2a941d44cd131df00",
            "0a0c44f666444932a05404f8065515d0",
            "bc2b0ef380364621a9b0453af0d8e17b",
            "28f3c2fe2c944d8e8464c61c91b82f3c",
            "e1eee5ed3cb442d486dd850c5e00e2bc",
            "0ce6db2deb544497badfe9df11e6bf85",
            "3248f9cb25dd4d2c89ee5b3f38b1a303",
            "bbf1070444a64387a44c819f392aa734",
            "f14d6f6976584faeb6260c6521e35467",
            "d9cb1de306e242bcaa8bb6bba9883210",
            "213953bec4264933bec6af419f11a787",
            "9cf21733725c421e8115c8f08ec73882",
            "09162e018b1b4d159668b261baa1d1ab",
            "2bebb2b6dbbe4c2c9c67d3955529736a",
            "bd052e869db5493b8077afaf23c2413d",
            "14655c97b6cd4b858029b9ef4fe7c833",
            "1f815ac65e2e4a16aae840f0b22fdd2c",
            "95a147678feb43b2b3377a0cadfac2af",
            "cfec9bded7bf4dc0b4b90d438a4efe28",
            "f4b250bfc7e64cb8afa8010e397b77cf",
            "77da9b9215b44569ac760a2b4c840b69",
            "78eaa99fc6ef4d68944b42c7c5fb132d",
            "81979e62cee440c1845a6479f6f23280",
            "3b35e10a933846b39edce27861bf21aa",
            "275020474e9e460cade885df6779c0e2",
            "aa4caebdff1245a59cb776382135a415",
            "fdd17ab1028b4bee84fa50ef43c14e5a",
            "15f9925cf00a4c308c53652b01832368",
            "02c93ff970144b27bcad76f0b10a17bb",
            "854df7d73f3f47af8989c866bc6bf4a9",
            "a12c3453233e4e9eb09f4a541439f80c",
            "bed4b2a446264825b3beaaac064bf6af",
            "e9f450315b48497ea5343000cc30544e",
            "2bff0bdb604340a09f7a0cad5f549dfe",
            "52068385a60a47a4973ab4745f21e9a2",
            "c66919b58ead4a5cb7fed1de7b99a373",
            "d3b34b1cbd104d66b7e922aa65b62564",
            "8668795fbffa4f79b80599fd8c92af06",
            "39dcec978dfc4d35bc730d70fc6a210f",
            "a1ab332ca5e545bbaa167321bef6e537",
            "e77e4d01b4f1465e9f9b2bb1597928f3",
            "76c99c5cc40d4b3cb7b35037f9e426b9"
          ]
        },
        "collapsed": true,
        "id": "yYAhRRmM6mHz",
        "outputId": "f7e2adeb-cfbc-434a-dbd0-ef356e13f2d9"
      },
      "outputs": [
        {
          "data": {
            "application/vnd.jupyter.widget-view+json": {
              "model_id": "b6f3541a44594100bf1921bb4e7196f4",
              "version_major": 2,
              "version_minor": 0
            },
            "text/plain": [
              "Saving the dataset (0/1 shards):   0%|          | 0/970 [00:00<?, ? examples/s]"
            ]
          },
          "metadata": {},
          "output_type": "display_data"
        },
        {
          "data": {
            "application/vnd.jupyter.widget-view+json": {
              "model_id": "02b0158d3a444f1aa7d3fc7ca19302a0",
              "version_major": 2,
              "version_minor": 0
            },
            "text/plain": [
              "Saving the dataset (0/1 shards):   0%|          | 0/328 [00:00<?, ? examples/s]"
            ]
          },
          "metadata": {},
          "output_type": "display_data"
        },
        {
          "data": {
            "application/vnd.jupyter.widget-view+json": {
              "model_id": "d64afb37ce514d5da8e1fd78cf617e52",
              "version_major": 2,
              "version_minor": 0
            },
            "text/plain": [
              "Saving the dataset (0/1 shards):   0%|          | 0/5998 [00:00<?, ? examples/s]"
            ]
          },
          "metadata": {},
          "output_type": "display_data"
        },
        {
          "data": {
            "application/vnd.jupyter.widget-view+json": {
              "model_id": "a8e5823e7b674b0ea6d5a9248df66740",
              "version_major": 2,
              "version_minor": 0
            },
            "text/plain": [
              "Saving the dataset (0/1 shards):   0%|          | 0/1986 [00:00<?, ? examples/s]"
            ]
          },
          "metadata": {},
          "output_type": "display_data"
        },
        {
          "data": {
            "application/vnd.jupyter.widget-view+json": {
              "model_id": "60e57d772e174fb0bcd44d87dd2097d2",
              "version_major": 2,
              "version_minor": 0
            },
            "text/plain": [
              "Saving the dataset (0/1 shards):   0%|          | 0/1242 [00:00<?, ? examples/s]"
            ]
          },
          "metadata": {},
          "output_type": "display_data"
        },
        {
          "data": {
            "application/vnd.jupyter.widget-view+json": {
              "model_id": "3fa09a9339704aa6943188539d22245f",
              "version_major": 2,
              "version_minor": 0
            },
            "text/plain": [
              "Saving the dataset (0/1 shards):   0%|          | 0/456 [00:00<?, ? examples/s]"
            ]
          },
          "metadata": {},
          "output_type": "display_data"
        },
        {
          "data": {
            "application/vnd.jupyter.widget-view+json": {
              "model_id": "dc231345ee9541aa9a6b90aba93184c8",
              "version_major": 2,
              "version_minor": 0
            },
            "text/plain": [
              "Saving the dataset (0/1 shards):   0%|          | 0/1394 [00:00<?, ? examples/s]"
            ]
          },
          "metadata": {},
          "output_type": "display_data"
        },
        {
          "data": {
            "application/vnd.jupyter.widget-view+json": {
              "model_id": "d47f44dc4ba24b418d4b1ebba217a042",
              "version_major": 2,
              "version_minor": 0
            },
            "text/plain": [
              "Saving the dataset (0/1 shards):   0%|          | 0/504 [00:00<?, ? examples/s]"
            ]
          },
          "metadata": {},
          "output_type": "display_data"
        },
        {
          "data": {
            "application/vnd.jupyter.widget-view+json": {
              "model_id": "e3a429e846914336945f15f6432a24e6",
              "version_major": 2,
              "version_minor": 0
            },
            "text/plain": [
              "Saving the dataset (0/1 shards):   0%|          | 0/1552 [00:00<?, ? examples/s]"
            ]
          },
          "metadata": {},
          "output_type": "display_data"
        },
        {
          "data": {
            "application/vnd.jupyter.widget-view+json": {
              "model_id": "33e280a3561945368e07ac505338d796",
              "version_major": 2,
              "version_minor": 0
            },
            "text/plain": [
              "Saving the dataset (0/1 shards):   0%|          | 0/542 [00:00<?, ? examples/s]"
            ]
          },
          "metadata": {},
          "output_type": "display_data"
        },
        {
          "data": {
            "application/vnd.jupyter.widget-view+json": {
              "model_id": "aca3adfe3c8a464b894e8a3a79fb954e",
              "version_major": 2,
              "version_minor": 0
            },
            "text/plain": [
              "Saving the dataset (0/1 shards):   0%|          | 0/1246 [00:00<?, ? examples/s]"
            ]
          },
          "metadata": {},
          "output_type": "display_data"
        },
        {
          "data": {
            "application/vnd.jupyter.widget-view+json": {
              "model_id": "92b793c0e5b24b8e97e3a67b8c0ccfcd",
              "version_major": 2,
              "version_minor": 0
            },
            "text/plain": [
              "Saving the dataset (0/1 shards):   0%|          | 0/451 [00:00<?, ? examples/s]"
            ]
          },
          "metadata": {},
          "output_type": "display_data"
        },
        {
          "data": {
            "application/vnd.jupyter.widget-view+json": {
              "model_id": "303acad55d274121973f415af43aa298",
              "version_major": 2,
              "version_minor": 0
            },
            "text/plain": [
              "Saving the dataset (0/1 shards):   0%|          | 0/1849 [00:00<?, ? examples/s]"
            ]
          },
          "metadata": {},
          "output_type": "display_data"
        },
        {
          "data": {
            "application/vnd.jupyter.widget-view+json": {
              "model_id": "3492bb8c441144b89428c59caab486f4",
              "version_major": 2,
              "version_minor": 0
            },
            "text/plain": [
              "Saving the dataset (0/1 shards):   0%|          | 0/649 [00:00<?, ? examples/s]"
            ]
          },
          "metadata": {},
          "output_type": "display_data"
        },
        {
          "data": {
            "application/vnd.jupyter.widget-view+json": {
              "model_id": "ca5b35a6fb7141ad95cfdb20f947008d",
              "version_major": 2,
              "version_minor": 0
            },
            "text/plain": [
              "Saving the dataset (0/1 shards):   0%|          | 0/2923 [00:00<?, ? examples/s]"
            ]
          },
          "metadata": {},
          "output_type": "display_data"
        },
        {
          "data": {
            "application/vnd.jupyter.widget-view+json": {
              "model_id": "e40ae57285104414bff8996ffbe47729",
              "version_major": 2,
              "version_minor": 0
            },
            "text/plain": [
              "Saving the dataset (0/1 shards):   0%|          | 0/971 [00:00<?, ? examples/s]"
            ]
          },
          "metadata": {},
          "output_type": "display_data"
        },
        {
          "data": {
            "application/vnd.jupyter.widget-view+json": {
              "model_id": "a91867af1157460799ac0c7b4b7c80a4",
              "version_major": 2,
              "version_minor": 0
            },
            "text/plain": [
              "Saving the dataset (0/1 shards):   0%|          | 0/5998 [00:00<?, ? examples/s]"
            ]
          },
          "metadata": {},
          "output_type": "display_data"
        },
        {
          "data": {
            "application/vnd.jupyter.widget-view+json": {
              "model_id": "708b875efd27498992efe72646e6f453",
              "version_major": 2,
              "version_minor": 0
            },
            "text/plain": [
              "Saving the dataset (0/1 shards):   0%|          | 0/1986 [00:00<?, ? examples/s]"
            ]
          },
          "metadata": {},
          "output_type": "display_data"
        },
        {
          "data": {
            "application/vnd.jupyter.widget-view+json": {
              "model_id": "2388dc1971c849b5ba624d0576799f61",
              "version_major": 2,
              "version_minor": 0
            },
            "text/plain": [
              "Saving the dataset (0/1 shards):   0%|          | 0/927 [00:00<?, ? examples/s]"
            ]
          },
          "metadata": {},
          "output_type": "display_data"
        },
        {
          "data": {
            "application/vnd.jupyter.widget-view+json": {
              "model_id": "d9cb1de306e242bcaa8bb6bba9883210",
              "version_major": 2,
              "version_minor": 0
            },
            "text/plain": [
              "Saving the dataset (0/1 shards):   0%|          | 0/114 [00:00<?, ? examples/s]"
            ]
          },
          "metadata": {},
          "output_type": "display_data"
        },
        {
          "data": {
            "application/vnd.jupyter.widget-view+json": {
              "model_id": "77da9b9215b44569ac760a2b4c840b69",
              "version_major": 2,
              "version_minor": 0
            },
            "text/plain": [
              "Saving the dataset (0/1 shards):   0%|          | 0/5998 [00:00<?, ? examples/s]"
            ]
          },
          "metadata": {},
          "output_type": "display_data"
        },
        {
          "data": {
            "application/vnd.jupyter.widget-view+json": {
              "model_id": "bed4b2a446264825b3beaaac064bf6af",
              "version_major": 2,
              "version_minor": 0
            },
            "text/plain": [
              "Saving the dataset (0/1 shards):   0%|          | 0/1661 [00:00<?, ? examples/s]"
            ]
          },
          "metadata": {},
          "output_type": "display_data"
        },
        {
          "data": {
            "text/plain": [
              "{'a1': DatasetDict({\n",
              "     train: Dataset({\n",
              "         features: ['text', 'labels', 'input_ids', 'attention_mask'],\n",
              "         num_rows: 970\n",
              "     })\n",
              "     test: Dataset({\n",
              "         features: ['text', 'labels', 'input_ids', 'attention_mask'],\n",
              "         num_rows: 328\n",
              "     })\n",
              " }),\n",
              " 'a2': DatasetDict({\n",
              "     train: Dataset({\n",
              "         features: ['text', 'labels', 'input_ids', 'attention_mask'],\n",
              "         num_rows: 5998\n",
              "     })\n",
              "     test: Dataset({\n",
              "         features: ['text', 'labels', 'input_ids', 'attention_mask'],\n",
              "         num_rows: 1986\n",
              "     })\n",
              " }),\n",
              " 'a3': DatasetDict({\n",
              "     train: Dataset({\n",
              "         features: ['text', 'labels', 'input_ids', 'attention_mask'],\n",
              "         num_rows: 1242\n",
              "     })\n",
              "     test: Dataset({\n",
              "         features: ['text', 'labels', 'input_ids', 'attention_mask'],\n",
              "         num_rows: 456\n",
              "     })\n",
              " }),\n",
              " 'a4': DatasetDict({\n",
              "     train: Dataset({\n",
              "         features: ['text', 'labels', 'input_ids', 'attention_mask'],\n",
              "         num_rows: 1394\n",
              "     })\n",
              "     test: Dataset({\n",
              "         features: ['text', 'labels', 'input_ids', 'attention_mask'],\n",
              "         num_rows: 504\n",
              "     })\n",
              " }),\n",
              " 'a5': DatasetDict({\n",
              "     train: Dataset({\n",
              "         features: ['text', 'labels', 'input_ids', 'attention_mask'],\n",
              "         num_rows: 1552\n",
              "     })\n",
              "     test: Dataset({\n",
              "         features: ['text', 'labels', 'input_ids', 'attention_mask'],\n",
              "         num_rows: 542\n",
              "     })\n",
              " }),\n",
              " 'a7': DatasetDict({\n",
              "     train: Dataset({\n",
              "         features: ['text', 'labels', 'input_ids', 'attention_mask'],\n",
              "         num_rows: 1246\n",
              "     })\n",
              "     test: Dataset({\n",
              "         features: ['text', 'labels', 'input_ids', 'attention_mask'],\n",
              "         num_rows: 451\n",
              "     })\n",
              " }),\n",
              " 'a8': DatasetDict({\n",
              "     train: Dataset({\n",
              "         features: ['text', 'labels', 'input_ids', 'attention_mask'],\n",
              "         num_rows: 1849\n",
              "     })\n",
              "     test: Dataset({\n",
              "         features: ['text', 'labels', 'input_ids', 'attention_mask'],\n",
              "         num_rows: 649\n",
              "     })\n",
              " }),\n",
              " 'a9': DatasetDict({\n",
              "     train: Dataset({\n",
              "         features: ['text', 'labels', 'input_ids', 'attention_mask'],\n",
              "         num_rows: 2923\n",
              "     })\n",
              "     test: Dataset({\n",
              "         features: ['text', 'labels', 'input_ids', 'attention_mask'],\n",
              "         num_rows: 971\n",
              "     })\n",
              " }),\n",
              " 'a10': DatasetDict({\n",
              "     train: Dataset({\n",
              "         features: ['text', 'labels', 'input_ids', 'attention_mask'],\n",
              "         num_rows: 5998\n",
              "     })\n",
              "     test: Dataset({\n",
              "         features: ['text', 'labels', 'input_ids', 'attention_mask'],\n",
              "         num_rows: 1986\n",
              "     })\n",
              " }),\n",
              " 'a11': DatasetDict({\n",
              "     train: Dataset({\n",
              "         features: ['text', 'labels', 'input_ids', 'attention_mask'],\n",
              "         num_rows: 927\n",
              "     })\n",
              "     test: Dataset({\n",
              "         features: ['text', 'labels', 'input_ids', 'attention_mask'],\n",
              "         num_rows: 114\n",
              "     })\n",
              " }),\n",
              " 'a12': DatasetDict({\n",
              "     train: Dataset({\n",
              "         features: ['text', 'labels', 'input_ids', 'attention_mask'],\n",
              "         num_rows: 5998\n",
              "     })\n",
              "     test: Dataset({\n",
              "         features: ['text', 'labels', 'input_ids', 'attention_mask'],\n",
              "         num_rows: 1661\n",
              "     })\n",
              " })}"
            ]
          },
          "execution_count": 21,
          "metadata": {},
          "output_type": "execute_result"
        }
      ],
      "source": [
        "def labels_per_annotator(dataset):\n",
        "\n",
        "  all_outputs = extract_numeric_labels_person(dataset[\"train\"])\n",
        "  text_a1, a1, input_ids_a1, attention_mask_a1 = all_outputs[0], all_outputs[1],all_outputs[2], all_outputs[3]\n",
        "  text_a2, a2, input_ids_a2, attention_mask_a2 = all_outputs[4], all_outputs[5], all_outputs[6], all_outputs[7]\n",
        "  text_a3, a3, input_ids_a3, attention_mask_a3 = all_outputs[8], all_outputs[9], all_outputs[10], all_outputs[11]\n",
        "  text_a4, a4, input_ids_a4, attention_mask_a4 = all_outputs[12], all_outputs[13], all_outputs[14], all_outputs[15]\n",
        "  text_a5, a5, input_ids_a5, attention_mask_a5 = all_outputs[16], all_outputs[17], all_outputs[18], all_outputs[19]\n",
        "  text_a7, a7, input_ids_a7, attention_mask_a7 = all_outputs[20], all_outputs[21], all_outputs[22], all_outputs[23]\n",
        "  text_a8, a8, input_ids_a8, attention_mask_a8 = all_outputs[24], all_outputs[25], all_outputs[26], all_outputs[27]\n",
        "  text_a9, a9, input_ids_a9, attention_mask_a9 = all_outputs[28], all_outputs[29], all_outputs[30], all_outputs[31]\n",
        "  text_a10, a10, input_ids_a10, attention_mask_a10 = all_outputs[32], all_outputs[33], all_outputs[34], all_outputs[35]\n",
        "  text_a11, a11, input_ids_a11, attention_mask_a11 = all_outputs[36], all_outputs[37], all_outputs[38], all_outputs[39]\n",
        "  text_a12, a12, input_ids_a12, attention_mask_a12 = all_outputs[40], all_outputs[41], all_outputs[42], all_outputs[43]\n",
        "\n",
        "  all_outputs_test = extract_numeric_labels_person(dataset[\"test\"])\n",
        "  text_a1_test, a1_test, input_ids_a1_test, attention_mask_a1_test = all_outputs_test[0], all_outputs_test[1], all_outputs_test[2], all_outputs_test[3]\n",
        "  text_a2_test, a2_test, input_ids_a2_test, attention_mask_a2_test = all_outputs_test[4], all_outputs_test[5], all_outputs_test[6], all_outputs_test[7]\n",
        "  text_a3_test, a3_test, input_ids_a3_test, attention_mask_a3_test = all_outputs_test[8], all_outputs_test[9], all_outputs_test[10], all_outputs_test[11]\n",
        "  text_a4_test, a4_test, input_ids_a4_test, attention_mask_a4_test = all_outputs_test[12], all_outputs_test[13], all_outputs_test[14], all_outputs_test[15]\n",
        "  text_a5_test, a5_test, input_ids_a5_test, attention_mask_a5_test = all_outputs_test[16], all_outputs_test[17], all_outputs_test[18], all_outputs_test[19]\n",
        "  text_a7_test, a7_test, input_ids_a7_test, attention_mask_a7_test = all_outputs_test[20], all_outputs_test[21], all_outputs_test[22], all_outputs_test[23]\n",
        "  text_a8_test, a8_test, input_ids_a8_test, attention_mask_a8_test = all_outputs_test[24], all_outputs_test[25], all_outputs_test[26], all_outputs_test[27]\n",
        "  text_a9_test, a9_test, input_ids_a9_test, attention_mask_a9_test = all_outputs_test[28], all_outputs_test[29], all_outputs_test[30], all_outputs_test[31]\n",
        "  text_a10_test, a10_test, input_ids_a10_test, attention_mask_a10_test = all_outputs_test[32], all_outputs_test[33], all_outputs_test[34], all_outputs_test[35]\n",
        "  text_a11_test, a11_test, input_ids_a11_test, attention_mask_a11_test = all_outputs_test[36], all_outputs_test[37], all_outputs_test[38], all_outputs_test[39]\n",
        "  text_a12_test, a12_test, input_ids_a12_test, attention_mask_a12_test = all_outputs_test[40], all_outputs_test[41], all_outputs_test[42], all_outputs_test[43]\n",
        "\n",
        "  texts = {\n",
        "      \"a1\": text_a1,\n",
        "      \"a2\": text_a2,\n",
        "      \"a3\": text_a3,\n",
        "      \"a4\": text_a4,\n",
        "      \"a5\": text_a5,\n",
        "      \"a7\": text_a7,\n",
        "      \"a8\": text_a8,\n",
        "      \"a9\": text_a9,\n",
        "      \"a10\": text_a10,\n",
        "      \"a11\": text_a11,\n",
        "      \"a12\": text_a12}\n",
        "\n",
        "  labels = {\n",
        "      \"a1\": a1,\n",
        "      \"a2\": a2,\n",
        "      \"a3\": a3,\n",
        "      \"a4\": a4,\n",
        "      \"a5\": a5,\n",
        "      \"a7\": a7,\n",
        "      \"a8\": a8,\n",
        "      \"a9\": a9,\n",
        "      \"a10\": a10,\n",
        "      \"a11\": a11,\n",
        "      \"a12\": a12}\n",
        "\n",
        "  input_ids = {\n",
        "      \"a1\": input_ids_a1,\n",
        "      \"a2\": input_ids_a2,\n",
        "      \"a3\": input_ids_a3,\n",
        "      \"a4\": input_ids_a4,\n",
        "      \"a5\": input_ids_a5,\n",
        "      \"a7\": input_ids_a7,\n",
        "      \"a8\": input_ids_a8,\n",
        "      \"a9\": input_ids_a9,\n",
        "      \"a10\": input_ids_a10,\n",
        "      \"a11\": input_ids_a11,\n",
        "      \"a12\": input_ids_a12}\n",
        "\n",
        "  attention_mask = {\n",
        "      \"a1\": attention_mask_a1,\n",
        "      \"a2\": attention_mask_a2,\n",
        "      \"a3\": attention_mask_a3,\n",
        "      \"a4\": attention_mask_a4,\n",
        "      \"a5\": attention_mask_a5,\n",
        "      \"a7\": attention_mask_a7,\n",
        "      \"a8\": attention_mask_a8,\n",
        "      \"a9\": attention_mask_a9,\n",
        "      \"a10\": attention_mask_a10,\n",
        "      \"a11\": attention_mask_a11,\n",
        "      \"a12\": attention_mask_a12}\n",
        "\n",
        "  texts_test = {\n",
        "      \"a1\": text_a1_test,\n",
        "      \"a2\": text_a2_test,\n",
        "      \"a3\": text_a3_test,\n",
        "      \"a4\": text_a4_test,\n",
        "      \"a5\": text_a5_test,\n",
        "      \"a7\": text_a7_test,\n",
        "      \"a8\": text_a8_test,\n",
        "      \"a9\": text_a9_test,\n",
        "      \"a10\": text_a10_test,\n",
        "      \"a11\": text_a11_test,\n",
        "      \"a12\": text_a12_test}\n",
        "\n",
        "  labels_test = {\n",
        "      \"a1\": a1_test,\n",
        "      \"a2\": a2_test,\n",
        "      \"a3\": a3_test,\n",
        "      \"a4\": a4_test,\n",
        "      \"a5\": a5_test,\n",
        "      \"a7\": a7_test,\n",
        "      \"a8\": a8_test,\n",
        "      \"a9\": a9_test,\n",
        "      \"a10\": a10_test,\n",
        "      \"a11\": a11_test,\n",
        "      \"a12\": a12_test}\n",
        "\n",
        "  input_ids_test = {\n",
        "      \"a1\": input_ids_a1_test,\n",
        "      \"a2\": input_ids_a2_test,\n",
        "      \"a3\": input_ids_a3_test,\n",
        "      \"a4\": input_ids_a4_test,\n",
        "      \"a5\": input_ids_a5_test,\n",
        "      \"a7\": input_ids_a7_test,\n",
        "      \"a8\": input_ids_a8_test,\n",
        "      \"a9\": input_ids_a9_test,\n",
        "      \"a10\": input_ids_a10_test,\n",
        "      \"a11\": input_ids_a11_test,\n",
        "      \"a12\": input_ids_a12_test}\n",
        "\n",
        "  attention_mask_test = {\n",
        "      \"a1\": attention_mask_a1_test,\n",
        "      \"a2\": attention_mask_a2_test,\n",
        "      \"a3\": attention_mask_a3_test,\n",
        "      \"a4\": attention_mask_a4_test,\n",
        "      \"a5\": attention_mask_a5_test,\n",
        "      \"a7\": attention_mask_a7_test,\n",
        "      \"a8\": attention_mask_a8_test,\n",
        "      \"a9\": attention_mask_a9_test,\n",
        "      \"a10\": attention_mask_a10_test,\n",
        "      \"a11\": attention_mask_a11_test,\n",
        "      \"a12\": attention_mask_a12_test}\n",
        "\n",
        "\n",
        "\n",
        "  # DatasetDict erstellen\n",
        "  datasets_per_annotator = {}\n",
        "\n",
        "  for key in texts:\n",
        "      datasets_per_annotator[key] = DatasetDict({\n",
        "          \"train\": Dataset.from_dict({\n",
        "              \"text\": texts[key],\n",
        "              \"labels\": labels[key],\n",
        "              \"input_ids\": input_ids[key],\n",
        "              \"attention_mask\": attention_mask[key]\n",
        "          }),\n",
        "          \"test\": Dataset.from_dict({\n",
        "              \"text\": texts_test[key],\n",
        "              \"labels\": labels_test[key],\n",
        "              \"input_ids\": input_ids_test[key],\n",
        "              \"attention_mask\": attention_mask_test[key]\n",
        "          })\n",
        "      })\n",
        "\n",
        "  # Daten in Datei abspeichern\n",
        "  for name, ds_dict in datasets_per_annotator.items():\n",
        "    ds_dict.save_to_disk(f\"datasets_per_annotator/{name}\")\n",
        "\n",
        "  return datasets_per_annotator\n",
        "\n",
        "labels_per_annotator(data_encoded)"
      ]
    },
    {
      "cell_type": "code",
      "execution_count": null,
      "metadata": {
        "id": "ZPpXB6UHMZ3F"
      },
      "outputs": [],
      "source": [
        "annotator_names = [\"a1\", \"a2\", \"a3\", \"a4\", \"a5\", \"a7\", \"a8\", \"a9\", \"a10\", \"a11\", \"a12\"]\n",
        "\n",
        "datasets_per_annotator = {\n",
        "    name: load_from_disk(f\"datasets_per_annotator/{name}\") for name in annotator_names}"
      ]
    },
    {
      "cell_type": "markdown",
      "metadata": {
        "id": "lYCLOTGsoGIg"
      },
      "source": [
        "### Annotator Labels visualisieren"
      ]
    },
    {
      "cell_type": "code",
      "execution_count": null,
      "metadata": {
        "colab": {
          "base_uri": "https://localhost:8080/"
        },
        "id": "4bpIWEV7oEun",
        "outputId": "6f63af54-9266-4ff8-ec0a-2dac1e7f4e29"
      },
      "outputs": [
        {
          "data": {
            "image/png": "[encoded data removed]",
            "text/plain": [
              "<Figure size 1200x600 with 1 Axes>"
            ]
          },
          "metadata": {},
          "output_type": "display_data"
        }
      ],
      "source": [
        "all_data = []\n",
        "\n",
        "for annotator, ds in datasets_per_annotator.items():\n",
        "    for split in [\"train\", \"test\"]:\n",
        "        if split in ds:\n",
        "            labels = ds[split][\"labels\"]\n",
        "            for label in labels:\n",
        "                all_data.append({\"Annotator\": annotator, \"Label\": label, \"Split\": split})\n",
        "\n",
        "df = pd.DataFrame(all_data)\n",
        "\n",
        "# Plot erstellen\n",
        "plt.figure(figsize=(12, 6))\n",
        "sns.countplot(data=df, x=\"Label\", hue=\"Annotator\", palette=\"tab10\")\n",
        "plt.title(\"Verteilung der vergebenen Labels pro Annotator\")\n",
        "plt.xlabel(\"Label\")\n",
        "plt.ylabel(\"Anzahl\")\n",
        "plt.legend(title=\"Annotator\", bbox_to_anchor=(1.05, 1), loc='upper left')\n",
        "plt.tight_layout()\n",
        "plt.show()"
      ]
    },
    {
      "cell_type": "markdown",
      "metadata": {
        "id": "YXY_RoCFGdzb"
      },
      "source": [
        "## Labels zu Dataset hinzufügen"
      ]
    },
    {
      "cell_type": "code",
      "execution_count": null,
      "metadata": {
        "colab": {
          "base_uri": "https://localhost:8080/"
        },
        "id": "vAyDO3hnLpYe",
        "outputId": "4e2abe2a-a2de-423c-f3ae-1173e998f6b9"
      },
      "outputs": [
        {
          "data": {
            "text/plain": [
              "DatasetDict({\n",
              "    train: Dataset({\n",
              "        features: ['text', 'id', 'annotations', 'round', 'source', 'input_ids', 'attention_mask', 'hidden_state', 'labels', 'labels_roundup', 'labels_binary'],\n",
              "        num_rows: 5998\n",
              "    })\n",
              "    test: Dataset({\n",
              "        features: ['text', 'id', 'annotations', 'round', 'source', 'input_ids', 'attention_mask', 'hidden_state', 'labels', 'labels_roundup', 'labels_binary'],\n",
              "        num_rows: 1986\n",
              "    })\n",
              "})"
            ]
          },
          "execution_count": 24,
          "metadata": {},
          "output_type": "execute_result"
        }
      ],
      "source": [
        "def add_labels(dataset):\n",
        "  # Multi Median Labels zum Dataset hinzufügen\n",
        "  dataset[\"train\"] = dataset[\"train\"].add_column(\"labels\", extract_numeric_labels(dataset[\"train\"]))\n",
        "  dataset[\"test\"] = dataset[\"test\"].add_column(\"labels\", extract_numeric_labels(dataset[\"test\"]))\n",
        "\n",
        "  # Multi Roundup Labels zum Dataset hinzufügen\n",
        "  dataset[\"train\"] = dataset[\"train\"].add_column(\"labels_roundup\", extract_numeric_labels_roundup(dataset[\"train\"]))\n",
        "  dataset[\"test\"] = dataset[\"test\"].add_column(\"labels_roundup\", extract_numeric_labels_roundup(dataset[\"test\"]))\n",
        "\n",
        "  # Binäre Labels zum Dataset hinzufügen\n",
        "  dataset[\"train\"] = dataset[\"train\"].add_column(\"labels_binary\", extract_numeric_labels_binary(dataset[\"train\"]))\n",
        "  dataset[\"test\"] = dataset[\"test\"].add_column(\"labels_binary\", extract_numeric_labels_binary(dataset[\"test\"]))\n",
        "\n",
        "  return dataset\n",
        "\n",
        "add_labels(hidden_states)"
      ]
    },
    {
      "cell_type": "markdown",
      "metadata": {
        "id": "JK_MmihoqyOi"
      },
      "source": [
        "### überflüssige Spalten des Datasets löschen"
      ]
    },
    {
      "cell_type": "code",
      "execution_count": null,
      "metadata": {
        "colab": {
          "base_uri": "https://localhost:8080/"
        },
        "id": "MbT2BF6jsH8l",
        "outputId": "0d162266-871b-44e1-9b21-b189033995ba"
      },
      "outputs": [
        {
          "name": "stdout",
          "output_type": "stream",
          "text": [
            "{'train': ['text', 'input_ids', 'attention_mask', 'hidden_state', 'labels'], 'test': ['text', 'input_ids', 'attention_mask', 'hidden_state', 'labels']}\n",
            "{'train': ['text', 'input_ids', 'attention_mask', 'hidden_state', 'labels'], 'test': ['text', 'input_ids', 'attention_mask', 'hidden_state', 'labels']}\n",
            "{'train': ['text', 'input_ids', 'attention_mask', 'hidden_state', 'labels'], 'test': ['text', 'input_ids', 'attention_mask', 'hidden_state', 'labels']}\n"
          ]
        }
      ],
      "source": [
        "dataset_binary = hidden_states.remove_columns([\"id\", \"annotations\", \"round\", \"source\", \"labels\", \"labels_roundup\"])\n",
        "dataset_binary = dataset_binary.rename_column(\"labels_binary\", \"labels\")\n",
        "\n",
        "dataset_multi = hidden_states.remove_columns([\"id\", \"annotations\", \"round\", \"source\", \"labels_binary\", \"labels_roundup\"])\n",
        "\n",
        "dataset_multi_roundup = hidden_states.remove_columns([\"id\", \"annotations\", \"round\", \"source\", \"labels_binary\", \"labels\"])\n",
        "dataset_multi_roundup = dataset_multi_roundup.rename_column(\"labels_roundup\", \"labels\")\n",
        "\n",
        "print(dataset_multi.column_names)\n",
        "print(dataset_multi_roundup.column_names)\n",
        "print(dataset_binary.column_names)"
      ]
    },
    {
      "cell_type": "markdown",
      "metadata": {
        "id": "Nun8yN7p9Kd_"
      },
      "source": [
        "# linguistische Analyse der sexistisch gelabelten Kommentare"
      ]
    },
    {
      "cell_type": "markdown",
      "metadata": {
        "id": "DMjx75MgxYMq"
      },
      "source": [
        "### Alle Kommentare mit Label 4 extrahieren"
      ]
    },
    {
      "cell_type": "code",
      "execution_count": null,
      "metadata": {
        "id": "n-8wRiW7ZoaY"
      },
      "outputs": [],
      "source": [
        "dataset_binary.reset_format()\n",
        "dataset_multi.reset_format()\n",
        "dataset_multi_roundup.reset_format()"
      ]
    },
    {
      "cell_type": "code",
      "execution_count": null,
      "metadata": {
        "colab": {
          "base_uri": "https://localhost:8080/"
        },
        "id": "tRfuaTi7WhSI",
        "outputId": "8e9efa77-8f0e-4544-f50e-f6f1ee338b45"
      },
      "outputs": [
        {
          "name": "stdout",
          "output_type": "stream",
          "text": [
            "Anzahl Kommentare mit Label 4:  33\n"
          ]
        }
      ],
      "source": [
        "# Alle Kommentare mit Label 4 aus beiden Splits holen (Multi Median)\n",
        "texts_train = [sample[\"text\"] for sample in dataset_multi[\"train\"] if sample[\"labels\"] == 4]\n",
        "texts_test = [sample[\"text\"] for sample in dataset_multi[\"test\"] if sample[\"labels\"] == 4]\n",
        "all_texts = texts_train + texts_test\n",
        "print(\"Anzahl Kommentare mit Label 4: \", len(all_texts))\n",
        "\n",
        "# Daten in Datei abspeichern\n",
        "with open(\"label_4.txt\", \"w\", encoding=\"utf-8\") as f:\n",
        "    for text in all_texts:\n",
        "        f.write(text.strip() + \"\\n\")"
      ]
    },
    {
      "cell_type": "code",
      "execution_count": null,
      "metadata": {
        "colab": {
          "base_uri": "https://localhost:8080/"
        },
        "id": "U9UsrZ9XYsyi",
        "outputId": "45a3a0f7-7437-40bf-f311-1cc40b8ae76e"
      },
      "outputs": [
        {
          "name": "stdout",
          "output_type": "stream",
          "text": [
            "Anzahl Kommentare mit Label 4:  274\n"
          ]
        }
      ],
      "source": [
        "# Alle Kommentare mit Label 4 aus beiden Splits holen (Multi Roundup)\n",
        "texts_train = [sample[\"text\"] for sample in dataset_multi_roundup[\"train\"] if sample[\"labels\"] == 4]\n",
        "texts_test = [sample[\"text\"] for sample in dataset_multi_roundup[\"test\"] if sample[\"labels\"] == 4]\n",
        "all_texts = texts_train + texts_test\n",
        "print(\"Anzahl Kommentare mit Label 4: \", len(all_texts))\n",
        "\n",
        "# Daten in Datei abspeichern\n",
        "with open(\"label_4_roundup.txt\", \"w\", encoding=\"utf-8\") as f:\n",
        "    for text in all_texts:\n",
        "        f.write(text.strip() + \"\\n\")"
      ]
    },
    {
      "cell_type": "markdown",
      "metadata": {
        "id": "CZxslEoozirx"
      },
      "source": [
        "### Die häufigsten Worte aus den Label 4 Kommentaren herausfiltern"
      ]
    },
    {
      "cell_type": "code",
      "execution_count": null,
      "metadata": {
        "colab": {
          "base_uri": "https://localhost:8080/"
        },
        "id": "mvsS7UYEzo0K",
        "outputId": "b25116d3-30a3-4860-a2f0-0a9db178c2b2"
      },
      "outputs": [
        {
          "name": "stdout",
          "output_type": "stream",
          "text": [
            "Häufigste Wörter:\n",
            "die: 266\n",
            "und: 183\n",
            "sie: 172\n",
            "der: 137\n",
            "nicht: 128\n",
            "das: 116\n",
            "ist: 113\n",
            "ich: 101\n",
            "in: 94\n",
            "es: 93\n",
            "\n",
            "\n",
            "Häufigste Nomen:\n",
            "Frau: 154\n",
            "Mann: 72\n",
            "Kind: 17\n",
            "Jahr: 16\n",
            "Dame: 13\n",
            "Geld: 10\n",
            "Weiber: 9\n",
            "Leben: 9\n",
            "Haus: 7\n",
            "Zeit: 7\n",
            "Bein: 7\n",
            "Opfer: 7\n",
            "Mund: 6\n",
            "Job: 6\n",
            "Geschichte: 6\n",
            "Bett: 6\n",
            "Sex: 6\n",
            "Quote: 6\n",
            "Verantwortung: 6\n",
            "Karriere: 5\n",
            "Tag: 5\n",
            "Kunst: 5\n",
            "Foto: 5\n",
            "Küche: 4\n",
            "Vorteil: 4\n",
            "Fall: 4\n",
            "Sache: 4\n",
            "Vergewaltigung: 4\n",
            "Politik: 4\n",
            "Oide: 4\n",
            "\n",
            "\n",
            "Häufigste Adjektive:\n",
            "gut: 16\n",
            "eigen: 10\n",
            "anderer: 8\n",
            "letzter: 8\n",
            "alt: 7\n",
            "groß: 6\n",
            "hübsch: 6\n",
            "sexuell: 6\n",
            "klein: 6\n",
            "weiblich: 5\n",
            "hoch: 5\n",
            "hässlich: 4\n",
            "erster: 4\n",
            "echt: 4\n",
            "richtig: 4\n",
            "einzig: 3\n",
            "nächster: 3\n",
            "ganz: 3\n",
            "jung: 3\n",
            "fett: 3\n",
            "fesch: 3\n",
            "dumm: 2\n",
            "niedrig: 2\n",
            "geil: 2\n",
            "politisch: 2\n",
            "neu: 2\n",
            "wichtig: 2\n",
            "feministisch: 2\n",
            "hübscher: 2\n",
            "wund: 2\n",
            "\n",
            "\n",
            "Häufigste Adverben:\n",
            "auch: 71\n",
            "so: 68\n",
            "nur: 53\n",
            "dann: 41\n",
            "noch: 38\n",
            "\n",
            "\n",
            "Häufigste Verben:\n",
            "machen: 38\n",
            "haben: 30\n",
            "geben: 23\n",
            "tun: 19\n",
            "kommen: 19\n",
            "\n",
            "\n"
          ]
        }
      ],
      "source": [
        "with open(\"label_4_roundup.txt\", \"r\", encoding=\"utf-8\") as file:\n",
        "    content = file.read()\n",
        "\n",
        "text = re.sub(r\"[^a-zA-Z0-9\\s]\", \"\", content).lower()\n",
        "words = text.split()\n",
        "\n",
        "# Wörter zählen\n",
        "wordcount = Counter(words)\n",
        "\n",
        "# Top-Wörter ausgeben\n",
        "print(\"Häufigste Wörter:\")\n",
        "for word, count in wordcount.most_common(10): # Top 10\n",
        "  print(f\"{word}: {count}\")\n",
        "print(\"\\n\")\n",
        "\n",
        "doc = nlp(content)\n",
        "\n",
        "# Nomen extrahieren\n",
        "nouns = [token.lemma_ for token in doc if token.pos_ in (\"NOUN\")]\n",
        "\n",
        "# Adjektive extrahieren\n",
        "adj = [token.lemma_ for token in doc if token.pos_ in (\"ADJ\")]\n",
        "\n",
        "# Adverben extrahieren\n",
        "adv = [token.lemma_ for token in doc if token.pos_ in (\"ADV\")]\n",
        "\n",
        "# Verben extrahieren\n",
        "verb = [token.lemma_ for token in doc if token.pos_ in (\"VERB\")]\n",
        "\n",
        "nounlist = []\n",
        "nouncount = Counter(nouns)\n",
        "print(\"Häufigste Nomen:\")\n",
        "for noun, count in nouncount.most_common(30): # Top 30\n",
        "  print(f\"{noun}: {count}\")\n",
        "  nounlist.append(noun)\n",
        "print(\"\\n\")\n",
        "\n",
        "adjlist = []\n",
        "adjcount = Counter(adj)\n",
        "print(\"Häufigste Adjektive:\")\n",
        "for adj, count in adjcount.most_common(30): # Top 30\n",
        "  print(f\"{adj}: {count}\")\n",
        "  adjlist.append(adj)\n",
        "print(\"\\n\")\n",
        "\n",
        "advcount = Counter(adv)\n",
        "print(\"Häufigste Adverben:\")\n",
        "for adv, count in advcount.most_common(5): # Top 5\n",
        "  print(f\"{adv}: {count}\")\n",
        "print(\"\\n\")\n",
        "\n",
        "verbcount = Counter(verb)\n",
        "print(\"Häufigste Verben:\")\n",
        "for verb, count in verbcount.most_common(5): # Top 5\n",
        "  print(f\"{verb}: {count}\")\n",
        "print(\"\\n\")\n",
        "\n",
        "with open(\"nounlist.txt\", \"w\", encoding=\"utf-8\") as f:\n",
        "    for word in nounlist:\n",
        "        f.write(word.strip() + \"\\n\")\n",
        "\n",
        "with open(\"adjlist.txt\", \"w\", encoding=\"utf-8\") as f:\n",
        "    for word in adjlist:\n",
        "        f.write(word.strip() + \"\\n\")"
      ]
    },
    {
      "cell_type": "markdown",
      "metadata": {
        "id": "E3dPjgOQ9Dvk"
      },
      "source": [
        "# Wortliste mit frauenfeindlichen Begriffen generieren"
      ]
    },
    {
      "cell_type": "markdown",
      "metadata": {
        "id": "Ez2GFygsEyCb"
      },
      "source": [
        "Wortliste von ChatGPT"
      ]
    },
    {
      "cell_type": "code",
      "execution_count": null,
      "metadata": {
        "id": "W6He0Ex8E-gF"
      },
      "outputs": [],
      "source": [
        "# Dateipfad muss gegebenenfalls angepasst werden, je nachdem wo die Dateie abgespeichert ist.\n",
        "# Sie kann im GitHub Ordner heruntergeladen werden.\n",
        "path = '/content/wordlist_chatgpt.txt'\n",
        "with open(path, \"r\", encoding=\"utf-8\") as f:\n",
        "  wordlist_gpt = [zeile.strip() for zeile in f]"
      ]
    },
    {
      "cell_type": "markdown",
      "metadata": {
        "id": "rirum_C2E6kZ"
      },
      "source": [
        "Wortliste von Google Gemini\n"
      ]
    },
    {
      "cell_type": "code",
      "execution_count": null,
      "metadata": {
        "id": "Af4Vp9SrEbEh"
      },
      "outputs": [],
      "source": [
        "# Dateipfad muss gegebenenfalls angepasst werden, je nachdem wo die Dateie abgespeichert ist.\n",
        "# Sie kann im GitHub Ordner heruntergeladen werden.\n",
        "path = '/content/wordlist_gemini.txt'\n",
        "with open(path, \"r\", encoding=\"utf-8\") as f:\n",
        "   lines = f.readlines()\n",
        "wordlist_gemini = list(dict.fromkeys([line.strip() for line in lines if line.strip()]))\n"
      ]
    },
    {
      "cell_type": "markdown",
      "metadata": {
        "id": "HRpaF7pNE62X"
      },
      "source": [
        "Wortliste von Grok"
      ]
    },
    {
      "cell_type": "code",
      "execution_count": null,
      "metadata": {
        "id": "aUq0oJW4Pse9"
      },
      "outputs": [],
      "source": [
        "# Dateipfad muss gegebenenfalls angepasst werden, je nachdem wo die Dateie abgespeichert ist.\n",
        "# Sie kann im GitHub Ordner heruntergeladen werden.\n",
        "path = '/content/wordlist_grok.txt'\n",
        "with open(path, \"r\", encoding=\"utf-8\") as f:\n",
        "   lines = f.readlines()\n",
        "wordlist_grok = list(dict.fromkeys([line.strip() for line in lines if line.strip()]))"
      ]
    },
    {
      "cell_type": "code",
      "execution_count": null,
      "metadata": {
        "colab": {
          "base_uri": "https://localhost:8080/"
        },
        "id": "6adY_TkfFeNm",
        "outputId": "43792483-603d-4119-dcf3-e3cfe0cb3f3b"
      },
      "outputs": [
        {
          "name": "stdout",
          "output_type": "stream",
          "text": [
            "['objekt', 'dramaqueen', 'typisch blond', 'zänkisch', 'launisch', 'irrational', 'unterwürfig', 'frauen können kein auto fahren', 'hässlich', 'flachlegen', 'graue maus', 'kann keine technik', 'barbie', 'tratschtante', 'dummes huhn', 'kann keine entscheidungen treffen', 'nutzlos', 'hure', 'typisch frau', 'friseurtussi', 'tussi', 'nutte', 'hat ihre tage', 'keine ahnung von politik', 'plage', 'unterwürfigkeit steht ihr', 'sexobjekt', 'küchenmagd', 'nur am meckern', 'fette nutte', 'emotional instabil', 'nicht teamfähig', 'gold digger', 'weiberkram', 'zieht sich aufreizend an', 'schlammsau', 'begriffsstutzig', 'weint sofort', 'du gehörst verprügelt', 'frauen und technik', 'vergewaltiger', 'lächerlich', 'spermaschlampe', 'zuviel gefühle', 'opfer', 'naiv', 'keine führungsqualitäten', 'wollte es doch', 'beleidigte leberwurst', 'kein rückgrat', 'sollte man mal richtig...', 'unfähig zur führung', 'ficken', 'schwach', 'mädel', 'kann nichts alleine', 'zeigen, wer der chef ist', 'tippse', 'leicht zu beeinflussen', 'nicht fähig zu denken', 'nicht durchsetzungsfähig', 'hexe', 'mimimi', 'fickbar', 'heiß', 'gehorchen', 'hat sich hochgeschlafen', 'laufstegnutte', 'flittchen', 'küchenpsychologin', 'küchenfee', 'nuttig', 'macho', 'vitamin b', 'zähmen', 'macht auf unschuldig', 'jagen', 'unfruchtbar', 'zahnlose schlampe', 'schmarotzer', 'die kann doch eh nichts', 'pms', 'keine ahnung von technik', 'dreckstück', 'zickig', 'mannsweib', 'schrulle', 'gleichstellungsfanatikerin', 'keine disziplin', 'blöd', 'schlampig', 'luder', 'kann nicht logisch denken', 'rabenmutter', 'fleisch', 'hohlkopf', 'durchnehmen', 'immer zickig', 'geh zurück in die küche', 'opferrolle', 'quotenfrau', 'zu sexy angezogen', 'frauchen', 'weib', 'parasit', 'nur aufmerksamkeit', 'geil', 'frauenlogik', 'emotional', 'runzelig', 'zu sensibel', 'arrogante zicke', 'tratscht nur', 'labil', 'kann kein mathe', 'emotionsgesteuert', 'dumm', 'typisch mutter', 'nimm die pille', 'frauen sind emotional', 'fett', 'nur hübsch sein reicht nicht', 'weiberlogik', 'billig', 'redet zuviel', 'heulsuse', 'blondchen', 'rumkriegen', 'frigid', 'wertlos', 'schmutzig', 'leicht zu haben', 'typisch frau am steuer', 'will es doch', 'titten', 'gebärmaschine', 'muschi', 'trulla', 'will nur reich heiraten', 'möpse', 'aufreißer', 'zuviel schminke', 'fickschlampe', 'spatzenhirn', 'sie will es doch', 'selber schuld', 'nörgelnd', 'trockene tante', 'sich nehmen', 'miststück', 'küche', 'dumme kuh', 'püppchen', 'mutti', 'nageln', 'frauenquote', 'überempfindlich', 'macht drama', 'halt die klappe', 'aufmerksamkeitssüchtig', 'jammert nur', 'puppe', 'gehört an den herd', 'unqualifiziert', 'sekretärin', 'nicht ernst zu nehmen', 'nicht multitaskingfähig', 'bitch', 'spielzeug', 'dumme schlampe', 'unterwerfen', 'feministin', 'ziege', 'hysterical', 'nur gefühle', 'aufmerksamkeitshure', 'vergewaltigen', 'strohkopf', 'fotze', 'knallen', 'kann kein handy bedienen', 'emanze', 'hausfrau', 'bratpfanne', 'hat es nur wegen aussehen geschafft', 'hysterisch', 'schlampe', 'busentussi', 'du gehörst an den herd', 'mannweib', 'alpha', 'verpiss dich', 'dummes blondchen', 'kriegt nichts auf die reihe', 'männer überlegen', 'zicke', 'hässliche zicke', 'blasen', 'biest', 'ausgedient', 'nur eine frau']\n",
            "Länge der zusammengefügten Wortliste:  201\n"
          ]
        }
      ],
      "source": [
        "# Listen zusammenführen und Duplikate entfernen\n",
        "wordlist_complete = list(set(wordlist_gpt + wordlist_gemini + wordlist_grok))\n",
        "print(wordlist_complete)\n",
        "print(\"Länge der zusammengefügten Wortliste: \", len(wordlist_complete))"
      ]
    },
    {
      "cell_type": "markdown",
      "metadata": {
        "id": "SQhd8KMdsm_6"
      },
      "source": [
        "Ermitteln der Häufigkeit, mit der die Begriffe aus der Wortliste in den Kommentaren vorkommen, sortiert nach vergebenem Label"
      ]
    },
    {
      "cell_type": "code",
      "execution_count": null,
      "metadata": {
        "colab": {
          "base_uri": "https://localhost:8080/"
        },
        "collapsed": true,
        "id": "6xEaFovOR8Ee",
        "outputId": "e4154ac2-5a7f-4e13-b347-0f93ce82e5a8"
      },
      "outputs": [
        {
          "name": "stdout",
          "output_type": "stream",
          "text": [
            "['objekt', 'dramaqueen', 'typisch blond', 'zänkisch', 'launisch', 'irrational', 'unterwürfig', 'frauen können kein auto fahren', 'hässlich', 'flachlegen', 'graue maus', 'kann keine technik', 'barbie', 'tratschtante', 'dummes huhn', 'kann keine entscheidungen treffen', 'hure', 'typisch frau', 'friseurtussi', 'tussi', 'nutte', 'hat ihre tage', 'keine ahnung von politik', 'unterwürfigkeit steht ihr', 'sexobjekt', 'küchenmagd', 'nur am meckern', 'fette nutte', 'emotional instabil', 'nicht teamfähig', 'gold digger', 'weiberkram', 'zieht sich aufreizend an', 'schlammsau', 'weint sofort', 'du gehörst verprügelt', 'frauen und technik', 'vergewaltiger', 'lächerlich', 'spermaschlampe', 'zuviel gefühle', 'opfer', 'naiv', 'keine führungsqualitäten', 'wollte es doch', 'kein rückgrat', 'sollte man mal richtig...', 'unfähig zur führung', 'ficken', 'schwach', 'mädel', 'kann nichts alleine', 'zeigen, wer der chef ist', 'leicht zu beeinflussen', 'nicht fähig zu denken', 'nicht durchsetzungsfähig', 'hexe', 'mimimi', 'fickbar', 'gehorchen', 'hat sich hochgeschlafen', 'laufstegnutte', 'flittchen', 'küchenpsychologin', 'küchenfee', 'nuttig', 'macho', 'macht auf unschuldig', 'unfruchtbar', 'zahnlose schlampe', 'schmarotzer', 'die kann doch eh nichts', 'pms', 'keine ahnung von technik', 'dreckstück', 'zickig', 'mannsweib', 'schrulle', 'gleichstellungsfanatikerin', 'keine disziplin', 'blöd', 'schlampig', 'luder', 'kann nicht logisch denken', 'rabenmutter', 'fleisch', 'hohlkopf', 'durchnehmen', 'immer zickig', 'geh zurück in die küche', 'opferrolle', 'quotenfrau', 'zu sexy angezogen', 'frauchen', 'weib', 'parasit', 'nur aufmerksamkeit', 'geil', 'frauenlogik', 'emotional', 'runzelig', 'zu sensibel', 'arrogante zicke', 'tratscht nur', 'labil', 'kann kein mathe', 'emotionsgesteuert', 'typisch mutter', 'nimm die pille', 'frauen sind emotional', 'fett', 'nur hübsch sein reicht nicht', 'weiberlogik', 'billig', 'redet zuviel', 'blondchen', 'rumkriegen', 'schmutzig', 'leicht zu haben', 'typisch frau am steuer', 'will es doch', 'titten', 'gebärmaschine', 'muschi', 'trulla', 'will nur reich heiraten', 'möpse', 'aufreißer', 'zuviel schminke', 'fickschlampe', 'spatzenhirn', 'sie will es doch', 'selber schuld', 'trockene tante', 'sich nehmen', 'miststück', 'küche', 'dumme kuh', 'mutti', 'nageln', 'frauenquote', 'überempfindlich', 'macht drama', 'halt die klappe', 'aufmerksamkeitssüchtig', 'jammert nur', 'puppe', 'unqualifiziert', 'sekretärin', 'nicht ernst zu nehmen', 'nicht multitaskingfähig', 'bitch', 'dumme schlampe', 'unterwerfen', 'feministin', 'ziege', 'hysterical', 'nur gefühle', 'aufmerksamkeitshure', 'vergewaltigen', 'strohkopf', 'fotze', 'knallen', 'kann kein handy bedienen', 'emanze', 'hausfrau', 'bratpfanne', 'hat es nur wegen aussehen geschafft', 'hysterisch', 'schlampe', 'busentussi', 'du gehörst an den herd', 'mannweib', 'alpha', 'verpiss dich', 'dummes blondchen', 'kriegt nichts auf die reihe', 'männer überlegen', 'zicke', 'hässliche zicke', 'blasen']\n",
            "COUNT =  1094\n",
            "LABEL 0 Count =  298\n",
            "LABEL 1 Count =  165\n",
            "LABEL 2 Count =  325\n",
            "LABEL 3 Count =  222\n",
            "LABEL 4 Count =  84 \n",
            "\n",
            "häufigste Label 0 Worte: Counter({'blöd': 40, 'weib': 38, 'opfer': 30, 'objekt': 19, 'schwach': 16, 'geil': 16, 'billig': 14, 'lächerlich': 13, 'mimimi': 11, 'naiv': 8, 'fett': 7, 'emotional': 7, 'fleisch': 6, 'mädel': 6, 'hässlich': 6, 'macho': 5, 'puppe': 5, 'selber schuld': 4, 'feministin': 4, 'sekretärin': 3, 'vergewaltigen': 3, 'alpha': 3, 'hysterisch': 3, 'frauenquote': 3, 'unqualifiziert': 3, 'hausfrau': 2, 'ziege': 2, 'blasen': 2, 'küche': 2, 'tussi': 2, 'sexobjekt': 2, 'unterwürfig': 1, 'überempfindlich': 1, 'opferrolle': 1, 'bitch': 1, 'spatzenhirn': 1, 'unterwerfen': 1, 'hexe': 1, 'luder': 1, 'vergewaltiger': 1, 'frauchen': 1, 'irrational': 1, 'gehorchen': 1, 'parasit': 1})\n",
            "häufigste Label 1 Worte: Counter({'weib': 39, 'feministin': 15, 'blöd': 11, 'geil': 8, 'schwach': 8, 'opfer': 7, 'billig': 7, 'lächerlich': 6, 'frauenquote': 5, 'fett': 4, 'mädel': 4, 'objekt': 4, 'alpha': 3, 'puppe': 3, 'naiv': 3, 'hure': 3, 'hausfrau': 3, 'emotional': 3, 'hässlich': 3, 'macho': 2, 'vergewaltigen': 2, 'selber schuld': 2, 'sekretärin': 2, 'mutti': 2, 'hysterisch': 2, 'mimimi': 2, 'sexobjekt': 2, 'hexe': 1, 'nutte': 1, 'muschi': 1, 'unterwürfig': 1, 'küche': 1, 'tussi': 1, 'barbie': 1, 'luder': 1, 'quotenfrau': 1, 'frauchen': 1})\n",
            "häufigste Label 2 Worte: Counter({'weib': 67, 'opfer': 36, 'schwach': 16, 'geil': 15, 'feministin': 13, 'blöd': 13, 'tussi': 9, 'objekt': 8, 'opferrolle': 7, 'mädel': 7, 'naiv': 6, 'lächerlich': 6, 'blasen': 6, 'puppe': 6, 'quotenfrau': 5, 'frauenquote': 5, 'fett': 5, 'macho': 5, 'nutte': 4, 'emanze': 4, 'sekretärin': 4, 'billig': 4, 'hausfrau': 4, 'fleisch': 4, 'bitch': 3, 'vergewaltigen': 3, 'hysterisch': 3, 'hässlich': 3, 'küche': 3, 'schlampe': 3, 'emotional': 3, 'zicke': 3, 'hexe': 2, 'hure': 2, 'schmutzig': 2, 'barbie': 2, 'selber schuld': 2, 'ziege': 2, 'titten': 2, 'trulla': 2, 'nicht ernst zu nehmen': 2, 'unqualifiziert': 2, 'möpse': 2, 'alpha': 2, 'unterwerfen': 2, 'sexobjekt': 2, 'vergewaltiger': 1, 'mimimi': 1, 'muschi': 1, 'nageln': 1, 'sich nehmen': 1, 'parasit': 1, 'typisch frau': 1, 'dramaqueen': 1, 'ficken': 1, 'luder': 1, 'überempfindlich': 1, 'frauchen': 1, 'mutti': 1, 'zickig': 1})\n",
            "häufigste Label 3 Worte: Counter({'weib': 47, 'opfer': 23, 'geil': 16, 'feministin': 13, 'tussi': 10, 'emanze': 7, 'mädel': 6, 'puppe': 6, 'blöd': 6, 'lächerlich': 5, 'blasen': 5, 'frauenquote': 5, 'opferrolle': 5, 'hässlich': 5, 'fotze': 4, 'schwach': 4, 'titten': 4, 'quotenfrau': 4, 'hysterisch': 3, 'fleisch': 3, 'muschi': 3, 'fett': 3, 'hexe': 2, 'billig': 2, 'barbie': 2, 'möpse': 2, 'objekt': 2, 'zicke': 2, 'mannweib': 2, 'emotional': 2, 'bitch': 1, 'sekretärin': 1, 'gehorchen': 1, 'rabenmutter': 1, 'naiv': 1, 'ficken': 1, 'nutte': 1, 'typisch frau': 1, 'schlampe': 1, 'küche': 1, 'frauchen': 1, 'hure': 1, 'trulla': 1, 'spatzenhirn': 1, 'irrational': 1, 'pms': 1, 'unterwürfig': 1, 'blondchen': 1, 'hausfrau': 1})\n",
            "häufigste Label 4 Worte: Counter({'weib': 16, 'opfer': 5, 'küche': 4, 'fett': 4, 'emanze': 4, 'hässlich': 4, 'mädel': 4, 'muschi': 3, 'titten': 3, 'nutte': 3, 'ficken': 2, 'geil': 2, 'schlampe': 2, 'frauenquote': 2, 'feministin': 2, 'vergewaltiger': 2, 'tussi': 2, 'hure': 1, 'möpse': 1, 'bitch': 1, 'fleisch': 1, 'knallen': 1, 'blöd': 1, 'blasen': 1, 'puppe': 1, 'naiv': 1, 'emotional': 1, 'billig': 1, 'hysterisch': 1, 'keine disziplin': 1, 'lächerlich': 1, 'schwach': 1, 'sich nehmen': 1, 'zicke': 1, 'zickig': 1, 'vergewaltigen': 1, 'alpha': 1}) \n",
            "\n",
            "nur in der Label 0 Liste:  set() Länge:  0\n",
            "nur in der Label 0 und 1 Liste:  set() Länge:  0\n",
            "Länge der delete-Liste:  20\n",
            "Länge der gefilterten Wortliste:  181\n",
            "Label 0: 27.24%\n",
            "Label 1–5: 72.76%\n"
          ]
        }
      ],
      "source": [
        "def contains_sexist_word(dataset, sexist_words):\n",
        "  # Begriffe, die hauptsächlich in als nicht sexistisch gelabelten Kommentaren auftreten entfernen\n",
        "  delete = ['dumm', 'heiß','nörgelnd', 'ausgedient', 'begriffsstutzig', 'frigid', 'gehört an den herd', 'nur eine frau', 'biest', 'jagen', 'püppchen', 'tippse', 'wertlos', 'heulsuse', 'nutzlos', 'spielzeug', 'vitamin b', 'zähmen', 'plage', 'beleidigte leberwurst']\n",
        "  sexist_words_filtered = [word for word in sexist_words if word not in delete]\n",
        "  print(sexist_words_filtered)\n",
        "\n",
        "  count = 0\n",
        "  label_0_words = []\n",
        "  label_1_words = []\n",
        "  label_2_words = []\n",
        "  label_3_words = []\n",
        "  label_4_words = []\n",
        "\n",
        "  label_0 = 0\n",
        "  label_1 = 0\n",
        "  label_2 = 0\n",
        "  label_3 = 0\n",
        "  label_4 = 0\n",
        "\n",
        "  for sample in dataset:\n",
        "    text = sample[\"text\"]\n",
        "    label = sample[\"labels\"]\n",
        "    text = text.lower()\n",
        "    for word in sexist_words_filtered:\n",
        "      if word in text:\n",
        "        count += 1\n",
        "        if label == 0:\n",
        "          label_0 += 1\n",
        "          label_0_words.append(word)\n",
        "        if label == 1:\n",
        "          label_1 += 1\n",
        "          label_1_words.append(word)\n",
        "        if label == 2:\n",
        "          label_2 += 1\n",
        "          label_2_words.append(word)\n",
        "        if label == 3:\n",
        "          label_3 += 1\n",
        "          label_3_words.append(word)\n",
        "        if label == 4:\n",
        "          label_4 += 1\n",
        "          label_4_words.append(word)\n",
        "\n",
        "  print(\"COUNT = \", count)\n",
        "  print(\"LABEL 0 Count = \", label_0)\n",
        "  print(\"LABEL 1 Count = \", label_1)\n",
        "  print(\"LABEL 2 Count = \", label_2)\n",
        "  print(\"LABEL 3 Count = \", label_3)\n",
        "  print(\"LABEL 4 Count = \", label_4, \"\\n\")\n",
        "  false0 = Counter(label_0_words)\n",
        "  print(\"häufigste Label 0 Worte:\", false0)\n",
        "  false1 = Counter(label_1_words)\n",
        "  print(\"häufigste Label 1 Worte:\", false1)\n",
        "  false2 = Counter(label_2_words)\n",
        "  print(\"häufigste Label 2 Worte:\", false2)\n",
        "  false3 = Counter(label_3_words)\n",
        "  print(\"häufigste Label 3 Worte:\", false3)\n",
        "  false4 = Counter(label_4_words)\n",
        "  print(\"häufigste Label 4 Worte:\", false4, \"\\n\")\n",
        "\n",
        "  # alle Listen in Mengen umwandeln\n",
        "  set1 = set(false0)\n",
        "  set2 = set(false0 + false1)\n",
        "  set_rest = set(false1 + false2 + false3 + false4)\n",
        "  set_high = set(false2 + false3 + false4)\n",
        "\n",
        "  # Wörter, die nur in liste1 vorkommen identifizieren\n",
        "  only_in_list1 = set1 - set_rest\n",
        "\n",
        "  # Wörter, die nur in liste1 und liste2 vorkommen identifizieren\n",
        "  only_in_list1_2 = set2 - set_high\n",
        "\n",
        "  print(\"nur in der Label 0 Liste: \", only_in_list1, \"Länge: \" , len(only_in_list1))\n",
        "  print(\"nur in der Label 0 und 1 Liste: \", only_in_list1_2, \"Länge: \" , len(only_in_list1_2))\n",
        "  print(\"Länge der delete-Liste: \", len(delete))\n",
        "  print(\"Länge der gefilterten Wortliste: \", len(sexist_words_filtered))\n",
        "\n",
        "\n",
        "  counter = Counter({\n",
        "    'label0': label_0,\n",
        "    'label1': label_1,\n",
        "    'label2': label_2,\n",
        "    'label3': label_3,\n",
        "    'label4': label_4})\n",
        "\n",
        "  # Einzelwerte\n",
        "  klasse1_count = counter['label0']\n",
        "  rest_count = sum(counter[k] for k in ['label1', 'label2', 'label3', 'label4'])\n",
        "  gesamt = klasse1_count + rest_count\n",
        "\n",
        "\n",
        "  # Prozentwerte berechnen\n",
        "  prozent_klasse1 = (klasse1_count / gesamt) * 100 if gesamt > 0 else 0\n",
        "  prozent_rest = (rest_count / gesamt) * 100 if gesamt > 0 else 0\n",
        "\n",
        "  # Ausgabe\n",
        "  print(f\"Label 0: {prozent_klasse1:.2f}%\")\n",
        "  print(f\"Label 1–5: {prozent_rest:.2f}%\")\n",
        "\n",
        "  with open(\"sexist_words_filtered.txt\", \"w\", encoding=\"utf-8\") as f:\n",
        "    for word in sexist_words_filtered:\n",
        "        f.write(word.strip() + \"\\n\")\n",
        "\n",
        "contains_sexist_word(dataset_multi_roundup[\"train\"], wordlist_complete)"
      ]
    },
    {
      "cell_type": "code",
      "execution_count": null,
      "metadata": {
        "id": "CRnYiYmerE2X"
      },
      "outputs": [],
      "source": [
        "# verbesserte Wortliste in Datei abspeichern\n",
        "with open(\"sexist_words_filtered.txt\", \"r\", encoding=\"utf-8\") as file:\n",
        "    sexist_words_filtered = file.read()\n",
        "    sexist_words_filtered = list(sexist_words_filtered.split(\"\\n\"))\n",
        "    sexist_words_filtered = [word for word in sexist_words_filtered if word.strip() != '']"
      ]
    },
    {
      "cell_type": "markdown",
      "metadata": {
        "id": "6yiWtLGKRcii"
      },
      "source": [
        "## Neue Datasets mit \"has_sexist_word\" Feature erstellen"
      ]
    },
    {
      "cell_type": "code",
      "execution_count": null,
      "metadata": {
        "id": "tln-CUjWxqJu"
      },
      "outputs": [],
      "source": [
        "dataset_binary_newfeature = dataset_binary\n",
        "dataset_multi_newfeature = dataset_multi\n",
        "dataset_multi_roundup_newfeature = dataset_multi_roundup"
      ]
    },
    {
      "cell_type": "code",
      "execution_count": null,
      "metadata": {
        "colab": {
          "base_uri": "https://localhost:8080/",
          "referenced_widgets": [
            "557a6ba20d944f3291fad4826f95dcb4",
            "5bbceb9dba94413da021e554eff747ea",
            "8c60629bc2954861881bdbe4ae5670d9",
            "6ce98bec78e34707ad5ae7afc247249a",
            "e6c4a8895b7d4ff0bed3c05b3c61c642",
            "43f3a8abebba422e826593daa627cc05",
            "6d5cebd626164cb6a37d1c9d5115e871",
            "80ce32cf4c6a49ca8e2846ebeaa2a24a",
            "1279d4c8029844ba9ff5e029d7a2d1a2",
            "0c267c8e90014949b567c160f2d311d9",
            "1059d04c6c224c4cae50dc54622dc8ab",
            "a39de1f0f5744e12922cb474960fdad6",
            "9265e23efded4ae7afac5ff895a8d5e5",
            "58e199d503a8477796a56b3a0593c97a",
            "684d075c9c424f89a7856a649db59069",
            "591b4c89fcbe44c993ab077a41332755",
            "ba7d4ce1fa644820a02f4dafe81da021",
            "d4d3b90ce8ff4c47a09066704e8edeb4",
            "043a1603c80c4a4c8feb2112c039780d",
            "f1b7adb2239441cca6075a45aa4d5658",
            "a9d3d18222fd430da936f4979c5b7e0c",
            "b5c6a9cd2b624fea94e9210e5e1ce132",
            "abd7574de28b49d186e3ef0ce1ff96e4",
            "8e4669419e834436a49fde1668c69cd2",
            "3ea079b59ab14a7188ff950de9ed82d2",
            "abc405b6f2ea4d35a5afe74a263c93fc",
            "f49bc5d5330944c79a38ef06ae5808a9",
            "5805991bd0fe4eb9a9c46df68d736dcb",
            "069c3808b815486b9b62bd245c3783f4",
            "bc09a81cc5dd4b208c79111e7a238c99",
            "87e9ecbf2afe41e1abba73d6e13e82d2",
            "60161afc1cb34f878ee738f0f3677949",
            "3d82c79fcd034ca6945f2e04a6d392b9",
            "c77ab1101a9a44e6b5ffeb492887749d",
            "9b3534c5409e47a68fffb6f9426f1449",
            "bc78188d8764493b855cf2025b0389a6",
            "368335861a5b4d4da1f6377f5f5aa0c0",
            "bff54593c0604d18bbc0420967184a32",
            "b0853f50cf3e490194113097a0fd1c59",
            "907352b7b32b40e0943ddfb4d21bbd79",
            "8a06d6515bb24d27ae5a5581ddf139c1",
            "8c7dabf7c8ed4f0594ca6eb9b7162ed8",
            "e42eeb4383e24f90a5ec86f84e82820e",
            "94a8d03fbf9744bc9a3544dfe8a4e4ee",
            "4e84709396a1437699e9421d55771135",
            "eb6ae1af0ef647eebaf004737fe96cea",
            "ef46a4a2bd184578b22cbc0108a91638",
            "608df8a82610439cb58ca57fc8a729c7",
            "21ae4212d41f4e1a8a39704d7b499ce9",
            "800cbb99b80d4fb1b4cdda22c9097636",
            "e76bf9c56c1d4c1183ab3d920ceee1fa",
            "09f6a596c6984675a30902d012837aaf",
            "a8729de3b3734f059d65ebebb17e1678",
            "4c1b94683002423995c24eb671595e8f",
            "b08c257b0ac64d91bcd2a98084575fd6",
            "c4eddce4cf99453290c90ef48045afc8",
            "e0f2fadf03984c1d91ce336fa83f9b95",
            "d5dc1c333d074120b960a047f1301e1d",
            "f724f48cfd7b4fe3a1c2919249401533",
            "469462ddd85b451b900fb7f5b07a5628",
            "cb1750e0d1174741bfd1883608ac6231",
            "155ba016af5d4d22ab05174b95331360",
            "92e5ec22535a413bb8095f12ec7f013f",
            "6a9bbcecb3294e749ea94682d1c3d90e",
            "685e3fb645b44dd6978252e5275e00d6",
            "d94f0a7085ef483e97a686a2f65e8363"
          ]
        },
        "id": "cJGxa-2I3ljP",
        "outputId": "0911b84c-2b5d-45e5-b90b-f8f73a8acbc1"
      },
      "outputs": [
        {
          "name": "stdout",
          "output_type": "stream",
          "text": [
            "5998\n",
            "1986\n"
          ]
        },
        {
          "data": {
            "application/vnd.jupyter.widget-view+json": {
              "model_id": "557a6ba20d944f3291fad4826f95dcb4",
              "version_major": 2,
              "version_minor": 0
            },
            "text/plain": [
              "Map:   0%|          | 0/5998 [00:00<?, ? examples/s]"
            ]
          },
          "metadata": {},
          "output_type": "display_data"
        },
        {
          "data": {
            "application/vnd.jupyter.widget-view+json": {
              "model_id": "a39de1f0f5744e12922cb474960fdad6",
              "version_major": 2,
              "version_minor": 0
            },
            "text/plain": [
              "Map:   0%|          | 0/1986 [00:00<?, ? examples/s]"
            ]
          },
          "metadata": {},
          "output_type": "display_data"
        },
        {
          "data": {
            "application/vnd.jupyter.widget-view+json": {
              "model_id": "abd7574de28b49d186e3ef0ce1ff96e4",
              "version_major": 2,
              "version_minor": 0
            },
            "text/plain": [
              "Map:   0%|          | 0/5998 [00:00<?, ? examples/s]"
            ]
          },
          "metadata": {},
          "output_type": "display_data"
        },
        {
          "data": {
            "application/vnd.jupyter.widget-view+json": {
              "model_id": "c77ab1101a9a44e6b5ffeb492887749d",
              "version_major": 2,
              "version_minor": 0
            },
            "text/plain": [
              "Map:   0%|          | 0/1986 [00:00<?, ? examples/s]"
            ]
          },
          "metadata": {},
          "output_type": "display_data"
        },
        {
          "data": {
            "application/vnd.jupyter.widget-view+json": {
              "model_id": "4e84709396a1437699e9421d55771135",
              "version_major": 2,
              "version_minor": 0
            },
            "text/plain": [
              "Map:   0%|          | 0/5998 [00:00<?, ? examples/s]"
            ]
          },
          "metadata": {},
          "output_type": "display_data"
        },
        {
          "data": {
            "application/vnd.jupyter.widget-view+json": {
              "model_id": "c4eddce4cf99453290c90ef48045afc8",
              "version_major": 2,
              "version_minor": 0
            },
            "text/plain": [
              "Map:   0%|          | 0/1986 [00:00<?, ? examples/s]"
            ]
          },
          "metadata": {},
          "output_type": "display_data"
        }
      ],
      "source": [
        "def sexist_word(text, sexist_words):\n",
        "    return int(any(word in text.lower() for word in sexist_words))\n",
        "\n",
        "print(len(dataset_binary[\"train\"]))\n",
        "print(len(dataset_binary[\"test\"]))\n",
        "\n",
        "dataset_binary_newfeature[\"train\"] = dataset_binary_newfeature[\"train\"].map(lambda x: {\"has_sexist_word\": sexist_word(x[\"text\"], sexist_words_filtered)})\n",
        "dataset_binary_newfeature[\"test\"] = dataset_binary_newfeature[\"test\"].map(lambda x: {\"has_sexist_word\": sexist_word(x[\"text\"], sexist_words_filtered)})\n",
        "\n",
        "dataset_multi_newfeature[\"train\"] = dataset_multi_newfeature[\"train\"].map(lambda x: {\"has_sexist_word\": sexist_word(x[\"text\"], sexist_words_filtered)})\n",
        "dataset_multi_newfeature[\"test\"] = dataset_multi_newfeature[\"test\"].map(lambda x: {\"has_sexist_word\": sexist_word(x[\"text\"], sexist_words_filtered)})\n",
        "\n",
        "dataset_multi_roundup_newfeature[\"train\"] = dataset_multi_roundup_newfeature[\"train\"].map(lambda x: {\"has_sexist_word\": sexist_word(x[\"text\"], sexist_words_filtered)})\n",
        "dataset_multi_roundup_newfeature[\"test\"] = dataset_multi_roundup_newfeature[\"test\"].map(lambda x: {\"has_sexist_word\": sexist_word(x[\"text\"], sexist_words_filtered)})\n"
      ]
    },
    {
      "cell_type": "code",
      "execution_count": null,
      "metadata": {
        "id": "w0pPNF3LyZ8x"
      },
      "outputs": [],
      "source": [
        "dataset_binary = dataset_binary.remove_columns(\"has_sexist_word\")\n",
        "dataset_multi = dataset_multi.remove_columns(\"has_sexist_word\")\n",
        "dataset_multi_roundup = dataset_multi_roundup.remove_columns(\"has_sexist_word\")"
      ]
    },
    {
      "cell_type": "code",
      "execution_count": null,
      "metadata": {
        "colab": {
          "base_uri": "https://localhost:8080/"
        },
        "id": "GHUMEz9AMYiY",
        "outputId": "dc622278-d6a1-4d2a-a11c-734fcda9b24f"
      },
      "outputs": [
        {
          "name": "stdout",
          "output_type": "stream",
          "text": [
            "5998\n",
            "1986\n",
            "['text', 'input_ids', 'attention_mask', 'hidden_state', 'labels']\n",
            "['text', 'input_ids', 'attention_mask', 'hidden_state', 'labels', 'has_sexist_word']\n",
            "['text', 'input_ids', 'attention_mask', 'hidden_state', 'labels', 'has_sexist_word']\n"
          ]
        }
      ],
      "source": [
        "print(len(dataset_binary_newfeature[\"train\"]))\n",
        "print(len(dataset_binary_newfeature[\"test\"]))\n",
        "\n",
        "print(dataset_binary[\"test\"].column_names)\n",
        "\n",
        "print(dataset_binary_newfeature[\"test\"].column_names)\n",
        "\n",
        "print(dataset_multi_newfeature[\"test\"].column_names)\n"
      ]
    },
    {
      "cell_type": "markdown",
      "metadata": {
        "id": "4qKA1OtISLr3"
      },
      "source": [
        "### Label Counter für die verschiedenen Datasets"
      ]
    },
    {
      "cell_type": "code",
      "execution_count": null,
      "metadata": {
        "colab": {
          "base_uri": "https://localhost:8080/"
        },
        "id": "kyrn3cXAqBir",
        "outputId": "1e7925ad-8eb3-4cf2-b529-fe44f5d4465c"
      },
      "outputs": [
        {
          "name": "stdout",
          "output_type": "stream",
          "text": [
            "Train Labels Binary: Counter({1: 3196, 0: 2802})\n",
            "Test Labels Binary: Counter({1: 1017, 0: 969}) \n",
            "\n",
            "Train Values Binary mit Wordliste: Counter({0: 5063, 1: 935})\n",
            "Test Values Binary mit Wordliste: Counter({0: 1673, 1: 313}) \n",
            "\n",
            "Train Labels Multi: Counter({0: 3554, 1: 1063, 2: 939, 3: 415, 4: 27})\n",
            "Test Labels Multi: Counter({0: 1218, 1: 337, 2: 282, 3: 143, 4: 6}) \n",
            "\n",
            "Train Labels Multi Roundup: Counter({0: 2802, 1: 1214, 2: 1202, 3: 579, 4: 201})\n",
            "Test Labels Multi Roundup: Counter({0: 969, 1: 395, 2: 368, 3: 181, 4: 73}) \n",
            "\n",
            "Train Labels a1: Counter({0: 609, 2: 159, 3: 130, 1: 49, 4: 23})\n",
            "Test Labels a1: Counter({0: 167, 2: 66, 1: 45, 3: 42, 4: 8}) \n",
            "\n",
            "Train Labels a12: Counter({0: 3674, 2: 1187, 3: 607, 1: 472, 4: 58})\n",
            "Test Labels a12: Counter({0: 1015, 2: 311, 3: 193, 1: 127, 4: 15}) \n",
            "\n"
          ]
        }
      ],
      "source": [
        "train_labels = [example[\"labels\"] for example in dataset_binary[\"train\"]]\n",
        "test_labels = [example[\"labels\"] for example in dataset_binary[\"test\"]]\n",
        "\n",
        "print(\"Train Labels Binary:\", Counter(train_labels))\n",
        "print(\"Test Labels Binary:\", Counter(test_labels), \"\\n\")\n",
        "\n",
        "train_labels = [example[\"has_sexist_word\"] for example in dataset_binary_newfeature[\"train\"]]\n",
        "test_labels = [example[\"has_sexist_word\"] for example in dataset_binary_newfeature[\"test\"]]\n",
        "\n",
        "print(\"Train Values Binary mit Wordliste:\", Counter(train_labels))\n",
        "print(\"Test Values Binary mit Wordliste:\", Counter(test_labels), \"\\n\")\n",
        "\n",
        "train_labels = [example[\"labels\"] for example in dataset_multi[\"train\"]]\n",
        "test_labels = [example[\"labels\"] for example in dataset_multi[\"test\"]]\n",
        "\n",
        "print(\"Train Labels Multi:\", Counter(train_labels))\n",
        "print(\"Test Labels Multi:\", Counter(test_labels), \"\\n\")\n",
        "\n",
        "train_labels = [example[\"labels\"] for example in dataset_multi_roundup[\"train\"]]\n",
        "test_labels = [example[\"labels\"] for example in dataset_multi_roundup[\"test\"]]\n",
        "\n",
        "print(\"Train Labels Multi Roundup:\", Counter(train_labels))\n",
        "print(\"Test Labels Multi Roundup:\", Counter(test_labels), \"\\n\")\n",
        "\n",
        "train_labels = [example[\"labels\"] for example in datasets_per_annotator[\"a1\"][\"train\"]]\n",
        "test_labels = [example[\"labels\"] for example in datasets_per_annotator[\"a1\"][\"test\"]]\n",
        "\n",
        "print(\"Train Labels a1:\", Counter(train_labels))\n",
        "print(\"Test Labels a1:\", Counter(test_labels), \"\\n\")\n",
        "\n",
        "train_labels = [example[\"labels\"] for example in datasets_per_annotator[\"a12\"][\"train\"]]\n",
        "test_labels = [example[\"labels\"] for example in datasets_per_annotator[\"a12\"][\"test\"]]\n",
        "\n",
        "print(\"Train Labels a12:\", Counter(train_labels))\n",
        "print(\"Test Labels a12:\", Counter(test_labels), \"\\n\")"
      ]
    },
    {
      "cell_type": "markdown",
      "metadata": {
        "id": "iLA1_O0XV_E0"
      },
      "source": [
        "# Logistische Regression mit TF-IDF"
      ]
    },
    {
      "cell_type": "markdown",
      "metadata": {
        "id": "EPhlGWnlNs2D"
      },
      "source": [
        "Die drei verschiedenen Datensätze können jeweils durch Aus- und Einkommentieren der Zeilen für die logistische Regression verwendet werden."
      ]
    },
    {
      "cell_type": "code",
      "execution_count": null,
      "metadata": {
        "id": "A7RAr9r_WeXR"
      },
      "outputs": [],
      "source": [
        "texts_train = dataset_binary[\"train\"][\"text\"]\n",
        "labels_train = dataset_binary[\"train\"][\"labels\"]\n",
        "texts_test = dataset_binary[\"test\"][\"text\"]\n",
        "labels_test = dataset_binary[\"test\"][\"labels\"]\n",
        "\n",
        "#texts_train = dataset_multi[\"train\"][\"text\"]\n",
        "#labels_train = dataset_multi[\"train\"][\"labels\"]\n",
        "#texts_test = dataset_multi[\"test\"][\"text\"]\n",
        "#labels_test = dataset_multi[\"test\"][\"labels\"]\n",
        "\n",
        "#texts_train = dataset_multi_roundup[\"train\"][\"text\"]\n",
        "#labels_train = dataset_multi_roundup[\"train\"][\"labels\"]\n",
        "#texts_test = dataset_multi_roundup[\"test\"][\"text\"]\n",
        "#labels_test = dataset_multi_roundup[\"test\"][\"labels\"]\n"
      ]
    },
    {
      "cell_type": "code",
      "execution_count": null,
      "metadata": {
        "id": "-Uu5fw4k02ql"
      },
      "outputs": [],
      "source": [
        "german_stopwords = stopwords.words('german')\n",
        "\n",
        "vectorizer_tfidf = TfidfVectorizer(\n",
        "                      stop_words=german_stopwords,  # automatische Stoppwort-Filterung\n",
        "                      max_df=0.8,            # ignoriert sehr häufige Wörter\n",
        "                      min_df=2,              # ignoriert sehr seltene Wörter\n",
        "                      ngram_range=(1,2)     # auch 2-Wort-Kombis\n",
        "                      )"
      ]
    },
    {
      "cell_type": "markdown",
      "metadata": {
        "id": "O66dvwZb19tk"
      },
      "source": [
        "### Logistische Regression mit TF-IDF\n"
      ]
    },
    {
      "cell_type": "code",
      "execution_count": null,
      "metadata": {
        "colab": {
          "base_uri": "https://localhost:8080/"
        },
        "id": "d9Su52rm143J",
        "outputId": "c4141ce2-5962-4969-c9b8-96ad71418417"
      },
      "outputs": [
        {
          "name": "stdout",
          "output_type": "stream",
          "text": [
            "              precision    recall  f1-score   support\n",
            "\n",
            "           0      0.602     0.569     0.585       969\n",
            "           1      0.609     0.641     0.625      1017\n",
            "\n",
            "    accuracy                          0.606      1986\n",
            "   macro avg      0.605     0.605     0.605      1986\n",
            "weighted avg      0.606     0.606     0.605      1986\n",
            "\n"
          ]
        }
      ],
      "source": [
        "# Matrix erstellen\n",
        "X_train = vectorizer_tfidf.fit_transform(texts_train)\n",
        "X_test = vectorizer_tfidf.transform(texts_test)\n",
        "\n",
        "# Als DataFrame anzeigen\n",
        "tfidf_df = pd.DataFrame(X_train.toarray(), columns=vectorizer_tfidf.get_feature_names_out())\n",
        "\n",
        "model = LogisticRegression(max_iter=1000)\n",
        "model.fit(X_train, labels_train)\n",
        "\n",
        "# Vorhersage & Evaluation\n",
        "labels_pred = model.predict(X_test)\n",
        "print(classification_report(labels_test, labels_pred, digits=3))"
      ]
    },
    {
      "cell_type": "markdown",
      "metadata": {
        "id": "XUV_IVvbHwQY"
      },
      "source": [
        "### Confusion Matrix"
      ]
    },
    {
      "cell_type": "code",
      "execution_count": null,
      "metadata": {
        "colab": {
          "base_uri": "https://localhost:8080/",
          "height": 470
        },
        "id": "3__8dmoVHz_K",
        "outputId": "857277e1-dcf2-4b25-ca72-3c5afcc79c20"
      },
      "outputs": [
        {
          "data": {
            "text/plain": [
              "<sklearn.metrics._plot.confusion_matrix.ConfusionMatrixDisplay at 0x7dc420ad4980>"
            ]
          },
          "execution_count": 57,
          "metadata": {},
          "output_type": "execute_result"
        },
        {
          "data": {
            "image/png": "[encoded data removed]",
            "text/plain": [
              "<Figure size 640x480 with 2 Axes>"
            ]
          },
          "metadata": {},
          "output_type": "display_data"
        }
      ],
      "source": [
        "cm = confusion_matrix(labels_test, labels_pred)\n",
        "disp = ConfusionMatrixDisplay(confusion_matrix=cm)\n",
        "disp.plot()"
      ]
    },
    {
      "cell_type": "markdown",
      "metadata": {
        "id": "KRyb6ENBnd84"
      },
      "source": [
        "# Logistische Regression mit Transformer-Embeddings"
      ]
    },
    {
      "cell_type": "markdown",
      "metadata": {
        "id": "1w8n8lLFewzb"
      },
      "source": [
        "## Featurematrix und Klassifizierer erstellen"
      ]
    },
    {
      "cell_type": "code",
      "execution_count": null,
      "metadata": {
        "colab": {
          "base_uri": "https://localhost:8080/"
        },
        "id": "iMF38PUxVq9x",
        "outputId": "5f9e45c0-377e-4ec9-bac9-1ca686ed1611"
      },
      "outputs": [
        {
          "data": {
            "text/plain": [
              "(array([[ 0.4210119 , -0.23241891, -0.4268023 , ...,  0.24968423,\n",
              "          0.65954214, -0.09563398],\n",
              "        [ 0.49752688, -0.35853136, -0.55120194, ...,  0.2605666 ,\n",
              "          0.8255819 , -0.15890326],\n",
              "        [ 0.5217167 ,  0.01585298, -0.14059179, ..., -0.23564711,\n",
              "          0.31440422, -0.02987738],\n",
              "        ...,\n",
              "        [ 0.41654086,  0.46925133, -0.09548496, ...,  0.34221488,\n",
              "          0.4566423 , -0.6733247 ],\n",
              "        [ 0.5096962 , -0.15765075, -0.64115876, ...,  0.03662411,\n",
              "          0.27910173, -0.48190573],\n",
              "        [ 0.3690399 , -0.33271143, -0.6515858 , ...,  0.2651591 ,\n",
              "          0.70835805, -0.27326298]], dtype=float32),\n",
              " Column([0, 1, 1, 1, 1]),\n",
              " array([[ 0.3702431 , -0.4079046 , -0.59472734, ...,  0.38486224,\n",
              "          0.76293284, -0.2196853 ],\n",
              "        [ 0.3536443 , -0.61576307, -0.6607209 , ...,  0.38276446,\n",
              "          0.8121718 , -0.20906556],\n",
              "        [ 0.31681347, -0.37793958, -0.55637646, ...,  0.3869996 ,\n",
              "          0.8942208 , -0.15709181],\n",
              "        ...,\n",
              "        [ 0.34618562, -0.68528515, -0.47157753, ...,  0.23914792,\n",
              "          0.87350816, -0.28030378],\n",
              "        [ 0.42346257, -0.58490103, -0.66829646, ...,  0.37070605,\n",
              "          0.95087904, -0.3246814 ],\n",
              "        [ 0.366582  , -0.5563268 , -0.7015636 , ...,  0.4160583 ,\n",
              "          0.80966914, -0.21900392]], dtype=float32),\n",
              " Column([1, 0, 1, 1, 1]),\n",
              " 0.6203423967774421,\n",
              " 0.6194532119604166)"
            ]
          },
          "execution_count": 49,
          "metadata": {},
          "output_type": "execute_result"
        }
      ],
      "source": [
        "def featurematrix(dataset):\n",
        "\n",
        "  # auskommentieren je nach Label-Anwendung\n",
        "\n",
        "  # binär\n",
        "  y_train = dataset_binary[\"train\"][\"labels\"]\n",
        "  y_test = dataset_binary[\"test\"][\"labels\"]\n",
        "\n",
        "  # multi Median\n",
        "  #y_train = dataset_multi[\"train\"][\"labels\"]\n",
        "  #y_test = dataset_multi[\"test\"][\"labels\"]\n",
        "\n",
        "  # multi roundup\n",
        "  #y_train = dataset_multi_roundup[\"train\"][\"labels\"]\n",
        "  #y_test = dataset_multi_roundup[\"test\"][\"labels\"]\n",
        "\n",
        "  X_train = np.array(dataset[\"train\"][\"hidden_state\"])\n",
        "  X_test = np.array(dataset[\"test\"][\"hidden_state\"])\n",
        "\n",
        "  lr_clf = LogisticRegression(class_weight='balanced', max_iter=10000)\n",
        "\n",
        "  lr_clf.fit(X_train, y_train)\n",
        "\n",
        "  y_pred = lr_clf.predict(X_test)\n",
        "  score = lr_clf.score(X_test, y_test)\n",
        "  score_f1 = f1_score(y_test, y_pred, average='macro')\n",
        "\n",
        "  return X_train, y_train, X_test, y_test, score, score_f1\n",
        "\n",
        "featurematrix(hidden_states)"
      ]
    },
    {
      "cell_type": "markdown",
      "metadata": {
        "id": "wNN2wLokVmXu"
      },
      "source": [
        "## Konfusionsmatrix erstellen"
      ]
    },
    {
      "cell_type": "markdown",
      "metadata": {
        "id": "7GT1wlrBfCdV"
      },
      "source": [
        "### Konfusionsmatrix für binäre Labels"
      ]
    },
    {
      "cell_type": "code",
      "execution_count": null,
      "metadata": {
        "colab": {
          "base_uri": "https://localhost:8080/",
          "height": 618
        },
        "id": "9lKTZ9w6fmFi",
        "outputId": "bcd119de-049b-43ad-fb6e-48c9ee6d3ae1"
      },
      "outputs": [
        {
          "data": {
            "image/png": "[encoded data removed]",
            "text/plain": [
              "<Figure size 600x600 with 1 Axes>"
            ]
          },
          "metadata": {},
          "output_type": "display_data"
        },
        {
          "name": "stdout",
          "output_type": "stream",
          "text": [
            "\n",
            "SCORE:\n",
            "0.6203423967774421\n"
          ]
        }
      ],
      "source": [
        "def matrix(X_train, y_train, X_test, y_test):\n",
        "\n",
        "  def plot_confusion_matrix(y_preds, y_true, labels):\n",
        "      cm = confusion_matrix(y_true, y_preds, labels=[0, 1], normalize='true')\n",
        "      fig, ax = plt.subplots(figsize=(6,6))\n",
        "      disp = ConfusionMatrixDisplay(confusion_matrix=cm, display_labels=class_labels)\n",
        "      disp.plot(cmap=\"Blues\", values_format=\".2f\", ax=ax, colorbar=False)\n",
        "      plt.title(\"Normalisierte Konfusionsmatrix binär\")\n",
        "      plt.show()\n",
        "\n",
        "  lr_clf = LogisticRegression(class_weight='balanced', max_iter=10000)\n",
        "  lr_clf.fit(X_train, y_train)\n",
        "  y_preds = lr_clf.predict(X_test)\n",
        "  class_labels = [\"0-Kein\", \"1-Misogynie\"]\n",
        "\n",
        "  plot_confusion_matrix(y_preds, y_test, class_labels)\n",
        "\n",
        "result = featurematrix(hidden_states)\n",
        "X_train = result[0]\n",
        "y_train = result[1]\n",
        "X_test = result[2]\n",
        "y_test = result[3]\n",
        "score = result[4]\n",
        "\n",
        "matrix(X_train, y_train, X_test, y_test)\n",
        "\n",
        "print(\"\\n\" + \"SCORE:\")\n",
        "print(score)"
      ]
    },
    {
      "cell_type": "markdown",
      "metadata": {
        "id": "IE6F81Q0e8ef"
      },
      "source": [
        "### Konfusionsmatrix für multi Labels"
      ]
    },
    {
      "cell_type": "code",
      "execution_count": null,
      "metadata": {
        "colab": {
          "base_uri": "https://localhost:8080/",
          "height": 618
        },
        "id": "06Jyan7pfJIg",
        "outputId": "407b282d-3995-42c1-b562-a799e2d16648"
      },
      "outputs": [
        {
          "data": {
            "image/png": "[encoded data removed]",
            "text/plain": [
              "<Figure size 600x600 with 1 Axes>"
            ]
          },
          "metadata": {},
          "output_type": "display_data"
        },
        {
          "name": "stdout",
          "output_type": "stream",
          "text": [
            "\n",
            "SCORE:\n",
            "0.6203423967774421\n"
          ]
        }
      ],
      "source": [
        "def matrix(X_train, y_train, X_test, y_test):\n",
        "\n",
        "  def plot_confusion_matrix(y_preds, y_true, labels):\n",
        "      cm = confusion_matrix(y_true, y_preds, labels=[0, 1, 2, 3, 4],normalize='true')\n",
        "      fig, ax = plt.subplots(figsize=(6, 6))\n",
        "      disp = ConfusionMatrixDisplay(confusion_matrix=cm, display_labels=class_labels)\n",
        "      disp.plot(cmap=\"Blues\", values_format=\".2f\", ax=ax, colorbar=False)\n",
        "      plt.title(\"Normalisierte Konfusionsmatrix multi Median\")\n",
        "      plt.show()\n",
        "\n",
        "  lr_clf = LogisticRegression(class_weight='balanced', max_iter=10000)\n",
        "  lr_clf.fit(X_train, y_train)\n",
        "  y_preds = lr_clf.predict(X_test)\n",
        "  class_labels = [\"0-Kein\", \"1-Gering\", \"2-Vorhanden\", \"3-Stark\", \"4-Extrem\"]\n",
        "\n",
        "  plot_confusion_matrix(y_preds, y_test, class_labels)\n",
        "\n",
        "result = featurematrix(hidden_states)\n",
        "X_train = result[0]\n",
        "y_train = result[1]\n",
        "X_test = result[2]\n",
        "y_test = result[3]\n",
        "score = result[4]\n",
        "\n",
        "matrix(X_train, y_train, X_test, y_test)\n",
        "\n",
        "print(\"\\n\" + \"SCORE:\")\n",
        "print(score)\n"
      ]
    },
    {
      "cell_type": "markdown",
      "metadata": {
        "id": "-MmgHfaZGSbD"
      },
      "source": [
        "# Fine-Tuning von BERT-Modellen"
      ]
    },
    {
      "cell_type": "code",
      "execution_count": null,
      "metadata": {
        "id": "nKz_CGXnq5OC"
      },
      "outputs": [],
      "source": [
        "os.environ[\"WANDB_DISABLED\"] = \"true\""
      ]
    },
    {
      "cell_type": "markdown",
      "metadata": {
        "id": "XHtWtm2_avj7"
      },
      "source": [
        "### Validation Sets für die verschiedenen Datasets erstellen"
      ]
    },
    {
      "cell_type": "code",
      "execution_count": null,
      "metadata": {
        "id": "L9-qk4soZzvi"
      },
      "outputs": [],
      "source": [
        "def create_train_val_test(dataset, val_size=0.1, seed=42):\n",
        "\n",
        "    # Train/Validation Split erzeugen\n",
        "    split = dataset[\"train\"].train_test_split(test_size=val_size, seed=seed)\n",
        "\n",
        "    # Neues DatasetDict bauen\n",
        "    dataset_final = DatasetDict({\n",
        "        \"train\": split[\"train\"],\n",
        "        \"validation\": split[\"test\"],\n",
        "        \"test\": dataset[\"test\"]\n",
        "    })\n",
        "\n",
        "    return dataset_final"
      ]
    },
    {
      "cell_type": "code",
      "execution_count": null,
      "metadata": {
        "id": "e3ixMKdcaXQE"
      },
      "outputs": [],
      "source": [
        "# Validation Set für die Datasets ohne Zusatzfeature erstellen\n",
        "dataset_binary_split = create_train_val_test(dataset_binary)\n",
        "dataset_multi_split = create_train_val_test(dataset_multi)\n",
        "dataset_multi_roundup_split = create_train_val_test(dataset_multi_roundup)\n",
        "\n",
        "# Validation Set für die Datasets mit Zusatzfeature erstellen\n",
        "dataset_binary_newfeature_split = create_train_val_test(dataset_binary_newfeature)\n",
        "dataset_multi_newfeature_split = create_train_val_test(dataset_multi_newfeature)\n",
        "dataset_multi_roundup_newfeature_split = create_train_val_test(dataset_multi_roundup_newfeature)"
      ]
    },
    {
      "cell_type": "code",
      "execution_count": null,
      "metadata": {
        "id": "gKUUqZzwFoRw"
      },
      "outputs": [],
      "source": [
        "# Neues Dictionary für Annotatoren-Datasets mit Validation-Set\n",
        "datasets_per_annotator_split = {}\n",
        "\n",
        "for annotator, ds in datasets_per_annotator.items():\n",
        "    datasets_per_annotator_split[annotator] = create_train_val_test(ds, val_size=0.1, seed=42)"
      ]
    },
    {
      "cell_type": "markdown",
      "metadata": {
        "id": "Jo3bHWwTa1ls"
      },
      "source": [
        "## Training"
      ]
    },
    {
      "cell_type": "code",
      "execution_count": null,
      "metadata": {
        "id": "DD5c6wy3GxnU"
      },
      "outputs": [],
      "source": [
        "def compute_metrics(pred):\n",
        "    labels = pred.label_ids\n",
        "    preds = pred.predictions.argmax(-1)\n",
        "    f1 = f1_score(labels, preds, average=\"macro\")\n",
        "    acc = accuracy_score(labels, preds)\n",
        "    prec = precision_score(labels, preds, average=\"macro\", zero_division=0)\n",
        "    rec = recall_score(labels, preds, average=\"macro\", zero_division=0)\n",
        "    return {\"accuracy\": acc, \"f1-macro\": f1, \"precision\": prec, \"recall\": rec}"
      ]
    },
    {
      "cell_type": "markdown",
      "metadata": {
        "id": "IDRZPBJtJHNM"
      },
      "source": [
        "### BERT Modell für binäre Labels trainieren\n"
      ]
    },
    {
      "cell_type": "code",
      "execution_count": null,
      "metadata": {
        "colab": {
          "base_uri": "https://localhost:8080/",
          "height": 442
        },
        "collapsed": true,
        "id": "TlNwFMUlUmFi",
        "outputId": "5764251c-cb54-48e8-e79f-cf61f1dba716"
      },
      "outputs": [
        {
          "name": "stderr",
          "output_type": "stream",
          "text": [
            "/tmp/ipython-input-4108684743.py:27: FutureWarning: `tokenizer` is deprecated and will be removed in version 5.0.0 for `Trainer.__init__`. Use `processing_class` instead.\n",
            "  trainer = Trainer(model=model, args=training_args,\n"
          ]
        },
        {
          "data": {
            "text/html": [
              "\n",
              "    <div>\n",
              "      \n",
              "      <progress value='1014' max='1014' style='width:300px; height:20px; vertical-align: middle;'></progress>\n",
              "      [1014/1014 05:09, Epoch 3/3]\n",
              "    </div>\n",
              "    <table border=\"1\" class=\"dataframe\">\n",
              "  <thead>\n",
              " <tr style=\"text-align: left;\">\n",
              "      <th>Epoch</th>\n",
              "      <th>Training Loss</th>\n",
              "      <th>Validation Loss</th>\n",
              "      <th>Accuracy</th>\n",
              "      <th>F1-macro</th>\n",
              "      <th>Precision</th>\n",
              "      <th>Recall</th>\n",
              "    </tr>\n",
              "  </thead>\n",
              "  <tbody>\n",
              "    <tr>\n",
              "      <td>1</td>\n",
              "      <td>0.558300</td>\n",
              "      <td>0.529654</td>\n",
              "      <td>0.750000</td>\n",
              "      <td>0.743981</td>\n",
              "      <td>0.775952</td>\n",
              "      <td>0.750000</td>\n",
              "    </tr>\n",
              "    <tr>\n",
              "      <td>2</td>\n",
              "      <td>0.379200</td>\n",
              "      <td>0.542020</td>\n",
              "      <td>0.751667</td>\n",
              "      <td>0.750613</td>\n",
              "      <td>0.755993</td>\n",
              "      <td>0.751667</td>\n",
              "    </tr>\n",
              "    <tr>\n",
              "      <td>3</td>\n",
              "      <td>0.269400</td>\n",
              "      <td>0.618017</td>\n",
              "      <td>0.743333</td>\n",
              "      <td>0.743102</td>\n",
              "      <td>0.744212</td>\n",
              "      <td>0.743333</td>\n",
              "    </tr>\n",
              "  </tbody>\n",
              "</table><p>"
            ],
            "text/plain": [
              "<IPython.core.display.HTML object>"
            ]
          },
          "metadata": {},
          "output_type": "display_data"
        },
        {
          "data": {
            "text/html": [
              "\n",
              "    <div>\n",
              "      \n",
              "      <progress value='125' max='125' style='width:300px; height:20px; vertical-align: middle;'></progress>\n",
              "      [125/125 00:09]\n",
              "    </div>\n",
              "    "
            ],
            "text/plain": [
              "<IPython.core.display.HTML object>"
            ]
          },
          "metadata": {},
          "output_type": "display_data"
        },
        {
          "name": "stdout",
          "output_type": "stream",
          "text": [
            "Finale Evaluation auf Testdaten:\n",
            "\n",
            "eval_loss: 0.8106\n",
            "eval_accuracy: 0.6788\n",
            "eval_f1-macro: 0.6768\n",
            "eval_precision: 0.6803\n",
            "eval_recall: 0.6773\n",
            "eval_runtime: 9.7560\n",
            "eval_samples_per_second: 203.5660\n",
            "eval_steps_per_second: 12.8130\n",
            "epoch: 3.0000\n"
          ]
        }
      ],
      "source": [
        "def model_training_binary(dataset):\n",
        "  num_labels = 2\n",
        "  device = torch.device(\"cuda\" if torch.cuda.is_available() else \"cpu\")\n",
        "  model_ckpt = \"distilbert-base-german-cased\"\n",
        "  config = AutoConfig.from_pretrained(model_ckpt,\n",
        "                                    num_labels=num_labels,\n",
        "                                    hidden_dropout_prob=0.3,        # Feedforward-Dropout\n",
        "                                    attention_probs_dropout_prob=0.3)  # Attention-Dropout\n",
        "  tokenizer = AutoTokenizer.from_pretrained(model_ckpt)\n",
        "  model = (AutoModelForSequenceClassification\n",
        "          .from_pretrained(model_ckpt, config=config)\n",
        "          .to(device))\n",
        "\n",
        "  batch_size = 16\n",
        "  training_args = TrainingArguments(\n",
        "                                    num_train_epochs=3,\n",
        "                                    learning_rate=3.08e-5,\n",
        "                                    per_device_train_batch_size=batch_size,\n",
        "                                    per_device_eval_batch_size=batch_size,\n",
        "                                    weight_decay=0.01,\n",
        "                                    eval_strategy=\"epoch\",\n",
        "                                    disable_tqdm=False,\n",
        "                                    logging_steps=10,\n",
        "                                    push_to_hub=False,\n",
        "                                    log_level=\"error\")\n",
        "\n",
        "  trainer = Trainer(model=model, args=training_args,\n",
        "                  compute_metrics=compute_metrics,\n",
        "                  train_dataset=dataset[\"train\"],\n",
        "                  eval_dataset=dataset[\"validation\"],\n",
        "                  tokenizer=tokenizer)\n",
        "\n",
        "  # Training + Validation\n",
        "  trainer.train();\n",
        "\n",
        "  # Finale Evaluation auf den Testdaten\n",
        "  eval_result = trainer.evaluate(eval_dataset=dataset[\"test\"]);\n",
        "  print(\"Finale Evaluation auf Testdaten:\\n\")\n",
        "  for key, value in eval_result.items():\n",
        "    print(f\"{key}: {value:.4f}\")\n",
        "\n",
        "model_training_binary(dataset_binary_split)\n"
      ]
    },
    {
      "cell_type": "markdown",
      "metadata": {
        "id": "zPh6_Lk8V4Uh"
      },
      "source": [
        "### BERT Modell für Multi Median Labels trainieren\n"
      ]
    },
    {
      "cell_type": "code",
      "execution_count": null,
      "metadata": {
        "colab": {
          "base_uri": "https://localhost:8080/",
          "height": 527
        },
        "id": "ytfAW6iqW_Uw",
        "outputId": "c8b34cff-baca-4b96-84bc-b863d2a18907"
      },
      "outputs": [
        {
          "name": "stderr",
          "output_type": "stream",
          "text": [
            "Some weights of DistilBertForSequenceClassification were not initialized from the model checkpoint at distilbert-base-german-cased and are newly initialized: ['classifier.bias', 'classifier.weight', 'pre_classifier.bias', 'pre_classifier.weight']\n",
            "You should probably TRAIN this model on a down-stream task to be able to use it for predictions and inference.\n",
            "Using the `WANDB_DISABLED` environment variable is deprecated and will be removed in v5. Use the --report_to flag to control the integrations used for logging result (for instance --report_to none).\n",
            "/tmp/ipython-input-2128475573.py:26: FutureWarning: `tokenizer` is deprecated and will be removed in version 5.0.0 for `Trainer.__init__`. Use `processing_class` instead.\n",
            "  trainer = Trainer(model=model, args=training_args,\n"
          ]
        },
        {
          "data": {
            "text/html": [
              "\n",
              "    <div>\n",
              "      \n",
              "      <progress value='1352' max='1352' style='width:300px; height:20px; vertical-align: middle;'></progress>\n",
              "      [1352/1352 06:39, Epoch 4/4]\n",
              "    </div>\n",
              "    <table border=\"1\" class=\"dataframe\">\n",
              "  <thead>\n",
              " <tr style=\"text-align: left;\">\n",
              "      <th>Epoch</th>\n",
              "      <th>Training Loss</th>\n",
              "      <th>Validation Loss</th>\n",
              "      <th>Accuracy</th>\n",
              "      <th>F1-macro</th>\n",
              "      <th>Precision</th>\n",
              "      <th>Recall</th>\n",
              "    </tr>\n",
              "  </thead>\n",
              "  <tbody>\n",
              "    <tr>\n",
              "      <td>1</td>\n",
              "      <td>0.995500</td>\n",
              "      <td>0.932454</td>\n",
              "      <td>0.635000</td>\n",
              "      <td>0.228124</td>\n",
              "      <td>0.201611</td>\n",
              "      <td>0.263129</td>\n",
              "    </tr>\n",
              "    <tr>\n",
              "      <td>2</td>\n",
              "      <td>0.888000</td>\n",
              "      <td>0.961026</td>\n",
              "      <td>0.608333</td>\n",
              "      <td>0.279971</td>\n",
              "      <td>0.309035</td>\n",
              "      <td>0.291331</td>\n",
              "    </tr>\n",
              "    <tr>\n",
              "      <td>3</td>\n",
              "      <td>0.622400</td>\n",
              "      <td>1.107750</td>\n",
              "      <td>0.585000</td>\n",
              "      <td>0.284935</td>\n",
              "      <td>0.331817</td>\n",
              "      <td>0.291823</td>\n",
              "    </tr>\n",
              "    <tr>\n",
              "      <td>4</td>\n",
              "      <td>0.590300</td>\n",
              "      <td>1.244835</td>\n",
              "      <td>0.593333</td>\n",
              "      <td>0.288729</td>\n",
              "      <td>0.339663</td>\n",
              "      <td>0.289906</td>\n",
              "    </tr>\n",
              "  </tbody>\n",
              "</table><p>"
            ],
            "text/plain": [
              "<IPython.core.display.HTML object>"
            ]
          },
          "metadata": {},
          "output_type": "display_data"
        },
        {
          "data": {
            "text/html": [
              "\n",
              "    <div>\n",
              "      \n",
              "      <progress value='125' max='125' style='width:300px; height:20px; vertical-align: middle;'></progress>\n",
              "      [125/125 00:09]\n",
              "    </div>\n",
              "    "
            ],
            "text/plain": [
              "<IPython.core.display.HTML object>"
            ]
          },
          "metadata": {},
          "output_type": "display_data"
        },
        {
          "name": "stdout",
          "output_type": "stream",
          "text": [
            "Finale Evaluation auf Testdaten:\n",
            "\n",
            "eval_loss: 1.4036\n",
            "eval_accuracy: 0.5680\n",
            "eval_f1-macro: 0.2799\n",
            "eval_precision: 0.3174\n",
            "eval_recall: 0.2787\n",
            "eval_runtime: 9.4346\n",
            "eval_samples_per_second: 210.5010\n",
            "eval_steps_per_second: 13.2490\n",
            "epoch: 4.0000\n"
          ]
        }
      ],
      "source": [
        "def model_training_multi(dataset):\n",
        "  num_labels = 5\n",
        "  device = torch.device(\"cuda\" if torch.cuda.is_available() else \"cpu\")\n",
        "  model_ckpt = \"distilbert-base-german-cased\"\n",
        "  tokenizer = AutoTokenizer.from_pretrained(model_ckpt)\n",
        "  config = AutoConfig.from_pretrained(model_ckpt,\n",
        "                                    num_labels=num_labels,\n",
        "                                    hidden_dropout_prob=0.3,        # Feedforward-Dropout\n",
        "                                    attention_probs_dropout_prob=0.3)  # Attention-Dropout\n",
        "  model = (AutoModelForSequenceClassification\n",
        "          .from_pretrained(model_ckpt, config = config)\n",
        "          .to(device))\n",
        "\n",
        "  data_encoded = load_from_disk(\"data_encoded\")\n",
        "  batch_size = 16\n",
        "  training_args = TrainingArguments(num_train_epochs=4,\n",
        "                                    learning_rate=4.74e-5,\n",
        "                                    per_device_train_batch_size=batch_size,\n",
        "                                    per_device_eval_batch_size=batch_size,\n",
        "                                    weight_decay=0.01,\n",
        "                                    eval_strategy=\"epoch\",\n",
        "                                    disable_tqdm=False,\n",
        "                                    logging_steps=10,\n",
        "                                    push_to_hub=False,\n",
        "                                    log_level=\"error\")\n",
        "  trainer = Trainer(model=model, args=training_args,\n",
        "                  compute_metrics=compute_metrics,\n",
        "                  train_dataset=dataset[\"train\"],\n",
        "                  eval_dataset=dataset[\"validation\"],\n",
        "                  tokenizer=tokenizer)\n",
        "\n",
        "  # Training + Validation\n",
        "  trainer.train();\n",
        "\n",
        "  # Finale Evaluation auf den Testdaten\n",
        "  eval_result = trainer.evaluate(eval_dataset=dataset[\"test\"]);\n",
        "  print(\"Finale Evaluation auf Testdaten:\\n\")\n",
        "  for key, value in eval_result.items():\n",
        "    print(f\"{key}: {value:.4f}\")\n",
        "\n",
        "model_training_multi(dataset_multi_split)"
      ]
    },
    {
      "cell_type": "markdown",
      "metadata": {
        "id": "X99OQBBHiSSn"
      },
      "source": [
        "### BERT Modell für Multi Roundup Labels trainieren\n"
      ]
    },
    {
      "cell_type": "code",
      "execution_count": null,
      "metadata": {
        "colab": {
          "base_uri": "https://localhost:8080/",
          "height": 495
        },
        "id": "iXh6gErciSSn",
        "outputId": "a2139458-59b1-46ac-e82d-2d3bf22c0ae5"
      },
      "outputs": [
        {
          "name": "stderr",
          "output_type": "stream",
          "text": [
            "Some weights of DistilBertForSequenceClassification were not initialized from the model checkpoint at distilbert-base-german-cased and are newly initialized: ['classifier.bias', 'classifier.weight', 'pre_classifier.bias', 'pre_classifier.weight']\n",
            "You should probably TRAIN this model on a down-stream task to be able to use it for predictions and inference.\n",
            "Using the `WANDB_DISABLED` environment variable is deprecated and will be removed in v5. Use the --report_to flag to control the integrations used for logging result (for instance --report_to none).\n",
            "/tmp/ipython-input-4158622048.py:31: FutureWarning: `tokenizer` is deprecated and will be removed in version 5.0.0 for `Trainer.__init__`. Use `processing_class` instead.\n",
            "  trainer = Trainer(model=model, args=training_args,\n"
          ]
        },
        {
          "data": {
            "text/html": [
              "\n",
              "    <div>\n",
              "      \n",
              "      <progress value='1014' max='1014' style='width:300px; height:20px; vertical-align: middle;'></progress>\n",
              "      [1014/1014 05:20, Epoch 3/3]\n",
              "    </div>\n",
              "    <table border=\"1\" class=\"dataframe\">\n",
              "  <thead>\n",
              " <tr style=\"text-align: left;\">\n",
              "      <th>Epoch</th>\n",
              "      <th>Training Loss</th>\n",
              "      <th>Validation Loss</th>\n",
              "      <th>Accuracy</th>\n",
              "      <th>F1-macro</th>\n",
              "      <th>Precision</th>\n",
              "      <th>Recall</th>\n",
              "    </tr>\n",
              "  </thead>\n",
              "  <tbody>\n",
              "    <tr>\n",
              "      <td>1</td>\n",
              "      <td>1.204600</td>\n",
              "      <td>1.122013</td>\n",
              "      <td>0.536667</td>\n",
              "      <td>0.293490</td>\n",
              "      <td>0.279706</td>\n",
              "      <td>0.321681</td>\n",
              "    </tr>\n",
              "    <tr>\n",
              "      <td>2</td>\n",
              "      <td>1.029300</td>\n",
              "      <td>1.153753</td>\n",
              "      <td>0.535000</td>\n",
              "      <td>0.339353</td>\n",
              "      <td>0.342284</td>\n",
              "      <td>0.348292</td>\n",
              "    </tr>\n",
              "    <tr>\n",
              "      <td>3</td>\n",
              "      <td>0.730900</td>\n",
              "      <td>1.263606</td>\n",
              "      <td>0.533333</td>\n",
              "      <td>0.345313</td>\n",
              "      <td>0.349514</td>\n",
              "      <td>0.348919</td>\n",
              "    </tr>\n",
              "  </tbody>\n",
              "</table><p>"
            ],
            "text/plain": [
              "<IPython.core.display.HTML object>"
            ]
          },
          "metadata": {},
          "output_type": "display_data"
        },
        {
          "data": {
            "text/html": [
              "\n",
              "    <div>\n",
              "      \n",
              "      <progress value='125' max='125' style='width:300px; height:20px; vertical-align: middle;'></progress>\n",
              "      [125/125 00:10]\n",
              "    </div>\n",
              "    "
            ],
            "text/plain": [
              "<IPython.core.display.HTML object>"
            ]
          },
          "metadata": {},
          "output_type": "display_data"
        },
        {
          "name": "stdout",
          "output_type": "stream",
          "text": [
            "Finale Evaluation auf Testdaten:\n",
            "\n",
            "eval_loss: 1.4655\n",
            "eval_accuracy: 0.4587\n",
            "eval_f1-macro: 0.2982\n",
            "eval_precision: 0.2978\n",
            "eval_recall: 0.3026\n",
            "eval_runtime: 10.4537\n",
            "eval_samples_per_second: 189.9800\n",
            "eval_steps_per_second: 11.9570\n",
            "epoch: 3.0000\n"
          ]
        }
      ],
      "source": [
        "def model_training_multi(dataset):\n",
        "  num_labels = 5\n",
        "  device = torch.device(\"cuda\" if torch.cuda.is_available() else \"cpu\")\n",
        "  model_ckpt = \"distilbert-base-german-cased\"\n",
        "  tokenizer = AutoTokenizer.from_pretrained(model_ckpt)\n",
        "  config = AutoConfig.from_pretrained(model_ckpt,\n",
        "                                    num_labels=num_labels,\n",
        "                                    hidden_dropout_prob=0.3,        # Feedforward-Dropout\n",
        "                                    attention_probs_dropout_prob=0.3)  # Attention-Dropout\n",
        "  model = (AutoModelForSequenceClassification\n",
        "          .from_pretrained(model_ckpt, config = config)\n",
        "          .to(device))\n",
        "\n",
        "  data_encoded = load_from_disk(\"data_encoded\")\n",
        "  batch_size = 16\n",
        "  training_args = TrainingArguments(num_train_epochs=3,\n",
        "                                    learning_rate=4.98e-5,\n",
        "                                    per_device_train_batch_size=batch_size,\n",
        "                                    per_device_eval_batch_size=batch_size,\n",
        "                                    weight_decay=0.01,\n",
        "                                    eval_strategy=\"epoch\",\n",
        "                                    disable_tqdm=False,\n",
        "                                    logging_steps=10,\n",
        "                                    push_to_hub=False,\n",
        "                                    log_level=\"error\")\n",
        "  trainer = Trainer(model=model, args=training_args,\n",
        "                  compute_metrics=compute_metrics,\n",
        "                  train_dataset=dataset[\"train\"],\n",
        "                  eval_dataset=dataset[\"validation\"],\n",
        "                  tokenizer=tokenizer)\n",
        "\n",
        "  # Training + Validation\n",
        "  trainer.train();\n",
        "\n",
        "  # Finale Evaluation auf den Testdaten\n",
        "  eval_result = trainer.evaluate(eval_dataset=dataset[\"test\"]);\n",
        "  print(\"Finale Evaluation auf Testdaten:\\n\")\n",
        "  for key, value in eval_result.items():\n",
        "    print(f\"{key}: {value:.4f}\")\n",
        "\n",
        "model_training_multi(dataset_multi_roundup_split)"
      ]
    },
    {
      "cell_type": "markdown",
      "metadata": {
        "id": "hzM-FacCp7rQ"
      },
      "source": [
        "### BERT Modell für individuelle Annotatoren trainieren\n"
      ]
    },
    {
      "cell_type": "code",
      "execution_count": null,
      "metadata": {
        "colab": {
          "base_uri": "https://localhost:8080/",
          "height": 1000
        },
        "id": "P6A227vMhFSS",
        "outputId": "0037f634-a05f-4c0a-a6b0-06d5d8336d8e"
      },
      "outputs": [
        {
          "name": "stdout",
          "output_type": "stream",
          "text": [
            "\n",
            "===== Training für Annotator a1 =====\n"
          ]
        },
        {
          "name": "stderr",
          "output_type": "stream",
          "text": [
            "Some weights of DistilBertForSequenceClassification were not initialized from the model checkpoint at distilbert-base-german-cased and are newly initialized: ['classifier.bias', 'classifier.weight', 'pre_classifier.bias', 'pre_classifier.weight']\n",
            "You should probably TRAIN this model on a down-stream task to be able to use it for predictions and inference.\n",
            "Using the `WANDB_DISABLED` environment variable is deprecated and will be removed in v5. Use the --report_to flag to control the integrations used for logging result (for instance --report_to none).\n",
            "/tmp/ipython-input-1071254.py:39: FutureWarning: `tokenizer` is deprecated and will be removed in version 5.0.0 for `Trainer.__init__`. Use `processing_class` instead.\n",
            "  trainer = Trainer(\n"
          ]
        },
        {
          "data": {
            "text/html": [
              "\n",
              "    <div>\n",
              "      \n",
              "      <progress value='440' max='440' style='width:300px; height:20px; vertical-align: middle;'></progress>\n",
              "      [440/440 01:09, Epoch 4/4]\n",
              "    </div>\n",
              "    <table border=\"1\" class=\"dataframe\">\n",
              "  <thead>\n",
              " <tr style=\"text-align: left;\">\n",
              "      <th>Epoch</th>\n",
              "      <th>Training Loss</th>\n",
              "      <th>Validation Loss</th>\n",
              "      <th>Accuracy</th>\n",
              "      <th>F1-macro</th>\n",
              "      <th>Precision</th>\n",
              "      <th>Recall</th>\n",
              "    </tr>\n",
              "  </thead>\n",
              "  <tbody>\n",
              "    <tr>\n",
              "      <td>1</td>\n",
              "      <td>1.062800</td>\n",
              "      <td>0.907639</td>\n",
              "      <td>0.711340</td>\n",
              "      <td>0.195443</td>\n",
              "      <td>0.243158</td>\n",
              "      <td>0.216667</td>\n",
              "    </tr>\n",
              "    <tr>\n",
              "      <td>2</td>\n",
              "      <td>0.742000</td>\n",
              "      <td>0.901803</td>\n",
              "      <td>0.639175</td>\n",
              "      <td>0.217872</td>\n",
              "      <td>0.196999</td>\n",
              "      <td>0.259477</td>\n",
              "    </tr>\n",
              "    <tr>\n",
              "      <td>3</td>\n",
              "      <td>0.806000</td>\n",
              "      <td>0.996264</td>\n",
              "      <td>0.639175</td>\n",
              "      <td>0.218553</td>\n",
              "      <td>0.196757</td>\n",
              "      <td>0.259477</td>\n",
              "    </tr>\n",
              "    <tr>\n",
              "      <td>4</td>\n",
              "      <td>0.490700</td>\n",
              "      <td>1.057306</td>\n",
              "      <td>0.628866</td>\n",
              "      <td>0.215035</td>\n",
              "      <td>0.194260</td>\n",
              "      <td>0.256536</td>\n",
              "    </tr>\n",
              "  </tbody>\n",
              "</table><p>"
            ],
            "text/plain": [
              "<IPython.core.display.HTML object>"
            ]
          },
          "metadata": {},
          "output_type": "display_data"
        },
        {
          "data": {
            "text/html": [
              "\n",
              "    <div>\n",
              "      \n",
              "      <progress value='41' max='41' style='width:300px; height:20px; vertical-align: middle;'></progress>\n",
              "      [41/41 00:01]\n",
              "    </div>\n",
              "    "
            ],
            "text/plain": [
              "<IPython.core.display.HTML object>"
            ]
          },
          "metadata": {},
          "output_type": "display_data"
        },
        {
          "name": "stdout",
          "output_type": "stream",
          "text": [
            "\n",
            "Finale Evaluation auf Testdaten für a1:\n",
            "\n",
            "eval_loss: 1.5084\n",
            "eval_accuracy: 0.4817\n",
            "eval_f1-macro: 0.2341\n",
            "eval_precision: 0.2274\n",
            "eval_recall: 0.2602\n",
            "eval_runtime: 1.7381\n",
            "eval_samples_per_second: 188.7100\n",
            "eval_steps_per_second: 23.5890\n",
            "epoch: 4.0000\n",
            "\n",
            "===== Training für Annotator a2 =====\n"
          ]
        },
        {
          "name": "stderr",
          "output_type": "stream",
          "text": [
            "/tmp/ipython-input-1071254.py:39: FutureWarning: `tokenizer` is deprecated and will be removed in version 5.0.0 for `Trainer.__init__`. Use `processing_class` instead.\n",
            "  trainer = Trainer(\n"
          ]
        },
        {
          "data": {
            "text/html": [
              "\n",
              "    <div>\n",
              "      \n",
              "      <progress value='2700' max='2700' style='width:300px; height:20px; vertical-align: middle;'></progress>\n",
              "      [2700/2700 07:32, Epoch 4/4]\n",
              "    </div>\n",
              "    <table border=\"1\" class=\"dataframe\">\n",
              "  <thead>\n",
              " <tr style=\"text-align: left;\">\n",
              "      <th>Epoch</th>\n",
              "      <th>Training Loss</th>\n",
              "      <th>Validation Loss</th>\n",
              "      <th>Accuracy</th>\n",
              "      <th>F1-macro</th>\n",
              "      <th>Precision</th>\n",
              "      <th>Recall</th>\n",
              "    </tr>\n",
              "  </thead>\n",
              "  <tbody>\n",
              "    <tr>\n",
              "      <td>1</td>\n",
              "      <td>0.775500</td>\n",
              "      <td>0.724809</td>\n",
              "      <td>0.755000</td>\n",
              "      <td>0.172080</td>\n",
              "      <td>0.151000</td>\n",
              "      <td>0.200000</td>\n",
              "    </tr>\n",
              "    <tr>\n",
              "      <td>2</td>\n",
              "      <td>0.678500</td>\n",
              "      <td>0.752428</td>\n",
              "      <td>0.748333</td>\n",
              "      <td>0.241527</td>\n",
              "      <td>0.231764</td>\n",
              "      <td>0.253422</td>\n",
              "    </tr>\n",
              "    <tr>\n",
              "      <td>3</td>\n",
              "      <td>0.355500</td>\n",
              "      <td>1.018386</td>\n",
              "      <td>0.706667</td>\n",
              "      <td>0.244530</td>\n",
              "      <td>0.242993</td>\n",
              "      <td>0.248025</td>\n",
              "    </tr>\n",
              "    <tr>\n",
              "      <td>4</td>\n",
              "      <td>0.293900</td>\n",
              "      <td>1.116797</td>\n",
              "      <td>0.703333</td>\n",
              "      <td>0.236727</td>\n",
              "      <td>0.236372</td>\n",
              "      <td>0.238409</td>\n",
              "    </tr>\n",
              "  </tbody>\n",
              "</table><p>"
            ],
            "text/plain": [
              "<IPython.core.display.HTML object>"
            ]
          },
          "metadata": {},
          "output_type": "display_data"
        },
        {
          "data": {
            "text/html": [
              "\n",
              "    <div>\n",
              "      \n",
              "      <progress value='249' max='249' style='width:300px; height:20px; vertical-align: middle;'></progress>\n",
              "      [249/249 00:10]\n",
              "    </div>\n",
              "    "
            ],
            "text/plain": [
              "<IPython.core.display.HTML object>"
            ]
          },
          "metadata": {},
          "output_type": "display_data"
        },
        {
          "name": "stdout",
          "output_type": "stream",
          "text": [
            "\n",
            "Finale Evaluation auf Testdaten für a2:\n",
            "\n",
            "eval_loss: 1.3788\n",
            "eval_accuracy: 0.6732\n",
            "eval_f1-macro: 0.2537\n",
            "eval_precision: 0.2957\n",
            "eval_recall: 0.2519\n",
            "eval_runtime: 10.3874\n",
            "eval_samples_per_second: 191.1940\n",
            "eval_steps_per_second: 23.9710\n",
            "epoch: 4.0000\n",
            "\n",
            "===== Training für Annotator a3 =====\n"
          ]
        },
        {
          "name": "stderr",
          "output_type": "stream",
          "text": [
            "/tmp/ipython-input-1071254.py:39: FutureWarning: `tokenizer` is deprecated and will be removed in version 5.0.0 for `Trainer.__init__`. Use `processing_class` instead.\n",
            "  trainer = Trainer(\n"
          ]
        },
        {
          "data": {
            "text/html": [
              "\n",
              "    <div>\n",
              "      \n",
              "      <progress value='560' max='560' style='width:300px; height:20px; vertical-align: middle;'></progress>\n",
              "      [560/560 01:30, Epoch 4/4]\n",
              "    </div>\n",
              "    <table border=\"1\" class=\"dataframe\">\n",
              "  <thead>\n",
              " <tr style=\"text-align: left;\">\n",
              "      <th>Epoch</th>\n",
              "      <th>Training Loss</th>\n",
              "      <th>Validation Loss</th>\n",
              "      <th>Accuracy</th>\n",
              "      <th>F1-macro</th>\n",
              "      <th>Precision</th>\n",
              "      <th>Recall</th>\n",
              "    </tr>\n",
              "  </thead>\n",
              "  <tbody>\n",
              "    <tr>\n",
              "      <td>1</td>\n",
              "      <td>1.186600</td>\n",
              "      <td>1.258711</td>\n",
              "      <td>0.528000</td>\n",
              "      <td>0.138220</td>\n",
              "      <td>0.105600</td>\n",
              "      <td>0.200000</td>\n",
              "    </tr>\n",
              "    <tr>\n",
              "      <td>2</td>\n",
              "      <td>0.964200</td>\n",
              "      <td>1.090123</td>\n",
              "      <td>0.544000</td>\n",
              "      <td>0.232989</td>\n",
              "      <td>0.208824</td>\n",
              "      <td>0.290909</td>\n",
              "    </tr>\n",
              "    <tr>\n",
              "      <td>3</td>\n",
              "      <td>0.839400</td>\n",
              "      <td>1.088747</td>\n",
              "      <td>0.568000</td>\n",
              "      <td>0.243400</td>\n",
              "      <td>0.213248</td>\n",
              "      <td>0.306061</td>\n",
              "    </tr>\n",
              "    <tr>\n",
              "      <td>4</td>\n",
              "      <td>0.800900</td>\n",
              "      <td>1.098548</td>\n",
              "      <td>0.560000</td>\n",
              "      <td>0.246832</td>\n",
              "      <td>0.221698</td>\n",
              "      <td>0.315152</td>\n",
              "    </tr>\n",
              "  </tbody>\n",
              "</table><p>"
            ],
            "text/plain": [
              "<IPython.core.display.HTML object>"
            ]
          },
          "metadata": {},
          "output_type": "display_data"
        },
        {
          "data": {
            "text/html": [
              "\n",
              "    <div>\n",
              "      \n",
              "      <progress value='57' max='57' style='width:300px; height:20px; vertical-align: middle;'></progress>\n",
              "      [57/57 00:02]\n",
              "    </div>\n",
              "    "
            ],
            "text/plain": [
              "<IPython.core.display.HTML object>"
            ]
          },
          "metadata": {},
          "output_type": "display_data"
        },
        {
          "name": "stdout",
          "output_type": "stream",
          "text": [
            "\n",
            "Finale Evaluation auf Testdaten für a3:\n",
            "\n",
            "eval_loss: 1.4798\n",
            "eval_accuracy: 0.4342\n",
            "eval_f1-macro: 0.2218\n",
            "eval_precision: 0.1986\n",
            "eval_recall: 0.2904\n",
            "eval_runtime: 2.5008\n",
            "eval_samples_per_second: 182.3440\n",
            "eval_steps_per_second: 22.7930\n",
            "epoch: 4.0000\n",
            "\n",
            "===== Training für Annotator a4 =====\n"
          ]
        },
        {
          "name": "stderr",
          "output_type": "stream",
          "text": [
            "/tmp/ipython-input-1071254.py:39: FutureWarning: `tokenizer` is deprecated and will be removed in version 5.0.0 for `Trainer.__init__`. Use `processing_class` instead.\n",
            "  trainer = Trainer(\n"
          ]
        },
        {
          "data": {
            "text/html": [
              "\n",
              "    <div>\n",
              "      \n",
              "      <progress value='628' max='628' style='width:300px; height:20px; vertical-align: middle;'></progress>\n",
              "      [628/628 01:47, Epoch 4/4]\n",
              "    </div>\n",
              "    <table border=\"1\" class=\"dataframe\">\n",
              "  <thead>\n",
              " <tr style=\"text-align: left;\">\n",
              "      <th>Epoch</th>\n",
              "      <th>Training Loss</th>\n",
              "      <th>Validation Loss</th>\n",
              "      <th>Accuracy</th>\n",
              "      <th>F1-macro</th>\n",
              "      <th>Precision</th>\n",
              "      <th>Recall</th>\n",
              "    </tr>\n",
              "  </thead>\n",
              "  <tbody>\n",
              "    <tr>\n",
              "      <td>1</td>\n",
              "      <td>0.837700</td>\n",
              "      <td>1.213720</td>\n",
              "      <td>0.628571</td>\n",
              "      <td>0.154386</td>\n",
              "      <td>0.125714</td>\n",
              "      <td>0.200000</td>\n",
              "    </tr>\n",
              "    <tr>\n",
              "      <td>2</td>\n",
              "      <td>0.919900</td>\n",
              "      <td>1.131958</td>\n",
              "      <td>0.628571</td>\n",
              "      <td>0.154386</td>\n",
              "      <td>0.125714</td>\n",
              "      <td>0.200000</td>\n",
              "    </tr>\n",
              "    <tr>\n",
              "      <td>3</td>\n",
              "      <td>0.869000</td>\n",
              "      <td>1.059344</td>\n",
              "      <td>0.614286</td>\n",
              "      <td>0.198248</td>\n",
              "      <td>0.175347</td>\n",
              "      <td>0.228469</td>\n",
              "    </tr>\n",
              "    <tr>\n",
              "      <td>4</td>\n",
              "      <td>0.715400</td>\n",
              "      <td>1.156992</td>\n",
              "      <td>0.614286</td>\n",
              "      <td>0.190431</td>\n",
              "      <td>0.168769</td>\n",
              "      <td>0.220215</td>\n",
              "    </tr>\n",
              "  </tbody>\n",
              "</table><p>"
            ],
            "text/plain": [
              "<IPython.core.display.HTML object>"
            ]
          },
          "metadata": {},
          "output_type": "display_data"
        },
        {
          "data": {
            "text/html": [
              "\n",
              "    <div>\n",
              "      \n",
              "      <progress value='63' max='63' style='width:300px; height:20px; vertical-align: middle;'></progress>\n",
              "      [63/63 00:02]\n",
              "    </div>\n",
              "    "
            ],
            "text/plain": [
              "<IPython.core.display.HTML object>"
            ]
          },
          "metadata": {},
          "output_type": "display_data"
        },
        {
          "name": "stdout",
          "output_type": "stream",
          "text": [
            "\n",
            "Finale Evaluation auf Testdaten für a4:\n",
            "\n",
            "eval_loss: 1.3576\n",
            "eval_accuracy: 0.5238\n",
            "eval_f1-macro: 0.1851\n",
            "eval_precision: 0.1592\n",
            "eval_recall: 0.2215\n",
            "eval_runtime: 2.6854\n",
            "eval_samples_per_second: 187.6820\n",
            "eval_steps_per_second: 23.4600\n",
            "epoch: 4.0000\n",
            "\n",
            "===== Training für Annotator a5 =====\n"
          ]
        },
        {
          "name": "stderr",
          "output_type": "stream",
          "text": [
            "/tmp/ipython-input-1071254.py:39: FutureWarning: `tokenizer` is deprecated and will be removed in version 5.0.0 for `Trainer.__init__`. Use `processing_class` instead.\n",
            "  trainer = Trainer(\n"
          ]
        },
        {
          "data": {
            "text/html": [
              "\n",
              "    <div>\n",
              "      \n",
              "      <progress value='700' max='700' style='width:300px; height:20px; vertical-align: middle;'></progress>\n",
              "      [700/700 02:01, Epoch 4/4]\n",
              "    </div>\n",
              "    <table border=\"1\" class=\"dataframe\">\n",
              "  <thead>\n",
              " <tr style=\"text-align: left;\">\n",
              "      <th>Epoch</th>\n",
              "      <th>Training Loss</th>\n",
              "      <th>Validation Loss</th>\n",
              "      <th>Accuracy</th>\n",
              "      <th>F1-macro</th>\n",
              "      <th>Precision</th>\n",
              "      <th>Recall</th>\n",
              "    </tr>\n",
              "  </thead>\n",
              "  <tbody>\n",
              "    <tr>\n",
              "      <td>1</td>\n",
              "      <td>0.856800</td>\n",
              "      <td>1.008215</td>\n",
              "      <td>0.608974</td>\n",
              "      <td>0.162424</td>\n",
              "      <td>0.222078</td>\n",
              "      <td>0.205714</td>\n",
              "    </tr>\n",
              "    <tr>\n",
              "      <td>2</td>\n",
              "      <td>0.924600</td>\n",
              "      <td>0.972957</td>\n",
              "      <td>0.589744</td>\n",
              "      <td>0.168565</td>\n",
              "      <td>0.156643</td>\n",
              "      <td>0.202918</td>\n",
              "    </tr>\n",
              "    <tr>\n",
              "      <td>3</td>\n",
              "      <td>0.579300</td>\n",
              "      <td>1.088136</td>\n",
              "      <td>0.602564</td>\n",
              "      <td>0.220877</td>\n",
              "      <td>0.203333</td>\n",
              "      <td>0.243040</td>\n",
              "    </tr>\n",
              "    <tr>\n",
              "      <td>4</td>\n",
              "      <td>0.440200</td>\n",
              "      <td>1.182345</td>\n",
              "      <td>0.589744</td>\n",
              "      <td>0.225054</td>\n",
              "      <td>0.205217</td>\n",
              "      <td>0.249544</td>\n",
              "    </tr>\n",
              "  </tbody>\n",
              "</table><p>"
            ],
            "text/plain": [
              "<IPython.core.display.HTML object>"
            ]
          },
          "metadata": {},
          "output_type": "display_data"
        },
        {
          "data": {
            "text/html": [
              "\n",
              "    <div>\n",
              "      \n",
              "      <progress value='68' max='68' style='width:300px; height:20px; vertical-align: middle;'></progress>\n",
              "      [68/68 00:02]\n",
              "    </div>\n",
              "    "
            ],
            "text/plain": [
              "<IPython.core.display.HTML object>"
            ]
          },
          "metadata": {},
          "output_type": "display_data"
        },
        {
          "name": "stdout",
          "output_type": "stream",
          "text": [
            "\n",
            "Finale Evaluation auf Testdaten für a5:\n",
            "\n",
            "eval_loss: 1.3634\n",
            "eval_accuracy: 0.5314\n",
            "eval_f1-macro: 0.2073\n",
            "eval_precision: 0.1868\n",
            "eval_recall: 0.2333\n",
            "eval_runtime: 2.9050\n",
            "eval_samples_per_second: 186.5760\n",
            "eval_steps_per_second: 23.4080\n",
            "epoch: 4.0000\n",
            "\n",
            "===== Training für Annotator a7 =====\n"
          ]
        },
        {
          "name": "stderr",
          "output_type": "stream",
          "text": [
            "/tmp/ipython-input-1071254.py:39: FutureWarning: `tokenizer` is deprecated and will be removed in version 5.0.0 for `Trainer.__init__`. Use `processing_class` instead.\n",
            "  trainer = Trainer(\n"
          ]
        },
        {
          "data": {
            "text/html": [
              "\n",
              "    <div>\n",
              "      \n",
              "      <progress value='564' max='564' style='width:300px; height:20px; vertical-align: middle;'></progress>\n",
              "      [564/564 01:33, Epoch 4/4]\n",
              "    </div>\n",
              "    <table border=\"1\" class=\"dataframe\">\n",
              "  <thead>\n",
              " <tr style=\"text-align: left;\">\n",
              "      <th>Epoch</th>\n",
              "      <th>Training Loss</th>\n",
              "      <th>Validation Loss</th>\n",
              "      <th>Accuracy</th>\n",
              "      <th>F1-macro</th>\n",
              "      <th>Precision</th>\n",
              "      <th>Recall</th>\n",
              "    </tr>\n",
              "  </thead>\n",
              "  <tbody>\n",
              "    <tr>\n",
              "      <td>1</td>\n",
              "      <td>1.132200</td>\n",
              "      <td>1.110333</td>\n",
              "      <td>0.600000</td>\n",
              "      <td>0.179497</td>\n",
              "      <td>0.162537</td>\n",
              "      <td>0.212105</td>\n",
              "    </tr>\n",
              "    <tr>\n",
              "      <td>2</td>\n",
              "      <td>1.173700</td>\n",
              "      <td>1.056008</td>\n",
              "      <td>0.584000</td>\n",
              "      <td>0.209936</td>\n",
              "      <td>0.186231</td>\n",
              "      <td>0.243684</td>\n",
              "    </tr>\n",
              "    <tr>\n",
              "      <td>3</td>\n",
              "      <td>0.677800</td>\n",
              "      <td>1.190084</td>\n",
              "      <td>0.592000</td>\n",
              "      <td>0.216891</td>\n",
              "      <td>0.213439</td>\n",
              "      <td>0.234912</td>\n",
              "    </tr>\n",
              "    <tr>\n",
              "      <td>4</td>\n",
              "      <td>0.578900</td>\n",
              "      <td>1.272714</td>\n",
              "      <td>0.584000</td>\n",
              "      <td>0.221897</td>\n",
              "      <td>0.276620</td>\n",
              "      <td>0.239649</td>\n",
              "    </tr>\n",
              "  </tbody>\n",
              "</table><p>"
            ],
            "text/plain": [
              "<IPython.core.display.HTML object>"
            ]
          },
          "metadata": {},
          "output_type": "display_data"
        },
        {
          "data": {
            "text/html": [
              "\n",
              "    <div>\n",
              "      \n",
              "      <progress value='57' max='57' style='width:300px; height:20px; vertical-align: middle;'></progress>\n",
              "      [57/57 00:02]\n",
              "    </div>\n",
              "    "
            ],
            "text/plain": [
              "<IPython.core.display.HTML object>"
            ]
          },
          "metadata": {},
          "output_type": "display_data"
        },
        {
          "name": "stdout",
          "output_type": "stream",
          "text": [
            "\n",
            "Finale Evaluation auf Testdaten für a7:\n",
            "\n",
            "eval_loss: 1.3972\n",
            "eval_accuracy: 0.5344\n",
            "eval_f1-macro: 0.2225\n",
            "eval_precision: 0.2220\n",
            "eval_recall: 0.2478\n",
            "eval_runtime: 2.4632\n",
            "eval_samples_per_second: 183.0990\n",
            "eval_steps_per_second: 23.1410\n",
            "epoch: 4.0000\n",
            "\n",
            "===== Training für Annotator a8 =====\n"
          ]
        },
        {
          "name": "stderr",
          "output_type": "stream",
          "text": [
            "/tmp/ipython-input-1071254.py:39: FutureWarning: `tokenizer` is deprecated and will be removed in version 5.0.0 for `Trainer.__init__`. Use `processing_class` instead.\n",
            "  trainer = Trainer(\n"
          ]
        },
        {
          "data": {
            "text/html": [
              "\n",
              "    <div>\n",
              "      \n",
              "      <progress value='832' max='832' style='width:300px; height:20px; vertical-align: middle;'></progress>\n",
              "      [832/832 02:21, Epoch 4/4]\n",
              "    </div>\n",
              "    <table border=\"1\" class=\"dataframe\">\n",
              "  <thead>\n",
              " <tr style=\"text-align: left;\">\n",
              "      <th>Epoch</th>\n",
              "      <th>Training Loss</th>\n",
              "      <th>Validation Loss</th>\n",
              "      <th>Accuracy</th>\n",
              "      <th>F1-macro</th>\n",
              "      <th>Precision</th>\n",
              "      <th>Recall</th>\n",
              "    </tr>\n",
              "  </thead>\n",
              "  <tbody>\n",
              "    <tr>\n",
              "      <td>1</td>\n",
              "      <td>0.832800</td>\n",
              "      <td>0.747531</td>\n",
              "      <td>0.794595</td>\n",
              "      <td>0.177108</td>\n",
              "      <td>0.158919</td>\n",
              "      <td>0.200000</td>\n",
              "    </tr>\n",
              "    <tr>\n",
              "      <td>2</td>\n",
              "      <td>0.854400</td>\n",
              "      <td>0.693998</td>\n",
              "      <td>0.794595</td>\n",
              "      <td>0.177108</td>\n",
              "      <td>0.158919</td>\n",
              "      <td>0.200000</td>\n",
              "    </tr>\n",
              "    <tr>\n",
              "      <td>3</td>\n",
              "      <td>0.524300</td>\n",
              "      <td>0.706346</td>\n",
              "      <td>0.800000</td>\n",
              "      <td>0.284021</td>\n",
              "      <td>0.307937</td>\n",
              "      <td>0.277642</td>\n",
              "    </tr>\n",
              "    <tr>\n",
              "      <td>4</td>\n",
              "      <td>0.522500</td>\n",
              "      <td>0.785354</td>\n",
              "      <td>0.762162</td>\n",
              "      <td>0.277973</td>\n",
              "      <td>0.269219</td>\n",
              "      <td>0.287619</td>\n",
              "    </tr>\n",
              "  </tbody>\n",
              "</table><p>"
            ],
            "text/plain": [
              "<IPython.core.display.HTML object>"
            ]
          },
          "metadata": {},
          "output_type": "display_data"
        },
        {
          "data": {
            "text/html": [
              "\n",
              "    <div>\n",
              "      \n",
              "      <progress value='82' max='82' style='width:300px; height:20px; vertical-align: middle;'></progress>\n",
              "      [82/82 00:03]\n",
              "    </div>\n",
              "    "
            ],
            "text/plain": [
              "<IPython.core.display.HTML object>"
            ]
          },
          "metadata": {},
          "output_type": "display_data"
        },
        {
          "name": "stdout",
          "output_type": "stream",
          "text": [
            "\n",
            "Finale Evaluation auf Testdaten für a8:\n",
            "\n",
            "eval_loss: 1.1990\n",
            "eval_accuracy: 0.6564\n",
            "eval_f1-macro: 0.2263\n",
            "eval_precision: 0.2315\n",
            "eval_recall: 0.2351\n",
            "eval_runtime: 3.4545\n",
            "eval_samples_per_second: 187.8720\n",
            "eval_steps_per_second: 23.7370\n",
            "epoch: 4.0000\n",
            "\n",
            "===== Training für Annotator a9 =====\n"
          ]
        },
        {
          "name": "stderr",
          "output_type": "stream",
          "text": [
            "/tmp/ipython-input-1071254.py:39: FutureWarning: `tokenizer` is deprecated and will be removed in version 5.0.0 for `Trainer.__init__`. Use `processing_class` instead.\n",
            "  trainer = Trainer(\n"
          ]
        },
        {
          "data": {
            "text/html": [
              "\n",
              "    <div>\n",
              "      \n",
              "      <progress value='1316' max='1316' style='width:300px; height:20px; vertical-align: middle;'></progress>\n",
              "      [1316/1316 03:37, Epoch 4/4]\n",
              "    </div>\n",
              "    <table border=\"1\" class=\"dataframe\">\n",
              "  <thead>\n",
              " <tr style=\"text-align: left;\">\n",
              "      <th>Epoch</th>\n",
              "      <th>Training Loss</th>\n",
              "      <th>Validation Loss</th>\n",
              "      <th>Accuracy</th>\n",
              "      <th>F1-macro</th>\n",
              "      <th>Precision</th>\n",
              "      <th>Recall</th>\n",
              "    </tr>\n",
              "  </thead>\n",
              "  <tbody>\n",
              "    <tr>\n",
              "      <td>1</td>\n",
              "      <td>0.903200</td>\n",
              "      <td>0.943248</td>\n",
              "      <td>0.699659</td>\n",
              "      <td>0.164659</td>\n",
              "      <td>0.139932</td>\n",
              "      <td>0.200000</td>\n",
              "    </tr>\n",
              "    <tr>\n",
              "      <td>2</td>\n",
              "      <td>0.677100</td>\n",
              "      <td>0.962214</td>\n",
              "      <td>0.686007</td>\n",
              "      <td>0.198841</td>\n",
              "      <td>0.279090</td>\n",
              "      <td>0.214476</td>\n",
              "    </tr>\n",
              "    <tr>\n",
              "      <td>3</td>\n",
              "      <td>0.535800</td>\n",
              "      <td>1.226738</td>\n",
              "      <td>0.597270</td>\n",
              "      <td>0.225737</td>\n",
              "      <td>0.219065</td>\n",
              "      <td>0.233557</td>\n",
              "    </tr>\n",
              "    <tr>\n",
              "      <td>4</td>\n",
              "      <td>0.343000</td>\n",
              "      <td>1.346926</td>\n",
              "      <td>0.607509</td>\n",
              "      <td>0.233268</td>\n",
              "      <td>0.228125</td>\n",
              "      <td>0.240637</td>\n",
              "    </tr>\n",
              "  </tbody>\n",
              "</table><p>"
            ],
            "text/plain": [
              "<IPython.core.display.HTML object>"
            ]
          },
          "metadata": {},
          "output_type": "display_data"
        },
        {
          "data": {
            "text/html": [
              "\n",
              "    <div>\n",
              "      \n",
              "      <progress value='122' max='122' style='width:300px; height:20px; vertical-align: middle;'></progress>\n",
              "      [122/122 00:04]\n",
              "    </div>\n",
              "    "
            ],
            "text/plain": [
              "<IPython.core.display.HTML object>"
            ]
          },
          "metadata": {},
          "output_type": "display_data"
        },
        {
          "name": "stdout",
          "output_type": "stream",
          "text": [
            "\n",
            "Finale Evaluation auf Testdaten für a9:\n",
            "\n",
            "eval_loss: 1.1985\n",
            "eval_accuracy: 0.6746\n",
            "eval_f1-macro: 0.2314\n",
            "eval_precision: 0.2405\n",
            "eval_recall: 0.2388\n",
            "eval_runtime: 5.0449\n",
            "eval_samples_per_second: 192.4710\n",
            "eval_steps_per_second: 24.1830\n",
            "epoch: 4.0000\n",
            "\n",
            "===== Training für Annotator a10 =====\n"
          ]
        },
        {
          "name": "stderr",
          "output_type": "stream",
          "text": [
            "/tmp/ipython-input-1071254.py:39: FutureWarning: `tokenizer` is deprecated and will be removed in version 5.0.0 for `Trainer.__init__`. Use `processing_class` instead.\n",
            "  trainer = Trainer(\n"
          ]
        },
        {
          "data": {
            "text/html": [
              "\n",
              "    <div>\n",
              "      \n",
              "      <progress value='2700' max='2700' style='width:300px; height:20px; vertical-align: middle;'></progress>\n",
              "      [2700/2700 07:31, Epoch 4/4]\n",
              "    </div>\n",
              "    <table border=\"1\" class=\"dataframe\">\n",
              "  <thead>\n",
              " <tr style=\"text-align: left;\">\n",
              "      <th>Epoch</th>\n",
              "      <th>Training Loss</th>\n",
              "      <th>Validation Loss</th>\n",
              "      <th>Accuracy</th>\n",
              "      <th>F1-macro</th>\n",
              "      <th>Precision</th>\n",
              "      <th>Recall</th>\n",
              "    </tr>\n",
              "  </thead>\n",
              "  <tbody>\n",
              "    <tr>\n",
              "      <td>1</td>\n",
              "      <td>0.974900</td>\n",
              "      <td>0.909481</td>\n",
              "      <td>0.673333</td>\n",
              "      <td>0.204724</td>\n",
              "      <td>0.252348</td>\n",
              "      <td>0.223805</td>\n",
              "    </tr>\n",
              "    <tr>\n",
              "      <td>2</td>\n",
              "      <td>0.726300</td>\n",
              "      <td>0.954080</td>\n",
              "      <td>0.653333</td>\n",
              "      <td>0.266522</td>\n",
              "      <td>0.266172</td>\n",
              "      <td>0.271485</td>\n",
              "    </tr>\n",
              "    <tr>\n",
              "      <td>3</td>\n",
              "      <td>0.612400</td>\n",
              "      <td>1.177433</td>\n",
              "      <td>0.660000</td>\n",
              "      <td>0.275106</td>\n",
              "      <td>0.277367</td>\n",
              "      <td>0.278419</td>\n",
              "    </tr>\n",
              "    <tr>\n",
              "      <td>4</td>\n",
              "      <td>0.424500</td>\n",
              "      <td>1.309464</td>\n",
              "      <td>0.631667</td>\n",
              "      <td>0.272969</td>\n",
              "      <td>0.266242</td>\n",
              "      <td>0.280398</td>\n",
              "    </tr>\n",
              "  </tbody>\n",
              "</table><p>"
            ],
            "text/plain": [
              "<IPython.core.display.HTML object>"
            ]
          },
          "metadata": {},
          "output_type": "display_data"
        },
        {
          "data": {
            "text/html": [
              "\n",
              "    <div>\n",
              "      \n",
              "      <progress value='249' max='249' style='width:300px; height:20px; vertical-align: middle;'></progress>\n",
              "      [249/249 00:10]\n",
              "    </div>\n",
              "    "
            ],
            "text/plain": [
              "<IPython.core.display.HTML object>"
            ]
          },
          "metadata": {},
          "output_type": "display_data"
        },
        {
          "name": "stdout",
          "output_type": "stream",
          "text": [
            "\n",
            "Finale Evaluation auf Testdaten für a10:\n",
            "\n",
            "eval_loss: 1.3224\n",
            "eval_accuracy: 0.6400\n",
            "eval_f1-macro: 0.2874\n",
            "eval_precision: 0.3339\n",
            "eval_recall: 0.2923\n",
            "eval_runtime: 10.4068\n",
            "eval_samples_per_second: 190.8370\n",
            "eval_steps_per_second: 23.9270\n",
            "epoch: 4.0000\n",
            "\n",
            "===== Training für Annotator a11 =====\n"
          ]
        },
        {
          "name": "stderr",
          "output_type": "stream",
          "text": [
            "/tmp/ipython-input-1071254.py:39: FutureWarning: `tokenizer` is deprecated and will be removed in version 5.0.0 for `Trainer.__init__`. Use `processing_class` instead.\n",
            "  trainer = Trainer(\n"
          ]
        },
        {
          "data": {
            "text/html": [
              "\n",
              "    <div>\n",
              "      \n",
              "      <progress value='420' max='420' style='width:300px; height:20px; vertical-align: middle;'></progress>\n",
              "      [420/420 01:08, Epoch 4/4]\n",
              "    </div>\n",
              "    <table border=\"1\" class=\"dataframe\">\n",
              "  <thead>\n",
              " <tr style=\"text-align: left;\">\n",
              "      <th>Epoch</th>\n",
              "      <th>Training Loss</th>\n",
              "      <th>Validation Loss</th>\n",
              "      <th>Accuracy</th>\n",
              "      <th>F1-macro</th>\n",
              "      <th>Precision</th>\n",
              "      <th>Recall</th>\n",
              "    </tr>\n",
              "  </thead>\n",
              "  <tbody>\n",
              "    <tr>\n",
              "      <td>1</td>\n",
              "      <td>0.741200</td>\n",
              "      <td>0.778141</td>\n",
              "      <td>0.763441</td>\n",
              "      <td>0.216463</td>\n",
              "      <td>0.190860</td>\n",
              "      <td>0.250000</td>\n",
              "    </tr>\n",
              "    <tr>\n",
              "      <td>2</td>\n",
              "      <td>0.818300</td>\n",
              "      <td>0.784068</td>\n",
              "      <td>0.763441</td>\n",
              "      <td>0.216463</td>\n",
              "      <td>0.190860</td>\n",
              "      <td>0.250000</td>\n",
              "    </tr>\n",
              "    <tr>\n",
              "      <td>3</td>\n",
              "      <td>0.664700</td>\n",
              "      <td>0.783848</td>\n",
              "      <td>0.731183</td>\n",
              "      <td>0.244025</td>\n",
              "      <td>0.252841</td>\n",
              "      <td>0.258643</td>\n",
              "    </tr>\n",
              "    <tr>\n",
              "      <td>4</td>\n",
              "      <td>0.398600</td>\n",
              "      <td>0.851081</td>\n",
              "      <td>0.709677</td>\n",
              "      <td>0.241667</td>\n",
              "      <td>0.253676</td>\n",
              "      <td>0.251601</td>\n",
              "    </tr>\n",
              "  </tbody>\n",
              "</table><p>"
            ],
            "text/plain": [
              "<IPython.core.display.HTML object>"
            ]
          },
          "metadata": {},
          "output_type": "display_data"
        },
        {
          "data": {
            "text/html": [
              "\n",
              "    <div>\n",
              "      \n",
              "      <progress value='15' max='15' style='width:300px; height:20px; vertical-align: middle;'></progress>\n",
              "      [15/15 00:00]\n",
              "    </div>\n",
              "    "
            ],
            "text/plain": [
              "<IPython.core.display.HTML object>"
            ]
          },
          "metadata": {},
          "output_type": "display_data"
        },
        {
          "name": "stdout",
          "output_type": "stream",
          "text": [
            "\n",
            "Finale Evaluation auf Testdaten für a11:\n",
            "\n",
            "eval_loss: 0.4076\n",
            "eval_accuracy: 0.8684\n",
            "eval_f1-macro: 0.3128\n",
            "eval_precision: 0.3300\n",
            "eval_recall: 0.2973\n",
            "eval_runtime: 0.5646\n",
            "eval_samples_per_second: 201.9250\n",
            "eval_steps_per_second: 26.5690\n",
            "epoch: 4.0000\n",
            "\n",
            "===== Training für Annotator a12 =====\n"
          ]
        },
        {
          "name": "stderr",
          "output_type": "stream",
          "text": [
            "/tmp/ipython-input-1071254.py:39: FutureWarning: `tokenizer` is deprecated and will be removed in version 5.0.0 for `Trainer.__init__`. Use `processing_class` instead.\n",
            "  trainer = Trainer(\n"
          ]
        },
        {
          "data": {
            "text/html": [
              "\n",
              "    <div>\n",
              "      \n",
              "      <progress value='2700' max='2700' style='width:300px; height:20px; vertical-align: middle;'></progress>\n",
              "      [2700/2700 07:31, Epoch 4/4]\n",
              "    </div>\n",
              "    <table border=\"1\" class=\"dataframe\">\n",
              "  <thead>\n",
              " <tr style=\"text-align: left;\">\n",
              "      <th>Epoch</th>\n",
              "      <th>Training Loss</th>\n",
              "      <th>Validation Loss</th>\n",
              "      <th>Accuracy</th>\n",
              "      <th>F1-macro</th>\n",
              "      <th>Precision</th>\n",
              "      <th>Recall</th>\n",
              "    </tr>\n",
              "  </thead>\n",
              "  <tbody>\n",
              "    <tr>\n",
              "      <td>1</td>\n",
              "      <td>0.891900</td>\n",
              "      <td>0.960158</td>\n",
              "      <td>0.650000</td>\n",
              "      <td>0.220538</td>\n",
              "      <td>0.210747</td>\n",
              "      <td>0.242684</td>\n",
              "    </tr>\n",
              "    <tr>\n",
              "      <td>2</td>\n",
              "      <td>0.833500</td>\n",
              "      <td>1.015612</td>\n",
              "      <td>0.605000</td>\n",
              "      <td>0.236121</td>\n",
              "      <td>0.213128</td>\n",
              "      <td>0.283225</td>\n",
              "    </tr>\n",
              "    <tr>\n",
              "      <td>3</td>\n",
              "      <td>0.493500</td>\n",
              "      <td>1.213909</td>\n",
              "      <td>0.626667</td>\n",
              "      <td>0.229901</td>\n",
              "      <td>0.206046</td>\n",
              "      <td>0.261913</td>\n",
              "    </tr>\n",
              "    <tr>\n",
              "      <td>4</td>\n",
              "      <td>0.476300</td>\n",
              "      <td>1.312578</td>\n",
              "      <td>0.598333</td>\n",
              "      <td>0.258707</td>\n",
              "      <td>0.260662</td>\n",
              "      <td>0.273322</td>\n",
              "    </tr>\n",
              "  </tbody>\n",
              "</table><p>"
            ],
            "text/plain": [
              "<IPython.core.display.HTML object>"
            ]
          },
          "metadata": {},
          "output_type": "display_data"
        },
        {
          "data": {
            "text/html": [
              "\n",
              "    <div>\n",
              "      \n",
              "      <progress value='208' max='208' style='width:300px; height:20px; vertical-align: middle;'></progress>\n",
              "      [208/208 00:08]\n",
              "    </div>\n",
              "    "
            ],
            "text/plain": [
              "<IPython.core.display.HTML object>"
            ]
          },
          "metadata": {},
          "output_type": "display_data"
        },
        {
          "name": "stdout",
          "output_type": "stream",
          "text": [
            "\n",
            "Finale Evaluation auf Testdaten für a12:\n",
            "\n",
            "eval_loss: 1.4302\n",
            "eval_accuracy: 0.5894\n",
            "eval_f1-macro: 0.2809\n",
            "eval_precision: 0.3160\n",
            "eval_recall: 0.2866\n",
            "eval_runtime: 8.8194\n",
            "eval_samples_per_second: 188.3350\n",
            "eval_steps_per_second: 23.5840\n",
            "epoch: 4.0000\n"
          ]
        }
      ],
      "source": [
        "def model_training_per_annotator(datasets):\n",
        "  num_labels = 5\n",
        "  device = torch.device(\"cuda\" if torch.cuda.is_available() else \"cpu\")\n",
        "  model_ckpt = \"distilbert-base-german-cased\"\n",
        "  tokenizer = AutoTokenizer.from_pretrained(model_ckpt)\n",
        "\n",
        "  results = []\n",
        "\n",
        "  for annotator, dataset in datasets.items():\n",
        "    print(f\"\\n===== Training für Annotator {annotator} =====\")\n",
        "\n",
        "    # Neues Modell für jeden Annotator\n",
        "    config = AutoConfig.from_pretrained(\n",
        "        model_ckpt,\n",
        "        num_labels=num_labels,\n",
        "        hidden_dropout_prob=0.3,\n",
        "        attention_probs_dropout_prob=0.3)\n",
        "\n",
        "    model = (AutoModelForSequenceClassification\n",
        "            .from_pretrained(model_ckpt, config=config)\n",
        "            .to(device))\n",
        "\n",
        "    batch_size = 8\n",
        "\n",
        "    training_args = TrainingArguments(\n",
        "            num_train_epochs=4,\n",
        "            learning_rate=3.32e-05,\n",
        "            save_strategy=\"no\",\n",
        "            per_device_train_batch_size=batch_size,\n",
        "            per_device_eval_batch_size=batch_size,\n",
        "            weight_decay=0.01,\n",
        "            eval_strategy=\"epoch\",\n",
        "            disable_tqdm=False,\n",
        "            logging_steps=10,\n",
        "            push_to_hub=False,\n",
        "            log_level=\"error\")\n",
        "\n",
        "    trainer = Trainer(\n",
        "            model=model,\n",
        "            args=training_args,\n",
        "            compute_metrics=compute_metrics,\n",
        "            train_dataset=dataset[\"train\"],\n",
        "            eval_dataset=dataset[\"validation\"],\n",
        "            tokenizer=tokenizer)\n",
        "\n",
        "    # Training + Validation\n",
        "    trainer.train();\n",
        "\n",
        "    # Finale Evaluation auf den Testdaten\n",
        "    eval_result = trainer.evaluate(eval_dataset=dataset[\"test\"]);\n",
        "    print(f\"\\nFinale Evaluation auf Testdaten für {annotator}:\\n\")\n",
        "    for key, value in eval_result.items():\n",
        "      print(f\"{key}: {value:.4f}\")\n",
        "\n",
        "    results.append({\n",
        "      'Annotator': annotator,\n",
        "      'Modell': 'distilbert-base-german-cased (annotator A1)',\n",
        "      'Accuracy': eval_result['eval_accuracy'],\n",
        "      'Precision': eval_result['eval_precision'],\n",
        "      'Recall': eval_result['eval_recall'],\n",
        "      'F1-Score': eval_result['eval_f1-macro'],\n",
        "      'learning-rate': 3.32e-05,\n",
        "      'batch-size': batch_size,\n",
        "      'epochs': 4})\n",
        "\n",
        "  return results\n",
        "\n",
        "all_results = model_training_per_annotator(datasets_per_annotator_split)"
      ]
    },
    {
      "cell_type": "markdown",
      "metadata": {
        "id": "zFJaJDuAkGBA"
      },
      "source": [
        "## Wortlisten-Regelkorrektur"
      ]
    },
    {
      "cell_type": "markdown",
      "metadata": {
        "id": "OmElGZl_Uo93"
      },
      "source": [
        "### BERT Modell für binäre Labels trainieren + Wordlisten Funktion\n",
        "\n"
      ]
    },
    {
      "cell_type": "code",
      "execution_count": null,
      "metadata": {
        "colab": {
          "base_uri": "https://localhost:8080/",
          "height": 672
        },
        "id": "tWmz-a_ZLUko",
        "outputId": "b3080f9f-faad-4f3d-a966-578dfd211b68"
      },
      "outputs": [
        {
          "name": "stderr",
          "output_type": "stream",
          "text": [
            "/tmp/ipython-input-2460591189.py:33: FutureWarning: `tokenizer` is deprecated and will be removed in version 5.0.0 for `Trainer.__init__`. Use `processing_class` instead.\n",
            "  trainer = Trainer(\n"
          ]
        },
        {
          "data": {
            "text/html": [
              "\n",
              "    <div>\n",
              "      \n",
              "      <progress value='1014' max='1014' style='width:300px; height:20px; vertical-align: middle;'></progress>\n",
              "      [1014/1014 05:23, Epoch 3/3]\n",
              "    </div>\n",
              "    <table border=\"1\" class=\"dataframe\">\n",
              "  <thead>\n",
              " <tr style=\"text-align: left;\">\n",
              "      <th>Epoch</th>\n",
              "      <th>Training Loss</th>\n",
              "      <th>Validation Loss</th>\n",
              "      <th>Accuracy</th>\n",
              "      <th>F1-macro</th>\n",
              "      <th>Precision</th>\n",
              "      <th>Recall</th>\n",
              "    </tr>\n",
              "  </thead>\n",
              "  <tbody>\n",
              "    <tr>\n",
              "      <td>1</td>\n",
              "      <td>0.554100</td>\n",
              "      <td>0.518432</td>\n",
              "      <td>0.750000</td>\n",
              "      <td>0.744756</td>\n",
              "      <td>0.772384</td>\n",
              "      <td>0.750000</td>\n",
              "    </tr>\n",
              "    <tr>\n",
              "      <td>2</td>\n",
              "      <td>0.365700</td>\n",
              "      <td>0.529701</td>\n",
              "      <td>0.748333</td>\n",
              "      <td>0.747823</td>\n",
              "      <td>0.750361</td>\n",
              "      <td>0.748333</td>\n",
              "    </tr>\n",
              "    <tr>\n",
              "      <td>3</td>\n",
              "      <td>0.294200</td>\n",
              "      <td>0.595801</td>\n",
              "      <td>0.741667</td>\n",
              "      <td>0.741350</td>\n",
              "      <td>0.742857</td>\n",
              "      <td>0.741667</td>\n",
              "    </tr>\n",
              "  </tbody>\n",
              "</table><p>"
            ],
            "text/plain": [
              "<IPython.core.display.HTML object>"
            ]
          },
          "metadata": {},
          "output_type": "display_data"
        },
        {
          "data": {
            "text/html": [],
            "text/plain": [
              "<IPython.core.display.HTML object>"
            ]
          },
          "metadata": {},
          "output_type": "display_data"
        },
        {
          "name": "stdout",
          "output_type": "stream",
          "text": [
            "Ohne Regelkorrektur (nur Modell):\n",
            "\n",
            "              precision    recall  f1-score   support\n",
            "\n",
            "           0    0.68884   0.59856   0.64053       969\n",
            "           1    0.65997   0.74238   0.69875      1017\n",
            "\n",
            "    accuracy                        0.67221      1986\n",
            "   macro avg    0.67440   0.67047   0.66964      1986\n",
            "weighted avg    0.67405   0.67221   0.67034      1986\n",
            "\n",
            "Mit Regelkorrektur bei Unsicherheit:\n",
            "\n",
            "              precision    recall  f1-score   support\n",
            "\n",
            "           0    0.69512   0.58824   0.63723       969\n",
            "           1    0.65780   0.75418   0.70270      1017\n",
            "\n",
            "    accuracy                        0.67321      1986\n",
            "   macro avg    0.67646   0.67121   0.66997      1986\n",
            "weighted avg    0.67601   0.67321   0.67076      1986\n",
            "\n",
            "Vergleich (Macro-Averages):\n",
            "   Modell: Acc=0.6722, Prec=0.6744, Rec=0.6705, F1=0.6696\n",
            "   Hybrid: Acc=0.6732, Prec=0.6765, Rec=0.6712, F1=0.6700\n"
          ]
        }
      ],
      "source": [
        "def model_training_binary_wordlist(dataset):\n",
        "    num_labels = 2\n",
        "    device = torch.device(\"cuda\" if torch.cuda.is_available() else \"cpu\")\n",
        "    model_ckpt = \"distilbert-base-german-cased\"\n",
        "    tokenizer = AutoTokenizer.from_pretrained(model_ckpt)\n",
        "    config = AutoConfig.from_pretrained(\n",
        "        model_ckpt,\n",
        "        num_labels=num_labels,\n",
        "        hidden_dropout_prob=0.3,\n",
        "        attention_probs_dropout_prob=0.3\n",
        "    )\n",
        "    model = (AutoModelForSequenceClassification\n",
        "             .from_pretrained(model_ckpt, config=config)\n",
        "             .to(device))\n",
        "\n",
        "    batch_size = 16\n",
        "    logging_steps = 10\n",
        "    training_args = TrainingArguments(\n",
        "        num_train_epochs=3,\n",
        "        learning_rate=3.08e-5,\n",
        "        per_device_train_batch_size=batch_size,\n",
        "        per_device_eval_batch_size=batch_size,\n",
        "        weight_decay=0.01,\n",
        "        eval_strategy=\"epoch\",\n",
        "        disable_tqdm=False,\n",
        "        logging_steps=logging_steps,\n",
        "        push_to_hub=False,\n",
        "        log_level=\"error\"\n",
        "    )\n",
        "\n",
        "    trainer = Trainer(\n",
        "        model=model,\n",
        "        args=training_args,\n",
        "        compute_metrics=compute_metrics,\n",
        "        train_dataset=dataset[\"train\"],\n",
        "        eval_dataset=dataset[\"validation\"],\n",
        "        tokenizer=tokenizer\n",
        "    )\n",
        "    trainer.train()\n",
        "\n",
        "    # --- Vorhersagen ---\n",
        "    predictions = trainer.predict(dataset[\"test\"])\n",
        "    logits = predictions.predictions\n",
        "    probs = torch.nn.functional.softmax(torch.tensor(logits), dim=1).numpy()\n",
        "    predicted_labels = np.argmax(probs, axis=1)\n",
        "\n",
        "    # Originaltexte und Labels\n",
        "    texts = dataset[\"test\"][\"text\"]\n",
        "    true_labels = dataset[\"test\"][\"labels\"]\n",
        "\n",
        "    # --- Regelbasierte Korrektur nur bei Unsicherheit ---\n",
        "    adjusted_preds = []\n",
        "    for text, prob, pred in zip(texts, probs, predicted_labels):\n",
        "        max_prob = np.max(prob)\n",
        "        diff = abs(prob[0] - prob[1])\n",
        "\n",
        "        # Bedingung: Modell unsicher\n",
        "        if max_prob < 0.75 or diff < 0.1:\n",
        "            if pred == 0 and any(word in text.lower() for word in sexist_words_filtered):\n",
        "                adjusted_preds.append(1)  # Regel überschreibt\n",
        "                continue\n",
        "\n",
        "        # sonst normale Modellvorhersage\n",
        "        adjusted_preds.append(pred)\n",
        "\n",
        "    # --- Evaluation ---\n",
        "    print(\"Ohne Regelkorrektur (nur Modell):\\n\")\n",
        "    print(classification_report(true_labels, predicted_labels, digits=5))\n",
        "\n",
        "    print(\"Mit Regelkorrektur bei Unsicherheit:\\n\")\n",
        "    print(classification_report(true_labels, adjusted_preds, digits=5))\n",
        "\n",
        "    # nebeneinander vergleichen (Precision/Recall/F1)\n",
        "    metrics_model = precision_recall_fscore_support(true_labels, predicted_labels, average=\"macro\")\n",
        "    metrics_rules = precision_recall_fscore_support(true_labels, adjusted_preds, average=\"macro\")\n",
        "\n",
        "    print(\"Vergleich (Macro-Averages):\")\n",
        "    print(f\"   Modell: Acc={accuracy_score(true_labels, predicted_labels):.4f}, \"\n",
        "          f\"Prec={metrics_model[0]:.4f}, Rec={metrics_model[1]:.4f}, F1={metrics_model[2]:.4f}\")\n",
        "    print(f\"   Hybrid: Acc={accuracy_score(true_labels, adjusted_preds):.4f}, \"\n",
        "          f\"Prec={metrics_rules[0]:.4f}, Rec={metrics_rules[1]:.4f}, F1={metrics_rules[2]:.4f}\")\n",
        "\n",
        "model_training_binary_wordlist(dataset_binary_split)"
      ]
    },
    {
      "cell_type": "markdown",
      "metadata": {
        "id": "9uzfU4D4jq8x"
      },
      "source": [
        "### BERT Modell für Multi Median Labels trainieren mit Wortlisten-Regelkorrektur"
      ]
    },
    {
      "cell_type": "code",
      "execution_count": null,
      "metadata": {
        "colab": {
          "base_uri": "https://localhost:8080/",
          "height": 953
        },
        "id": "0Z-nXKcIj605",
        "outputId": "0ce877b2-c8ce-4e8e-de7d-150941d8c5a4"
      },
      "outputs": [
        {
          "name": "stderr",
          "output_type": "stream",
          "text": [
            "/tmp/ipython-input-3259173034.py:33: FutureWarning: `tokenizer` is deprecated and will be removed in version 5.0.0 for `Trainer.__init__`. Use `processing_class` instead.\n",
            "  trainer = Trainer(\n"
          ]
        },
        {
          "data": {
            "text/html": [
              "\n",
              "    <div>\n",
              "      \n",
              "      <progress value='1352' max='1352' style='width:300px; height:20px; vertical-align: middle;'></progress>\n",
              "      [1352/1352 06:56, Epoch 4/4]\n",
              "    </div>\n",
              "    <table border=\"1\" class=\"dataframe\">\n",
              "  <thead>\n",
              " <tr style=\"text-align: left;\">\n",
              "      <th>Epoch</th>\n",
              "      <th>Training Loss</th>\n",
              "      <th>Validation Loss</th>\n",
              "      <th>Accuracy</th>\n",
              "      <th>F1-macro</th>\n",
              "      <th>Precision</th>\n",
              "      <th>Recall</th>\n",
              "    </tr>\n",
              "  </thead>\n",
              "  <tbody>\n",
              "    <tr>\n",
              "      <td>1</td>\n",
              "      <td>0.990000</td>\n",
              "      <td>0.919897</td>\n",
              "      <td>0.626667</td>\n",
              "      <td>0.217297</td>\n",
              "      <td>0.193793</td>\n",
              "      <td>0.247306</td>\n",
              "    </tr>\n",
              "    <tr>\n",
              "      <td>2</td>\n",
              "      <td>0.858200</td>\n",
              "      <td>0.942480</td>\n",
              "      <td>0.608333</td>\n",
              "      <td>0.276467</td>\n",
              "      <td>0.264473</td>\n",
              "      <td>0.290528</td>\n",
              "    </tr>\n",
              "    <tr>\n",
              "      <td>3</td>\n",
              "      <td>0.554700</td>\n",
              "      <td>1.138915</td>\n",
              "      <td>0.570000</td>\n",
              "      <td>0.281061</td>\n",
              "      <td>0.318509</td>\n",
              "      <td>0.287704</td>\n",
              "    </tr>\n",
              "    <tr>\n",
              "      <td>4</td>\n",
              "      <td>0.513000</td>\n",
              "      <td>1.265193</td>\n",
              "      <td>0.580000</td>\n",
              "      <td>0.300391</td>\n",
              "      <td>0.345714</td>\n",
              "      <td>0.302964</td>\n",
              "    </tr>\n",
              "  </tbody>\n",
              "</table><p>"
            ],
            "text/plain": [
              "<IPython.core.display.HTML object>"
            ]
          },
          "metadata": {},
          "output_type": "display_data"
        },
        {
          "data": {
            "text/html": [],
            "text/plain": [
              "<IPython.core.display.HTML object>"
            ]
          },
          "metadata": {},
          "output_type": "display_data"
        },
        {
          "name": "stdout",
          "output_type": "stream",
          "text": [
            "Ohne Regelkorrektur (nur Modell):\n",
            "\n",
            "              precision    recall  f1-score   support\n",
            "\n",
            "           0    0.76690   0.72660   0.74621      1218\n",
            "           1    0.21764   0.34421   0.26667       337\n",
            "           2    0.26953   0.24468   0.25651       282\n",
            "           3    0.32558   0.09790   0.15054       143\n",
            "           4    0.00000   0.00000   0.00000         6\n",
            "\n",
            "    accuracy                        0.54582      1986\n",
            "   macro avg    0.31593   0.28268   0.28398      1986\n",
            "weighted avg    0.56898   0.54582   0.55015      1986\n",
            "\n",
            "Mit Regelkorrektur bei Unsicherheit (+1 Regel):\n",
            "\n",
            "              precision    recall  f1-score   support\n",
            "\n",
            "           0    0.76828   0.71593   0.74118      1218\n",
            "           1    0.22013   0.31157   0.25799       337\n",
            "           2    0.28244   0.26241   0.27206       282\n",
            "           3    0.24742   0.16783   0.20000       143\n",
            "           4    0.00000   0.00000   0.00000         6\n",
            "\n",
            "    accuracy                        0.54129      1986\n",
            "   macro avg    0.30365   0.29155   0.29425      1986\n",
            "weighted avg    0.56646   0.54129   0.55137      1986\n",
            "\n"
          ]
        },
        {
          "name": "stderr",
          "output_type": "stream",
          "text": [
            "/usr/local/lib/python3.12/dist-packages/sklearn/metrics/_classification.py:1565: UndefinedMetricWarning: Precision is ill-defined and being set to 0.0 in labels with no predicted samples. Use `zero_division` parameter to control this behavior.\n",
            "  _warn_prf(average, modifier, f\"{metric.capitalize()} is\", len(result))\n",
            "/usr/local/lib/python3.12/dist-packages/sklearn/metrics/_classification.py:1565: UndefinedMetricWarning: Precision is ill-defined and being set to 0.0 in labels with no predicted samples. Use `zero_division` parameter to control this behavior.\n",
            "  _warn_prf(average, modifier, f\"{metric.capitalize()} is\", len(result))\n",
            "/usr/local/lib/python3.12/dist-packages/sklearn/metrics/_classification.py:1565: UndefinedMetricWarning: Precision is ill-defined and being set to 0.0 in labels with no predicted samples. Use `zero_division` parameter to control this behavior.\n",
            "  _warn_prf(average, modifier, f\"{metric.capitalize()} is\", len(result))\n",
            "/usr/local/lib/python3.12/dist-packages/sklearn/metrics/_classification.py:1565: UndefinedMetricWarning: Precision is ill-defined and being set to 0.0 in labels with no predicted samples. Use `zero_division` parameter to control this behavior.\n",
            "  _warn_prf(average, modifier, f\"{metric.capitalize()} is\", len(result))\n"
          ]
        },
        {
          "name": "stdout",
          "output_type": "stream",
          "text": [
            "Vergleich (Macro-Averages):\n",
            "   Modell: Acc=0.5458, Prec=0.3159, Rec=0.2827, F1=0.2840\n",
            "   Hybrid: Acc=0.5413, Prec=0.3037, Rec=0.2915, F1=0.2942\n"
          ]
        }
      ],
      "source": [
        "def model_training_multimedian_wordlist(dataset):\n",
        "    num_labels = 5\n",
        "    device = torch.device(\"cuda\" if torch.cuda.is_available() else \"cpu\")\n",
        "    model_ckpt = \"distilbert-base-german-cased\"\n",
        "    tokenizer = AutoTokenizer.from_pretrained(model_ckpt)\n",
        "    config = AutoConfig.from_pretrained(\n",
        "        model_ckpt,\n",
        "        num_labels=num_labels,\n",
        "        hidden_dropout_prob=0.3,\n",
        "        attention_probs_dropout_prob=0.3\n",
        "    )\n",
        "    model = (AutoModelForSequenceClassification\n",
        "             .from_pretrained(model_ckpt, config=config)\n",
        "             .to(device))\n",
        "\n",
        "    batch_size = 16\n",
        "    logging_steps = 10\n",
        "    training_args = TrainingArguments(\n",
        "        num_train_epochs=4,\n",
        "        learning_rate=4.74e-5,\n",
        "        per_device_train_batch_size=batch_size,\n",
        "        per_device_eval_batch_size=batch_size,\n",
        "        weight_decay=0.01,\n",
        "        eval_strategy=\"epoch\",\n",
        "        disable_tqdm=False,\n",
        "        logging_steps=logging_steps,\n",
        "        push_to_hub=False,\n",
        "        log_level=\"error\"\n",
        "    )\n",
        "\n",
        "    trainer = Trainer(\n",
        "        model=model,\n",
        "        args=training_args,\n",
        "        compute_metrics=compute_metrics,\n",
        "        train_dataset=dataset[\"train\"],\n",
        "        eval_dataset=dataset[\"validation\"],\n",
        "        tokenizer=tokenizer\n",
        "    )\n",
        "    trainer.train()\n",
        "\n",
        "    # --- Vorhersagen auf den Testdaten ---\n",
        "    predictions = trainer.predict(dataset[\"test\"])\n",
        "    logits = predictions.predictions\n",
        "    probs = torch.nn.functional.softmax(torch.tensor(logits), dim=1).numpy()\n",
        "    predicted_labels = np.argmax(probs, axis=1)\n",
        "\n",
        "    # Originaltexte und Labels\n",
        "    texts = dataset[\"test\"][\"text\"]\n",
        "    true_labels = dataset[\"test\"][\"labels\"]\n",
        "\n",
        "    # --- Regelbasierte Korrektur nur bei Unsicherheit ---\n",
        "    adjusted_preds = []\n",
        "    for text, prob, pred in zip(texts, probs, predicted_labels):\n",
        "      max_prob = np.max(prob)\n",
        "      # Unterschied zwischen Top-2-Klassen berechnen\n",
        "      top2 = np.sort(prob)[-2:]\n",
        "      diff = top2[1] - top2[0]\n",
        "\n",
        "      # Bedingung: Modell unsicher\n",
        "      if max_prob < 0.75 or diff < 0.1:\n",
        "          text_lower = text.lower()\n",
        "          if any(word in text_lower for word in sexist_words_filtered):\n",
        "              new_label = min(pred + 1, num_labels - 1)  # max capped bei 4\n",
        "              adjusted_preds.append(new_label)\n",
        "              continue\n",
        "\n",
        "      # sonst normale Modellvorhersage\n",
        "      adjusted_preds.append(pred)\n",
        "\n",
        "    # --- Evaluation ---\n",
        "    print(\"Ohne Regelkorrektur (nur Modell):\\n\")\n",
        "    print(classification_report(true_labels, predicted_labels, digits=5))\n",
        "\n",
        "    print(\"Mit Regelkorrektur bei Unsicherheit (+1 Regel):\\n\")\n",
        "    print(classification_report(true_labels, adjusted_preds, digits=5))\n",
        "\n",
        "    # nebeneinander vergleichen (Precision/Recall/F1)\n",
        "    metrics_model = precision_recall_fscore_support(true_labels, predicted_labels, average=\"macro\")\n",
        "    metrics_rules = precision_recall_fscore_support(true_labels, adjusted_preds, average=\"macro\")\n",
        "\n",
        "    print(\"Vergleich (Macro-Averages):\")\n",
        "    print(f\"   Modell: Acc={accuracy_score(true_labels, predicted_labels):.4f}, \"\n",
        "          f\"Prec={metrics_model[0]:.4f}, Rec={metrics_model[1]:.4f}, F1={metrics_model[2]:.4f}\")\n",
        "    print(f\"   Hybrid: Acc={accuracy_score(true_labels, adjusted_preds):.4f}, \"\n",
        "          f\"Prec={metrics_rules[0]:.4f}, Rec={metrics_rules[1]:.4f}, F1={metrics_rules[2]:.4f}\")\n",
        "\n",
        "model_training_multimedian_wordlist(dataset_multi_split)"
      ]
    },
    {
      "cell_type": "markdown",
      "metadata": {
        "id": "r2ABAuAonsXe"
      },
      "source": [
        "### BERT Modell für Multi Roundup Labels trainieren mit Wortlisten-Regelkorrektur"
      ]
    },
    {
      "cell_type": "code",
      "execution_count": null,
      "metadata": {
        "colab": {
          "base_uri": "https://localhost:8080/",
          "height": 779
        },
        "id": "oN--KN19nsXf",
        "outputId": "12383b8e-3c82-4d4c-d998-a7660579832a"
      },
      "outputs": [
        {
          "name": "stderr",
          "output_type": "stream",
          "text": [
            "/tmp/ipython-input-950511340.py:33: FutureWarning: `tokenizer` is deprecated and will be removed in version 5.0.0 for `Trainer.__init__`. Use `processing_class` instead.\n",
            "  trainer = Trainer(\n"
          ]
        },
        {
          "data": {
            "text/html": [
              "\n",
              "    <div>\n",
              "      \n",
              "      <progress value='1014' max='1014' style='width:300px; height:20px; vertical-align: middle;'></progress>\n",
              "      [1014/1014 05:12, Epoch 3/3]\n",
              "    </div>\n",
              "    <table border=\"1\" class=\"dataframe\">\n",
              "  <thead>\n",
              " <tr style=\"text-align: left;\">\n",
              "      <th>Epoch</th>\n",
              "      <th>Training Loss</th>\n",
              "      <th>Validation Loss</th>\n",
              "      <th>Accuracy</th>\n",
              "      <th>F1-macro</th>\n",
              "      <th>Precision</th>\n",
              "      <th>Recall</th>\n",
              "    </tr>\n",
              "  </thead>\n",
              "  <tbody>\n",
              "    <tr>\n",
              "      <td>1</td>\n",
              "      <td>1.216900</td>\n",
              "      <td>1.127044</td>\n",
              "      <td>0.536667</td>\n",
              "      <td>0.293991</td>\n",
              "      <td>0.275668</td>\n",
              "      <td>0.317268</td>\n",
              "    </tr>\n",
              "    <tr>\n",
              "      <td>2</td>\n",
              "      <td>1.052700</td>\n",
              "      <td>1.152068</td>\n",
              "      <td>0.531667</td>\n",
              "      <td>0.329683</td>\n",
              "      <td>0.332513</td>\n",
              "      <td>0.339959</td>\n",
              "    </tr>\n",
              "    <tr>\n",
              "      <td>3</td>\n",
              "      <td>0.730100</td>\n",
              "      <td>1.241359</td>\n",
              "      <td>0.518333</td>\n",
              "      <td>0.324861</td>\n",
              "      <td>0.323927</td>\n",
              "      <td>0.330593</td>\n",
              "    </tr>\n",
              "  </tbody>\n",
              "</table><p>"
            ],
            "text/plain": [
              "<IPython.core.display.HTML object>"
            ]
          },
          "metadata": {},
          "output_type": "display_data"
        },
        {
          "data": {
            "text/html": [],
            "text/plain": [
              "<IPython.core.display.HTML object>"
            ]
          },
          "metadata": {},
          "output_type": "display_data"
        },
        {
          "name": "stdout",
          "output_type": "stream",
          "text": [
            "Ohne Regelkorrektur (nur Modell):\n",
            "\n",
            "              precision    recall  f1-score   support\n",
            "\n",
            "           0    0.68043   0.64603   0.66278       969\n",
            "           1    0.25235   0.33924   0.28942       395\n",
            "           2    0.32021   0.33152   0.32577       368\n",
            "           3    0.24183   0.20442   0.22156       181\n",
            "           4    0.00000   0.00000   0.00000        73\n",
            "\n",
            "    accuracy                        0.46274      1986\n",
            "   macro avg    0.29897   0.30424   0.29991      1986\n",
            "weighted avg    0.46356   0.46274   0.46150      1986\n",
            "\n",
            "Mit Regelkorrektur bei Unsicherheit (+1 Regel):\n",
            "\n",
            "              precision    recall  f1-score   support\n",
            "\n",
            "           0    0.68603   0.63364   0.65880       969\n",
            "           1    0.24580   0.29620   0.26866       395\n",
            "           2    0.27887   0.26902   0.27386       368\n",
            "           3    0.20362   0.24862   0.22388       181\n",
            "           4    0.23077   0.12329   0.16071        73\n",
            "\n",
            "    accuracy                        0.44512      1986\n",
            "   macro avg    0.32902   0.31415   0.31718      1986\n",
            "weighted avg    0.46233   0.44512   0.45193      1986\n",
            "\n",
            "Vergleich (Macro-Averages):\n",
            "   Modell: Acc=0.4627, Prec=0.2990, Rec=0.3042, F1=0.2999\n",
            "   Hybrid: Acc=0.4451, Prec=0.3290, Rec=0.3142, F1=0.3172\n"
          ]
        }
      ],
      "source": [
        "def model_training_multiroundup_wordlist(dataset):\n",
        "    num_labels = 5\n",
        "    device = torch.device(\"cuda\" if torch.cuda.is_available() else \"cpu\")\n",
        "    model_ckpt = \"distilbert-base-german-cased\"\n",
        "    tokenizer = AutoTokenizer.from_pretrained(model_ckpt)\n",
        "    config = AutoConfig.from_pretrained(\n",
        "        model_ckpt,\n",
        "        num_labels=num_labels,\n",
        "        hidden_dropout_prob=0.3,\n",
        "        attention_probs_dropout_prob=0.3\n",
        "    )\n",
        "    model = (AutoModelForSequenceClassification\n",
        "             .from_pretrained(model_ckpt, config=config)\n",
        "             .to(device))\n",
        "\n",
        "    batch_size = 16\n",
        "    logging_steps = 10\n",
        "    training_args = TrainingArguments(\n",
        "        num_train_epochs=3,\n",
        "        learning_rate=4.98e-5,\n",
        "        per_device_train_batch_size=batch_size,\n",
        "        per_device_eval_batch_size=batch_size,\n",
        "        weight_decay=0.01,\n",
        "        eval_strategy=\"epoch\",\n",
        "        disable_tqdm=False,\n",
        "        logging_steps=logging_steps,\n",
        "        push_to_hub=False,\n",
        "        log_level=\"error\"\n",
        "    )\n",
        "\n",
        "    trainer = Trainer(\n",
        "        model=model,\n",
        "        args=training_args,\n",
        "        compute_metrics=compute_metrics,\n",
        "        train_dataset=dataset[\"train\"],\n",
        "        eval_dataset=dataset[\"validation\"],\n",
        "        tokenizer=tokenizer\n",
        "    )\n",
        "    trainer.train()\n",
        "\n",
        "    # --- Vorhersagen auf den Testdaten ---\n",
        "    predictions = trainer.predict(dataset[\"test\"])\n",
        "    logits = predictions.predictions\n",
        "    probs = torch.nn.functional.softmax(torch.tensor(logits), dim=1).numpy()\n",
        "    predicted_labels = np.argmax(probs, axis=1)\n",
        "\n",
        "    # Originaltexte und Labels\n",
        "    texts = dataset[\"test\"][\"text\"]\n",
        "    true_labels = dataset[\"test\"][\"labels\"]\n",
        "\n",
        "    # --- Regelbasierte Korrektur nur bei Unsicherheit ---\n",
        "    adjusted_preds = []\n",
        "    for text, prob, pred in zip(texts, probs, predicted_labels):\n",
        "      max_prob = np.max(prob)\n",
        "      # Unterschied zwischen Top-2-Klassen berechnen\n",
        "      top2 = np.sort(prob)[-2:]\n",
        "      diff = top2[1] - top2[0]\n",
        "\n",
        "      # Bedingung: Modell unsicher\n",
        "      if max_prob < 0.75 or diff < 0.1:\n",
        "          text_lower = text.lower()\n",
        "          if any(word in text_lower for word in sexist_words_filtered):\n",
        "              new_label = min(pred + 1, num_labels - 1)  # max capped bei 4\n",
        "              adjusted_preds.append(new_label)\n",
        "              continue\n",
        "\n",
        "      # sonst normale Modellvorhersage\n",
        "      adjusted_preds.append(pred)\n",
        "\n",
        "    # --- Evaluation ---\n",
        "    print(\"Ohne Regelkorrektur (nur Modell):\\n\")\n",
        "    print(classification_report(true_labels, predicted_labels, digits=5))\n",
        "\n",
        "    print(\"Mit Regelkorrektur bei Unsicherheit (+1 Regel):\\n\")\n",
        "    print(classification_report(true_labels, adjusted_preds, digits=5))\n",
        "\n",
        "    # nebeneinander vergleichen (Precision/Recall/F1)\n",
        "    metrics_model = precision_recall_fscore_support(true_labels, predicted_labels, average=\"macro\")\n",
        "    metrics_rules = precision_recall_fscore_support(true_labels, adjusted_preds, average=\"macro\")\n",
        "\n",
        "    print(\"Vergleich (Macro-Averages):\")\n",
        "    print(f\"   Modell: Acc={accuracy_score(true_labels, predicted_labels):.4f}, \"\n",
        "          f\"Prec={metrics_model[0]:.4f}, Rec={metrics_model[1]:.4f}, F1={metrics_model[2]:.4f}\")\n",
        "    print(f\"   Hybrid: Acc={accuracy_score(true_labels, adjusted_preds):.4f}, \"\n",
        "          f\"Prec={metrics_rules[0]:.4f}, Rec={metrics_rules[1]:.4f}, F1={metrics_rules[2]:.4f}\")\n",
        "\n",
        "model_training_multiroundup_wordlist(dataset_multi_roundup_split)"
      ]
    },
    {
      "cell_type": "markdown",
      "metadata": {
        "id": "VaiqheTykNwB"
      },
      "source": [
        "## Wortliste als zusätzliches Feature"
      ]
    },
    {
      "cell_type": "markdown",
      "metadata": {
        "id": "CwIYdEy-TuZa"
      },
      "source": [
        "Neues DistilBERT-Modell erstellen, welches das neue \"has_sexist_word\" Feature im Datensatz erkennt und verarbeiten kann"
      ]
    },
    {
      "cell_type": "code",
      "execution_count": null,
      "metadata": {
        "id": "lLjEwrPVcOp7"
      },
      "outputs": [],
      "source": [
        "class DistilBertWithFeature(nn.Module):\n",
        "    def __init__(self, model_name, num_labels, dropout_rate=0.3):\n",
        "        super().__init__()\n",
        "        self.bert = DistilBertModel.from_pretrained(model_name)\n",
        "        self.feature_proj = nn.Linear(1, 8)  # projiziert das Zusatzfeature auf 8 Dimensionen\n",
        "        self.dropout = nn.Dropout(dropout_rate)  # Dropout-Layer\n",
        "        self.classifier = nn.Linear(self.bert.config.hidden_size + 8, num_labels)\n",
        "\n",
        "    def forward(self, input_ids, attention_mask, has_sexist_word, labels=None):\n",
        "        # BERT-Forward\n",
        "        bert_outputs = self.bert(input_ids=input_ids, attention_mask=attention_mask)\n",
        "        pooled_output = bert_outputs.last_hidden_state[:, 0]  # CLS-Token\n",
        "\n",
        "        # Extra Feature\n",
        "        extra_feature = self.feature_proj(has_sexist_word.unsqueeze(1).float())\n",
        "\n",
        "        # Dropout anwenden\n",
        "        pooled_output = self.dropout(pooled_output)\n",
        "\n",
        "        # Kombinieren und Klassifizieren\n",
        "        combined = torch.cat((pooled_output, extra_feature), dim=1)\n",
        "        logits = self.classifier(combined)\n",
        "\n",
        "        # Loss berechnen (falls Labels vorhanden)\n",
        "        loss = None\n",
        "        if labels is not None:\n",
        "            loss_fct = nn.CrossEntropyLoss()\n",
        "            loss = loss_fct(logits, labels)\n",
        "\n",
        "        return {\"loss\": loss, \"logits\": logits}"
      ]
    },
    {
      "cell_type": "markdown",
      "metadata": {
        "id": "tFMYZnmXUsiT"
      },
      "source": [
        "Der Data-Collator erstellt ein Batch, paddet automatisch die Eingabesequenzen und fügt das Zusatzlabel \"has_sexist_word\" wieder hinzu, damit das Modell beides zusammen verarbeiten kann"
      ]
    },
    {
      "cell_type": "code",
      "execution_count": null,
      "metadata": {
        "id": "KnB91uwFNkrf"
      },
      "outputs": [],
      "source": [
        "class DataCollatorWithFeature(DataCollatorWithPadding):\n",
        "    def __call__(self, features):\n",
        "        has_sexist_word = [f[\"has_sexist_word\"] for f in features]\n",
        "        for f in features:\n",
        "            del f[\"has_sexist_word\"]\n",
        "        batch = super().__call__(features)\n",
        "        batch[\"has_sexist_word\"] = torch.tensor(has_sexist_word)\n",
        "        return batch"
      ]
    },
    {
      "cell_type": "markdown",
      "metadata": {
        "id": "bK9uz-4ANdOS"
      },
      "source": [
        "### BERT Modell für binäre Labels trainieren mit zusätzlicher Wortliste als Feature"
      ]
    },
    {
      "cell_type": "code",
      "execution_count": null,
      "metadata": {
        "colab": {
          "base_uri": "https://localhost:8080/",
          "height": 442
        },
        "id": "zUNQAlgHNquf",
        "outputId": "77141488-0f38-4e9b-ef53-ebf946c1fd56"
      },
      "outputs": [
        {
          "name": "stderr",
          "output_type": "stream",
          "text": [
            "/tmp/ipython-input-2618233685.py:24: FutureWarning: `tokenizer` is deprecated and will be removed in version 5.0.0 for `Trainer.__init__`. Use `processing_class` instead.\n",
            "  trainer = Trainer(model=model, args=training_args,\n"
          ]
        },
        {
          "data": {
            "text/html": [
              "\n",
              "    <div>\n",
              "      \n",
              "      <progress value='1014' max='1014' style='width:300px; height:20px; vertical-align: middle;'></progress>\n",
              "      [1014/1014 05:09, Epoch 3/3]\n",
              "    </div>\n",
              "    <table border=\"1\" class=\"dataframe\">\n",
              "  <thead>\n",
              " <tr style=\"text-align: left;\">\n",
              "      <th>Epoch</th>\n",
              "      <th>Training Loss</th>\n",
              "      <th>Validation Loss</th>\n",
              "      <th>Accuracy</th>\n",
              "      <th>F1-macro</th>\n",
              "      <th>Precision</th>\n",
              "      <th>Recall</th>\n",
              "    </tr>\n",
              "  </thead>\n",
              "  <tbody>\n",
              "    <tr>\n",
              "      <td>1</td>\n",
              "      <td>0.579700</td>\n",
              "      <td>0.527430</td>\n",
              "      <td>0.758333</td>\n",
              "      <td>0.753847</td>\n",
              "      <td>0.778647</td>\n",
              "      <td>0.758333</td>\n",
              "    </tr>\n",
              "    <tr>\n",
              "      <td>2</td>\n",
              "      <td>0.402700</td>\n",
              "      <td>0.542208</td>\n",
              "      <td>0.738333</td>\n",
              "      <td>0.737633</td>\n",
              "      <td>0.740906</td>\n",
              "      <td>0.738333</td>\n",
              "    </tr>\n",
              "    <tr>\n",
              "      <td>3</td>\n",
              "      <td>0.307100</td>\n",
              "      <td>0.652108</td>\n",
              "      <td>0.728333</td>\n",
              "      <td>0.728296</td>\n",
              "      <td>0.728458</td>\n",
              "      <td>0.728333</td>\n",
              "    </tr>\n",
              "  </tbody>\n",
              "</table><p>"
            ],
            "text/plain": [
              "<IPython.core.display.HTML object>"
            ]
          },
          "metadata": {},
          "output_type": "display_data"
        },
        {
          "data": {
            "text/html": [
              "\n",
              "    <div>\n",
              "      \n",
              "      <progress value='125' max='125' style='width:300px; height:20px; vertical-align: middle;'></progress>\n",
              "      [125/125 00:09]\n",
              "    </div>\n",
              "    "
            ],
            "text/plain": [
              "<IPython.core.display.HTML object>"
            ]
          },
          "metadata": {},
          "output_type": "display_data"
        },
        {
          "name": "stdout",
          "output_type": "stream",
          "text": [
            "Finale Evaluation auf Testdaten:\n",
            "\n",
            "eval_loss: 0.8557\n",
            "eval_accuracy: 0.6742\n",
            "eval_f1-macro: 0.6726\n",
            "eval_precision: 0.6752\n",
            "eval_recall: 0.6729\n",
            "eval_runtime: 9.8082\n",
            "eval_samples_per_second: 202.4840\n",
            "eval_steps_per_second: 12.7440\n",
            "epoch: 3.0000\n"
          ]
        }
      ],
      "source": [
        "def model_training_wordlist_binary(dataset):\n",
        "  num_labels = 2\n",
        "  device = torch.device(\"cuda\" if torch.cuda.is_available() else \"cpu\")\n",
        "  model_ckpt = \"distilbert-base-german-cased\"\n",
        "  tokenizer = AutoTokenizer.from_pretrained(model_ckpt)\n",
        "  data_collator = DataCollatorWithFeature(tokenizer)\n",
        "  model = DistilBertWithFeature(\"distilbert-base-german-cased\", num_labels=2)\n",
        "\n",
        "  data_encoded = load_from_disk(\"data_encoded\")\n",
        "  batch_size = 16\n",
        "  logging_steps = 10\n",
        "  training_args = TrainingArguments(num_train_epochs=3,\n",
        "                                    learning_rate=3.08e-5,\n",
        "                                    per_device_train_batch_size=batch_size,\n",
        "                                    per_device_eval_batch_size=batch_size,\n",
        "                                    weight_decay=0.01,\n",
        "                                    eval_strategy=\"epoch\",\n",
        "                                    disable_tqdm=False,\n",
        "                                    logging_steps=logging_steps,\n",
        "                                    push_to_hub=False,\n",
        "                                    log_level=\"error\")\n",
        "  trainer = Trainer(model=model, args=training_args,\n",
        "                  compute_metrics=compute_metrics,\n",
        "                  train_dataset=dataset[\"train\"],\n",
        "                  eval_dataset=dataset[\"validation\"],\n",
        "                  tokenizer=tokenizer, data_collator=data_collator)\n",
        "  trainer.train();\n",
        "\n",
        "  # Finale Evaluation auf den Testdaten\n",
        "  eval_result = trainer.evaluate(eval_dataset=dataset[\"test\"]);\n",
        "  print(\"Finale Evaluation auf Testdaten:\\n\")\n",
        "  for key, value in eval_result.items():\n",
        "    print(f\"{key}: {value:.4f}\")\n",
        "\n",
        "model_training_wordlist_binary(dataset_binary_newfeature_split)"
      ]
    },
    {
      "cell_type": "markdown",
      "metadata": {
        "id": "5qoNpPRJkXTN"
      },
      "source": [
        "### BERT Modell für Multi Median Labels trainieren mit zusätzlicher Wortliste als Feature"
      ]
    },
    {
      "cell_type": "code",
      "execution_count": null,
      "metadata": {
        "colab": {
          "base_uri": "https://localhost:8080/",
          "height": 523,
          "referenced_widgets": [
            "71f9454cfebf4a2ba35d94a6ae8b936e",
            "36334cabdee7405597c31ae15d146c60",
            "7dc448949412478da8d15c20774a2f68",
            "ed88f1fd6b8b4d2db5cfe7cce19181e3",
            "c89df7860a31488db00b3d098a40eaca",
            "a75e04f50f114950b0601ffb2e60b3c3",
            "7675c20a4cff47b394e3fd80698f741a",
            "d5c4c8f1ba7947a9b545f35c321e5d4f",
            "fa189ecaaa1348f68f76ce7d4023a410",
            "6a4851b274e14080a5e25746b2c90c0a",
            "ac459f01a225439dbbc0a7496adbfb38"
          ]
        },
        "id": "S3mS2CYtkcng",
        "outputId": "df505664-920e-4ac7-a6c8-ca383b17af1f"
      },
      "outputs": [
        {
          "data": {
            "application/vnd.jupyter.widget-view+json": {
              "model_id": "71f9454cfebf4a2ba35d94a6ae8b936e",
              "version_major": 2,
              "version_minor": 0
            },
            "text/plain": [
              "model.safetensors:   0%|          | 0.00/270M [00:00<?, ?B/s]"
            ]
          },
          "metadata": {},
          "output_type": "display_data"
        },
        {
          "name": "stderr",
          "output_type": "stream",
          "text": [
            "Using the `WANDB_DISABLED` environment variable is deprecated and will be removed in v5. Use the --report_to flag to control the integrations used for logging result (for instance --report_to none).\n",
            "/tmp/ipython-input-4172618562.py:24: FutureWarning: `tokenizer` is deprecated and will be removed in version 5.0.0 for `Trainer.__init__`. Use `processing_class` instead.\n",
            "  trainer = Trainer(model=model, args=training_args,\n"
          ]
        },
        {
          "data": {
            "text/html": [
              "\n",
              "    <div>\n",
              "      \n",
              "      <progress value='1352' max='1352' style='width:300px; height:20px; vertical-align: middle;'></progress>\n",
              "      [1352/1352 06:56, Epoch 4/4]\n",
              "    </div>\n",
              "    <table border=\"1\" class=\"dataframe\">\n",
              "  <thead>\n",
              " <tr style=\"text-align: left;\">\n",
              "      <th>Epoch</th>\n",
              "      <th>Training Loss</th>\n",
              "      <th>Validation Loss</th>\n",
              "      <th>Accuracy</th>\n",
              "      <th>F1-macro</th>\n",
              "      <th>Precision</th>\n",
              "      <th>Recall</th>\n",
              "    </tr>\n",
              "  </thead>\n",
              "  <tbody>\n",
              "    <tr>\n",
              "      <td>1</td>\n",
              "      <td>0.984600</td>\n",
              "      <td>0.913006</td>\n",
              "      <td>0.628333</td>\n",
              "      <td>0.208155</td>\n",
              "      <td>0.188564</td>\n",
              "      <td>0.234616</td>\n",
              "    </tr>\n",
              "    <tr>\n",
              "      <td>2</td>\n",
              "      <td>0.838800</td>\n",
              "      <td>0.947993</td>\n",
              "      <td>0.625000</td>\n",
              "      <td>0.280028</td>\n",
              "      <td>0.315450</td>\n",
              "      <td>0.276621</td>\n",
              "    </tr>\n",
              "    <tr>\n",
              "      <td>3</td>\n",
              "      <td>0.523200</td>\n",
              "      <td>1.182654</td>\n",
              "      <td>0.571667</td>\n",
              "      <td>0.285862</td>\n",
              "      <td>0.351003</td>\n",
              "      <td>0.287252</td>\n",
              "    </tr>\n",
              "    <tr>\n",
              "      <td>4</td>\n",
              "      <td>0.396900</td>\n",
              "      <td>1.335907</td>\n",
              "      <td>0.591667</td>\n",
              "      <td>0.306214</td>\n",
              "      <td>0.354447</td>\n",
              "      <td>0.299452</td>\n",
              "    </tr>\n",
              "  </tbody>\n",
              "</table><p>"
            ],
            "text/plain": [
              "<IPython.core.display.HTML object>"
            ]
          },
          "metadata": {},
          "output_type": "display_data"
        },
        {
          "data": {
            "text/html": [
              "\n",
              "    <div>\n",
              "      \n",
              "      <progress value='125' max='125' style='width:300px; height:20px; vertical-align: middle;'></progress>\n",
              "      [125/125 00:10]\n",
              "    </div>\n",
              "    "
            ],
            "text/plain": [
              "<IPython.core.display.HTML object>"
            ]
          },
          "metadata": {},
          "output_type": "display_data"
        },
        {
          "name": "stdout",
          "output_type": "stream",
          "text": [
            "Finale Evaluation auf Testdaten:\n",
            "\n",
            "eval_loss: 1.5384\n",
            "eval_accuracy: 0.5609\n",
            "eval_f1-macro: 0.2958\n",
            "eval_precision: 0.3235\n",
            "eval_recall: 0.2917\n",
            "eval_runtime: 10.4549\n",
            "eval_samples_per_second: 189.9590\n",
            "eval_steps_per_second: 11.9560\n",
            "epoch: 4.0000\n"
          ]
        }
      ],
      "source": [
        "def model_training_wordlist_multi(dataset):\n",
        "  num_labels = 5\n",
        "  device = torch.device(\"cuda\" if torch.cuda.is_available() else \"cpu\")\n",
        "  model_ckpt = \"distilbert-base-german-cased\"\n",
        "  tokenizer = AutoTokenizer.from_pretrained(model_ckpt)\n",
        "  data_collator = DataCollatorWithFeature(tokenizer)\n",
        "  model = DistilBertWithFeature(\"distilbert-base-german-cased\", num_labels=5)\n",
        "\n",
        "  data_encoded = load_from_disk(\"data_encoded\")\n",
        "  batch_size = 16\n",
        "  logging_steps = 10\n",
        "  training_args = TrainingArguments(num_train_epochs=4,\n",
        "                                    learning_rate=4.74e-5,\n",
        "                                    per_device_train_batch_size=batch_size,\n",
        "                                    per_device_eval_batch_size=batch_size,\n",
        "                                    weight_decay=0.01,\n",
        "                                    eval_strategy=\"epoch\",\n",
        "                                    disable_tqdm=False,\n",
        "                                    logging_steps=logging_steps,\n",
        "                                    push_to_hub=False,\n",
        "                                    log_level=\"error\")\n",
        "  trainer = Trainer(model=model, args=training_args,\n",
        "                  compute_metrics=compute_metrics,\n",
        "                  train_dataset=dataset[\"train\"],\n",
        "                  eval_dataset=dataset[\"validation\"],\n",
        "                  tokenizer=tokenizer, data_collator=data_collator)\n",
        "  trainer.train();\n",
        "\n",
        "  # Finale Evaluation auf den Testdaten\n",
        "  eval_result = trainer.evaluate(eval_dataset=dataset[\"test\"]);\n",
        "  print(\"Finale Evaluation auf Testdaten:\\n\")\n",
        "  for key, value in eval_result.items():\n",
        "    print(f\"{key}: {value:.4f}\")\n",
        "\n",
        "model_training_wordlist_multi(dataset_multi_newfeature_split)"
      ]
    },
    {
      "cell_type": "markdown",
      "metadata": {
        "id": "cwyCKXX7H0WJ"
      },
      "source": [
        "### BERT Modell für Multi Roundup Labels trainieren mit zusätzlicher Wortliste als Feature"
      ]
    },
    {
      "cell_type": "code",
      "execution_count": null,
      "metadata": {
        "colab": {
          "base_uri": "https://localhost:8080/",
          "height": 442
        },
        "id": "OnZyyh1jH0WK",
        "outputId": "f00e3a62-ba87-4862-b399-5460531982db"
      },
      "outputs": [
        {
          "name": "stderr",
          "output_type": "stream",
          "text": [
            "/tmp/ipython-input-2253699933.py:25: FutureWarning: `tokenizer` is deprecated and will be removed in version 5.0.0 for `Trainer.__init__`. Use `processing_class` instead.\n",
            "  trainer = Trainer(model=model, args=training_args,\n"
          ]
        },
        {
          "data": {
            "text/html": [
              "\n",
              "    <div>\n",
              "      \n",
              "      <progress value='1014' max='1014' style='width:300px; height:20px; vertical-align: middle;'></progress>\n",
              "      [1014/1014 05:21, Epoch 3/3]\n",
              "    </div>\n",
              "    <table border=\"1\" class=\"dataframe\">\n",
              "  <thead>\n",
              " <tr style=\"text-align: left;\">\n",
              "      <th>Epoch</th>\n",
              "      <th>Training Loss</th>\n",
              "      <th>Validation Loss</th>\n",
              "      <th>Accuracy</th>\n",
              "      <th>F1-macro</th>\n",
              "      <th>Precision</th>\n",
              "      <th>Recall</th>\n",
              "    </tr>\n",
              "  </thead>\n",
              "  <tbody>\n",
              "    <tr>\n",
              "      <td>1</td>\n",
              "      <td>1.204000</td>\n",
              "      <td>1.123905</td>\n",
              "      <td>0.541667</td>\n",
              "      <td>0.298935</td>\n",
              "      <td>0.281540</td>\n",
              "      <td>0.325888</td>\n",
              "    </tr>\n",
              "    <tr>\n",
              "      <td>2</td>\n",
              "      <td>0.985400</td>\n",
              "      <td>1.178827</td>\n",
              "      <td>0.521667</td>\n",
              "      <td>0.323804</td>\n",
              "      <td>0.321931</td>\n",
              "      <td>0.333410</td>\n",
              "    </tr>\n",
              "    <tr>\n",
              "      <td>3</td>\n",
              "      <td>0.695300</td>\n",
              "      <td>1.328515</td>\n",
              "      <td>0.508333</td>\n",
              "      <td>0.315298</td>\n",
              "      <td>0.312345</td>\n",
              "      <td>0.320164</td>\n",
              "    </tr>\n",
              "  </tbody>\n",
              "</table><p>"
            ],
            "text/plain": [
              "<IPython.core.display.HTML object>"
            ]
          },
          "metadata": {},
          "output_type": "display_data"
        },
        {
          "data": {
            "text/html": [
              "\n",
              "    <div>\n",
              "      \n",
              "      <progress value='125' max='125' style='width:300px; height:20px; vertical-align: middle;'></progress>\n",
              "      [125/125 00:10]\n",
              "    </div>\n",
              "    "
            ],
            "text/plain": [
              "<IPython.core.display.HTML object>"
            ]
          },
          "metadata": {},
          "output_type": "display_data"
        },
        {
          "name": "stdout",
          "output_type": "stream",
          "text": [
            "Finale Evaluation auf Testdaten:\n",
            "\n",
            "eval_loss: 1.5423\n",
            "eval_accuracy: 0.4527\n",
            "eval_f1-macro: 0.2895\n",
            "eval_precision: 0.3254\n",
            "eval_recall: 0.2910\n",
            "eval_runtime: 10.2024\n",
            "eval_samples_per_second: 194.6600\n",
            "eval_steps_per_second: 12.2520\n",
            "epoch: 3.0000\n"
          ]
        }
      ],
      "source": [
        "def model_training_wordlist_multiroundup(dataset):\n",
        "  num_labels = 5\n",
        "  device = torch.device(\"cuda\" if torch.cuda.is_available() else \"cpu\")\n",
        "  model_ckpt = \"distilbert-base-german-cased\"\n",
        "  tokenizer = AutoTokenizer.from_pretrained(model_ckpt)\n",
        "  data_collator = DataCollatorWithFeature(tokenizer)\n",
        "  model = DistilBertWithFeature(\"distilbert-base-german-cased\", num_labels=5)\n",
        "\n",
        "  data_encoded = load_from_disk(\"data_encoded\")\n",
        "  batch_size = 16\n",
        "  logging_steps = 10\n",
        "  training_args = TrainingArguments(num_train_epochs=3,\n",
        "                                    learning_rate=4.98e-5,\n",
        "                                    #learning_rate=3e-5,\n",
        "                                    per_device_train_batch_size=batch_size,\n",
        "                                    per_device_eval_batch_size=batch_size,\n",
        "                                    weight_decay=0.01,\n",
        "                                    eval_strategy=\"epoch\",\n",
        "                                    disable_tqdm=False,\n",
        "                                    logging_steps=logging_steps,\n",
        "                                    push_to_hub=False,\n",
        "                                    log_level=\"error\")\n",
        "  trainer = Trainer(model=model, args=training_args,\n",
        "                  compute_metrics=compute_metrics,\n",
        "                  train_dataset=dataset[\"train\"],\n",
        "                  eval_dataset=dataset[\"validation\"],\n",
        "                  tokenizer=tokenizer, data_collator=data_collator)\n",
        "  trainer.train();\n",
        "\n",
        "  # Finale Evaluation auf den Testdaten\n",
        "  eval_result = trainer.evaluate(eval_dataset=dataset[\"test\"]);\n",
        "  print(\"Finale Evaluation auf Testdaten:\\n\")\n",
        "  for key, value in eval_result.items():\n",
        "    print(f\"{key}: {value:.4f}\")\n",
        "\n",
        "model_training_wordlist_multiroundup(dataset_multi_roundup_newfeature_split)"
      ]
    },
    {
      "cell_type": "markdown",
      "metadata": {
        "id": "I4NHZdIMXjBa"
      },
      "source": [
        "## Parameter Optimierung mit Optuna"
      ]
    },
    {
      "cell_type": "markdown",
      "metadata": {
        "id": "JQrmD-BIWKEt"
      },
      "source": [
        "### Parameter Optimierung mit Optuna für den binären Datensatz"
      ]
    },
    {
      "cell_type": "code",
      "execution_count": null,
      "metadata": {
        "id": "umkkUva6mQY1"
      },
      "outputs": [],
      "source": [
        "def model_training_optuna_binary(trial):\n",
        "  num_labels = 2\n",
        "  device = torch.device(\"cuda\" if torch.cuda.is_available() else \"cpu\")\n",
        "  model_ckpt = \"distilbert-base-german-cased\"\n",
        "  tokenizer = AutoTokenizer.from_pretrained(model_ckpt)\n",
        "  config = AutoConfig.from_pretrained(model_ckpt,\n",
        "                                     num_labels=num_labels,\n",
        "                                     hidden_dropout_prob=0.3,        # Feedforward-Dropout\n",
        "                                     attention_probs_dropout_prob=0.3)  # Attention-Dropout\n",
        "  model = (AutoModelForSequenceClassification\n",
        "          .from_pretrained(model_ckpt, config = config)\n",
        "          .to(device))\n",
        "\n",
        "  learning_rate = trial.suggest_float(\"learning_rate\", 1e-5, 5e-5, log=True)\n",
        "  batch_size = trial.suggest_categorical(\"batch_size\", [8, 16, 32])\n",
        "  num_epochs = trial.suggest_int(\"num_train_epochs\", 2, 4)\n",
        "\n",
        "  training_args = TrainingArguments(\n",
        "      eval_strategy=\"epoch\",\n",
        "      save_strategy=\"no\",\n",
        "      learning_rate=learning_rate,\n",
        "      per_device_train_batch_size=batch_size,\n",
        "      per_device_eval_batch_size=batch_size,\n",
        "      num_train_epochs=num_epochs,\n",
        "      weight_decay=0.01,\n",
        "      disable_tqdm=False,\n",
        "      logging_steps=10,\n",
        "      push_to_hub=False,\n",
        "      log_level=\"error\"\n",
        "  )\n",
        "\n",
        "\n",
        "  trainer = Trainer(model=model, args=training_args,\n",
        "                  compute_metrics=compute_metrics,\n",
        "                  train_dataset=dataset_binary_split[\"train\"],\n",
        "                  eval_dataset=dataset_binary_split[\"validation\"],\n",
        "                  tokenizer=tokenizer)\n",
        "\n",
        "  # Training + Validation\n",
        "  trainer.train();\n",
        "\n",
        "  # Finale Evaluation\n",
        "  eval_result = trainer.evaluate(eval_dataset=dataset_binary_split[\"validation\"]);\n",
        "\n",
        "  print(eval_result)\n",
        "  return eval_result[\"eval_f1-macro\"]"
      ]
    },
    {
      "cell_type": "code",
      "execution_count": null,
      "metadata": {
        "colab": {
          "base_uri": "https://localhost:8080/",
          "height": 1000
        },
        "collapsed": true,
        "id": "s_zhDJDzY_DI",
        "outputId": "43d10ef3-d930-4c1a-f500-beffcaed81a0"
      },
      "outputs": [
        {
          "name": "stderr",
          "output_type": "stream",
          "text": [
            "[I 2025-09-20 21:18:55,910] A new study created in memory with name: no-name-6f5bc35d-3d1a-4525-a55d-d31c05d474dd\n",
            "/tmp/ipython-input-1892351867.py:43: FutureWarning: `tokenizer` is deprecated and will be removed in version 5.0.0 for `Trainer.__init__`. Use `processing_class` instead.\n",
            "  trainer = Trainer(model=model, args=training_args,\n"
          ]
        },
        {
          "data": {
            "text/html": [
              "\n",
              "    <div>\n",
              "      \n",
              "      <progress value='340' max='340' style='width:300px; height:20px; vertical-align: middle;'></progress>\n",
              "      [340/340 06:54, Epoch 4/4]\n",
              "    </div>\n",
              "    <table border=\"1\" class=\"dataframe\">\n",
              "  <thead>\n",
              " <tr style=\"text-align: left;\">\n",
              "      <th>Epoch</th>\n",
              "      <th>Training Loss</th>\n",
              "      <th>Validation Loss</th>\n",
              "      <th>Accuracy</th>\n",
              "      <th>F1-macro</th>\n",
              "      <th>Precision</th>\n",
              "      <th>Recall</th>\n",
              "    </tr>\n",
              "  </thead>\n",
              "  <tbody>\n",
              "    <tr>\n",
              "      <td>1</td>\n",
              "      <td>0.595000</td>\n",
              "      <td>0.593199</td>\n",
              "      <td>0.696667</td>\n",
              "      <td>0.696613</td>\n",
              "      <td>0.696807</td>\n",
              "      <td>0.696667</td>\n",
              "    </tr>\n",
              "    <tr>\n",
              "      <td>2</td>\n",
              "      <td>0.505600</td>\n",
              "      <td>0.541014</td>\n",
              "      <td>0.721667</td>\n",
              "      <td>0.720922</td>\n",
              "      <td>0.724059</td>\n",
              "      <td>0.721667</td>\n",
              "    </tr>\n",
              "    <tr>\n",
              "      <td>3</td>\n",
              "      <td>0.490200</td>\n",
              "      <td>0.532123</td>\n",
              "      <td>0.731667</td>\n",
              "      <td>0.731451</td>\n",
              "      <td>0.732413</td>\n",
              "      <td>0.731667</td>\n",
              "    </tr>\n",
              "    <tr>\n",
              "      <td>4</td>\n",
              "      <td>0.477900</td>\n",
              "      <td>0.535574</td>\n",
              "      <td>0.740000</td>\n",
              "      <td>0.738463</td>\n",
              "      <td>0.745779</td>\n",
              "      <td>0.740000</td>\n",
              "    </tr>\n",
              "  </tbody>\n",
              "</table><p>"
            ],
            "text/plain": [
              "<IPython.core.display.HTML object>"
            ]
          },
          "metadata": {},
          "output_type": "display_data"
        },
        {
          "data": {
            "text/html": [
              "\n",
              "    <div>\n",
              "      \n",
              "      <progress value='10' max='10' style='width:300px; height:20px; vertical-align: middle;'></progress>\n",
              "      [10/10 00:03]\n",
              "    </div>\n",
              "    "
            ],
            "text/plain": [
              "<IPython.core.display.HTML object>"
            ]
          },
          "metadata": {},
          "output_type": "display_data"
        },
        {
          "name": "stderr",
          "output_type": "stream",
          "text": [
            "[I 2025-09-20 21:25:57,305] Trial 0 finished with value: 0.7384627421175576 and parameters: {'learning_rate': 1.3488069074643334e-05, 'batch_size': 16, 'num_train_epochs': 4}. Best is trial 0 with value: 0.7384627421175576.\n"
          ]
        },
        {
          "name": "stdout",
          "output_type": "stream",
          "text": [
            "{'eval_loss': 0.5355739593505859, 'eval_accuracy': 0.74, 'eval_f1-macro': 0.7384627421175576, 'eval_precision': 0.7457785262391334, 'eval_recall': 0.74, 'eval_runtime': 4.0479, 'eval_samples_per_second': 148.225, 'eval_steps_per_second': 2.47, 'epoch': 4.0}\n"
          ]
        },
        {
          "name": "stderr",
          "output_type": "stream",
          "text": [
            "/tmp/ipython-input-1892351867.py:43: FutureWarning: `tokenizer` is deprecated and will be removed in version 5.0.0 for `Trainer.__init__`. Use `processing_class` instead.\n",
            "  trainer = Trainer(model=model, args=training_args,\n"
          ]
        },
        {
          "data": {
            "text/html": [
              "\n",
              "    <div>\n",
              "      \n",
              "      <progress value='340' max='340' style='width:300px; height:20px; vertical-align: middle;'></progress>\n",
              "      [340/340 06:56, Epoch 4/4]\n",
              "    </div>\n",
              "    <table border=\"1\" class=\"dataframe\">\n",
              "  <thead>\n",
              " <tr style=\"text-align: left;\">\n",
              "      <th>Epoch</th>\n",
              "      <th>Training Loss</th>\n",
              "      <th>Validation Loss</th>\n",
              "      <th>Accuracy</th>\n",
              "      <th>F1-macro</th>\n",
              "      <th>Precision</th>\n",
              "      <th>Recall</th>\n",
              "    </tr>\n",
              "  </thead>\n",
              "  <tbody>\n",
              "    <tr>\n",
              "      <td>1</td>\n",
              "      <td>0.593400</td>\n",
              "      <td>0.597011</td>\n",
              "      <td>0.711667</td>\n",
              "      <td>0.710792</td>\n",
              "      <td>0.714259</td>\n",
              "      <td>0.711667</td>\n",
              "    </tr>\n",
              "    <tr>\n",
              "      <td>2</td>\n",
              "      <td>0.500300</td>\n",
              "      <td>0.542268</td>\n",
              "      <td>0.735000</td>\n",
              "      <td>0.734196</td>\n",
              "      <td>0.737878</td>\n",
              "      <td>0.735000</td>\n",
              "    </tr>\n",
              "    <tr>\n",
              "      <td>3</td>\n",
              "      <td>0.486400</td>\n",
              "      <td>0.534241</td>\n",
              "      <td>0.735000</td>\n",
              "      <td>0.734911</td>\n",
              "      <td>0.735316</td>\n",
              "      <td>0.735000</td>\n",
              "    </tr>\n",
              "    <tr>\n",
              "      <td>4</td>\n",
              "      <td>0.469300</td>\n",
              "      <td>0.538324</td>\n",
              "      <td>0.736667</td>\n",
              "      <td>0.735370</td>\n",
              "      <td>0.741398</td>\n",
              "      <td>0.736667</td>\n",
              "    </tr>\n",
              "  </tbody>\n",
              "</table><p>"
            ],
            "text/plain": [
              "<IPython.core.display.HTML object>"
            ]
          },
          "metadata": {},
          "output_type": "display_data"
        },
        {
          "data": {
            "text/html": [
              "\n",
              "    <div>\n",
              "      \n",
              "      <progress value='10' max='10' style='width:300px; height:20px; vertical-align: middle;'></progress>\n",
              "      [10/10 00:03]\n",
              "    </div>\n",
              "    "
            ],
            "text/plain": [
              "<IPython.core.display.HTML object>"
            ]
          },
          "metadata": {},
          "output_type": "display_data"
        },
        {
          "name": "stderr",
          "output_type": "stream",
          "text": [
            "[I 2025-09-20 21:33:00,064] Trial 1 finished with value: 0.7353699795665427 and parameters: {'learning_rate': 1.4646952625967629e-05, 'batch_size': 8, 'num_train_epochs': 4}. Best is trial 0 with value: 0.7384627421175576.\n"
          ]
        },
        {
          "name": "stdout",
          "output_type": "stream",
          "text": [
            "{'eval_loss': 0.5383239984512329, 'eval_accuracy': 0.7366666666666667, 'eval_f1-macro': 0.7353699795665427, 'eval_precision': 0.7413980688154496, 'eval_recall': 0.7366666666666666, 'eval_runtime': 4.0596, 'eval_samples_per_second': 147.799, 'eval_steps_per_second': 2.463, 'epoch': 4.0}\n"
          ]
        },
        {
          "name": "stderr",
          "output_type": "stream",
          "text": [
            "/tmp/ipython-input-1892351867.py:43: FutureWarning: `tokenizer` is deprecated and will be removed in version 5.0.0 for `Trainer.__init__`. Use `processing_class` instead.\n",
            "  trainer = Trainer(model=model, args=training_args,\n"
          ]
        },
        {
          "data": {
            "text/html": [
              "\n",
              "    <div>\n",
              "      \n",
              "      <progress value='170' max='170' style='width:300px; height:20px; vertical-align: middle;'></progress>\n",
              "      [170/170 03:28, Epoch 2/2]\n",
              "    </div>\n",
              "    <table border=\"1\" class=\"dataframe\">\n",
              "  <thead>\n",
              " <tr style=\"text-align: left;\">\n",
              "      <th>Epoch</th>\n",
              "      <th>Training Loss</th>\n",
              "      <th>Validation Loss</th>\n",
              "      <th>Accuracy</th>\n",
              "      <th>F1-macro</th>\n",
              "      <th>Precision</th>\n",
              "      <th>Recall</th>\n",
              "    </tr>\n",
              "  </thead>\n",
              "  <tbody>\n",
              "    <tr>\n",
              "      <td>1</td>\n",
              "      <td>0.621400</td>\n",
              "      <td>0.620542</td>\n",
              "      <td>0.688333</td>\n",
              "      <td>0.688332</td>\n",
              "      <td>0.688335</td>\n",
              "      <td>0.688333</td>\n",
              "    </tr>\n",
              "    <tr>\n",
              "      <td>2</td>\n",
              "      <td>0.553100</td>\n",
              "      <td>0.580968</td>\n",
              "      <td>0.713333</td>\n",
              "      <td>0.713014</td>\n",
              "      <td>0.714286</td>\n",
              "      <td>0.713333</td>\n",
              "    </tr>\n",
              "  </tbody>\n",
              "</table><p>"
            ],
            "text/plain": [
              "<IPython.core.display.HTML object>"
            ]
          },
          "metadata": {},
          "output_type": "display_data"
        },
        {
          "data": {
            "text/html": [
              "\n",
              "    <div>\n",
              "      \n",
              "      <progress value='10' max='10' style='width:300px; height:20px; vertical-align: middle;'></progress>\n",
              "      [10/10 00:03]\n",
              "    </div>\n",
              "    "
            ],
            "text/plain": [
              "<IPython.core.display.HTML object>"
            ]
          },
          "metadata": {},
          "output_type": "display_data"
        },
        {
          "name": "stderr",
          "output_type": "stream",
          "text": [
            "[I 2025-09-20 21:36:34,874] Trial 2 finished with value: 0.7130144605116796 and parameters: {'learning_rate': 1.3560223034395535e-05, 'batch_size': 8, 'num_train_epochs': 2}. Best is trial 0 with value: 0.7384627421175576.\n"
          ]
        },
        {
          "name": "stdout",
          "output_type": "stream",
          "text": [
            "{'eval_loss': 0.5809677243232727, 'eval_accuracy': 0.7133333333333334, 'eval_f1-macro': 0.7130144605116796, 'eval_precision': 0.7142857142857142, 'eval_recall': 0.7133333333333334, 'eval_runtime': 4.0564, 'eval_samples_per_second': 147.914, 'eval_steps_per_second': 2.465, 'epoch': 2.0}\n"
          ]
        },
        {
          "name": "stderr",
          "output_type": "stream",
          "text": [
            "/tmp/ipython-input-1892351867.py:43: FutureWarning: `tokenizer` is deprecated and will be removed in version 5.0.0 for `Trainer.__init__`. Use `processing_class` instead.\n",
            "  trainer = Trainer(model=model, args=training_args,\n"
          ]
        },
        {
          "data": {
            "text/html": [
              "\n",
              "    <div>\n",
              "      \n",
              "      <progress value='170' max='170' style='width:300px; height:20px; vertical-align: middle;'></progress>\n",
              "      [170/170 03:28, Epoch 2/2]\n",
              "    </div>\n",
              "    <table border=\"1\" class=\"dataframe\">\n",
              "  <thead>\n",
              " <tr style=\"text-align: left;\">\n",
              "      <th>Epoch</th>\n",
              "      <th>Training Loss</th>\n",
              "      <th>Validation Loss</th>\n",
              "      <th>Accuracy</th>\n",
              "      <th>F1-macro</th>\n",
              "      <th>Precision</th>\n",
              "      <th>Recall</th>\n",
              "    </tr>\n",
              "  </thead>\n",
              "  <tbody>\n",
              "    <tr>\n",
              "      <td>1</td>\n",
              "      <td>0.572200</td>\n",
              "      <td>0.574813</td>\n",
              "      <td>0.700000</td>\n",
              "      <td>0.699730</td>\n",
              "      <td>0.700723</td>\n",
              "      <td>0.700000</td>\n",
              "    </tr>\n",
              "    <tr>\n",
              "      <td>2</td>\n",
              "      <td>0.509700</td>\n",
              "      <td>0.552009</td>\n",
              "      <td>0.716667</td>\n",
              "      <td>0.715754</td>\n",
              "      <td>0.719486</td>\n",
              "      <td>0.716667</td>\n",
              "    </tr>\n",
              "  </tbody>\n",
              "</table><p>"
            ],
            "text/plain": [
              "<IPython.core.display.HTML object>"
            ]
          },
          "metadata": {},
          "output_type": "display_data"
        },
        {
          "data": {
            "text/html": [
              "\n",
              "    <div>\n",
              "      \n",
              "      <progress value='10' max='10' style='width:300px; height:20px; vertical-align: middle;'></progress>\n",
              "      [10/10 00:03]\n",
              "    </div>\n",
              "    "
            ],
            "text/plain": [
              "<IPython.core.display.HTML object>"
            ]
          },
          "metadata": {},
          "output_type": "display_data"
        },
        {
          "name": "stderr",
          "output_type": "stream",
          "text": [
            "[I 2025-09-20 21:40:09,932] Trial 3 finished with value: 0.7157539209238555 and parameters: {'learning_rate': 1.843826213116862e-05, 'batch_size': 32, 'num_train_epochs': 2}. Best is trial 0 with value: 0.7384627421175576.\n"
          ]
        },
        {
          "name": "stdout",
          "output_type": "stream",
          "text": [
            "{'eval_loss': 0.5520088076591492, 'eval_accuracy': 0.7166666666666667, 'eval_f1-macro': 0.7157539209238555, 'eval_precision': 0.7194858403493765, 'eval_recall': 0.7166666666666667, 'eval_runtime': 4.0779, 'eval_samples_per_second': 147.136, 'eval_steps_per_second': 2.452, 'epoch': 2.0}\n"
          ]
        },
        {
          "name": "stderr",
          "output_type": "stream",
          "text": [
            "/tmp/ipython-input-1892351867.py:43: FutureWarning: `tokenizer` is deprecated and will be removed in version 5.0.0 for `Trainer.__init__`. Use `processing_class` instead.\n",
            "  trainer = Trainer(model=model, args=training_args,\n"
          ]
        },
        {
          "data": {
            "text/html": [
              "\n",
              "    <div>\n",
              "      \n",
              "      <progress value='255' max='255' style='width:300px; height:20px; vertical-align: middle;'></progress>\n",
              "      [255/255 05:11, Epoch 3/3]\n",
              "    </div>\n",
              "    <table border=\"1\" class=\"dataframe\">\n",
              "  <thead>\n",
              " <tr style=\"text-align: left;\">\n",
              "      <th>Epoch</th>\n",
              "      <th>Training Loss</th>\n",
              "      <th>Validation Loss</th>\n",
              "      <th>Accuracy</th>\n",
              "      <th>F1-macro</th>\n",
              "      <th>Precision</th>\n",
              "      <th>Recall</th>\n",
              "    </tr>\n",
              "  </thead>\n",
              "  <tbody>\n",
              "    <tr>\n",
              "      <td>1</td>\n",
              "      <td>0.634700</td>\n",
              "      <td>0.630604</td>\n",
              "      <td>0.668333</td>\n",
              "      <td>0.668126</td>\n",
              "      <td>0.668755</td>\n",
              "      <td>0.668333</td>\n",
              "    </tr>\n",
              "    <tr>\n",
              "      <td>2</td>\n",
              "      <td>0.542700</td>\n",
              "      <td>0.568088</td>\n",
              "      <td>0.705000</td>\n",
              "      <td>0.703616</td>\n",
              "      <td>0.708902</td>\n",
              "      <td>0.705000</td>\n",
              "    </tr>\n",
              "    <tr>\n",
              "      <td>3</td>\n",
              "      <td>0.534600</td>\n",
              "      <td>0.556403</td>\n",
              "      <td>0.710000</td>\n",
              "      <td>0.708952</td>\n",
              "      <td>0.713068</td>\n",
              "      <td>0.710000</td>\n",
              "    </tr>\n",
              "  </tbody>\n",
              "</table><p>"
            ],
            "text/plain": [
              "<IPython.core.display.HTML object>"
            ]
          },
          "metadata": {},
          "output_type": "display_data"
        },
        {
          "data": {
            "text/html": [
              "\n",
              "    <div>\n",
              "      \n",
              "      <progress value='10' max='10' style='width:300px; height:20px; vertical-align: middle;'></progress>\n",
              "      [10/10 00:03]\n",
              "    </div>\n",
              "    "
            ],
            "text/plain": [
              "<IPython.core.display.HTML object>"
            ]
          },
          "metadata": {},
          "output_type": "display_data"
        },
        {
          "name": "stderr",
          "output_type": "stream",
          "text": [
            "[I 2025-09-20 21:45:28,423] Trial 4 finished with value: 0.7089522280208751 and parameters: {'learning_rate': 1.0550028745204036e-05, 'batch_size': 16, 'num_train_epochs': 3}. Best is trial 0 with value: 0.7384627421175576.\n"
          ]
        },
        {
          "name": "stdout",
          "output_type": "stream",
          "text": [
            "{'eval_loss': 0.5564032196998596, 'eval_accuracy': 0.71, 'eval_f1-macro': 0.7089522280208751, 'eval_precision': 0.7130681818181819, 'eval_recall': 0.71, 'eval_runtime': 4.0519, 'eval_samples_per_second': 148.079, 'eval_steps_per_second': 2.468, 'epoch': 3.0}\n"
          ]
        },
        {
          "name": "stderr",
          "output_type": "stream",
          "text": [
            "/tmp/ipython-input-1892351867.py:43: FutureWarning: `tokenizer` is deprecated and will be removed in version 5.0.0 for `Trainer.__init__`. Use `processing_class` instead.\n",
            "  trainer = Trainer(model=model, args=training_args,\n"
          ]
        },
        {
          "data": {
            "text/html": [
              "\n",
              "    <div>\n",
              "      \n",
              "      <progress value='255' max='255' style='width:300px; height:20px; vertical-align: middle;'></progress>\n",
              "      [255/255 05:12, Epoch 3/3]\n",
              "    </div>\n",
              "    <table border=\"1\" class=\"dataframe\">\n",
              "  <thead>\n",
              " <tr style=\"text-align: left;\">\n",
              "      <th>Epoch</th>\n",
              "      <th>Training Loss</th>\n",
              "      <th>Validation Loss</th>\n",
              "      <th>Accuracy</th>\n",
              "      <th>F1-macro</th>\n",
              "      <th>Precision</th>\n",
              "      <th>Recall</th>\n",
              "    </tr>\n",
              "  </thead>\n",
              "  <tbody>\n",
              "    <tr>\n",
              "      <td>1</td>\n",
              "      <td>0.564200</td>\n",
              "      <td>0.563335</td>\n",
              "      <td>0.726667</td>\n",
              "      <td>0.725051</td>\n",
              "      <td>0.732124</td>\n",
              "      <td>0.726667</td>\n",
              "    </tr>\n",
              "    <tr>\n",
              "      <td>2</td>\n",
              "      <td>0.486100</td>\n",
              "      <td>0.535267</td>\n",
              "      <td>0.736667</td>\n",
              "      <td>0.736312</td>\n",
              "      <td>0.737946</td>\n",
              "      <td>0.736667</td>\n",
              "    </tr>\n",
              "    <tr>\n",
              "      <td>3</td>\n",
              "      <td>0.476400</td>\n",
              "      <td>0.537124</td>\n",
              "      <td>0.736667</td>\n",
              "      <td>0.734825</td>\n",
              "      <td>0.743429</td>\n",
              "      <td>0.736667</td>\n",
              "    </tr>\n",
              "  </tbody>\n",
              "</table><p>"
            ],
            "text/plain": [
              "<IPython.core.display.HTML object>"
            ]
          },
          "metadata": {},
          "output_type": "display_data"
        },
        {
          "data": {
            "text/html": [
              "\n",
              "    <div>\n",
              "      \n",
              "      <progress value='10' max='10' style='width:300px; height:20px; vertical-align: middle;'></progress>\n",
              "      [10/10 00:03]\n",
              "    </div>\n",
              "    "
            ],
            "text/plain": [
              "<IPython.core.display.HTML object>"
            ]
          },
          "metadata": {},
          "output_type": "display_data"
        },
        {
          "name": "stderr",
          "output_type": "stream",
          "text": [
            "[I 2025-09-20 21:50:47,244] Trial 5 finished with value: 0.7348251748251748 and parameters: {'learning_rate': 1.890776388177736e-05, 'batch_size': 16, 'num_train_epochs': 3}. Best is trial 0 with value: 0.7384627421175576.\n"
          ]
        },
        {
          "name": "stdout",
          "output_type": "stream",
          "text": [
            "{'eval_loss': 0.5371240377426147, 'eval_accuracy': 0.7366666666666667, 'eval_f1-macro': 0.7348251748251748, 'eval_precision': 0.7434285714285714, 'eval_recall': 0.7366666666666666, 'eval_runtime': 4.0678, 'eval_samples_per_second': 147.498, 'eval_steps_per_second': 2.458, 'epoch': 3.0}\n"
          ]
        },
        {
          "name": "stderr",
          "output_type": "stream",
          "text": [
            "/tmp/ipython-input-1892351867.py:43: FutureWarning: `tokenizer` is deprecated and will be removed in version 5.0.0 for `Trainer.__init__`. Use `processing_class` instead.\n",
            "  trainer = Trainer(model=model, args=training_args,\n"
          ]
        },
        {
          "data": {
            "text/html": [
              "\n",
              "    <div>\n",
              "      \n",
              "      <progress value='255' max='255' style='width:300px; height:20px; vertical-align: middle;'></progress>\n",
              "      [255/255 05:12, Epoch 3/3]\n",
              "    </div>\n",
              "    <table border=\"1\" class=\"dataframe\">\n",
              "  <thead>\n",
              " <tr style=\"text-align: left;\">\n",
              "      <th>Epoch</th>\n",
              "      <th>Training Loss</th>\n",
              "      <th>Validation Loss</th>\n",
              "      <th>Accuracy</th>\n",
              "      <th>F1-macro</th>\n",
              "      <th>Precision</th>\n",
              "      <th>Recall</th>\n",
              "    </tr>\n",
              "  </thead>\n",
              "  <tbody>\n",
              "    <tr>\n",
              "      <td>1</td>\n",
              "      <td>0.630600</td>\n",
              "      <td>0.628280</td>\n",
              "      <td>0.681667</td>\n",
              "      <td>0.681595</td>\n",
              "      <td>0.681830</td>\n",
              "      <td>0.681667</td>\n",
              "    </tr>\n",
              "    <tr>\n",
              "      <td>2</td>\n",
              "      <td>0.531800</td>\n",
              "      <td>0.566578</td>\n",
              "      <td>0.725000</td>\n",
              "      <td>0.724061</td>\n",
              "      <td>0.728105</td>\n",
              "      <td>0.725000</td>\n",
              "    </tr>\n",
              "    <tr>\n",
              "      <td>3</td>\n",
              "      <td>0.525300</td>\n",
              "      <td>0.555153</td>\n",
              "      <td>0.730000</td>\n",
              "      <td>0.729024</td>\n",
              "      <td>0.733360</td>\n",
              "      <td>0.730000</td>\n",
              "    </tr>\n",
              "  </tbody>\n",
              "</table><p>"
            ],
            "text/plain": [
              "<IPython.core.display.HTML object>"
            ]
          },
          "metadata": {},
          "output_type": "display_data"
        },
        {
          "data": {
            "text/html": [
              "\n",
              "    <div>\n",
              "      \n",
              "      <progress value='10' max='10' style='width:300px; height:20px; vertical-align: middle;'></progress>\n",
              "      [10/10 00:03]\n",
              "    </div>\n",
              "    "
            ],
            "text/plain": [
              "<IPython.core.display.HTML object>"
            ]
          },
          "metadata": {},
          "output_type": "display_data"
        },
        {
          "name": "stderr",
          "output_type": "stream",
          "text": [
            "[I 2025-09-20 21:56:05,774] Trial 6 finished with value: 0.7290244881573664 and parameters: {'learning_rate': 1.077766357565225e-05, 'batch_size': 16, 'num_train_epochs': 3}. Best is trial 0 with value: 0.7384627421175576.\n"
          ]
        },
        {
          "name": "stdout",
          "output_type": "stream",
          "text": [
            "{'eval_loss': 0.5551526546478271, 'eval_accuracy': 0.73, 'eval_f1-macro': 0.7290244881573664, 'eval_precision': 0.7333603896103896, 'eval_recall': 0.73, 'eval_runtime': 4.0537, 'eval_samples_per_second': 148.014, 'eval_steps_per_second': 2.467, 'epoch': 3.0}\n"
          ]
        },
        {
          "name": "stderr",
          "output_type": "stream",
          "text": [
            "/tmp/ipython-input-1892351867.py:43: FutureWarning: `tokenizer` is deprecated and will be removed in version 5.0.0 for `Trainer.__init__`. Use `processing_class` instead.\n",
            "  trainer = Trainer(model=model, args=training_args,\n"
          ]
        },
        {
          "data": {
            "text/html": [
              "\n",
              "    <div>\n",
              "      \n",
              "      <progress value='255' max='255' style='width:300px; height:20px; vertical-align: middle;'></progress>\n",
              "      [255/255 05:11, Epoch 3/3]\n",
              "    </div>\n",
              "    <table border=\"1\" class=\"dataframe\">\n",
              "  <thead>\n",
              " <tr style=\"text-align: left;\">\n",
              "      <th>Epoch</th>\n",
              "      <th>Training Loss</th>\n",
              "      <th>Validation Loss</th>\n",
              "      <th>Accuracy</th>\n",
              "      <th>F1-macro</th>\n",
              "      <th>Precision</th>\n",
              "      <th>Recall</th>\n",
              "    </tr>\n",
              "  </thead>\n",
              "  <tbody>\n",
              "    <tr>\n",
              "      <td>1</td>\n",
              "      <td>0.580200</td>\n",
              "      <td>0.578824</td>\n",
              "      <td>0.708333</td>\n",
              "      <td>0.707553</td>\n",
              "      <td>0.710582</td>\n",
              "      <td>0.708333</td>\n",
              "    </tr>\n",
              "    <tr>\n",
              "      <td>2</td>\n",
              "      <td>0.494900</td>\n",
              "      <td>0.539927</td>\n",
              "      <td>0.736667</td>\n",
              "      <td>0.736245</td>\n",
              "      <td>0.738191</td>\n",
              "      <td>0.736667</td>\n",
              "    </tr>\n",
              "    <tr>\n",
              "      <td>3</td>\n",
              "      <td>0.489000</td>\n",
              "      <td>0.540105</td>\n",
              "      <td>0.735000</td>\n",
              "      <td>0.733364</td>\n",
              "      <td>0.740913</td>\n",
              "      <td>0.735000</td>\n",
              "    </tr>\n",
              "  </tbody>\n",
              "</table><p>"
            ],
            "text/plain": [
              "<IPython.core.display.HTML object>"
            ]
          },
          "metadata": {},
          "output_type": "display_data"
        },
        {
          "data": {
            "text/html": [
              "\n",
              "    <div>\n",
              "      \n",
              "      <progress value='10' max='10' style='width:300px; height:20px; vertical-align: middle;'></progress>\n",
              "      [10/10 00:03]\n",
              "    </div>\n",
              "    "
            ],
            "text/plain": [
              "<IPython.core.display.HTML object>"
            ]
          },
          "metadata": {},
          "output_type": "display_data"
        },
        {
          "name": "stderr",
          "output_type": "stream",
          "text": [
            "[I 2025-09-20 22:01:24,370] Trial 7 finished with value: 0.7333638912102316 and parameters: {'learning_rate': 1.625536961077184e-05, 'batch_size': 8, 'num_train_epochs': 3}. Best is trial 0 with value: 0.7384627421175576.\n"
          ]
        },
        {
          "name": "stdout",
          "output_type": "stream",
          "text": [
            "{'eval_loss': 0.5401054620742798, 'eval_accuracy': 0.735, 'eval_f1-macro': 0.7333638912102316, 'eval_precision': 0.7409130776503285, 'eval_recall': 0.735, 'eval_runtime': 4.071, 'eval_samples_per_second': 147.382, 'eval_steps_per_second': 2.456, 'epoch': 3.0}\n"
          ]
        },
        {
          "name": "stderr",
          "output_type": "stream",
          "text": [
            "/tmp/ipython-input-1892351867.py:43: FutureWarning: `tokenizer` is deprecated and will be removed in version 5.0.0 for `Trainer.__init__`. Use `processing_class` instead.\n",
            "  trainer = Trainer(model=model, args=training_args,\n"
          ]
        },
        {
          "data": {
            "text/html": [
              "\n",
              "    <div>\n",
              "      \n",
              "      <progress value='255' max='255' style='width:300px; height:20px; vertical-align: middle;'></progress>\n",
              "      [255/255 05:12, Epoch 3/3]\n",
              "    </div>\n",
              "    <table border=\"1\" class=\"dataframe\">\n",
              "  <thead>\n",
              " <tr style=\"text-align: left;\">\n",
              "      <th>Epoch</th>\n",
              "      <th>Training Loss</th>\n",
              "      <th>Validation Loss</th>\n",
              "      <th>Accuracy</th>\n",
              "      <th>F1-macro</th>\n",
              "      <th>Precision</th>\n",
              "      <th>Recall</th>\n",
              "    </tr>\n",
              "  </thead>\n",
              "  <tbody>\n",
              "    <tr>\n",
              "      <td>1</td>\n",
              "      <td>0.598500</td>\n",
              "      <td>0.597804</td>\n",
              "      <td>0.711667</td>\n",
              "      <td>0.711313</td>\n",
              "      <td>0.712709</td>\n",
              "      <td>0.711667</td>\n",
              "    </tr>\n",
              "    <tr>\n",
              "      <td>2</td>\n",
              "      <td>0.506300</td>\n",
              "      <td>0.546291</td>\n",
              "      <td>0.738333</td>\n",
              "      <td>0.737802</td>\n",
              "      <td>0.740280</td>\n",
              "      <td>0.738333</td>\n",
              "    </tr>\n",
              "    <tr>\n",
              "      <td>3</td>\n",
              "      <td>0.502100</td>\n",
              "      <td>0.544670</td>\n",
              "      <td>0.741667</td>\n",
              "      <td>0.740455</td>\n",
              "      <td>0.746266</td>\n",
              "      <td>0.741667</td>\n",
              "    </tr>\n",
              "  </tbody>\n",
              "</table><p>"
            ],
            "text/plain": [
              "<IPython.core.display.HTML object>"
            ]
          },
          "metadata": {},
          "output_type": "display_data"
        },
        {
          "data": {
            "text/html": [
              "\n",
              "    <div>\n",
              "      \n",
              "      <progress value='10' max='10' style='width:300px; height:20px; vertical-align: middle;'></progress>\n",
              "      [10/10 00:03]\n",
              "    </div>\n",
              "    "
            ],
            "text/plain": [
              "<IPython.core.display.HTML object>"
            ]
          },
          "metadata": {},
          "output_type": "display_data"
        },
        {
          "name": "stderr",
          "output_type": "stream",
          "text": [
            "[I 2025-09-20 22:06:43,023] Trial 8 finished with value: 0.7404547344684485 and parameters: {'learning_rate': 1.397088272572914e-05, 'batch_size': 16, 'num_train_epochs': 3}. Best is trial 8 with value: 0.7404547344684485.\n"
          ]
        },
        {
          "name": "stdout",
          "output_type": "stream",
          "text": [
            "{'eval_loss': 0.5446701049804688, 'eval_accuracy': 0.7416666666666667, 'eval_f1-macro': 0.7404547344684485, 'eval_precision': 0.7462663752986334, 'eval_recall': 0.7416666666666667, 'eval_runtime': 4.0635, 'eval_samples_per_second': 147.655, 'eval_steps_per_second': 2.461, 'epoch': 3.0}\n"
          ]
        },
        {
          "name": "stderr",
          "output_type": "stream",
          "text": [
            "/tmp/ipython-input-1892351867.py:43: FutureWarning: `tokenizer` is deprecated and will be removed in version 5.0.0 for `Trainer.__init__`. Use `processing_class` instead.\n",
            "  trainer = Trainer(model=model, args=training_args,\n"
          ]
        },
        {
          "data": {
            "text/html": [
              "\n",
              "    <div>\n",
              "      \n",
              "      <progress value='255' max='255' style='width:300px; height:20px; vertical-align: middle;'></progress>\n",
              "      [255/255 05:12, Epoch 3/3]\n",
              "    </div>\n",
              "    <table border=\"1\" class=\"dataframe\">\n",
              "  <thead>\n",
              " <tr style=\"text-align: left;\">\n",
              "      <th>Epoch</th>\n",
              "      <th>Training Loss</th>\n",
              "      <th>Validation Loss</th>\n",
              "      <th>Accuracy</th>\n",
              "      <th>F1-macro</th>\n",
              "      <th>Precision</th>\n",
              "      <th>Recall</th>\n",
              "    </tr>\n",
              "  </thead>\n",
              "  <tbody>\n",
              "    <tr>\n",
              "      <td>1</td>\n",
              "      <td>0.573700</td>\n",
              "      <td>0.572424</td>\n",
              "      <td>0.723333</td>\n",
              "      <td>0.722334</td>\n",
              "      <td>0.726596</td>\n",
              "      <td>0.723333</td>\n",
              "    </tr>\n",
              "    <tr>\n",
              "      <td>2</td>\n",
              "      <td>0.491300</td>\n",
              "      <td>0.538085</td>\n",
              "      <td>0.740000</td>\n",
              "      <td>0.739650</td>\n",
              "      <td>0.741298</td>\n",
              "      <td>0.740000</td>\n",
              "    </tr>\n",
              "    <tr>\n",
              "      <td>3</td>\n",
              "      <td>0.483800</td>\n",
              "      <td>0.538950</td>\n",
              "      <td>0.738333</td>\n",
              "      <td>0.736718</td>\n",
              "      <td>0.744330</td>\n",
              "      <td>0.738333</td>\n",
              "    </tr>\n",
              "  </tbody>\n",
              "</table><p>"
            ],
            "text/plain": [
              "<IPython.core.display.HTML object>"
            ]
          },
          "metadata": {},
          "output_type": "display_data"
        },
        {
          "data": {
            "text/html": [
              "\n",
              "    <div>\n",
              "      \n",
              "      <progress value='10' max='10' style='width:300px; height:20px; vertical-align: middle;'></progress>\n",
              "      [10/10 00:03]\n",
              "    </div>\n",
              "    "
            ],
            "text/plain": [
              "<IPython.core.display.HTML object>"
            ]
          },
          "metadata": {},
          "output_type": "display_data"
        },
        {
          "name": "stderr",
          "output_type": "stream",
          "text": [
            "[I 2025-09-20 22:12:01,586] Trial 9 finished with value: 0.736717804528342 and parameters: {'learning_rate': 1.72350213832113e-05, 'batch_size': 32, 'num_train_epochs': 3}. Best is trial 8 with value: 0.7404547344684485.\n"
          ]
        },
        {
          "name": "stdout",
          "output_type": "stream",
          "text": [
            "{'eval_loss': 0.5389495491981506, 'eval_accuracy': 0.7383333333333333, 'eval_f1-macro': 0.736717804528342, 'eval_precision': 0.7443302844255106, 'eval_recall': 0.7383333333333333, 'eval_runtime': 4.0439, 'eval_samples_per_second': 148.372, 'eval_steps_per_second': 2.473, 'epoch': 3.0}\n"
          ]
        },
        {
          "name": "stderr",
          "output_type": "stream",
          "text": [
            "/tmp/ipython-input-1892351867.py:43: FutureWarning: `tokenizer` is deprecated and will be removed in version 5.0.0 for `Trainer.__init__`. Use `processing_class` instead.\n",
            "  trainer = Trainer(model=model, args=training_args,\n"
          ]
        },
        {
          "data": {
            "text/html": [
              "\n",
              "    <div>\n",
              "      \n",
              "      <progress value='340' max='340' style='width:300px; height:20px; vertical-align: middle;'></progress>\n",
              "      [340/340 06:55, Epoch 4/4]\n",
              "    </div>\n",
              "    <table border=\"1\" class=\"dataframe\">\n",
              "  <thead>\n",
              " <tr style=\"text-align: left;\">\n",
              "      <th>Epoch</th>\n",
              "      <th>Training Loss</th>\n",
              "      <th>Validation Loss</th>\n",
              "      <th>Accuracy</th>\n",
              "      <th>F1-macro</th>\n",
              "      <th>Precision</th>\n",
              "      <th>Recall</th>\n",
              "    </tr>\n",
              "  </thead>\n",
              "  <tbody>\n",
              "    <tr>\n",
              "      <td>1</td>\n",
              "      <td>0.545000</td>\n",
              "      <td>0.548606</td>\n",
              "      <td>0.735000</td>\n",
              "      <td>0.729309</td>\n",
              "      <td>0.756578</td>\n",
              "      <td>0.735000</td>\n",
              "    </tr>\n",
              "    <tr>\n",
              "      <td>2</td>\n",
              "      <td>0.450600</td>\n",
              "      <td>0.523640</td>\n",
              "      <td>0.751667</td>\n",
              "      <td>0.750262</td>\n",
              "      <td>0.757460</td>\n",
              "      <td>0.751667</td>\n",
              "    </tr>\n",
              "    <tr>\n",
              "      <td>3</td>\n",
              "      <td>0.402000</td>\n",
              "      <td>0.536020</td>\n",
              "      <td>0.745000</td>\n",
              "      <td>0.744999</td>\n",
              "      <td>0.745003</td>\n",
              "      <td>0.745000</td>\n",
              "    </tr>\n",
              "    <tr>\n",
              "      <td>4</td>\n",
              "      <td>0.360400</td>\n",
              "      <td>0.559998</td>\n",
              "      <td>0.755000</td>\n",
              "      <td>0.754257</td>\n",
              "      <td>0.758123</td>\n",
              "      <td>0.755000</td>\n",
              "    </tr>\n",
              "  </tbody>\n",
              "</table><p>"
            ],
            "text/plain": [
              "<IPython.core.display.HTML object>"
            ]
          },
          "metadata": {},
          "output_type": "display_data"
        },
        {
          "data": {
            "text/html": [
              "\n",
              "    <div>\n",
              "      \n",
              "      <progress value='10' max='10' style='width:300px; height:20px; vertical-align: middle;'></progress>\n",
              "      [10/10 00:03]\n",
              "    </div>\n",
              "    "
            ],
            "text/plain": [
              "<IPython.core.display.HTML object>"
            ]
          },
          "metadata": {},
          "output_type": "display_data"
        },
        {
          "name": "stderr",
          "output_type": "stream",
          "text": [
            "[I 2025-09-20 22:19:03,993] Trial 10 finished with value: 0.7542566262945409 and parameters: {'learning_rate': 3.079784998948728e-05, 'batch_size': 16, 'num_train_epochs': 4}. Best is trial 10 with value: 0.7542566262945409.\n"
          ]
        },
        {
          "name": "stdout",
          "output_type": "stream",
          "text": [
            "{'eval_loss': 0.559998095035553, 'eval_accuracy': 0.755, 'eval_f1-macro': 0.7542566262945409, 'eval_precision': 0.758123291831157, 'eval_recall': 0.755, 'eval_runtime': 4.0588, 'eval_samples_per_second': 147.827, 'eval_steps_per_second': 2.464, 'epoch': 4.0}\n"
          ]
        },
        {
          "name": "stderr",
          "output_type": "stream",
          "text": [
            "/tmp/ipython-input-1892351867.py:43: FutureWarning: `tokenizer` is deprecated and will be removed in version 5.0.0 for `Trainer.__init__`. Use `processing_class` instead.\n",
            "  trainer = Trainer(model=model, args=training_args,\n"
          ]
        },
        {
          "data": {
            "text/html": [
              "\n",
              "    <div>\n",
              "      \n",
              "      <progress value='340' max='340' style='width:300px; height:20px; vertical-align: middle;'></progress>\n",
              "      [340/340 06:55, Epoch 4/4]\n",
              "    </div>\n",
              "    <table border=\"1\" class=\"dataframe\">\n",
              "  <thead>\n",
              " <tr style=\"text-align: left;\">\n",
              "      <th>Epoch</th>\n",
              "      <th>Training Loss</th>\n",
              "      <th>Validation Loss</th>\n",
              "      <th>Accuracy</th>\n",
              "      <th>F1-macro</th>\n",
              "      <th>Precision</th>\n",
              "      <th>Recall</th>\n",
              "    </tr>\n",
              "  </thead>\n",
              "  <tbody>\n",
              "    <tr>\n",
              "      <td>1</td>\n",
              "      <td>0.538900</td>\n",
              "      <td>0.555427</td>\n",
              "      <td>0.733333</td>\n",
              "      <td>0.727471</td>\n",
              "      <td>0.755301</td>\n",
              "      <td>0.733333</td>\n",
              "    </tr>\n",
              "    <tr>\n",
              "      <td>2</td>\n",
              "      <td>0.452400</td>\n",
              "      <td>0.523891</td>\n",
              "      <td>0.750000</td>\n",
              "      <td>0.748884</td>\n",
              "      <td>0.754525</td>\n",
              "      <td>0.750000</td>\n",
              "    </tr>\n",
              "    <tr>\n",
              "      <td>3</td>\n",
              "      <td>0.397400</td>\n",
              "      <td>0.538247</td>\n",
              "      <td>0.738333</td>\n",
              "      <td>0.738327</td>\n",
              "      <td>0.738357</td>\n",
              "      <td>0.738333</td>\n",
              "    </tr>\n",
              "    <tr>\n",
              "      <td>4</td>\n",
              "      <td>0.349600</td>\n",
              "      <td>0.557765</td>\n",
              "      <td>0.745000</td>\n",
              "      <td>0.744483</td>\n",
              "      <td>0.747001</td>\n",
              "      <td>0.745000</td>\n",
              "    </tr>\n",
              "  </tbody>\n",
              "</table><p>"
            ],
            "text/plain": [
              "<IPython.core.display.HTML object>"
            ]
          },
          "metadata": {},
          "output_type": "display_data"
        },
        {
          "data": {
            "text/html": [
              "\n",
              "    <div>\n",
              "      \n",
              "      <progress value='10' max='10' style='width:300px; height:20px; vertical-align: middle;'></progress>\n",
              "      [10/10 00:03]\n",
              "    </div>\n",
              "    "
            ],
            "text/plain": [
              "<IPython.core.display.HTML object>"
            ]
          },
          "metadata": {},
          "output_type": "display_data"
        },
        {
          "name": "stderr",
          "output_type": "stream",
          "text": [
            "[I 2025-09-20 22:26:06,325] Trial 11 finished with value: 0.7444825772188681 and parameters: {'learning_rate': 3.1443073355236995e-05, 'batch_size': 16, 'num_train_epochs': 4}. Best is trial 10 with value: 0.7542566262945409.\n"
          ]
        },
        {
          "name": "stdout",
          "output_type": "stream",
          "text": [
            "{'eval_loss': 0.5577653050422668, 'eval_accuracy': 0.745, 'eval_f1-macro': 0.7444825772188681, 'eval_precision': 0.7470007057163021, 'eval_recall': 0.745, 'eval_runtime': 4.0832, 'eval_samples_per_second': 146.944, 'eval_steps_per_second': 2.449, 'epoch': 4.0}\n"
          ]
        },
        {
          "name": "stderr",
          "output_type": "stream",
          "text": [
            "/tmp/ipython-input-1892351867.py:43: FutureWarning: `tokenizer` is deprecated and will be removed in version 5.0.0 for `Trainer.__init__`. Use `processing_class` instead.\n",
            "  trainer = Trainer(model=model, args=training_args,\n"
          ]
        },
        {
          "data": {
            "text/html": [
              "\n",
              "    <div>\n",
              "      \n",
              "      <progress value='340' max='340' style='width:300px; height:20px; vertical-align: middle;'></progress>\n",
              "      [340/340 06:55, Epoch 4/4]\n",
              "    </div>\n",
              "    <table border=\"1\" class=\"dataframe\">\n",
              "  <thead>\n",
              " <tr style=\"text-align: left;\">\n",
              "      <th>Epoch</th>\n",
              "      <th>Training Loss</th>\n",
              "      <th>Validation Loss</th>\n",
              "      <th>Accuracy</th>\n",
              "      <th>F1-macro</th>\n",
              "      <th>Precision</th>\n",
              "      <th>Recall</th>\n",
              "    </tr>\n",
              "  </thead>\n",
              "  <tbody>\n",
              "    <tr>\n",
              "      <td>1</td>\n",
              "      <td>0.535900</td>\n",
              "      <td>0.549730</td>\n",
              "      <td>0.736667</td>\n",
              "      <td>0.731402</td>\n",
              "      <td>0.756800</td>\n",
              "      <td>0.736667</td>\n",
              "    </tr>\n",
              "    <tr>\n",
              "      <td>2</td>\n",
              "      <td>0.447800</td>\n",
              "      <td>0.521502</td>\n",
              "      <td>0.750000</td>\n",
              "      <td>0.748884</td>\n",
              "      <td>0.754525</td>\n",
              "      <td>0.750000</td>\n",
              "    </tr>\n",
              "    <tr>\n",
              "      <td>3</td>\n",
              "      <td>0.384900</td>\n",
              "      <td>0.540341</td>\n",
              "      <td>0.741667</td>\n",
              "      <td>0.741631</td>\n",
              "      <td>0.741798</td>\n",
              "      <td>0.741667</td>\n",
              "    </tr>\n",
              "    <tr>\n",
              "      <td>4</td>\n",
              "      <td>0.333300</td>\n",
              "      <td>0.561865</td>\n",
              "      <td>0.745000</td>\n",
              "      <td>0.744483</td>\n",
              "      <td>0.747001</td>\n",
              "      <td>0.745000</td>\n",
              "    </tr>\n",
              "  </tbody>\n",
              "</table><p>"
            ],
            "text/plain": [
              "<IPython.core.display.HTML object>"
            ]
          },
          "metadata": {},
          "output_type": "display_data"
        },
        {
          "data": {
            "text/html": [
              "\n",
              "    <div>\n",
              "      \n",
              "      <progress value='10' max='10' style='width:300px; height:20px; vertical-align: middle;'></progress>\n",
              "      [10/10 00:03]\n",
              "    </div>\n",
              "    "
            ],
            "text/plain": [
              "<IPython.core.display.HTML object>"
            ]
          },
          "metadata": {},
          "output_type": "display_data"
        },
        {
          "name": "stderr",
          "output_type": "stream",
          "text": [
            "[I 2025-09-20 22:33:08,767] Trial 12 finished with value: 0.7444825772188681 and parameters: {'learning_rate': 3.372193830515752e-05, 'batch_size': 16, 'num_train_epochs': 4}. Best is trial 10 with value: 0.7542566262945409.\n"
          ]
        },
        {
          "name": "stdout",
          "output_type": "stream",
          "text": [
            "{'eval_loss': 0.5618647336959839, 'eval_accuracy': 0.745, 'eval_f1-macro': 0.7444825772188681, 'eval_precision': 0.7470007057163021, 'eval_recall': 0.745, 'eval_runtime': 4.0641, 'eval_samples_per_second': 147.633, 'eval_steps_per_second': 2.461, 'epoch': 4.0}\n"
          ]
        },
        {
          "name": "stderr",
          "output_type": "stream",
          "text": [
            "/tmp/ipython-input-1892351867.py:43: FutureWarning: `tokenizer` is deprecated and will be removed in version 5.0.0 for `Trainer.__init__`. Use `processing_class` instead.\n",
            "  trainer = Trainer(model=model, args=training_args,\n"
          ]
        },
        {
          "data": {
            "text/html": [
              "\n",
              "    <div>\n",
              "      \n",
              "      <progress value='340' max='340' style='width:300px; height:20px; vertical-align: middle;'></progress>\n",
              "      [340/340 06:55, Epoch 4/4]\n",
              "    </div>\n",
              "    <table border=\"1\" class=\"dataframe\">\n",
              "  <thead>\n",
              " <tr style=\"text-align: left;\">\n",
              "      <th>Epoch</th>\n",
              "      <th>Training Loss</th>\n",
              "      <th>Validation Loss</th>\n",
              "      <th>Accuracy</th>\n",
              "      <th>F1-macro</th>\n",
              "      <th>Precision</th>\n",
              "      <th>Recall</th>\n",
              "    </tr>\n",
              "  </thead>\n",
              "  <tbody>\n",
              "    <tr>\n",
              "      <td>1</td>\n",
              "      <td>0.538900</td>\n",
              "      <td>0.553506</td>\n",
              "      <td>0.736667</td>\n",
              "      <td>0.731402</td>\n",
              "      <td>0.756800</td>\n",
              "      <td>0.736667</td>\n",
              "    </tr>\n",
              "    <tr>\n",
              "      <td>2</td>\n",
              "      <td>0.451000</td>\n",
              "      <td>0.523431</td>\n",
              "      <td>0.750000</td>\n",
              "      <td>0.748769</td>\n",
              "      <td>0.754998</td>\n",
              "      <td>0.750000</td>\n",
              "    </tr>\n",
              "    <tr>\n",
              "      <td>3</td>\n",
              "      <td>0.394600</td>\n",
              "      <td>0.539005</td>\n",
              "      <td>0.736667</td>\n",
              "      <td>0.736640</td>\n",
              "      <td>0.736761</td>\n",
              "      <td>0.736667</td>\n",
              "    </tr>\n",
              "    <tr>\n",
              "      <td>4</td>\n",
              "      <td>0.346600</td>\n",
              "      <td>0.558028</td>\n",
              "      <td>0.745000</td>\n",
              "      <td>0.744317</td>\n",
              "      <td>0.747644</td>\n",
              "      <td>0.745000</td>\n",
              "    </tr>\n",
              "  </tbody>\n",
              "</table><p>"
            ],
            "text/plain": [
              "<IPython.core.display.HTML object>"
            ]
          },
          "metadata": {},
          "output_type": "display_data"
        },
        {
          "data": {
            "text/html": [
              "\n",
              "    <div>\n",
              "      \n",
              "      <progress value='10' max='10' style='width:300px; height:20px; vertical-align: middle;'></progress>\n",
              "      [10/10 00:03]\n",
              "    </div>\n",
              "    "
            ],
            "text/plain": [
              "<IPython.core.display.HTML object>"
            ]
          },
          "metadata": {},
          "output_type": "display_data"
        },
        {
          "name": "stderr",
          "output_type": "stream",
          "text": [
            "[I 2025-09-20 22:40:11,040] Trial 13 finished with value: 0.7443174696899223 and parameters: {'learning_rate': 3.1968037099769264e-05, 'batch_size': 16, 'num_train_epochs': 4}. Best is trial 10 with value: 0.7542566262945409.\n"
          ]
        },
        {
          "name": "stdout",
          "output_type": "stream",
          "text": [
            "{'eval_loss': 0.5580276250839233, 'eval_accuracy': 0.745, 'eval_f1-macro': 0.7443174696899223, 'eval_precision': 0.7476442907040735, 'eval_recall': 0.745, 'eval_runtime': 4.0578, 'eval_samples_per_second': 147.863, 'eval_steps_per_second': 2.464, 'epoch': 4.0}\n"
          ]
        },
        {
          "name": "stderr",
          "output_type": "stream",
          "text": [
            "/tmp/ipython-input-1892351867.py:43: FutureWarning: `tokenizer` is deprecated and will be removed in version 5.0.0 for `Trainer.__init__`. Use `processing_class` instead.\n",
            "  trainer = Trainer(model=model, args=training_args,\n"
          ]
        },
        {
          "data": {
            "text/html": [
              "\n",
              "    <div>\n",
              "      \n",
              "      <progress value='340' max='340' style='width:300px; height:20px; vertical-align: middle;'></progress>\n",
              "      [340/340 06:55, Epoch 4/4]\n",
              "    </div>\n",
              "    <table border=\"1\" class=\"dataframe\">\n",
              "  <thead>\n",
              " <tr style=\"text-align: left;\">\n",
              "      <th>Epoch</th>\n",
              "      <th>Training Loss</th>\n",
              "      <th>Validation Loss</th>\n",
              "      <th>Accuracy</th>\n",
              "      <th>F1-macro</th>\n",
              "      <th>Precision</th>\n",
              "      <th>Recall</th>\n",
              "    </tr>\n",
              "  </thead>\n",
              "  <tbody>\n",
              "    <tr>\n",
              "      <td>1</td>\n",
              "      <td>0.534500</td>\n",
              "      <td>0.537006</td>\n",
              "      <td>0.746667</td>\n",
              "      <td>0.742312</td>\n",
              "      <td>0.764550</td>\n",
              "      <td>0.746667</td>\n",
              "    </tr>\n",
              "    <tr>\n",
              "      <td>2</td>\n",
              "      <td>0.430200</td>\n",
              "      <td>0.522426</td>\n",
              "      <td>0.760000</td>\n",
              "      <td>0.759615</td>\n",
              "      <td>0.761675</td>\n",
              "      <td>0.760000</td>\n",
              "    </tr>\n",
              "    <tr>\n",
              "      <td>3</td>\n",
              "      <td>0.317900</td>\n",
              "      <td>0.582884</td>\n",
              "      <td>0.748333</td>\n",
              "      <td>0.748131</td>\n",
              "      <td>0.749133</td>\n",
              "      <td>0.748333</td>\n",
              "    </tr>\n",
              "    <tr>\n",
              "      <td>4</td>\n",
              "      <td>0.235200</td>\n",
              "      <td>0.621868</td>\n",
              "      <td>0.738333</td>\n",
              "      <td>0.737633</td>\n",
              "      <td>0.740906</td>\n",
              "      <td>0.738333</td>\n",
              "    </tr>\n",
              "  </tbody>\n",
              "</table><p>"
            ],
            "text/plain": [
              "<IPython.core.display.HTML object>"
            ]
          },
          "metadata": {},
          "output_type": "display_data"
        },
        {
          "data": {
            "text/html": [
              "\n",
              "    <div>\n",
              "      \n",
              "      <progress value='10' max='10' style='width:300px; height:20px; vertical-align: middle;'></progress>\n",
              "      [10/10 00:03]\n",
              "    </div>\n",
              "    "
            ],
            "text/plain": [
              "<IPython.core.display.HTML object>"
            ]
          },
          "metadata": {},
          "output_type": "display_data"
        },
        {
          "name": "stderr",
          "output_type": "stream",
          "text": [
            "[I 2025-09-20 22:47:13,402] Trial 14 finished with value: 0.7376329590935804 and parameters: {'learning_rate': 4.961191402770347e-05, 'batch_size': 32, 'num_train_epochs': 4}. Best is trial 10 with value: 0.7542566262945409.\n"
          ]
        },
        {
          "name": "stdout",
          "output_type": "stream",
          "text": [
            "{'eval_loss': 0.6218684911727905, 'eval_accuracy': 0.7383333333333333, 'eval_f1-macro': 0.7376329590935804, 'eval_precision': 0.7409056705488606, 'eval_recall': 0.7383333333333333, 'eval_runtime': 4.049, 'eval_samples_per_second': 148.186, 'eval_steps_per_second': 2.47, 'epoch': 4.0}\n"
          ]
        },
        {
          "name": "stderr",
          "output_type": "stream",
          "text": [
            "/tmp/ipython-input-1892351867.py:43: FutureWarning: `tokenizer` is deprecated and will be removed in version 5.0.0 for `Trainer.__init__`. Use `processing_class` instead.\n",
            "  trainer = Trainer(model=model, args=training_args,\n"
          ]
        },
        {
          "data": {
            "text/html": [
              "\n",
              "    <div>\n",
              "      \n",
              "      <progress value='340' max='340' style='width:300px; height:20px; vertical-align: middle;'></progress>\n",
              "      [340/340 06:55, Epoch 4/4]\n",
              "    </div>\n",
              "    <table border=\"1\" class=\"dataframe\">\n",
              "  <thead>\n",
              " <tr style=\"text-align: left;\">\n",
              "      <th>Epoch</th>\n",
              "      <th>Training Loss</th>\n",
              "      <th>Validation Loss</th>\n",
              "      <th>Accuracy</th>\n",
              "      <th>F1-macro</th>\n",
              "      <th>Precision</th>\n",
              "      <th>Recall</th>\n",
              "    </tr>\n",
              "  </thead>\n",
              "  <tbody>\n",
              "    <tr>\n",
              "      <td>1</td>\n",
              "      <td>0.543900</td>\n",
              "      <td>0.559173</td>\n",
              "      <td>0.728333</td>\n",
              "      <td>0.722499</td>\n",
              "      <td>0.749299</td>\n",
              "      <td>0.728333</td>\n",
              "    </tr>\n",
              "    <tr>\n",
              "      <td>2</td>\n",
              "      <td>0.463500</td>\n",
              "      <td>0.526673</td>\n",
              "      <td>0.743333</td>\n",
              "      <td>0.742069</td>\n",
              "      <td>0.748198</td>\n",
              "      <td>0.743333</td>\n",
              "    </tr>\n",
              "    <tr>\n",
              "      <td>3</td>\n",
              "      <td>0.422200</td>\n",
              "      <td>0.532089</td>\n",
              "      <td>0.740000</td>\n",
              "      <td>0.739997</td>\n",
              "      <td>0.740011</td>\n",
              "      <td>0.740000</td>\n",
              "    </tr>\n",
              "    <tr>\n",
              "      <td>4</td>\n",
              "      <td>0.382300</td>\n",
              "      <td>0.546119</td>\n",
              "      <td>0.743333</td>\n",
              "      <td>0.742406</td>\n",
              "      <td>0.746889</td>\n",
              "      <td>0.743333</td>\n",
              "    </tr>\n",
              "  </tbody>\n",
              "</table><p>"
            ],
            "text/plain": [
              "<IPython.core.display.HTML object>"
            ]
          },
          "metadata": {},
          "output_type": "display_data"
        },
        {
          "data": {
            "text/html": [
              "\n",
              "    <div>\n",
              "      \n",
              "      <progress value='10' max='10' style='width:300px; height:20px; vertical-align: middle;'></progress>\n",
              "      [10/10 00:03]\n",
              "    </div>\n",
              "    "
            ],
            "text/plain": [
              "<IPython.core.display.HTML object>"
            ]
          },
          "metadata": {},
          "output_type": "display_data"
        },
        {
          "name": "stderr",
          "output_type": "stream",
          "text": [
            "[I 2025-09-20 22:54:15,778] Trial 15 finished with value: 0.7424059949150275 and parameters: {'learning_rate': 2.7191128133647736e-05, 'batch_size': 16, 'num_train_epochs': 4}. Best is trial 10 with value: 0.7542566262945409.\n"
          ]
        },
        {
          "name": "stdout",
          "output_type": "stream",
          "text": [
            "{'eval_loss': 0.5461187958717346, 'eval_accuracy': 0.7433333333333333, 'eval_f1-macro': 0.7424059949150275, 'eval_precision': 0.7468885281385281, 'eval_recall': 0.7433333333333334, 'eval_runtime': 4.0749, 'eval_samples_per_second': 147.244, 'eval_steps_per_second': 2.454, 'epoch': 4.0}\n"
          ]
        },
        {
          "name": "stderr",
          "output_type": "stream",
          "text": [
            "/tmp/ipython-input-1892351867.py:43: FutureWarning: `tokenizer` is deprecated and will be removed in version 5.0.0 for `Trainer.__init__`. Use `processing_class` instead.\n",
            "  trainer = Trainer(model=model, args=training_args,\n"
          ]
        },
        {
          "data": {
            "text/html": [
              "\n",
              "    <div>\n",
              "      \n",
              "      <progress value='340' max='340' style='width:300px; height:20px; vertical-align: middle;'></progress>\n",
              "      [340/340 06:55, Epoch 4/4]\n",
              "    </div>\n",
              "    <table border=\"1\" class=\"dataframe\">\n",
              "  <thead>\n",
              " <tr style=\"text-align: left;\">\n",
              "      <th>Epoch</th>\n",
              "      <th>Training Loss</th>\n",
              "      <th>Validation Loss</th>\n",
              "      <th>Accuracy</th>\n",
              "      <th>F1-macro</th>\n",
              "      <th>Precision</th>\n",
              "      <th>Recall</th>\n",
              "    </tr>\n",
              "  </thead>\n",
              "  <tbody>\n",
              "    <tr>\n",
              "      <td>1</td>\n",
              "      <td>0.532400</td>\n",
              "      <td>0.543551</td>\n",
              "      <td>0.731667</td>\n",
              "      <td>0.725904</td>\n",
              "      <td>0.752939</td>\n",
              "      <td>0.731667</td>\n",
              "    </tr>\n",
              "    <tr>\n",
              "      <td>2</td>\n",
              "      <td>0.441000</td>\n",
              "      <td>0.522199</td>\n",
              "      <td>0.755000</td>\n",
              "      <td>0.754344</td>\n",
              "      <td>0.757752</td>\n",
              "      <td>0.755000</td>\n",
              "    </tr>\n",
              "    <tr>\n",
              "      <td>3</td>\n",
              "      <td>0.356000</td>\n",
              "      <td>0.554600</td>\n",
              "      <td>0.743333</td>\n",
              "      <td>0.743288</td>\n",
              "      <td>0.743506</td>\n",
              "      <td>0.743333</td>\n",
              "    </tr>\n",
              "    <tr>\n",
              "      <td>4</td>\n",
              "      <td>0.292500</td>\n",
              "      <td>0.586562</td>\n",
              "      <td>0.743333</td>\n",
              "      <td>0.742850</td>\n",
              "      <td>0.745175</td>\n",
              "      <td>0.743333</td>\n",
              "    </tr>\n",
              "  </tbody>\n",
              "</table><p>"
            ],
            "text/plain": [
              "<IPython.core.display.HTML object>"
            ]
          },
          "metadata": {},
          "output_type": "display_data"
        },
        {
          "data": {
            "text/html": [
              "\n",
              "    <div>\n",
              "      \n",
              "      <progress value='10' max='10' style='width:300px; height:20px; vertical-align: middle;'></progress>\n",
              "      [10/10 00:03]\n",
              "    </div>\n",
              "    "
            ],
            "text/plain": [
              "<IPython.core.display.HTML object>"
            ]
          },
          "metadata": {},
          "output_type": "display_data"
        },
        {
          "name": "stderr",
          "output_type": "stream",
          "text": [
            "[I 2025-09-20 23:01:18,200] Trial 16 finished with value: 0.7428504636484065 and parameters: {'learning_rate': 3.948822222875724e-05, 'batch_size': 16, 'num_train_epochs': 4}. Best is trial 10 with value: 0.7542566262945409.\n"
          ]
        },
        {
          "name": "stdout",
          "output_type": "stream",
          "text": [
            "{'eval_loss': 0.5865620970726013, 'eval_accuracy': 0.7433333333333333, 'eval_f1-macro': 0.7428504636484065, 'eval_precision': 0.7451748690161659, 'eval_recall': 0.7433333333333333, 'eval_runtime': 4.0463, 'eval_samples_per_second': 148.284, 'eval_steps_per_second': 2.471, 'epoch': 4.0}\n"
          ]
        },
        {
          "name": "stderr",
          "output_type": "stream",
          "text": [
            "/tmp/ipython-input-1892351867.py:43: FutureWarning: `tokenizer` is deprecated and will be removed in version 5.0.0 for `Trainer.__init__`. Use `processing_class` instead.\n",
            "  trainer = Trainer(model=model, args=training_args,\n"
          ]
        },
        {
          "data": {
            "text/html": [
              "\n",
              "    <div>\n",
              "      \n",
              "      <progress value='340' max='340' style='width:300px; height:20px; vertical-align: middle;'></progress>\n",
              "      [340/340 06:55, Epoch 4/4]\n",
              "    </div>\n",
              "    <table border=\"1\" class=\"dataframe\">\n",
              "  <thead>\n",
              " <tr style=\"text-align: left;\">\n",
              "      <th>Epoch</th>\n",
              "      <th>Training Loss</th>\n",
              "      <th>Validation Loss</th>\n",
              "      <th>Accuracy</th>\n",
              "      <th>F1-macro</th>\n",
              "      <th>Precision</th>\n",
              "      <th>Recall</th>\n",
              "    </tr>\n",
              "  </thead>\n",
              "  <tbody>\n",
              "    <tr>\n",
              "      <td>1</td>\n",
              "      <td>0.545000</td>\n",
              "      <td>0.559242</td>\n",
              "      <td>0.726667</td>\n",
              "      <td>0.721202</td>\n",
              "      <td>0.745949</td>\n",
              "      <td>0.726667</td>\n",
              "    </tr>\n",
              "    <tr>\n",
              "      <td>2</td>\n",
              "      <td>0.465400</td>\n",
              "      <td>0.528182</td>\n",
              "      <td>0.736667</td>\n",
              "      <td>0.735606</td>\n",
              "      <td>0.740526</td>\n",
              "      <td>0.736667</td>\n",
              "    </tr>\n",
              "    <tr>\n",
              "      <td>3</td>\n",
              "      <td>0.427800</td>\n",
              "      <td>0.531898</td>\n",
              "      <td>0.741667</td>\n",
              "      <td>0.741649</td>\n",
              "      <td>0.741734</td>\n",
              "      <td>0.741667</td>\n",
              "    </tr>\n",
              "    <tr>\n",
              "      <td>4</td>\n",
              "      <td>0.389600</td>\n",
              "      <td>0.544694</td>\n",
              "      <td>0.743333</td>\n",
              "      <td>0.742406</td>\n",
              "      <td>0.746889</td>\n",
              "      <td>0.743333</td>\n",
              "    </tr>\n",
              "  </tbody>\n",
              "</table><p>"
            ],
            "text/plain": [
              "<IPython.core.display.HTML object>"
            ]
          },
          "metadata": {},
          "output_type": "display_data"
        },
        {
          "data": {
            "text/html": [
              "\n",
              "    <div>\n",
              "      \n",
              "      <progress value='10' max='10' style='width:300px; height:20px; vertical-align: middle;'></progress>\n",
              "      [10/10 00:03]\n",
              "    </div>\n",
              "    "
            ],
            "text/plain": [
              "<IPython.core.display.HTML object>"
            ]
          },
          "metadata": {},
          "output_type": "display_data"
        },
        {
          "name": "stderr",
          "output_type": "stream",
          "text": [
            "[I 2025-09-20 23:08:20,423] Trial 17 finished with value: 0.7424059949150275 and parameters: {'learning_rate': 2.6056257573096867e-05, 'batch_size': 16, 'num_train_epochs': 4}. Best is trial 10 with value: 0.7542566262945409.\n"
          ]
        },
        {
          "name": "stdout",
          "output_type": "stream",
          "text": [
            "{'eval_loss': 0.5446944236755371, 'eval_accuracy': 0.7433333333333333, 'eval_f1-macro': 0.7424059949150275, 'eval_precision': 0.7468885281385281, 'eval_recall': 0.7433333333333334, 'eval_runtime': 4.0476, 'eval_samples_per_second': 148.236, 'eval_steps_per_second': 2.471, 'epoch': 4.0}\n"
          ]
        },
        {
          "name": "stderr",
          "output_type": "stream",
          "text": [
            "/tmp/ipython-input-1892351867.py:43: FutureWarning: `tokenizer` is deprecated and will be removed in version 5.0.0 for `Trainer.__init__`. Use `processing_class` instead.\n",
            "  trainer = Trainer(model=model, args=training_args,\n"
          ]
        },
        {
          "data": {
            "text/html": [
              "\n",
              "    <div>\n",
              "      \n",
              "      <progress value='170' max='170' style='width:300px; height:20px; vertical-align: middle;'></progress>\n",
              "      [170/170 03:28, Epoch 2/2]\n",
              "    </div>\n",
              "    <table border=\"1\" class=\"dataframe\">\n",
              "  <thead>\n",
              " <tr style=\"text-align: left;\">\n",
              "      <th>Epoch</th>\n",
              "      <th>Training Loss</th>\n",
              "      <th>Validation Loss</th>\n",
              "      <th>Accuracy</th>\n",
              "      <th>F1-macro</th>\n",
              "      <th>Precision</th>\n",
              "      <th>Recall</th>\n",
              "    </tr>\n",
              "  </thead>\n",
              "  <tbody>\n",
              "    <tr>\n",
              "      <td>1</td>\n",
              "      <td>0.561700</td>\n",
              "      <td>0.566027</td>\n",
              "      <td>0.730000</td>\n",
              "      <td>0.728913</td>\n",
              "      <td>0.733750</td>\n",
              "      <td>0.730000</td>\n",
              "    </tr>\n",
              "    <tr>\n",
              "      <td>2</td>\n",
              "      <td>0.492000</td>\n",
              "      <td>0.547384</td>\n",
              "      <td>0.738333</td>\n",
              "      <td>0.736982</td>\n",
              "      <td>0.743332</td>\n",
              "      <td>0.738333</td>\n",
              "    </tr>\n",
              "  </tbody>\n",
              "</table><p>"
            ],
            "text/plain": [
              "<IPython.core.display.HTML object>"
            ]
          },
          "metadata": {},
          "output_type": "display_data"
        },
        {
          "data": {
            "text/html": [
              "\n",
              "    <div>\n",
              "      \n",
              "      <progress value='10' max='10' style='width:300px; height:20px; vertical-align: middle;'></progress>\n",
              "      [10/10 00:03]\n",
              "    </div>\n",
              "    "
            ],
            "text/plain": [
              "<IPython.core.display.HTML object>"
            ]
          },
          "metadata": {},
          "output_type": "display_data"
        },
        {
          "name": "stderr",
          "output_type": "stream",
          "text": [
            "[I 2025-09-20 23:11:55,061] Trial 18 finished with value: 0.7369824459515679 and parameters: {'learning_rate': 2.2982002820718205e-05, 'batch_size': 32, 'num_train_epochs': 2}. Best is trial 10 with value: 0.7542566262945409.\n"
          ]
        },
        {
          "name": "stdout",
          "output_type": "stream",
          "text": [
            "{'eval_loss': 0.5473837852478027, 'eval_accuracy': 0.7383333333333333, 'eval_f1-macro': 0.7369824459515679, 'eval_precision': 0.7433324636135722, 'eval_recall': 0.7383333333333333, 'eval_runtime': 4.0596, 'eval_samples_per_second': 147.798, 'eval_steps_per_second': 2.463, 'epoch': 2.0}\n"
          ]
        },
        {
          "name": "stderr",
          "output_type": "stream",
          "text": [
            "/tmp/ipython-input-1892351867.py:43: FutureWarning: `tokenizer` is deprecated and will be removed in version 5.0.0 for `Trainer.__init__`. Use `processing_class` instead.\n",
            "  trainer = Trainer(model=model, args=training_args,\n"
          ]
        },
        {
          "data": {
            "text/html": [
              "\n",
              "    <div>\n",
              "      \n",
              "      <progress value='340' max='340' style='width:300px; height:20px; vertical-align: middle;'></progress>\n",
              "      [340/340 06:56, Epoch 4/4]\n",
              "    </div>\n",
              "    <table border=\"1\" class=\"dataframe\">\n",
              "  <thead>\n",
              " <tr style=\"text-align: left;\">\n",
              "      <th>Epoch</th>\n",
              "      <th>Training Loss</th>\n",
              "      <th>Validation Loss</th>\n",
              "      <th>Accuracy</th>\n",
              "      <th>F1-macro</th>\n",
              "      <th>Precision</th>\n",
              "      <th>Recall</th>\n",
              "    </tr>\n",
              "  </thead>\n",
              "  <tbody>\n",
              "    <tr>\n",
              "      <td>1</td>\n",
              "      <td>0.531200</td>\n",
              "      <td>0.541199</td>\n",
              "      <td>0.738333</td>\n",
              "      <td>0.731892</td>\n",
              "      <td>0.763672</td>\n",
              "      <td>0.738333</td>\n",
              "    </tr>\n",
              "    <tr>\n",
              "      <td>2</td>\n",
              "      <td>0.426000</td>\n",
              "      <td>0.527465</td>\n",
              "      <td>0.760000</td>\n",
              "      <td>0.759615</td>\n",
              "      <td>0.761675</td>\n",
              "      <td>0.760000</td>\n",
              "    </tr>\n",
              "    <tr>\n",
              "      <td>3</td>\n",
              "      <td>0.334500</td>\n",
              "      <td>0.578347</td>\n",
              "      <td>0.721667</td>\n",
              "      <td>0.721647</td>\n",
              "      <td>0.721728</td>\n",
              "      <td>0.721667</td>\n",
              "    </tr>\n",
              "    <tr>\n",
              "      <td>4</td>\n",
              "      <td>0.280700</td>\n",
              "      <td>0.614637</td>\n",
              "      <td>0.728333</td>\n",
              "      <td>0.727509</td>\n",
              "      <td>0.731130</td>\n",
              "      <td>0.728333</td>\n",
              "    </tr>\n",
              "  </tbody>\n",
              "</table><p>"
            ],
            "text/plain": [
              "<IPython.core.display.HTML object>"
            ]
          },
          "metadata": {},
          "output_type": "display_data"
        },
        {
          "data": {
            "text/html": [
              "\n",
              "    <div>\n",
              "      \n",
              "      <progress value='10' max='10' style='width:300px; height:20px; vertical-align: middle;'></progress>\n",
              "      [10/10 00:03]\n",
              "    </div>\n",
              "    "
            ],
            "text/plain": [
              "<IPython.core.display.HTML object>"
            ]
          },
          "metadata": {},
          "output_type": "display_data"
        },
        {
          "name": "stderr",
          "output_type": "stream",
          "text": [
            "[I 2025-09-20 23:18:58,025] Trial 19 finished with value: 0.7275090482041509 and parameters: {'learning_rate': 4.312632057801999e-05, 'batch_size': 8, 'num_train_epochs': 4}. Best is trial 10 with value: 0.7542566262945409.\n"
          ]
        },
        {
          "name": "stdout",
          "output_type": "stream",
          "text": [
            "{'eval_loss': 0.6146368980407715, 'eval_accuracy': 0.7283333333333334, 'eval_f1-macro': 0.7275090482041509, 'eval_precision': 0.7311300064109052, 'eval_recall': 0.7283333333333333, 'eval_runtime': 4.0626, 'eval_samples_per_second': 147.689, 'eval_steps_per_second': 2.461, 'epoch': 4.0}\n",
            "Beste Hyperparameter: {'learning_rate': 3.079784998948728e-05, 'batch_size': 16, 'num_train_epochs': 4}\n"
          ]
        }
      ],
      "source": [
        "study = optuna.create_study(direction=\"maximize\")  # Maximieren von F1\n",
        "study.optimize(model_training_optuna_binary, n_trials=20)  # 20 verschiedene Kombinationen testen\n",
        "\n",
        "print(\"Beste Hyperparameter:\", study.best_params)"
      ]
    },
    {
      "cell_type": "markdown",
      "metadata": {
        "id": "D6Q5YHr7WafX"
      },
      "source": [
        "### Parameter Optimierung mit Optuna für die Mehrklassen-Datensätze"
      ]
    },
    {
      "cell_type": "code",
      "execution_count": null,
      "metadata": {
        "id": "f1tOiOUbWafX"
      },
      "outputs": [],
      "source": [
        "def model_training_optuna_multi(trial):\n",
        "  num_labels = 5\n",
        "  device = torch.device(\"cuda\" if torch.cuda.is_available() else \"cpu\")\n",
        "  model_ckpt = \"distilbert-base-german-cased\"\n",
        "  tokenizer = AutoTokenizer.from_pretrained(model_ckpt)\n",
        "  config = AutoConfig.from_pretrained(model_ckpt,\n",
        "                                     num_labels=num_labels,\n",
        "                                     hidden_dropout_prob=0.3,        # Feedforward-Dropout\n",
        "                                     attention_probs_dropout_prob=0.3)  # Attention-Dropout\n",
        "  model = (AutoModelForSequenceClassification\n",
        "          .from_pretrained(model_ckpt, config = config)\n",
        "          .to(device))\n",
        "\n",
        "  learning_rate = trial.suggest_float(\"learning_rate\", 1e-5, 5e-5, log=True)\n",
        "  batch_size = trial.suggest_categorical(\"batch_size\", [8, 16, 32])\n",
        "  num_epochs = trial.suggest_int(\"num_train_epochs\", 2, 4)\n",
        "\n",
        "  training_args = TrainingArguments(\n",
        "      eval_strategy=\"epoch\",\n",
        "      save_strategy=\"no\",\n",
        "      learning_rate=learning_rate,\n",
        "      per_device_train_batch_size=batch_size,\n",
        "      per_device_eval_batch_size=batch_size,\n",
        "      num_train_epochs=num_epochs,\n",
        "      weight_decay=0.01,\n",
        "      disable_tqdm=False,\n",
        "      logging_steps=10,\n",
        "      push_to_hub=False,\n",
        "      log_level=\"error\"\n",
        "  )\n",
        "\n",
        "  # Datensätze je nach Anwendung in dataset_multi_split oder dataset_multi_roundup_split setzen\n",
        "  trainer = Trainer(model=model, args=training_args,\n",
        "                  compute_metrics=compute_metrics,\n",
        "                  train_dataset=dataset_multi_split[\"train\"],\n",
        "                  eval_dataset=dataset_multi_split[\"validation\"],\n",
        "                  tokenizer=tokenizer)\n",
        "\n",
        "  # Training + Validation\n",
        "  trainer.train();\n",
        "\n",
        "  # Finale Evaluation\n",
        "  # Datensatz je nach Anwendung in dataset_multi_split oder dataset_multi_roundup_split setzen\n",
        "  eval_result = trainer.evaluate(eval_dataset=dataset_multi_split[\"validation\"]);\n",
        "\n",
        "  print(eval_result)\n",
        "  return eval_result[\"eval_f1-macro\"]"
      ]
    },
    {
      "cell_type": "code",
      "execution_count": null,
      "metadata": {
        "colab": {
          "base_uri": "https://localhost:8080/",
          "height": 1000
        },
        "collapsed": true,
        "id": "wh7z0Tj9WafY",
        "outputId": "43d10ef3-d930-4c1a-f500-beffcaed81a0"
      },
      "outputs": [
        {
          "name": "stderr",
          "output_type": "stream",
          "text": [
            "[I 2025-09-20 21:18:55,910] A new study created in memory with name: no-name-6f5bc35d-3d1a-4525-a55d-d31c05d474dd\n",
            "/tmp/ipython-input-1892351867.py:43: FutureWarning: `tokenizer` is deprecated and will be removed in version 5.0.0 for `Trainer.__init__`. Use `processing_class` instead.\n",
            "  trainer = Trainer(model=model, args=training_args,\n"
          ]
        },
        {
          "data": {
            "text/html": [
              "\n",
              "    <div>\n",
              "      \n",
              "      <progress value='340' max='340' style='width:300px; height:20px; vertical-align: middle;'></progress>\n",
              "      [340/340 06:54, Epoch 4/4]\n",
              "    </div>\n",
              "    <table border=\"1\" class=\"dataframe\">\n",
              "  <thead>\n",
              " <tr style=\"text-align: left;\">\n",
              "      <th>Epoch</th>\n",
              "      <th>Training Loss</th>\n",
              "      <th>Validation Loss</th>\n",
              "      <th>Accuracy</th>\n",
              "      <th>F1-macro</th>\n",
              "      <th>Precision</th>\n",
              "      <th>Recall</th>\n",
              "    </tr>\n",
              "  </thead>\n",
              "  <tbody>\n",
              "    <tr>\n",
              "      <td>1</td>\n",
              "      <td>0.595000</td>\n",
              "      <td>0.593199</td>\n",
              "      <td>0.696667</td>\n",
              "      <td>0.696613</td>\n",
              "      <td>0.696807</td>\n",
              "      <td>0.696667</td>\n",
              "    </tr>\n",
              "    <tr>\n",
              "      <td>2</td>\n",
              "      <td>0.505600</td>\n",
              "      <td>0.541014</td>\n",
              "      <td>0.721667</td>\n",
              "      <td>0.720922</td>\n",
              "      <td>0.724059</td>\n",
              "      <td>0.721667</td>\n",
              "    </tr>\n",
              "    <tr>\n",
              "      <td>3</td>\n",
              "      <td>0.490200</td>\n",
              "      <td>0.532123</td>\n",
              "      <td>0.731667</td>\n",
              "      <td>0.731451</td>\n",
              "      <td>0.732413</td>\n",
              "      <td>0.731667</td>\n",
              "    </tr>\n",
              "    <tr>\n",
              "      <td>4</td>\n",
              "      <td>0.477900</td>\n",
              "      <td>0.535574</td>\n",
              "      <td>0.740000</td>\n",
              "      <td>0.738463</td>\n",
              "      <td>0.745779</td>\n",
              "      <td>0.740000</td>\n",
              "    </tr>\n",
              "  </tbody>\n",
              "</table><p>"
            ],
            "text/plain": [
              "<IPython.core.display.HTML object>"
            ]
          },
          "metadata": {},
          "output_type": "display_data"
        },
        {
          "data": {
            "text/html": [
              "\n",
              "    <div>\n",
              "      \n",
              "      <progress value='10' max='10' style='width:300px; height:20px; vertical-align: middle;'></progress>\n",
              "      [10/10 00:03]\n",
              "    </div>\n",
              "    "
            ],
            "text/plain": [
              "<IPython.core.display.HTML object>"
            ]
          },
          "metadata": {},
          "output_type": "display_data"
        },
        {
          "name": "stderr",
          "output_type": "stream",
          "text": [
            "[I 2025-09-20 21:25:57,305] Trial 0 finished with value: 0.7384627421175576 and parameters: {'learning_rate': 1.3488069074643334e-05, 'batch_size': 16, 'num_train_epochs': 4}. Best is trial 0 with value: 0.7384627421175576.\n"
          ]
        },
        {
          "name": "stdout",
          "output_type": "stream",
          "text": [
            "{'eval_loss': 0.5355739593505859, 'eval_accuracy': 0.74, 'eval_f1-macro': 0.7384627421175576, 'eval_precision': 0.7457785262391334, 'eval_recall': 0.74, 'eval_runtime': 4.0479, 'eval_samples_per_second': 148.225, 'eval_steps_per_second': 2.47, 'epoch': 4.0}\n"
          ]
        },
        {
          "name": "stderr",
          "output_type": "stream",
          "text": [
            "/tmp/ipython-input-1892351867.py:43: FutureWarning: `tokenizer` is deprecated and will be removed in version 5.0.0 for `Trainer.__init__`. Use `processing_class` instead.\n",
            "  trainer = Trainer(model=model, args=training_args,\n"
          ]
        },
        {
          "data": {
            "text/html": [
              "\n",
              "    <div>\n",
              "      \n",
              "      <progress value='340' max='340' style='width:300px; height:20px; vertical-align: middle;'></progress>\n",
              "      [340/340 06:56, Epoch 4/4]\n",
              "    </div>\n",
              "    <table border=\"1\" class=\"dataframe\">\n",
              "  <thead>\n",
              " <tr style=\"text-align: left;\">\n",
              "      <th>Epoch</th>\n",
              "      <th>Training Loss</th>\n",
              "      <th>Validation Loss</th>\n",
              "      <th>Accuracy</th>\n",
              "      <th>F1-macro</th>\n",
              "      <th>Precision</th>\n",
              "      <th>Recall</th>\n",
              "    </tr>\n",
              "  </thead>\n",
              "  <tbody>\n",
              "    <tr>\n",
              "      <td>1</td>\n",
              "      <td>0.593400</td>\n",
              "      <td>0.597011</td>\n",
              "      <td>0.711667</td>\n",
              "      <td>0.710792</td>\n",
              "      <td>0.714259</td>\n",
              "      <td>0.711667</td>\n",
              "    </tr>\n",
              "    <tr>\n",
              "      <td>2</td>\n",
              "      <td>0.500300</td>\n",
              "      <td>0.542268</td>\n",
              "      <td>0.735000</td>\n",
              "      <td>0.734196</td>\n",
              "      <td>0.737878</td>\n",
              "      <td>0.735000</td>\n",
              "    </tr>\n",
              "    <tr>\n",
              "      <td>3</td>\n",
              "      <td>0.486400</td>\n",
              "      <td>0.534241</td>\n",
              "      <td>0.735000</td>\n",
              "      <td>0.734911</td>\n",
              "      <td>0.735316</td>\n",
              "      <td>0.735000</td>\n",
              "    </tr>\n",
              "    <tr>\n",
              "      <td>4</td>\n",
              "      <td>0.469300</td>\n",
              "      <td>0.538324</td>\n",
              "      <td>0.736667</td>\n",
              "      <td>0.735370</td>\n",
              "      <td>0.741398</td>\n",
              "      <td>0.736667</td>\n",
              "    </tr>\n",
              "  </tbody>\n",
              "</table><p>"
            ],
            "text/plain": [
              "<IPython.core.display.HTML object>"
            ]
          },
          "metadata": {},
          "output_type": "display_data"
        },
        {
          "data": {
            "text/html": [
              "\n",
              "    <div>\n",
              "      \n",
              "      <progress value='10' max='10' style='width:300px; height:20px; vertical-align: middle;'></progress>\n",
              "      [10/10 00:03]\n",
              "    </div>\n",
              "    "
            ],
            "text/plain": [
              "<IPython.core.display.HTML object>"
            ]
          },
          "metadata": {},
          "output_type": "display_data"
        },
        {
          "name": "stderr",
          "output_type": "stream",
          "text": [
            "[I 2025-09-20 21:33:00,064] Trial 1 finished with value: 0.7353699795665427 and parameters: {'learning_rate': 1.4646952625967629e-05, 'batch_size': 8, 'num_train_epochs': 4}. Best is trial 0 with value: 0.7384627421175576.\n"
          ]
        },
        {
          "name": "stdout",
          "output_type": "stream",
          "text": [
            "{'eval_loss': 0.5383239984512329, 'eval_accuracy': 0.7366666666666667, 'eval_f1-macro': 0.7353699795665427, 'eval_precision': 0.7413980688154496, 'eval_recall': 0.7366666666666666, 'eval_runtime': 4.0596, 'eval_samples_per_second': 147.799, 'eval_steps_per_second': 2.463, 'epoch': 4.0}\n"
          ]
        },
        {
          "name": "stderr",
          "output_type": "stream",
          "text": [
            "/tmp/ipython-input-1892351867.py:43: FutureWarning: `tokenizer` is deprecated and will be removed in version 5.0.0 for `Trainer.__init__`. Use `processing_class` instead.\n",
            "  trainer = Trainer(model=model, args=training_args,\n"
          ]
        },
        {
          "data": {
            "text/html": [
              "\n",
              "    <div>\n",
              "      \n",
              "      <progress value='170' max='170' style='width:300px; height:20px; vertical-align: middle;'></progress>\n",
              "      [170/170 03:28, Epoch 2/2]\n",
              "    </div>\n",
              "    <table border=\"1\" class=\"dataframe\">\n",
              "  <thead>\n",
              " <tr style=\"text-align: left;\">\n",
              "      <th>Epoch</th>\n",
              "      <th>Training Loss</th>\n",
              "      <th>Validation Loss</th>\n",
              "      <th>Accuracy</th>\n",
              "      <th>F1-macro</th>\n",
              "      <th>Precision</th>\n",
              "      <th>Recall</th>\n",
              "    </tr>\n",
              "  </thead>\n",
              "  <tbody>\n",
              "    <tr>\n",
              "      <td>1</td>\n",
              "      <td>0.621400</td>\n",
              "      <td>0.620542</td>\n",
              "      <td>0.688333</td>\n",
              "      <td>0.688332</td>\n",
              "      <td>0.688335</td>\n",
              "      <td>0.688333</td>\n",
              "    </tr>\n",
              "    <tr>\n",
              "      <td>2</td>\n",
              "      <td>0.553100</td>\n",
              "      <td>0.580968</td>\n",
              "      <td>0.713333</td>\n",
              "      <td>0.713014</td>\n",
              "      <td>0.714286</td>\n",
              "      <td>0.713333</td>\n",
              "    </tr>\n",
              "  </tbody>\n",
              "</table><p>"
            ],
            "text/plain": [
              "<IPython.core.display.HTML object>"
            ]
          },
          "metadata": {},
          "output_type": "display_data"
        },
        {
          "data": {
            "text/html": [
              "\n",
              "    <div>\n",
              "      \n",
              "      <progress value='10' max='10' style='width:300px; height:20px; vertical-align: middle;'></progress>\n",
              "      [10/10 00:03]\n",
              "    </div>\n",
              "    "
            ],
            "text/plain": [
              "<IPython.core.display.HTML object>"
            ]
          },
          "metadata": {},
          "output_type": "display_data"
        },
        {
          "name": "stderr",
          "output_type": "stream",
          "text": [
            "[I 2025-09-20 21:36:34,874] Trial 2 finished with value: 0.7130144605116796 and parameters: {'learning_rate': 1.3560223034395535e-05, 'batch_size': 8, 'num_train_epochs': 2}. Best is trial 0 with value: 0.7384627421175576.\n"
          ]
        },
        {
          "name": "stdout",
          "output_type": "stream",
          "text": [
            "{'eval_loss': 0.5809677243232727, 'eval_accuracy': 0.7133333333333334, 'eval_f1-macro': 0.7130144605116796, 'eval_precision': 0.7142857142857142, 'eval_recall': 0.7133333333333334, 'eval_runtime': 4.0564, 'eval_samples_per_second': 147.914, 'eval_steps_per_second': 2.465, 'epoch': 2.0}\n"
          ]
        },
        {
          "name": "stderr",
          "output_type": "stream",
          "text": [
            "/tmp/ipython-input-1892351867.py:43: FutureWarning: `tokenizer` is deprecated and will be removed in version 5.0.0 for `Trainer.__init__`. Use `processing_class` instead.\n",
            "  trainer = Trainer(model=model, args=training_args,\n"
          ]
        },
        {
          "data": {
            "text/html": [
              "\n",
              "    <div>\n",
              "      \n",
              "      <progress value='170' max='170' style='width:300px; height:20px; vertical-align: middle;'></progress>\n",
              "      [170/170 03:28, Epoch 2/2]\n",
              "    </div>\n",
              "    <table border=\"1\" class=\"dataframe\">\n",
              "  <thead>\n",
              " <tr style=\"text-align: left;\">\n",
              "      <th>Epoch</th>\n",
              "      <th>Training Loss</th>\n",
              "      <th>Validation Loss</th>\n",
              "      <th>Accuracy</th>\n",
              "      <th>F1-macro</th>\n",
              "      <th>Precision</th>\n",
              "      <th>Recall</th>\n",
              "    </tr>\n",
              "  </thead>\n",
              "  <tbody>\n",
              "    <tr>\n",
              "      <td>1</td>\n",
              "      <td>0.572200</td>\n",
              "      <td>0.574813</td>\n",
              "      <td>0.700000</td>\n",
              "      <td>0.699730</td>\n",
              "      <td>0.700723</td>\n",
              "      <td>0.700000</td>\n",
              "    </tr>\n",
              "    <tr>\n",
              "      <td>2</td>\n",
              "      <td>0.509700</td>\n",
              "      <td>0.552009</td>\n",
              "      <td>0.716667</td>\n",
              "      <td>0.715754</td>\n",
              "      <td>0.719486</td>\n",
              "      <td>0.716667</td>\n",
              "    </tr>\n",
              "  </tbody>\n",
              "</table><p>"
            ],
            "text/plain": [
              "<IPython.core.display.HTML object>"
            ]
          },
          "metadata": {},
          "output_type": "display_data"
        },
        {
          "data": {
            "text/html": [
              "\n",
              "    <div>\n",
              "      \n",
              "      <progress value='10' max='10' style='width:300px; height:20px; vertical-align: middle;'></progress>\n",
              "      [10/10 00:03]\n",
              "    </div>\n",
              "    "
            ],
            "text/plain": [
              "<IPython.core.display.HTML object>"
            ]
          },
          "metadata": {},
          "output_type": "display_data"
        },
        {
          "name": "stderr",
          "output_type": "stream",
          "text": [
            "[I 2025-09-20 21:40:09,932] Trial 3 finished with value: 0.7157539209238555 and parameters: {'learning_rate': 1.843826213116862e-05, 'batch_size': 32, 'num_train_epochs': 2}. Best is trial 0 with value: 0.7384627421175576.\n"
          ]
        },
        {
          "name": "stdout",
          "output_type": "stream",
          "text": [
            "{'eval_loss': 0.5520088076591492, 'eval_accuracy': 0.7166666666666667, 'eval_f1-macro': 0.7157539209238555, 'eval_precision': 0.7194858403493765, 'eval_recall': 0.7166666666666667, 'eval_runtime': 4.0779, 'eval_samples_per_second': 147.136, 'eval_steps_per_second': 2.452, 'epoch': 2.0}\n"
          ]
        },
        {
          "name": "stderr",
          "output_type": "stream",
          "text": [
            "/tmp/ipython-input-1892351867.py:43: FutureWarning: `tokenizer` is deprecated and will be removed in version 5.0.0 for `Trainer.__init__`. Use `processing_class` instead.\n",
            "  trainer = Trainer(model=model, args=training_args,\n"
          ]
        },
        {
          "data": {
            "text/html": [
              "\n",
              "    <div>\n",
              "      \n",
              "      <progress value='255' max='255' style='width:300px; height:20px; vertical-align: middle;'></progress>\n",
              "      [255/255 05:11, Epoch 3/3]\n",
              "    </div>\n",
              "    <table border=\"1\" class=\"dataframe\">\n",
              "  <thead>\n",
              " <tr style=\"text-align: left;\">\n",
              "      <th>Epoch</th>\n",
              "      <th>Training Loss</th>\n",
              "      <th>Validation Loss</th>\n",
              "      <th>Accuracy</th>\n",
              "      <th>F1-macro</th>\n",
              "      <th>Precision</th>\n",
              "      <th>Recall</th>\n",
              "    </tr>\n",
              "  </thead>\n",
              "  <tbody>\n",
              "    <tr>\n",
              "      <td>1</td>\n",
              "      <td>0.634700</td>\n",
              "      <td>0.630604</td>\n",
              "      <td>0.668333</td>\n",
              "      <td>0.668126</td>\n",
              "      <td>0.668755</td>\n",
              "      <td>0.668333</td>\n",
              "    </tr>\n",
              "    <tr>\n",
              "      <td>2</td>\n",
              "      <td>0.542700</td>\n",
              "      <td>0.568088</td>\n",
              "      <td>0.705000</td>\n",
              "      <td>0.703616</td>\n",
              "      <td>0.708902</td>\n",
              "      <td>0.705000</td>\n",
              "    </tr>\n",
              "    <tr>\n",
              "      <td>3</td>\n",
              "      <td>0.534600</td>\n",
              "      <td>0.556403</td>\n",
              "      <td>0.710000</td>\n",
              "      <td>0.708952</td>\n",
              "      <td>0.713068</td>\n",
              "      <td>0.710000</td>\n",
              "    </tr>\n",
              "  </tbody>\n",
              "</table><p>"
            ],
            "text/plain": [
              "<IPython.core.display.HTML object>"
            ]
          },
          "metadata": {},
          "output_type": "display_data"
        },
        {
          "data": {
            "text/html": [
              "\n",
              "    <div>\n",
              "      \n",
              "      <progress value='10' max='10' style='width:300px; height:20px; vertical-align: middle;'></progress>\n",
              "      [10/10 00:03]\n",
              "    </div>\n",
              "    "
            ],
            "text/plain": [
              "<IPython.core.display.HTML object>"
            ]
          },
          "metadata": {},
          "output_type": "display_data"
        },
        {
          "name": "stderr",
          "output_type": "stream",
          "text": [
            "[I 2025-09-20 21:45:28,423] Trial 4 finished with value: 0.7089522280208751 and parameters: {'learning_rate': 1.0550028745204036e-05, 'batch_size': 16, 'num_train_epochs': 3}. Best is trial 0 with value: 0.7384627421175576.\n"
          ]
        },
        {
          "name": "stdout",
          "output_type": "stream",
          "text": [
            "{'eval_loss': 0.5564032196998596, 'eval_accuracy': 0.71, 'eval_f1-macro': 0.7089522280208751, 'eval_precision': 0.7130681818181819, 'eval_recall': 0.71, 'eval_runtime': 4.0519, 'eval_samples_per_second': 148.079, 'eval_steps_per_second': 2.468, 'epoch': 3.0}\n"
          ]
        },
        {
          "name": "stderr",
          "output_type": "stream",
          "text": [
            "/tmp/ipython-input-1892351867.py:43: FutureWarning: `tokenizer` is deprecated and will be removed in version 5.0.0 for `Trainer.__init__`. Use `processing_class` instead.\n",
            "  trainer = Trainer(model=model, args=training_args,\n"
          ]
        },
        {
          "data": {
            "text/html": [
              "\n",
              "    <div>\n",
              "      \n",
              "      <progress value='255' max='255' style='width:300px; height:20px; vertical-align: middle;'></progress>\n",
              "      [255/255 05:12, Epoch 3/3]\n",
              "    </div>\n",
              "    <table border=\"1\" class=\"dataframe\">\n",
              "  <thead>\n",
              " <tr style=\"text-align: left;\">\n",
              "      <th>Epoch</th>\n",
              "      <th>Training Loss</th>\n",
              "      <th>Validation Loss</th>\n",
              "      <th>Accuracy</th>\n",
              "      <th>F1-macro</th>\n",
              "      <th>Precision</th>\n",
              "      <th>Recall</th>\n",
              "    </tr>\n",
              "  </thead>\n",
              "  <tbody>\n",
              "    <tr>\n",
              "      <td>1</td>\n",
              "      <td>0.564200</td>\n",
              "      <td>0.563335</td>\n",
              "      <td>0.726667</td>\n",
              "      <td>0.725051</td>\n",
              "      <td>0.732124</td>\n",
              "      <td>0.726667</td>\n",
              "    </tr>\n",
              "    <tr>\n",
              "      <td>2</td>\n",
              "      <td>0.486100</td>\n",
              "      <td>0.535267</td>\n",
              "      <td>0.736667</td>\n",
              "      <td>0.736312</td>\n",
              "      <td>0.737946</td>\n",
              "      <td>0.736667</td>\n",
              "    </tr>\n",
              "    <tr>\n",
              "      <td>3</td>\n",
              "      <td>0.476400</td>\n",
              "      <td>0.537124</td>\n",
              "      <td>0.736667</td>\n",
              "      <td>0.734825</td>\n",
              "      <td>0.743429</td>\n",
              "      <td>0.736667</td>\n",
              "    </tr>\n",
              "  </tbody>\n",
              "</table><p>"
            ],
            "text/plain": [
              "<IPython.core.display.HTML object>"
            ]
          },
          "metadata": {},
          "output_type": "display_data"
        },
        {
          "data": {
            "text/html": [
              "\n",
              "    <div>\n",
              "      \n",
              "      <progress value='10' max='10' style='width:300px; height:20px; vertical-align: middle;'></progress>\n",
              "      [10/10 00:03]\n",
              "    </div>\n",
              "    "
            ],
            "text/plain": [
              "<IPython.core.display.HTML object>"
            ]
          },
          "metadata": {},
          "output_type": "display_data"
        },
        {
          "name": "stderr",
          "output_type": "stream",
          "text": [
            "[I 2025-09-20 21:50:47,244] Trial 5 finished with value: 0.7348251748251748 and parameters: {'learning_rate': 1.890776388177736e-05, 'batch_size': 16, 'num_train_epochs': 3}. Best is trial 0 with value: 0.7384627421175576.\n"
          ]
        },
        {
          "name": "stdout",
          "output_type": "stream",
          "text": [
            "{'eval_loss': 0.5371240377426147, 'eval_accuracy': 0.7366666666666667, 'eval_f1-macro': 0.7348251748251748, 'eval_precision': 0.7434285714285714, 'eval_recall': 0.7366666666666666, 'eval_runtime': 4.0678, 'eval_samples_per_second': 147.498, 'eval_steps_per_second': 2.458, 'epoch': 3.0}\n"
          ]
        },
        {
          "name": "stderr",
          "output_type": "stream",
          "text": [
            "/tmp/ipython-input-1892351867.py:43: FutureWarning: `tokenizer` is deprecated and will be removed in version 5.0.0 for `Trainer.__init__`. Use `processing_class` instead.\n",
            "  trainer = Trainer(model=model, args=training_args,\n"
          ]
        },
        {
          "data": {
            "text/html": [
              "\n",
              "    <div>\n",
              "      \n",
              "      <progress value='255' max='255' style='width:300px; height:20px; vertical-align: middle;'></progress>\n",
              "      [255/255 05:12, Epoch 3/3]\n",
              "    </div>\n",
              "    <table border=\"1\" class=\"dataframe\">\n",
              "  <thead>\n",
              " <tr style=\"text-align: left;\">\n",
              "      <th>Epoch</th>\n",
              "      <th>Training Loss</th>\n",
              "      <th>Validation Loss</th>\n",
              "      <th>Accuracy</th>\n",
              "      <th>F1-macro</th>\n",
              "      <th>Precision</th>\n",
              "      <th>Recall</th>\n",
              "    </tr>\n",
              "  </thead>\n",
              "  <tbody>\n",
              "    <tr>\n",
              "      <td>1</td>\n",
              "      <td>0.630600</td>\n",
              "      <td>0.628280</td>\n",
              "      <td>0.681667</td>\n",
              "      <td>0.681595</td>\n",
              "      <td>0.681830</td>\n",
              "      <td>0.681667</td>\n",
              "    </tr>\n",
              "    <tr>\n",
              "      <td>2</td>\n",
              "      <td>0.531800</td>\n",
              "      <td>0.566578</td>\n",
              "      <td>0.725000</td>\n",
              "      <td>0.724061</td>\n",
              "      <td>0.728105</td>\n",
              "      <td>0.725000</td>\n",
              "    </tr>\n",
              "    <tr>\n",
              "      <td>3</td>\n",
              "      <td>0.525300</td>\n",
              "      <td>0.555153</td>\n",
              "      <td>0.730000</td>\n",
              "      <td>0.729024</td>\n",
              "      <td>0.733360</td>\n",
              "      <td>0.730000</td>\n",
              "    </tr>\n",
              "  </tbody>\n",
              "</table><p>"
            ],
            "text/plain": [
              "<IPython.core.display.HTML object>"
            ]
          },
          "metadata": {},
          "output_type": "display_data"
        },
        {
          "data": {
            "text/html": [
              "\n",
              "    <div>\n",
              "      \n",
              "      <progress value='10' max='10' style='width:300px; height:20px; vertical-align: middle;'></progress>\n",
              "      [10/10 00:03]\n",
              "    </div>\n",
              "    "
            ],
            "text/plain": [
              "<IPython.core.display.HTML object>"
            ]
          },
          "metadata": {},
          "output_type": "display_data"
        },
        {
          "name": "stderr",
          "output_type": "stream",
          "text": [
            "[I 2025-09-20 21:56:05,774] Trial 6 finished with value: 0.7290244881573664 and parameters: {'learning_rate': 1.077766357565225e-05, 'batch_size': 16, 'num_train_epochs': 3}. Best is trial 0 with value: 0.7384627421175576.\n"
          ]
        },
        {
          "name": "stdout",
          "output_type": "stream",
          "text": [
            "{'eval_loss': 0.5551526546478271, 'eval_accuracy': 0.73, 'eval_f1-macro': 0.7290244881573664, 'eval_precision': 0.7333603896103896, 'eval_recall': 0.73, 'eval_runtime': 4.0537, 'eval_samples_per_second': 148.014, 'eval_steps_per_second': 2.467, 'epoch': 3.0}\n"
          ]
        },
        {
          "name": "stderr",
          "output_type": "stream",
          "text": [
            "/tmp/ipython-input-1892351867.py:43: FutureWarning: `tokenizer` is deprecated and will be removed in version 5.0.0 for `Trainer.__init__`. Use `processing_class` instead.\n",
            "  trainer = Trainer(model=model, args=training_args,\n"
          ]
        },
        {
          "data": {
            "text/html": [
              "\n",
              "    <div>\n",
              "      \n",
              "      <progress value='255' max='255' style='width:300px; height:20px; vertical-align: middle;'></progress>\n",
              "      [255/255 05:11, Epoch 3/3]\n",
              "    </div>\n",
              "    <table border=\"1\" class=\"dataframe\">\n",
              "  <thead>\n",
              " <tr style=\"text-align: left;\">\n",
              "      <th>Epoch</th>\n",
              "      <th>Training Loss</th>\n",
              "      <th>Validation Loss</th>\n",
              "      <th>Accuracy</th>\n",
              "      <th>F1-macro</th>\n",
              "      <th>Precision</th>\n",
              "      <th>Recall</th>\n",
              "    </tr>\n",
              "  </thead>\n",
              "  <tbody>\n",
              "    <tr>\n",
              "      <td>1</td>\n",
              "      <td>0.580200</td>\n",
              "      <td>0.578824</td>\n",
              "      <td>0.708333</td>\n",
              "      <td>0.707553</td>\n",
              "      <td>0.710582</td>\n",
              "      <td>0.708333</td>\n",
              "    </tr>\n",
              "    <tr>\n",
              "      <td>2</td>\n",
              "      <td>0.494900</td>\n",
              "      <td>0.539927</td>\n",
              "      <td>0.736667</td>\n",
              "      <td>0.736245</td>\n",
              "      <td>0.738191</td>\n",
              "      <td>0.736667</td>\n",
              "    </tr>\n",
              "    <tr>\n",
              "      <td>3</td>\n",
              "      <td>0.489000</td>\n",
              "      <td>0.540105</td>\n",
              "      <td>0.735000</td>\n",
              "      <td>0.733364</td>\n",
              "      <td>0.740913</td>\n",
              "      <td>0.735000</td>\n",
              "    </tr>\n",
              "  </tbody>\n",
              "</table><p>"
            ],
            "text/plain": [
              "<IPython.core.display.HTML object>"
            ]
          },
          "metadata": {},
          "output_type": "display_data"
        },
        {
          "data": {
            "text/html": [
              "\n",
              "    <div>\n",
              "      \n",
              "      <progress value='10' max='10' style='width:300px; height:20px; vertical-align: middle;'></progress>\n",
              "      [10/10 00:03]\n",
              "    </div>\n",
              "    "
            ],
            "text/plain": [
              "<IPython.core.display.HTML object>"
            ]
          },
          "metadata": {},
          "output_type": "display_data"
        },
        {
          "name": "stderr",
          "output_type": "stream",
          "text": [
            "[I 2025-09-20 22:01:24,370] Trial 7 finished with value: 0.7333638912102316 and parameters: {'learning_rate': 1.625536961077184e-05, 'batch_size': 8, 'num_train_epochs': 3}. Best is trial 0 with value: 0.7384627421175576.\n"
          ]
        },
        {
          "name": "stdout",
          "output_type": "stream",
          "text": [
            "{'eval_loss': 0.5401054620742798, 'eval_accuracy': 0.735, 'eval_f1-macro': 0.7333638912102316, 'eval_precision': 0.7409130776503285, 'eval_recall': 0.735, 'eval_runtime': 4.071, 'eval_samples_per_second': 147.382, 'eval_steps_per_second': 2.456, 'epoch': 3.0}\n"
          ]
        },
        {
          "name": "stderr",
          "output_type": "stream",
          "text": [
            "/tmp/ipython-input-1892351867.py:43: FutureWarning: `tokenizer` is deprecated and will be removed in version 5.0.0 for `Trainer.__init__`. Use `processing_class` instead.\n",
            "  trainer = Trainer(model=model, args=training_args,\n"
          ]
        },
        {
          "data": {
            "text/html": [
              "\n",
              "    <div>\n",
              "      \n",
              "      <progress value='255' max='255' style='width:300px; height:20px; vertical-align: middle;'></progress>\n",
              "      [255/255 05:12, Epoch 3/3]\n",
              "    </div>\n",
              "    <table border=\"1\" class=\"dataframe\">\n",
              "  <thead>\n",
              " <tr style=\"text-align: left;\">\n",
              "      <th>Epoch</th>\n",
              "      <th>Training Loss</th>\n",
              "      <th>Validation Loss</th>\n",
              "      <th>Accuracy</th>\n",
              "      <th>F1-macro</th>\n",
              "      <th>Precision</th>\n",
              "      <th>Recall</th>\n",
              "    </tr>\n",
              "  </thead>\n",
              "  <tbody>\n",
              "    <tr>\n",
              "      <td>1</td>\n",
              "      <td>0.598500</td>\n",
              "      <td>0.597804</td>\n",
              "      <td>0.711667</td>\n",
              "      <td>0.711313</td>\n",
              "      <td>0.712709</td>\n",
              "      <td>0.711667</td>\n",
              "    </tr>\n",
              "    <tr>\n",
              "      <td>2</td>\n",
              "      <td>0.506300</td>\n",
              "      <td>0.546291</td>\n",
              "      <td>0.738333</td>\n",
              "      <td>0.737802</td>\n",
              "      <td>0.740280</td>\n",
              "      <td>0.738333</td>\n",
              "    </tr>\n",
              "    <tr>\n",
              "      <td>3</td>\n",
              "      <td>0.502100</td>\n",
              "      <td>0.544670</td>\n",
              "      <td>0.741667</td>\n",
              "      <td>0.740455</td>\n",
              "      <td>0.746266</td>\n",
              "      <td>0.741667</td>\n",
              "    </tr>\n",
              "  </tbody>\n",
              "</table><p>"
            ],
            "text/plain": [
              "<IPython.core.display.HTML object>"
            ]
          },
          "metadata": {},
          "output_type": "display_data"
        },
        {
          "data": {
            "text/html": [
              "\n",
              "    <div>\n",
              "      \n",
              "      <progress value='10' max='10' style='width:300px; height:20px; vertical-align: middle;'></progress>\n",
              "      [10/10 00:03]\n",
              "    </div>\n",
              "    "
            ],
            "text/plain": [
              "<IPython.core.display.HTML object>"
            ]
          },
          "metadata": {},
          "output_type": "display_data"
        },
        {
          "name": "stderr",
          "output_type": "stream",
          "text": [
            "[I 2025-09-20 22:06:43,023] Trial 8 finished with value: 0.7404547344684485 and parameters: {'learning_rate': 1.397088272572914e-05, 'batch_size': 16, 'num_train_epochs': 3}. Best is trial 8 with value: 0.7404547344684485.\n"
          ]
        },
        {
          "name": "stdout",
          "output_type": "stream",
          "text": [
            "{'eval_loss': 0.5446701049804688, 'eval_accuracy': 0.7416666666666667, 'eval_f1-macro': 0.7404547344684485, 'eval_precision': 0.7462663752986334, 'eval_recall': 0.7416666666666667, 'eval_runtime': 4.0635, 'eval_samples_per_second': 147.655, 'eval_steps_per_second': 2.461, 'epoch': 3.0}\n"
          ]
        },
        {
          "name": "stderr",
          "output_type": "stream",
          "text": [
            "/tmp/ipython-input-1892351867.py:43: FutureWarning: `tokenizer` is deprecated and will be removed in version 5.0.0 for `Trainer.__init__`. Use `processing_class` instead.\n",
            "  trainer = Trainer(model=model, args=training_args,\n"
          ]
        },
        {
          "data": {
            "text/html": [
              "\n",
              "    <div>\n",
              "      \n",
              "      <progress value='255' max='255' style='width:300px; height:20px; vertical-align: middle;'></progress>\n",
              "      [255/255 05:12, Epoch 3/3]\n",
              "    </div>\n",
              "    <table border=\"1\" class=\"dataframe\">\n",
              "  <thead>\n",
              " <tr style=\"text-align: left;\">\n",
              "      <th>Epoch</th>\n",
              "      <th>Training Loss</th>\n",
              "      <th>Validation Loss</th>\n",
              "      <th>Accuracy</th>\n",
              "      <th>F1-macro</th>\n",
              "      <th>Precision</th>\n",
              "      <th>Recall</th>\n",
              "    </tr>\n",
              "  </thead>\n",
              "  <tbody>\n",
              "    <tr>\n",
              "      <td>1</td>\n",
              "      <td>0.573700</td>\n",
              "      <td>0.572424</td>\n",
              "      <td>0.723333</td>\n",
              "      <td>0.722334</td>\n",
              "      <td>0.726596</td>\n",
              "      <td>0.723333</td>\n",
              "    </tr>\n",
              "    <tr>\n",
              "      <td>2</td>\n",
              "      <td>0.491300</td>\n",
              "      <td>0.538085</td>\n",
              "      <td>0.740000</td>\n",
              "      <td>0.739650</td>\n",
              "      <td>0.741298</td>\n",
              "      <td>0.740000</td>\n",
              "    </tr>\n",
              "    <tr>\n",
              "      <td>3</td>\n",
              "      <td>0.483800</td>\n",
              "      <td>0.538950</td>\n",
              "      <td>0.738333</td>\n",
              "      <td>0.736718</td>\n",
              "      <td>0.744330</td>\n",
              "      <td>0.738333</td>\n",
              "    </tr>\n",
              "  </tbody>\n",
              "</table><p>"
            ],
            "text/plain": [
              "<IPython.core.display.HTML object>"
            ]
          },
          "metadata": {},
          "output_type": "display_data"
        },
        {
          "data": {
            "text/html": [
              "\n",
              "    <div>\n",
              "      \n",
              "      <progress value='10' max='10' style='width:300px; height:20px; vertical-align: middle;'></progress>\n",
              "      [10/10 00:03]\n",
              "    </div>\n",
              "    "
            ],
            "text/plain": [
              "<IPython.core.display.HTML object>"
            ]
          },
          "metadata": {},
          "output_type": "display_data"
        },
        {
          "name": "stderr",
          "output_type": "stream",
          "text": [
            "[I 2025-09-20 22:12:01,586] Trial 9 finished with value: 0.736717804528342 and parameters: {'learning_rate': 1.72350213832113e-05, 'batch_size': 32, 'num_train_epochs': 3}. Best is trial 8 with value: 0.7404547344684485.\n"
          ]
        },
        {
          "name": "stdout",
          "output_type": "stream",
          "text": [
            "{'eval_loss': 0.5389495491981506, 'eval_accuracy': 0.7383333333333333, 'eval_f1-macro': 0.736717804528342, 'eval_precision': 0.7443302844255106, 'eval_recall': 0.7383333333333333, 'eval_runtime': 4.0439, 'eval_samples_per_second': 148.372, 'eval_steps_per_second': 2.473, 'epoch': 3.0}\n"
          ]
        },
        {
          "name": "stderr",
          "output_type": "stream",
          "text": [
            "/tmp/ipython-input-1892351867.py:43: FutureWarning: `tokenizer` is deprecated and will be removed in version 5.0.0 for `Trainer.__init__`. Use `processing_class` instead.\n",
            "  trainer = Trainer(model=model, args=training_args,\n"
          ]
        },
        {
          "data": {
            "text/html": [
              "\n",
              "    <div>\n",
              "      \n",
              "      <progress value='340' max='340' style='width:300px; height:20px; vertical-align: middle;'></progress>\n",
              "      [340/340 06:55, Epoch 4/4]\n",
              "    </div>\n",
              "    <table border=\"1\" class=\"dataframe\">\n",
              "  <thead>\n",
              " <tr style=\"text-align: left;\">\n",
              "      <th>Epoch</th>\n",
              "      <th>Training Loss</th>\n",
              "      <th>Validation Loss</th>\n",
              "      <th>Accuracy</th>\n",
              "      <th>F1-macro</th>\n",
              "      <th>Precision</th>\n",
              "      <th>Recall</th>\n",
              "    </tr>\n",
              "  </thead>\n",
              "  <tbody>\n",
              "    <tr>\n",
              "      <td>1</td>\n",
              "      <td>0.545000</td>\n",
              "      <td>0.548606</td>\n",
              "      <td>0.735000</td>\n",
              "      <td>0.729309</td>\n",
              "      <td>0.756578</td>\n",
              "      <td>0.735000</td>\n",
              "    </tr>\n",
              "    <tr>\n",
              "      <td>2</td>\n",
              "      <td>0.450600</td>\n",
              "      <td>0.523640</td>\n",
              "      <td>0.751667</td>\n",
              "      <td>0.750262</td>\n",
              "      <td>0.757460</td>\n",
              "      <td>0.751667</td>\n",
              "    </tr>\n",
              "    <tr>\n",
              "      <td>3</td>\n",
              "      <td>0.402000</td>\n",
              "      <td>0.536020</td>\n",
              "      <td>0.745000</td>\n",
              "      <td>0.744999</td>\n",
              "      <td>0.745003</td>\n",
              "      <td>0.745000</td>\n",
              "    </tr>\n",
              "    <tr>\n",
              "      <td>4</td>\n",
              "      <td>0.360400</td>\n",
              "      <td>0.559998</td>\n",
              "      <td>0.755000</td>\n",
              "      <td>0.754257</td>\n",
              "      <td>0.758123</td>\n",
              "      <td>0.755000</td>\n",
              "    </tr>\n",
              "  </tbody>\n",
              "</table><p>"
            ],
            "text/plain": [
              "<IPython.core.display.HTML object>"
            ]
          },
          "metadata": {},
          "output_type": "display_data"
        },
        {
          "data": {
            "text/html": [
              "\n",
              "    <div>\n",
              "      \n",
              "      <progress value='10' max='10' style='width:300px; height:20px; vertical-align: middle;'></progress>\n",
              "      [10/10 00:03]\n",
              "    </div>\n",
              "    "
            ],
            "text/plain": [
              "<IPython.core.display.HTML object>"
            ]
          },
          "metadata": {},
          "output_type": "display_data"
        },
        {
          "name": "stderr",
          "output_type": "stream",
          "text": [
            "[I 2025-09-20 22:19:03,993] Trial 10 finished with value: 0.7542566262945409 and parameters: {'learning_rate': 3.079784998948728e-05, 'batch_size': 16, 'num_train_epochs': 4}. Best is trial 10 with value: 0.7542566262945409.\n"
          ]
        },
        {
          "name": "stdout",
          "output_type": "stream",
          "text": [
            "{'eval_loss': 0.559998095035553, 'eval_accuracy': 0.755, 'eval_f1-macro': 0.7542566262945409, 'eval_precision': 0.758123291831157, 'eval_recall': 0.755, 'eval_runtime': 4.0588, 'eval_samples_per_second': 147.827, 'eval_steps_per_second': 2.464, 'epoch': 4.0}\n"
          ]
        },
        {
          "name": "stderr",
          "output_type": "stream",
          "text": [
            "/tmp/ipython-input-1892351867.py:43: FutureWarning: `tokenizer` is deprecated and will be removed in version 5.0.0 for `Trainer.__init__`. Use `processing_class` instead.\n",
            "  trainer = Trainer(model=model, args=training_args,\n"
          ]
        },
        {
          "data": {
            "text/html": [
              "\n",
              "    <div>\n",
              "      \n",
              "      <progress value='340' max='340' style='width:300px; height:20px; vertical-align: middle;'></progress>\n",
              "      [340/340 06:55, Epoch 4/4]\n",
              "    </div>\n",
              "    <table border=\"1\" class=\"dataframe\">\n",
              "  <thead>\n",
              " <tr style=\"text-align: left;\">\n",
              "      <th>Epoch</th>\n",
              "      <th>Training Loss</th>\n",
              "      <th>Validation Loss</th>\n",
              "      <th>Accuracy</th>\n",
              "      <th>F1-macro</th>\n",
              "      <th>Precision</th>\n",
              "      <th>Recall</th>\n",
              "    </tr>\n",
              "  </thead>\n",
              "  <tbody>\n",
              "    <tr>\n",
              "      <td>1</td>\n",
              "      <td>0.538900</td>\n",
              "      <td>0.555427</td>\n",
              "      <td>0.733333</td>\n",
              "      <td>0.727471</td>\n",
              "      <td>0.755301</td>\n",
              "      <td>0.733333</td>\n",
              "    </tr>\n",
              "    <tr>\n",
              "      <td>2</td>\n",
              "      <td>0.452400</td>\n",
              "      <td>0.523891</td>\n",
              "      <td>0.750000</td>\n",
              "      <td>0.748884</td>\n",
              "      <td>0.754525</td>\n",
              "      <td>0.750000</td>\n",
              "    </tr>\n",
              "    <tr>\n",
              "      <td>3</td>\n",
              "      <td>0.397400</td>\n",
              "      <td>0.538247</td>\n",
              "      <td>0.738333</td>\n",
              "      <td>0.738327</td>\n",
              "      <td>0.738357</td>\n",
              "      <td>0.738333</td>\n",
              "    </tr>\n",
              "    <tr>\n",
              "      <td>4</td>\n",
              "      <td>0.349600</td>\n",
              "      <td>0.557765</td>\n",
              "      <td>0.745000</td>\n",
              "      <td>0.744483</td>\n",
              "      <td>0.747001</td>\n",
              "      <td>0.745000</td>\n",
              "    </tr>\n",
              "  </tbody>\n",
              "</table><p>"
            ],
            "text/plain": [
              "<IPython.core.display.HTML object>"
            ]
          },
          "metadata": {},
          "output_type": "display_data"
        },
        {
          "data": {
            "text/html": [
              "\n",
              "    <div>\n",
              "      \n",
              "      <progress value='10' max='10' style='width:300px; height:20px; vertical-align: middle;'></progress>\n",
              "      [10/10 00:03]\n",
              "    </div>\n",
              "    "
            ],
            "text/plain": [
              "<IPython.core.display.HTML object>"
            ]
          },
          "metadata": {},
          "output_type": "display_data"
        },
        {
          "name": "stderr",
          "output_type": "stream",
          "text": [
            "[I 2025-09-20 22:26:06,325] Trial 11 finished with value: 0.7444825772188681 and parameters: {'learning_rate': 3.1443073355236995e-05, 'batch_size': 16, 'num_train_epochs': 4}. Best is trial 10 with value: 0.7542566262945409.\n"
          ]
        },
        {
          "name": "stdout",
          "output_type": "stream",
          "text": [
            "{'eval_loss': 0.5577653050422668, 'eval_accuracy': 0.745, 'eval_f1-macro': 0.7444825772188681, 'eval_precision': 0.7470007057163021, 'eval_recall': 0.745, 'eval_runtime': 4.0832, 'eval_samples_per_second': 146.944, 'eval_steps_per_second': 2.449, 'epoch': 4.0}\n"
          ]
        },
        {
          "name": "stderr",
          "output_type": "stream",
          "text": [
            "/tmp/ipython-input-1892351867.py:43: FutureWarning: `tokenizer` is deprecated and will be removed in version 5.0.0 for `Trainer.__init__`. Use `processing_class` instead.\n",
            "  trainer = Trainer(model=model, args=training_args,\n"
          ]
        },
        {
          "data": {
            "text/html": [
              "\n",
              "    <div>\n",
              "      \n",
              "      <progress value='340' max='340' style='width:300px; height:20px; vertical-align: middle;'></progress>\n",
              "      [340/340 06:55, Epoch 4/4]\n",
              "    </div>\n",
              "    <table border=\"1\" class=\"dataframe\">\n",
              "  <thead>\n",
              " <tr style=\"text-align: left;\">\n",
              "      <th>Epoch</th>\n",
              "      <th>Training Loss</th>\n",
              "      <th>Validation Loss</th>\n",
              "      <th>Accuracy</th>\n",
              "      <th>F1-macro</th>\n",
              "      <th>Precision</th>\n",
              "      <th>Recall</th>\n",
              "    </tr>\n",
              "  </thead>\n",
              "  <tbody>\n",
              "    <tr>\n",
              "      <td>1</td>\n",
              "      <td>0.535900</td>\n",
              "      <td>0.549730</td>\n",
              "      <td>0.736667</td>\n",
              "      <td>0.731402</td>\n",
              "      <td>0.756800</td>\n",
              "      <td>0.736667</td>\n",
              "    </tr>\n",
              "    <tr>\n",
              "      <td>2</td>\n",
              "      <td>0.447800</td>\n",
              "      <td>0.521502</td>\n",
              "      <td>0.750000</td>\n",
              "      <td>0.748884</td>\n",
              "      <td>0.754525</td>\n",
              "      <td>0.750000</td>\n",
              "    </tr>\n",
              "    <tr>\n",
              "      <td>3</td>\n",
              "      <td>0.384900</td>\n",
              "      <td>0.540341</td>\n",
              "      <td>0.741667</td>\n",
              "      <td>0.741631</td>\n",
              "      <td>0.741798</td>\n",
              "      <td>0.741667</td>\n",
              "    </tr>\n",
              "    <tr>\n",
              "      <td>4</td>\n",
              "      <td>0.333300</td>\n",
              "      <td>0.561865</td>\n",
              "      <td>0.745000</td>\n",
              "      <td>0.744483</td>\n",
              "      <td>0.747001</td>\n",
              "      <td>0.745000</td>\n",
              "    </tr>\n",
              "  </tbody>\n",
              "</table><p>"
            ],
            "text/plain": [
              "<IPython.core.display.HTML object>"
            ]
          },
          "metadata": {},
          "output_type": "display_data"
        },
        {
          "data": {
            "text/html": [
              "\n",
              "    <div>\n",
              "      \n",
              "      <progress value='10' max='10' style='width:300px; height:20px; vertical-align: middle;'></progress>\n",
              "      [10/10 00:03]\n",
              "    </div>\n",
              "    "
            ],
            "text/plain": [
              "<IPython.core.display.HTML object>"
            ]
          },
          "metadata": {},
          "output_type": "display_data"
        },
        {
          "name": "stderr",
          "output_type": "stream",
          "text": [
            "[I 2025-09-20 22:33:08,767] Trial 12 finished with value: 0.7444825772188681 and parameters: {'learning_rate': 3.372193830515752e-05, 'batch_size': 16, 'num_train_epochs': 4}. Best is trial 10 with value: 0.7542566262945409.\n"
          ]
        },
        {
          "name": "stdout",
          "output_type": "stream",
          "text": [
            "{'eval_loss': 0.5618647336959839, 'eval_accuracy': 0.745, 'eval_f1-macro': 0.7444825772188681, 'eval_precision': 0.7470007057163021, 'eval_recall': 0.745, 'eval_runtime': 4.0641, 'eval_samples_per_second': 147.633, 'eval_steps_per_second': 2.461, 'epoch': 4.0}\n"
          ]
        },
        {
          "name": "stderr",
          "output_type": "stream",
          "text": [
            "/tmp/ipython-input-1892351867.py:43: FutureWarning: `tokenizer` is deprecated and will be removed in version 5.0.0 for `Trainer.__init__`. Use `processing_class` instead.\n",
            "  trainer = Trainer(model=model, args=training_args,\n"
          ]
        },
        {
          "data": {
            "text/html": [
              "\n",
              "    <div>\n",
              "      \n",
              "      <progress value='340' max='340' style='width:300px; height:20px; vertical-align: middle;'></progress>\n",
              "      [340/340 06:55, Epoch 4/4]\n",
              "    </div>\n",
              "    <table border=\"1\" class=\"dataframe\">\n",
              "  <thead>\n",
              " <tr style=\"text-align: left;\">\n",
              "      <th>Epoch</th>\n",
              "      <th>Training Loss</th>\n",
              "      <th>Validation Loss</th>\n",
              "      <th>Accuracy</th>\n",
              "      <th>F1-macro</th>\n",
              "      <th>Precision</th>\n",
              "      <th>Recall</th>\n",
              "    </tr>\n",
              "  </thead>\n",
              "  <tbody>\n",
              "    <tr>\n",
              "      <td>1</td>\n",
              "      <td>0.538900</td>\n",
              "      <td>0.553506</td>\n",
              "      <td>0.736667</td>\n",
              "      <td>0.731402</td>\n",
              "      <td>0.756800</td>\n",
              "      <td>0.736667</td>\n",
              "    </tr>\n",
              "    <tr>\n",
              "      <td>2</td>\n",
              "      <td>0.451000</td>\n",
              "      <td>0.523431</td>\n",
              "      <td>0.750000</td>\n",
              "      <td>0.748769</td>\n",
              "      <td>0.754998</td>\n",
              "      <td>0.750000</td>\n",
              "    </tr>\n",
              "    <tr>\n",
              "      <td>3</td>\n",
              "      <td>0.394600</td>\n",
              "      <td>0.539005</td>\n",
              "      <td>0.736667</td>\n",
              "      <td>0.736640</td>\n",
              "      <td>0.736761</td>\n",
              "      <td>0.736667</td>\n",
              "    </tr>\n",
              "    <tr>\n",
              "      <td>4</td>\n",
              "      <td>0.346600</td>\n",
              "      <td>0.558028</td>\n",
              "      <td>0.745000</td>\n",
              "      <td>0.744317</td>\n",
              "      <td>0.747644</td>\n",
              "      <td>0.745000</td>\n",
              "    </tr>\n",
              "  </tbody>\n",
              "</table><p>"
            ],
            "text/plain": [
              "<IPython.core.display.HTML object>"
            ]
          },
          "metadata": {},
          "output_type": "display_data"
        },
        {
          "data": {
            "text/html": [
              "\n",
              "    <div>\n",
              "      \n",
              "      <progress value='10' max='10' style='width:300px; height:20px; vertical-align: middle;'></progress>\n",
              "      [10/10 00:03]\n",
              "    </div>\n",
              "    "
            ],
            "text/plain": [
              "<IPython.core.display.HTML object>"
            ]
          },
          "metadata": {},
          "output_type": "display_data"
        },
        {
          "name": "stderr",
          "output_type": "stream",
          "text": [
            "[I 2025-09-20 22:40:11,040] Trial 13 finished with value: 0.7443174696899223 and parameters: {'learning_rate': 3.1968037099769264e-05, 'batch_size': 16, 'num_train_epochs': 4}. Best is trial 10 with value: 0.7542566262945409.\n"
          ]
        },
        {
          "name": "stdout",
          "output_type": "stream",
          "text": [
            "{'eval_loss': 0.5580276250839233, 'eval_accuracy': 0.745, 'eval_f1-macro': 0.7443174696899223, 'eval_precision': 0.7476442907040735, 'eval_recall': 0.745, 'eval_runtime': 4.0578, 'eval_samples_per_second': 147.863, 'eval_steps_per_second': 2.464, 'epoch': 4.0}\n"
          ]
        },
        {
          "name": "stderr",
          "output_type": "stream",
          "text": [
            "/tmp/ipython-input-1892351867.py:43: FutureWarning: `tokenizer` is deprecated and will be removed in version 5.0.0 for `Trainer.__init__`. Use `processing_class` instead.\n",
            "  trainer = Trainer(model=model, args=training_args,\n"
          ]
        },
        {
          "data": {
            "text/html": [
              "\n",
              "    <div>\n",
              "      \n",
              "      <progress value='340' max='340' style='width:300px; height:20px; vertical-align: middle;'></progress>\n",
              "      [340/340 06:55, Epoch 4/4]\n",
              "    </div>\n",
              "    <table border=\"1\" class=\"dataframe\">\n",
              "  <thead>\n",
              " <tr style=\"text-align: left;\">\n",
              "      <th>Epoch</th>\n",
              "      <th>Training Loss</th>\n",
              "      <th>Validation Loss</th>\n",
              "      <th>Accuracy</th>\n",
              "      <th>F1-macro</th>\n",
              "      <th>Precision</th>\n",
              "      <th>Recall</th>\n",
              "    </tr>\n",
              "  </thead>\n",
              "  <tbody>\n",
              "    <tr>\n",
              "      <td>1</td>\n",
              "      <td>0.534500</td>\n",
              "      <td>0.537006</td>\n",
              "      <td>0.746667</td>\n",
              "      <td>0.742312</td>\n",
              "      <td>0.764550</td>\n",
              "      <td>0.746667</td>\n",
              "    </tr>\n",
              "    <tr>\n",
              "      <td>2</td>\n",
              "      <td>0.430200</td>\n",
              "      <td>0.522426</td>\n",
              "      <td>0.760000</td>\n",
              "      <td>0.759615</td>\n",
              "      <td>0.761675</td>\n",
              "      <td>0.760000</td>\n",
              "    </tr>\n",
              "    <tr>\n",
              "      <td>3</td>\n",
              "      <td>0.317900</td>\n",
              "      <td>0.582884</td>\n",
              "      <td>0.748333</td>\n",
              "      <td>0.748131</td>\n",
              "      <td>0.749133</td>\n",
              "      <td>0.748333</td>\n",
              "    </tr>\n",
              "    <tr>\n",
              "      <td>4</td>\n",
              "      <td>0.235200</td>\n",
              "      <td>0.621868</td>\n",
              "      <td>0.738333</td>\n",
              "      <td>0.737633</td>\n",
              "      <td>0.740906</td>\n",
              "      <td>0.738333</td>\n",
              "    </tr>\n",
              "  </tbody>\n",
              "</table><p>"
            ],
            "text/plain": [
              "<IPython.core.display.HTML object>"
            ]
          },
          "metadata": {},
          "output_type": "display_data"
        },
        {
          "data": {
            "text/html": [
              "\n",
              "    <div>\n",
              "      \n",
              "      <progress value='10' max='10' style='width:300px; height:20px; vertical-align: middle;'></progress>\n",
              "      [10/10 00:03]\n",
              "    </div>\n",
              "    "
            ],
            "text/plain": [
              "<IPython.core.display.HTML object>"
            ]
          },
          "metadata": {},
          "output_type": "display_data"
        },
        {
          "name": "stderr",
          "output_type": "stream",
          "text": [
            "[I 2025-09-20 22:47:13,402] Trial 14 finished with value: 0.7376329590935804 and parameters: {'learning_rate': 4.961191402770347e-05, 'batch_size': 32, 'num_train_epochs': 4}. Best is trial 10 with value: 0.7542566262945409.\n"
          ]
        },
        {
          "name": "stdout",
          "output_type": "stream",
          "text": [
            "{'eval_loss': 0.6218684911727905, 'eval_accuracy': 0.7383333333333333, 'eval_f1-macro': 0.7376329590935804, 'eval_precision': 0.7409056705488606, 'eval_recall': 0.7383333333333333, 'eval_runtime': 4.049, 'eval_samples_per_second': 148.186, 'eval_steps_per_second': 2.47, 'epoch': 4.0}\n"
          ]
        },
        {
          "name": "stderr",
          "output_type": "stream",
          "text": [
            "/tmp/ipython-input-1892351867.py:43: FutureWarning: `tokenizer` is deprecated and will be removed in version 5.0.0 for `Trainer.__init__`. Use `processing_class` instead.\n",
            "  trainer = Trainer(model=model, args=training_args,\n"
          ]
        },
        {
          "data": {
            "text/html": [
              "\n",
              "    <div>\n",
              "      \n",
              "      <progress value='340' max='340' style='width:300px; height:20px; vertical-align: middle;'></progress>\n",
              "      [340/340 06:55, Epoch 4/4]\n",
              "    </div>\n",
              "    <table border=\"1\" class=\"dataframe\">\n",
              "  <thead>\n",
              " <tr style=\"text-align: left;\">\n",
              "      <th>Epoch</th>\n",
              "      <th>Training Loss</th>\n",
              "      <th>Validation Loss</th>\n",
              "      <th>Accuracy</th>\n",
              "      <th>F1-macro</th>\n",
              "      <th>Precision</th>\n",
              "      <th>Recall</th>\n",
              "    </tr>\n",
              "  </thead>\n",
              "  <tbody>\n",
              "    <tr>\n",
              "      <td>1</td>\n",
              "      <td>0.543900</td>\n",
              "      <td>0.559173</td>\n",
              "      <td>0.728333</td>\n",
              "      <td>0.722499</td>\n",
              "      <td>0.749299</td>\n",
              "      <td>0.728333</td>\n",
              "    </tr>\n",
              "    <tr>\n",
              "      <td>2</td>\n",
              "      <td>0.463500</td>\n",
              "      <td>0.526673</td>\n",
              "      <td>0.743333</td>\n",
              "      <td>0.742069</td>\n",
              "      <td>0.748198</td>\n",
              "      <td>0.743333</td>\n",
              "    </tr>\n",
              "    <tr>\n",
              "      <td>3</td>\n",
              "      <td>0.422200</td>\n",
              "      <td>0.532089</td>\n",
              "      <td>0.740000</td>\n",
              "      <td>0.739997</td>\n",
              "      <td>0.740011</td>\n",
              "      <td>0.740000</td>\n",
              "    </tr>\n",
              "    <tr>\n",
              "      <td>4</td>\n",
              "      <td>0.382300</td>\n",
              "      <td>0.546119</td>\n",
              "      <td>0.743333</td>\n",
              "      <td>0.742406</td>\n",
              "      <td>0.746889</td>\n",
              "      <td>0.743333</td>\n",
              "    </tr>\n",
              "  </tbody>\n",
              "</table><p>"
            ],
            "text/plain": [
              "<IPython.core.display.HTML object>"
            ]
          },
          "metadata": {},
          "output_type": "display_data"
        },
        {
          "data": {
            "text/html": [
              "\n",
              "    <div>\n",
              "      \n",
              "      <progress value='10' max='10' style='width:300px; height:20px; vertical-align: middle;'></progress>\n",
              "      [10/10 00:03]\n",
              "    </div>\n",
              "    "
            ],
            "text/plain": [
              "<IPython.core.display.HTML object>"
            ]
          },
          "metadata": {},
          "output_type": "display_data"
        },
        {
          "name": "stderr",
          "output_type": "stream",
          "text": [
            "[I 2025-09-20 22:54:15,778] Trial 15 finished with value: 0.7424059949150275 and parameters: {'learning_rate': 2.7191128133647736e-05, 'batch_size': 16, 'num_train_epochs': 4}. Best is trial 10 with value: 0.7542566262945409.\n"
          ]
        },
        {
          "name": "stdout",
          "output_type": "stream",
          "text": [
            "{'eval_loss': 0.5461187958717346, 'eval_accuracy': 0.7433333333333333, 'eval_f1-macro': 0.7424059949150275, 'eval_precision': 0.7468885281385281, 'eval_recall': 0.7433333333333334, 'eval_runtime': 4.0749, 'eval_samples_per_second': 147.244, 'eval_steps_per_second': 2.454, 'epoch': 4.0}\n"
          ]
        },
        {
          "name": "stderr",
          "output_type": "stream",
          "text": [
            "/tmp/ipython-input-1892351867.py:43: FutureWarning: `tokenizer` is deprecated and will be removed in version 5.0.0 for `Trainer.__init__`. Use `processing_class` instead.\n",
            "  trainer = Trainer(model=model, args=training_args,\n"
          ]
        },
        {
          "data": {
            "text/html": [
              "\n",
              "    <div>\n",
              "      \n",
              "      <progress value='340' max='340' style='width:300px; height:20px; vertical-align: middle;'></progress>\n",
              "      [340/340 06:55, Epoch 4/4]\n",
              "    </div>\n",
              "    <table border=\"1\" class=\"dataframe\">\n",
              "  <thead>\n",
              " <tr style=\"text-align: left;\">\n",
              "      <th>Epoch</th>\n",
              "      <th>Training Loss</th>\n",
              "      <th>Validation Loss</th>\n",
              "      <th>Accuracy</th>\n",
              "      <th>F1-macro</th>\n",
              "      <th>Precision</th>\n",
              "      <th>Recall</th>\n",
              "    </tr>\n",
              "  </thead>\n",
              "  <tbody>\n",
              "    <tr>\n",
              "      <td>1</td>\n",
              "      <td>0.532400</td>\n",
              "      <td>0.543551</td>\n",
              "      <td>0.731667</td>\n",
              "      <td>0.725904</td>\n",
              "      <td>0.752939</td>\n",
              "      <td>0.731667</td>\n",
              "    </tr>\n",
              "    <tr>\n",
              "      <td>2</td>\n",
              "      <td>0.441000</td>\n",
              "      <td>0.522199</td>\n",
              "      <td>0.755000</td>\n",
              "      <td>0.754344</td>\n",
              "      <td>0.757752</td>\n",
              "      <td>0.755000</td>\n",
              "    </tr>\n",
              "    <tr>\n",
              "      <td>3</td>\n",
              "      <td>0.356000</td>\n",
              "      <td>0.554600</td>\n",
              "      <td>0.743333</td>\n",
              "      <td>0.743288</td>\n",
              "      <td>0.743506</td>\n",
              "      <td>0.743333</td>\n",
              "    </tr>\n",
              "    <tr>\n",
              "      <td>4</td>\n",
              "      <td>0.292500</td>\n",
              "      <td>0.586562</td>\n",
              "      <td>0.743333</td>\n",
              "      <td>0.742850</td>\n",
              "      <td>0.745175</td>\n",
              "      <td>0.743333</td>\n",
              "    </tr>\n",
              "  </tbody>\n",
              "</table><p>"
            ],
            "text/plain": [
              "<IPython.core.display.HTML object>"
            ]
          },
          "metadata": {},
          "output_type": "display_data"
        },
        {
          "data": {
            "text/html": [
              "\n",
              "    <div>\n",
              "      \n",
              "      <progress value='10' max='10' style='width:300px; height:20px; vertical-align: middle;'></progress>\n",
              "      [10/10 00:03]\n",
              "    </div>\n",
              "    "
            ],
            "text/plain": [
              "<IPython.core.display.HTML object>"
            ]
          },
          "metadata": {},
          "output_type": "display_data"
        },
        {
          "name": "stderr",
          "output_type": "stream",
          "text": [
            "[I 2025-09-20 23:01:18,200] Trial 16 finished with value: 0.7428504636484065 and parameters: {'learning_rate': 3.948822222875724e-05, 'batch_size': 16, 'num_train_epochs': 4}. Best is trial 10 with value: 0.7542566262945409.\n"
          ]
        },
        {
          "name": "stdout",
          "output_type": "stream",
          "text": [
            "{'eval_loss': 0.5865620970726013, 'eval_accuracy': 0.7433333333333333, 'eval_f1-macro': 0.7428504636484065, 'eval_precision': 0.7451748690161659, 'eval_recall': 0.7433333333333333, 'eval_runtime': 4.0463, 'eval_samples_per_second': 148.284, 'eval_steps_per_second': 2.471, 'epoch': 4.0}\n"
          ]
        },
        {
          "name": "stderr",
          "output_type": "stream",
          "text": [
            "/tmp/ipython-input-1892351867.py:43: FutureWarning: `tokenizer` is deprecated and will be removed in version 5.0.0 for `Trainer.__init__`. Use `processing_class` instead.\n",
            "  trainer = Trainer(model=model, args=training_args,\n"
          ]
        },
        {
          "data": {
            "text/html": [
              "\n",
              "    <div>\n",
              "      \n",
              "      <progress value='340' max='340' style='width:300px; height:20px; vertical-align: middle;'></progress>\n",
              "      [340/340 06:55, Epoch 4/4]\n",
              "    </div>\n",
              "    <table border=\"1\" class=\"dataframe\">\n",
              "  <thead>\n",
              " <tr style=\"text-align: left;\">\n",
              "      <th>Epoch</th>\n",
              "      <th>Training Loss</th>\n",
              "      <th>Validation Loss</th>\n",
              "      <th>Accuracy</th>\n",
              "      <th>F1-macro</th>\n",
              "      <th>Precision</th>\n",
              "      <th>Recall</th>\n",
              "    </tr>\n",
              "  </thead>\n",
              "  <tbody>\n",
              "    <tr>\n",
              "      <td>1</td>\n",
              "      <td>0.545000</td>\n",
              "      <td>0.559242</td>\n",
              "      <td>0.726667</td>\n",
              "      <td>0.721202</td>\n",
              "      <td>0.745949</td>\n",
              "      <td>0.726667</td>\n",
              "    </tr>\n",
              "    <tr>\n",
              "      <td>2</td>\n",
              "      <td>0.465400</td>\n",
              "      <td>0.528182</td>\n",
              "      <td>0.736667</td>\n",
              "      <td>0.735606</td>\n",
              "      <td>0.740526</td>\n",
              "      <td>0.736667</td>\n",
              "    </tr>\n",
              "    <tr>\n",
              "      <td>3</td>\n",
              "      <td>0.427800</td>\n",
              "      <td>0.531898</td>\n",
              "      <td>0.741667</td>\n",
              "      <td>0.741649</td>\n",
              "      <td>0.741734</td>\n",
              "      <td>0.741667</td>\n",
              "    </tr>\n",
              "    <tr>\n",
              "      <td>4</td>\n",
              "      <td>0.389600</td>\n",
              "      <td>0.544694</td>\n",
              "      <td>0.743333</td>\n",
              "      <td>0.742406</td>\n",
              "      <td>0.746889</td>\n",
              "      <td>0.743333</td>\n",
              "    </tr>\n",
              "  </tbody>\n",
              "</table><p>"
            ],
            "text/plain": [
              "<IPython.core.display.HTML object>"
            ]
          },
          "metadata": {},
          "output_type": "display_data"
        },
        {
          "data": {
            "text/html": [
              "\n",
              "    <div>\n",
              "      \n",
              "      <progress value='10' max='10' style='width:300px; height:20px; vertical-align: middle;'></progress>\n",
              "      [10/10 00:03]\n",
              "    </div>\n",
              "    "
            ],
            "text/plain": [
              "<IPython.core.display.HTML object>"
            ]
          },
          "metadata": {},
          "output_type": "display_data"
        },
        {
          "name": "stderr",
          "output_type": "stream",
          "text": [
            "[I 2025-09-20 23:08:20,423] Trial 17 finished with value: 0.7424059949150275 and parameters: {'learning_rate': 2.6056257573096867e-05, 'batch_size': 16, 'num_train_epochs': 4}. Best is trial 10 with value: 0.7542566262945409.\n"
          ]
        },
        {
          "name": "stdout",
          "output_type": "stream",
          "text": [
            "{'eval_loss': 0.5446944236755371, 'eval_accuracy': 0.7433333333333333, 'eval_f1-macro': 0.7424059949150275, 'eval_precision': 0.7468885281385281, 'eval_recall': 0.7433333333333334, 'eval_runtime': 4.0476, 'eval_samples_per_second': 148.236, 'eval_steps_per_second': 2.471, 'epoch': 4.0}\n"
          ]
        },
        {
          "name": "stderr",
          "output_type": "stream",
          "text": [
            "/tmp/ipython-input-1892351867.py:43: FutureWarning: `tokenizer` is deprecated and will be removed in version 5.0.0 for `Trainer.__init__`. Use `processing_class` instead.\n",
            "  trainer = Trainer(model=model, args=training_args,\n"
          ]
        },
        {
          "data": {
            "text/html": [
              "\n",
              "    <div>\n",
              "      \n",
              "      <progress value='170' max='170' style='width:300px; height:20px; vertical-align: middle;'></progress>\n",
              "      [170/170 03:28, Epoch 2/2]\n",
              "    </div>\n",
              "    <table border=\"1\" class=\"dataframe\">\n",
              "  <thead>\n",
              " <tr style=\"text-align: left;\">\n",
              "      <th>Epoch</th>\n",
              "      <th>Training Loss</th>\n",
              "      <th>Validation Loss</th>\n",
              "      <th>Accuracy</th>\n",
              "      <th>F1-macro</th>\n",
              "      <th>Precision</th>\n",
              "      <th>Recall</th>\n",
              "    </tr>\n",
              "  </thead>\n",
              "  <tbody>\n",
              "    <tr>\n",
              "      <td>1</td>\n",
              "      <td>0.561700</td>\n",
              "      <td>0.566027</td>\n",
              "      <td>0.730000</td>\n",
              "      <td>0.728913</td>\n",
              "      <td>0.733750</td>\n",
              "      <td>0.730000</td>\n",
              "    </tr>\n",
              "    <tr>\n",
              "      <td>2</td>\n",
              "      <td>0.492000</td>\n",
              "      <td>0.547384</td>\n",
              "      <td>0.738333</td>\n",
              "      <td>0.736982</td>\n",
              "      <td>0.743332</td>\n",
              "      <td>0.738333</td>\n",
              "    </tr>\n",
              "  </tbody>\n",
              "</table><p>"
            ],
            "text/plain": [
              "<IPython.core.display.HTML object>"
            ]
          },
          "metadata": {},
          "output_type": "display_data"
        },
        {
          "data": {
            "text/html": [
              "\n",
              "    <div>\n",
              "      \n",
              "      <progress value='10' max='10' style='width:300px; height:20px; vertical-align: middle;'></progress>\n",
              "      [10/10 00:03]\n",
              "    </div>\n",
              "    "
            ],
            "text/plain": [
              "<IPython.core.display.HTML object>"
            ]
          },
          "metadata": {},
          "output_type": "display_data"
        },
        {
          "name": "stderr",
          "output_type": "stream",
          "text": [
            "[I 2025-09-20 23:11:55,061] Trial 18 finished with value: 0.7369824459515679 and parameters: {'learning_rate': 2.2982002820718205e-05, 'batch_size': 32, 'num_train_epochs': 2}. Best is trial 10 with value: 0.7542566262945409.\n"
          ]
        },
        {
          "name": "stdout",
          "output_type": "stream",
          "text": [
            "{'eval_loss': 0.5473837852478027, 'eval_accuracy': 0.7383333333333333, 'eval_f1-macro': 0.7369824459515679, 'eval_precision': 0.7433324636135722, 'eval_recall': 0.7383333333333333, 'eval_runtime': 4.0596, 'eval_samples_per_second': 147.798, 'eval_steps_per_second': 2.463, 'epoch': 2.0}\n"
          ]
        },
        {
          "name": "stderr",
          "output_type": "stream",
          "text": [
            "/tmp/ipython-input-1892351867.py:43: FutureWarning: `tokenizer` is deprecated and will be removed in version 5.0.0 for `Trainer.__init__`. Use `processing_class` instead.\n",
            "  trainer = Trainer(model=model, args=training_args,\n"
          ]
        },
        {
          "data": {
            "text/html": [
              "\n",
              "    <div>\n",
              "      \n",
              "      <progress value='340' max='340' style='width:300px; height:20px; vertical-align: middle;'></progress>\n",
              "      [340/340 06:56, Epoch 4/4]\n",
              "    </div>\n",
              "    <table border=\"1\" class=\"dataframe\">\n",
              "  <thead>\n",
              " <tr style=\"text-align: left;\">\n",
              "      <th>Epoch</th>\n",
              "      <th>Training Loss</th>\n",
              "      <th>Validation Loss</th>\n",
              "      <th>Accuracy</th>\n",
              "      <th>F1-macro</th>\n",
              "      <th>Precision</th>\n",
              "      <th>Recall</th>\n",
              "    </tr>\n",
              "  </thead>\n",
              "  <tbody>\n",
              "    <tr>\n",
              "      <td>1</td>\n",
              "      <td>0.531200</td>\n",
              "      <td>0.541199</td>\n",
              "      <td>0.738333</td>\n",
              "      <td>0.731892</td>\n",
              "      <td>0.763672</td>\n",
              "      <td>0.738333</td>\n",
              "    </tr>\n",
              "    <tr>\n",
              "      <td>2</td>\n",
              "      <td>0.426000</td>\n",
              "      <td>0.527465</td>\n",
              "      <td>0.760000</td>\n",
              "      <td>0.759615</td>\n",
              "      <td>0.761675</td>\n",
              "      <td>0.760000</td>\n",
              "    </tr>\n",
              "    <tr>\n",
              "      <td>3</td>\n",
              "      <td>0.334500</td>\n",
              "      <td>0.578347</td>\n",
              "      <td>0.721667</td>\n",
              "      <td>0.721647</td>\n",
              "      <td>0.721728</td>\n",
              "      <td>0.721667</td>\n",
              "    </tr>\n",
              "    <tr>\n",
              "      <td>4</td>\n",
              "      <td>0.280700</td>\n",
              "      <td>0.614637</td>\n",
              "      <td>0.728333</td>\n",
              "      <td>0.727509</td>\n",
              "      <td>0.731130</td>\n",
              "      <td>0.728333</td>\n",
              "    </tr>\n",
              "  </tbody>\n",
              "</table><p>"
            ],
            "text/plain": [
              "<IPython.core.display.HTML object>"
            ]
          },
          "metadata": {},
          "output_type": "display_data"
        },
        {
          "data": {
            "text/html": [
              "\n",
              "    <div>\n",
              "      \n",
              "      <progress value='10' max='10' style='width:300px; height:20px; vertical-align: middle;'></progress>\n",
              "      [10/10 00:03]\n",
              "    </div>\n",
              "    "
            ],
            "text/plain": [
              "<IPython.core.display.HTML object>"
            ]
          },
          "metadata": {},
          "output_type": "display_data"
        },
        {
          "name": "stderr",
          "output_type": "stream",
          "text": [
            "[I 2025-09-20 23:18:58,025] Trial 19 finished with value: 0.7275090482041509 and parameters: {'learning_rate': 4.312632057801999e-05, 'batch_size': 8, 'num_train_epochs': 4}. Best is trial 10 with value: 0.7542566262945409.\n"
          ]
        },
        {
          "name": "stdout",
          "output_type": "stream",
          "text": [
            "{'eval_loss': 0.6146368980407715, 'eval_accuracy': 0.7283333333333334, 'eval_f1-macro': 0.7275090482041509, 'eval_precision': 0.7311300064109052, 'eval_recall': 0.7283333333333333, 'eval_runtime': 4.0626, 'eval_samples_per_second': 147.689, 'eval_steps_per_second': 2.461, 'epoch': 4.0}\n",
            "Beste Hyperparameter: {'learning_rate': 3.079784998948728e-05, 'batch_size': 16, 'num_train_epochs': 4}\n"
          ]
        }
      ],
      "source": [
        "study = optuna.create_study(direction=\"maximize\")  # Maximieren von F1\n",
        "study.optimize(model_training_optuna_multi, n_trials=20)  # 20 verschiedene Kombinationen testen\n",
        "\n",
        "print(\"Beste Hyperparameter:\", study.best_params)"
      ]
    },
    {
      "cell_type": "markdown",
      "metadata": {
        "id": "pOe8H84b8Tky"
      },
      "source": [
        "### Parameter Optimierung mit Optuna für die individuellen Annotatoren"
      ]
    },
    {
      "cell_type": "code",
      "execution_count": null,
      "metadata": {
        "id": "1xltvKfo8Tky"
      },
      "outputs": [],
      "source": [
        "def model_training_optuna_annotators(trial):\n",
        "  num_labels = 5\n",
        "  device = torch.device(\"cuda\" if torch.cuda.is_available() else \"cpu\")\n",
        "  model_ckpt = \"distilbert-base-german-cased\"\n",
        "  tokenizer = AutoTokenizer.from_pretrained(model_ckpt)\n",
        "  config = AutoConfig.from_pretrained(model_ckpt,\n",
        "                                     num_labels=num_labels,\n",
        "                                     hidden_dropout_prob=0.3,        # Feedforward-Dropout\n",
        "                                     attention_probs_dropout_prob=0.3)  # Attention-Dropout\n",
        "\n",
        "  learning_rate = trial.suggest_float(\"learning_rate\", 1e-5, 5e-5, log=True)\n",
        "  batch_size = trial.suggest_categorical(\"batch_size\", [8, 16, 32])\n",
        "  num_epochs = trial.suggest_int(\"num_train_epochs\", 2, 4)\n",
        "\n",
        "  training_args = TrainingArguments(\n",
        "      eval_strategy=\"epoch\",\n",
        "      learning_rate=learning_rate,\n",
        "      per_device_train_batch_size=batch_size,\n",
        "      per_device_eval_batch_size=batch_size,\n",
        "      num_train_epochs=num_epochs,\n",
        "      weight_decay=0.01,\n",
        "      disable_tqdm=False,\n",
        "      logging_steps=10,\n",
        "      push_to_hub=False,\n",
        "      log_level=\"error\"\n",
        "  )\n",
        "\n",
        "  scores = []\n",
        "\n",
        "  for annotator, dataset in datasets_per_annotator_split.items():\n",
        "      model = AutoModelForSequenceClassification.from_pretrained(model_ckpt, config=config).to(device)\n",
        "      trainer = Trainer(\n",
        "          model=model,\n",
        "          args=training_args,\n",
        "          compute_metrics=compute_metrics,\n",
        "          train_dataset=dataset[\"train\"],\n",
        "          eval_dataset=dataset[\"validation\"],\n",
        "          tokenizer=tokenizer\n",
        "      )\n",
        "\n",
        "      trainer.train()\n",
        "      eval_result = trainer.evaluate(dataset[\"test\"])\n",
        "      scores.append(eval_result[\"eval_f1-macro\"])\n",
        "\n",
        "  # Mittelwert der F1-Scores über alle Annotatoren\n",
        "  return float(np.mean(scores))\n"
      ]
    },
    {
      "cell_type": "code",
      "execution_count": null,
      "metadata": {
        "colab": {
          "base_uri": "https://localhost:8080/",
          "height": 1000
        },
        "id": "SJHi3Azg8Tkz",
        "outputId": "34a7c21f-1d88-4c62-b8ac-7517dac1262a"
      },
      "outputs": [
        {
          "name": "stderr",
          "output_type": "stream",
          "text": [
            "[I 2025-09-21 16:01:05,604] A new study created in memory with name: no-name-331ce7b5-5b18-4812-9144-aaf052aff8c4\n",
            "/tmp/ipython-input-337047085.py:37: FutureWarning: `tokenizer` is deprecated and will be removed in version 5.0.0 for `Trainer.__init__`. Use `processing_class` instead.\n",
            "  trainer = Trainer(\n"
          ]
        },
        {
          "data": {
            "text/html": [
              "\n",
              "    <div>\n",
              "      \n",
              "      <progress value='84' max='84' style='width:300px; height:20px; vertical-align: middle;'></progress>\n",
              "      [84/84 00:51, Epoch 3/3]\n",
              "    </div>\n",
              "    <table border=\"1\" class=\"dataframe\">\n",
              "  <thead>\n",
              " <tr style=\"text-align: left;\">\n",
              "      <th>Epoch</th>\n",
              "      <th>Training Loss</th>\n",
              "      <th>Validation Loss</th>\n",
              "      <th>Accuracy</th>\n",
              "      <th>F1-macro</th>\n",
              "      <th>Precision</th>\n",
              "      <th>Recall</th>\n",
              "    </tr>\n",
              "  </thead>\n",
              "  <tbody>\n",
              "    <tr>\n",
              "      <td>1</td>\n",
              "      <td>1.272800</td>\n",
              "      <td>1.012793</td>\n",
              "      <td>0.701031</td>\n",
              "      <td>0.164848</td>\n",
              "      <td>0.140206</td>\n",
              "      <td>0.200000</td>\n",
              "    </tr>\n",
              "    <tr>\n",
              "      <td>2</td>\n",
              "      <td>1.126300</td>\n",
              "      <td>1.001104</td>\n",
              "      <td>0.701031</td>\n",
              "      <td>0.164848</td>\n",
              "      <td>0.140206</td>\n",
              "      <td>0.200000</td>\n",
              "    </tr>\n",
              "    <tr>\n",
              "      <td>3</td>\n",
              "      <td>1.084700</td>\n",
              "      <td>0.993716</td>\n",
              "      <td>0.701031</td>\n",
              "      <td>0.164848</td>\n",
              "      <td>0.140206</td>\n",
              "      <td>0.200000</td>\n",
              "    </tr>\n",
              "  </tbody>\n",
              "</table><p>"
            ],
            "text/plain": [
              "<IPython.core.display.HTML object>"
            ]
          },
          "metadata": {},
          "output_type": "display_data"
        },
        {
          "data": {
            "text/html": [
              "\n",
              "    <div>\n",
              "      \n",
              "      <progress value='31' max='31' style='width:300px; height:20px; vertical-align: middle;'></progress>\n",
              "      [31/31 00:05]\n",
              "    </div>\n",
              "    "
            ],
            "text/plain": [
              "<IPython.core.display.HTML object>"
            ]
          },
          "metadata": {},
          "output_type": "display_data"
        },
        {
          "name": "stderr",
          "output_type": "stream",
          "text": [
            "/tmp/ipython-input-337047085.py:37: FutureWarning: `tokenizer` is deprecated and will be removed in version 5.0.0 for `Trainer.__init__`. Use `processing_class` instead.\n",
            "  trainer = Trainer(\n"
          ]
        },
        {
          "data": {
            "text/html": [
              "\n",
              "    <div>\n",
              "      \n",
              "      <progress value='507' max='507' style='width:300px; height:20px; vertical-align: middle;'></progress>\n",
              "      [507/507 05:19, Epoch 3/3]\n",
              "    </div>\n",
              "    <table border=\"1\" class=\"dataframe\">\n",
              "  <thead>\n",
              " <tr style=\"text-align: left;\">\n",
              "      <th>Epoch</th>\n",
              "      <th>Training Loss</th>\n",
              "      <th>Validation Loss</th>\n",
              "      <th>Accuracy</th>\n",
              "      <th>F1-macro</th>\n",
              "      <th>Precision</th>\n",
              "      <th>Recall</th>\n",
              "    </tr>\n",
              "  </thead>\n",
              "  <tbody>\n",
              "    <tr>\n",
              "      <td>1</td>\n",
              "      <td>0.778200</td>\n",
              "      <td>0.772979</td>\n",
              "      <td>0.755000</td>\n",
              "      <td>0.172080</td>\n",
              "      <td>0.151000</td>\n",
              "      <td>0.200000</td>\n",
              "    </tr>\n",
              "    <tr>\n",
              "      <td>2</td>\n",
              "      <td>0.749200</td>\n",
              "      <td>0.731371</td>\n",
              "      <td>0.766667</td>\n",
              "      <td>0.205357</td>\n",
              "      <td>0.281093</td>\n",
              "      <td>0.217949</td>\n",
              "    </tr>\n",
              "    <tr>\n",
              "      <td>3</td>\n",
              "      <td>0.641000</td>\n",
              "      <td>0.724654</td>\n",
              "      <td>0.756667</td>\n",
              "      <td>0.201920</td>\n",
              "      <td>0.231386</td>\n",
              "      <td>0.215300</td>\n",
              "    </tr>\n",
              "  </tbody>\n",
              "</table><p>"
            ],
            "text/plain": [
              "<IPython.core.display.HTML object>"
            ]
          },
          "metadata": {},
          "output_type": "display_data"
        },
        {
          "data": {
            "text/html": [
              "\n",
              "    <div>\n",
              "      \n",
              "      <progress value='188' max='188' style='width:300px; height:20px; vertical-align: middle;'></progress>\n",
              "      [188/188 00:32]\n",
              "    </div>\n",
              "    "
            ],
            "text/plain": [
              "<IPython.core.display.HTML object>"
            ]
          },
          "metadata": {},
          "output_type": "display_data"
        },
        {
          "name": "stderr",
          "output_type": "stream",
          "text": [
            "/tmp/ipython-input-337047085.py:37: FutureWarning: `tokenizer` is deprecated and will be removed in version 5.0.0 for `Trainer.__init__`. Use `processing_class` instead.\n",
            "  trainer = Trainer(\n"
          ]
        },
        {
          "data": {
            "text/html": [
              "\n",
              "    <div>\n",
              "      \n",
              "      <progress value='105' max='105' style='width:300px; height:20px; vertical-align: middle;'></progress>\n",
              "      [105/105 01:04, Epoch 3/3]\n",
              "    </div>\n",
              "    <table border=\"1\" class=\"dataframe\">\n",
              "  <thead>\n",
              " <tr style=\"text-align: left;\">\n",
              "      <th>Epoch</th>\n",
              "      <th>Training Loss</th>\n",
              "      <th>Validation Loss</th>\n",
              "      <th>Accuracy</th>\n",
              "      <th>F1-macro</th>\n",
              "      <th>Precision</th>\n",
              "      <th>Recall</th>\n",
              "    </tr>\n",
              "  </thead>\n",
              "  <tbody>\n",
              "    <tr>\n",
              "      <td>1</td>\n",
              "      <td>1.254400</td>\n",
              "      <td>1.311180</td>\n",
              "      <td>0.528000</td>\n",
              "      <td>0.138220</td>\n",
              "      <td>0.105600</td>\n",
              "      <td>0.200000</td>\n",
              "    </tr>\n",
              "    <tr>\n",
              "      <td>2</td>\n",
              "      <td>1.238000</td>\n",
              "      <td>1.287507</td>\n",
              "      <td>0.528000</td>\n",
              "      <td>0.138220</td>\n",
              "      <td>0.105600</td>\n",
              "      <td>0.200000</td>\n",
              "    </tr>\n",
              "    <tr>\n",
              "      <td>3</td>\n",
              "      <td>1.231600</td>\n",
              "      <td>1.282335</td>\n",
              "      <td>0.528000</td>\n",
              "      <td>0.138220</td>\n",
              "      <td>0.105600</td>\n",
              "      <td>0.200000</td>\n",
              "    </tr>\n",
              "  </tbody>\n",
              "</table><p>"
            ],
            "text/plain": [
              "<IPython.core.display.HTML object>"
            ]
          },
          "metadata": {},
          "output_type": "display_data"
        },
        {
          "data": {
            "text/html": [
              "\n",
              "    <div>\n",
              "      \n",
              "      <progress value='39' max='39' style='width:300px; height:20px; vertical-align: middle;'></progress>\n",
              "      [39/39 00:06]\n",
              "    </div>\n",
              "    "
            ],
            "text/plain": [
              "<IPython.core.display.HTML object>"
            ]
          },
          "metadata": {},
          "output_type": "display_data"
        },
        {
          "name": "stderr",
          "output_type": "stream",
          "text": [
            "/tmp/ipython-input-337047085.py:37: FutureWarning: `tokenizer` is deprecated and will be removed in version 5.0.0 for `Trainer.__init__`. Use `processing_class` instead.\n",
            "  trainer = Trainer(\n"
          ]
        },
        {
          "data": {
            "text/html": [
              "\n",
              "    <div>\n",
              "      \n",
              "      <progress value='120' max='120' style='width:300px; height:20px; vertical-align: middle;'></progress>\n",
              "      [120/120 01:14, Epoch 3/3]\n",
              "    </div>\n",
              "    <table border=\"1\" class=\"dataframe\">\n",
              "  <thead>\n",
              " <tr style=\"text-align: left;\">\n",
              "      <th>Epoch</th>\n",
              "      <th>Training Loss</th>\n",
              "      <th>Validation Loss</th>\n",
              "      <th>Accuracy</th>\n",
              "      <th>F1-macro</th>\n",
              "      <th>Precision</th>\n",
              "      <th>Recall</th>\n",
              "    </tr>\n",
              "  </thead>\n",
              "  <tbody>\n",
              "    <tr>\n",
              "      <td>1</td>\n",
              "      <td>0.976400</td>\n",
              "      <td>1.184539</td>\n",
              "      <td>0.628571</td>\n",
              "      <td>0.154386</td>\n",
              "      <td>0.125714</td>\n",
              "      <td>0.200000</td>\n",
              "    </tr>\n",
              "    <tr>\n",
              "      <td>2</td>\n",
              "      <td>1.065200</td>\n",
              "      <td>1.165707</td>\n",
              "      <td>0.628571</td>\n",
              "      <td>0.154386</td>\n",
              "      <td>0.125714</td>\n",
              "      <td>0.200000</td>\n",
              "    </tr>\n",
              "    <tr>\n",
              "      <td>3</td>\n",
              "      <td>1.051000</td>\n",
              "      <td>1.167143</td>\n",
              "      <td>0.628571</td>\n",
              "      <td>0.154386</td>\n",
              "      <td>0.125714</td>\n",
              "      <td>0.200000</td>\n",
              "    </tr>\n",
              "  </tbody>\n",
              "</table><p>"
            ],
            "text/plain": [
              "<IPython.core.display.HTML object>"
            ]
          },
          "metadata": {},
          "output_type": "display_data"
        },
        {
          "data": {
            "text/html": [
              "\n",
              "    <div>\n",
              "      \n",
              "      <progress value='44' max='44' style='width:300px; height:20px; vertical-align: middle;'></progress>\n",
              "      [44/44 00:07]\n",
              "    </div>\n",
              "    "
            ],
            "text/plain": [
              "<IPython.core.display.HTML object>"
            ]
          },
          "metadata": {},
          "output_type": "display_data"
        },
        {
          "name": "stderr",
          "output_type": "stream",
          "text": [
            "/tmp/ipython-input-337047085.py:37: FutureWarning: `tokenizer` is deprecated and will be removed in version 5.0.0 for `Trainer.__init__`. Use `processing_class` instead.\n",
            "  trainer = Trainer(\n"
          ]
        },
        {
          "data": {
            "text/html": [
              "\n",
              "    <div>\n",
              "      \n",
              "      <progress value='132' max='132' style='width:300px; height:20px; vertical-align: middle;'></progress>\n",
              "      [132/132 01:23, Epoch 3/3]\n",
              "    </div>\n",
              "    <table border=\"1\" class=\"dataframe\">\n",
              "  <thead>\n",
              " <tr style=\"text-align: left;\">\n",
              "      <th>Epoch</th>\n",
              "      <th>Training Loss</th>\n",
              "      <th>Validation Loss</th>\n",
              "      <th>Accuracy</th>\n",
              "      <th>F1-macro</th>\n",
              "      <th>Precision</th>\n",
              "      <th>Recall</th>\n",
              "    </tr>\n",
              "  </thead>\n",
              "  <tbody>\n",
              "    <tr>\n",
              "      <td>1</td>\n",
              "      <td>1.091000</td>\n",
              "      <td>1.104200</td>\n",
              "      <td>0.602564</td>\n",
              "      <td>0.150400</td>\n",
              "      <td>0.120513</td>\n",
              "      <td>0.200000</td>\n",
              "    </tr>\n",
              "    <tr>\n",
              "      <td>2</td>\n",
              "      <td>1.101000</td>\n",
              "      <td>1.076093</td>\n",
              "      <td>0.602564</td>\n",
              "      <td>0.150400</td>\n",
              "      <td>0.120513</td>\n",
              "      <td>0.200000</td>\n",
              "    </tr>\n",
              "    <tr>\n",
              "      <td>3</td>\n",
              "      <td>1.003300</td>\n",
              "      <td>1.069446</td>\n",
              "      <td>0.602564</td>\n",
              "      <td>0.150400</td>\n",
              "      <td>0.120513</td>\n",
              "      <td>0.200000</td>\n",
              "    </tr>\n",
              "  </tbody>\n",
              "</table><p>"
            ],
            "text/plain": [
              "<IPython.core.display.HTML object>"
            ]
          },
          "metadata": {},
          "output_type": "display_data"
        },
        {
          "data": {
            "text/html": [
              "\n",
              "    <div>\n",
              "      \n",
              "      <progress value='49' max='49' style='width:300px; height:20px; vertical-align: middle;'></progress>\n",
              "      [49/49 00:08]\n",
              "    </div>\n",
              "    "
            ],
            "text/plain": [
              "<IPython.core.display.HTML object>"
            ]
          },
          "metadata": {},
          "output_type": "display_data"
        },
        {
          "name": "stderr",
          "output_type": "stream",
          "text": [
            "/tmp/ipython-input-337047085.py:37: FutureWarning: `tokenizer` is deprecated and will be removed in version 5.0.0 for `Trainer.__init__`. Use `processing_class` instead.\n",
            "  trainer = Trainer(\n"
          ]
        },
        {
          "data": {
            "text/html": [
              "\n",
              "    <div>\n",
              "      \n",
              "      <progress value='108' max='108' style='width:300px; height:20px; vertical-align: middle;'></progress>\n",
              "      [108/108 01:06, Epoch 3/3]\n",
              "    </div>\n",
              "    <table border=\"1\" class=\"dataframe\">\n",
              "  <thead>\n",
              " <tr style=\"text-align: left;\">\n",
              "      <th>Epoch</th>\n",
              "      <th>Training Loss</th>\n",
              "      <th>Validation Loss</th>\n",
              "      <th>Accuracy</th>\n",
              "      <th>F1-macro</th>\n",
              "      <th>Precision</th>\n",
              "      <th>Recall</th>\n",
              "    </tr>\n",
              "  </thead>\n",
              "  <tbody>\n",
              "    <tr>\n",
              "      <td>1</td>\n",
              "      <td>1.142700</td>\n",
              "      <td>1.179973</td>\n",
              "      <td>0.608000</td>\n",
              "      <td>0.151244</td>\n",
              "      <td>0.121600</td>\n",
              "      <td>0.200000</td>\n",
              "    </tr>\n",
              "    <tr>\n",
              "      <td>2</td>\n",
              "      <td>1.101800</td>\n",
              "      <td>1.164264</td>\n",
              "      <td>0.608000</td>\n",
              "      <td>0.151244</td>\n",
              "      <td>0.121600</td>\n",
              "      <td>0.200000</td>\n",
              "    </tr>\n",
              "    <tr>\n",
              "      <td>3</td>\n",
              "      <td>1.110700</td>\n",
              "      <td>1.155308</td>\n",
              "      <td>0.608000</td>\n",
              "      <td>0.151244</td>\n",
              "      <td>0.121600</td>\n",
              "      <td>0.200000</td>\n",
              "    </tr>\n",
              "  </tbody>\n",
              "</table><p>"
            ],
            "text/plain": [
              "<IPython.core.display.HTML object>"
            ]
          },
          "metadata": {},
          "output_type": "display_data"
        },
        {
          "data": {
            "text/html": [
              "\n",
              "    <div>\n",
              "      \n",
              "      <progress value='39' max='39' style='width:300px; height:20px; vertical-align: middle;'></progress>\n",
              "      [39/39 00:07]\n",
              "    </div>\n",
              "    "
            ],
            "text/plain": [
              "<IPython.core.display.HTML object>"
            ]
          },
          "metadata": {},
          "output_type": "display_data"
        },
        {
          "name": "stderr",
          "output_type": "stream",
          "text": [
            "/tmp/ipython-input-337047085.py:37: FutureWarning: `tokenizer` is deprecated and will be removed in version 5.0.0 for `Trainer.__init__`. Use `processing_class` instead.\n",
            "  trainer = Trainer(\n"
          ]
        },
        {
          "data": {
            "text/html": [
              "\n",
              "    <div>\n",
              "      \n",
              "      <progress value='156' max='156' style='width:300px; height:20px; vertical-align: middle;'></progress>\n",
              "      [156/156 01:38, Epoch 3/3]\n",
              "    </div>\n",
              "    <table border=\"1\" class=\"dataframe\">\n",
              "  <thead>\n",
              " <tr style=\"text-align: left;\">\n",
              "      <th>Epoch</th>\n",
              "      <th>Training Loss</th>\n",
              "      <th>Validation Loss</th>\n",
              "      <th>Accuracy</th>\n",
              "      <th>F1-macro</th>\n",
              "      <th>Precision</th>\n",
              "      <th>Recall</th>\n",
              "    </tr>\n",
              "  </thead>\n",
              "  <tbody>\n",
              "    <tr>\n",
              "      <td>1</td>\n",
              "      <td>0.947400</td>\n",
              "      <td>0.774140</td>\n",
              "      <td>0.794595</td>\n",
              "      <td>0.177108</td>\n",
              "      <td>0.158919</td>\n",
              "      <td>0.200000</td>\n",
              "    </tr>\n",
              "    <tr>\n",
              "      <td>2</td>\n",
              "      <td>1.090000</td>\n",
              "      <td>0.770502</td>\n",
              "      <td>0.794595</td>\n",
              "      <td>0.177108</td>\n",
              "      <td>0.158919</td>\n",
              "      <td>0.200000</td>\n",
              "    </tr>\n",
              "    <tr>\n",
              "      <td>3</td>\n",
              "      <td>0.829500</td>\n",
              "      <td>0.756900</td>\n",
              "      <td>0.794595</td>\n",
              "      <td>0.177108</td>\n",
              "      <td>0.158919</td>\n",
              "      <td>0.200000</td>\n",
              "    </tr>\n",
              "  </tbody>\n",
              "</table><p>"
            ],
            "text/plain": [
              "<IPython.core.display.HTML object>"
            ]
          },
          "metadata": {},
          "output_type": "display_data"
        },
        {
          "data": {
            "text/html": [
              "\n",
              "    <div>\n",
              "      \n",
              "      <progress value='58' max='58' style='width:300px; height:20px; vertical-align: middle;'></progress>\n",
              "      [58/58 00:10]\n",
              "    </div>\n",
              "    "
            ],
            "text/plain": [
              "<IPython.core.display.HTML object>"
            ]
          },
          "metadata": {},
          "output_type": "display_data"
        },
        {
          "name": "stderr",
          "output_type": "stream",
          "text": [
            "/tmp/ipython-input-337047085.py:37: FutureWarning: `tokenizer` is deprecated and will be removed in version 5.0.0 for `Trainer.__init__`. Use `processing_class` instead.\n",
            "  trainer = Trainer(\n"
          ]
        },
        {
          "data": {
            "text/html": [
              "\n",
              "    <div>\n",
              "      \n",
              "      <progress value='249' max='249' style='width:300px; height:20px; vertical-align: middle;'></progress>\n",
              "      [249/249 02:35, Epoch 3/3]\n",
              "    </div>\n",
              "    <table border=\"1\" class=\"dataframe\">\n",
              "  <thead>\n",
              " <tr style=\"text-align: left;\">\n",
              "      <th>Epoch</th>\n",
              "      <th>Training Loss</th>\n",
              "      <th>Validation Loss</th>\n",
              "      <th>Accuracy</th>\n",
              "      <th>F1-macro</th>\n",
              "      <th>Precision</th>\n",
              "      <th>Recall</th>\n",
              "    </tr>\n",
              "  </thead>\n",
              "  <tbody>\n",
              "    <tr>\n",
              "      <td>1</td>\n",
              "      <td>0.948600</td>\n",
              "      <td>0.971112</td>\n",
              "      <td>0.699659</td>\n",
              "      <td>0.164659</td>\n",
              "      <td>0.139932</td>\n",
              "      <td>0.200000</td>\n",
              "    </tr>\n",
              "    <tr>\n",
              "      <td>2</td>\n",
              "      <td>1.046600</td>\n",
              "      <td>0.963140</td>\n",
              "      <td>0.699659</td>\n",
              "      <td>0.164659</td>\n",
              "      <td>0.139932</td>\n",
              "      <td>0.200000</td>\n",
              "    </tr>\n",
              "    <tr>\n",
              "      <td>3</td>\n",
              "      <td>1.050400</td>\n",
              "      <td>0.958787</td>\n",
              "      <td>0.699659</td>\n",
              "      <td>0.164659</td>\n",
              "      <td>0.139932</td>\n",
              "      <td>0.200000</td>\n",
              "    </tr>\n",
              "  </tbody>\n",
              "</table><p>"
            ],
            "text/plain": [
              "<IPython.core.display.HTML object>"
            ]
          },
          "metadata": {},
          "output_type": "display_data"
        },
        {
          "data": {
            "text/html": [
              "\n",
              "    <div>\n",
              "      \n",
              "      <progress value='92' max='92' style='width:300px; height:20px; vertical-align: middle;'></progress>\n",
              "      [92/92 00:16]\n",
              "    </div>\n",
              "    "
            ],
            "text/plain": [
              "<IPython.core.display.HTML object>"
            ]
          },
          "metadata": {},
          "output_type": "display_data"
        },
        {
          "name": "stderr",
          "output_type": "stream",
          "text": [
            "/tmp/ipython-input-337047085.py:37: FutureWarning: `tokenizer` is deprecated and will be removed in version 5.0.0 for `Trainer.__init__`. Use `processing_class` instead.\n",
            "  trainer = Trainer(\n"
          ]
        },
        {
          "data": {
            "text/html": [
              "\n",
              "    <div>\n",
              "      \n",
              "      <progress value='507' max='507' style='width:300px; height:20px; vertical-align: middle;'></progress>\n",
              "      [507/507 05:20, Epoch 3/3]\n",
              "    </div>\n",
              "    <table border=\"1\" class=\"dataframe\">\n",
              "  <thead>\n",
              " <tr style=\"text-align: left;\">\n",
              "      <th>Epoch</th>\n",
              "      <th>Training Loss</th>\n",
              "      <th>Validation Loss</th>\n",
              "      <th>Accuracy</th>\n",
              "      <th>F1-macro</th>\n",
              "      <th>Precision</th>\n",
              "      <th>Recall</th>\n",
              "    </tr>\n",
              "  </thead>\n",
              "  <tbody>\n",
              "    <tr>\n",
              "      <td>1</td>\n",
              "      <td>0.878300</td>\n",
              "      <td>0.931878</td>\n",
              "      <td>0.658333</td>\n",
              "      <td>0.193505</td>\n",
              "      <td>0.189044</td>\n",
              "      <td>0.216657</td>\n",
              "    </tr>\n",
              "    <tr>\n",
              "      <td>2</td>\n",
              "      <td>0.865800</td>\n",
              "      <td>0.918417</td>\n",
              "      <td>0.656667</td>\n",
              "      <td>0.253419</td>\n",
              "      <td>0.274282</td>\n",
              "      <td>0.261207</td>\n",
              "    </tr>\n",
              "    <tr>\n",
              "      <td>3</td>\n",
              "      <td>0.781700</td>\n",
              "      <td>0.912983</td>\n",
              "      <td>0.665000</td>\n",
              "      <td>0.243016</td>\n",
              "      <td>0.255431</td>\n",
              "      <td>0.248605</td>\n",
              "    </tr>\n",
              "  </tbody>\n",
              "</table><p>"
            ],
            "text/plain": [
              "<IPython.core.display.HTML object>"
            ]
          },
          "metadata": {},
          "output_type": "display_data"
        },
        {
          "data": {
            "text/html": [
              "\n",
              "    <div>\n",
              "      \n",
              "      <progress value='188' max='188' style='width:300px; height:20px; vertical-align: middle;'></progress>\n",
              "      [188/188 00:32]\n",
              "    </div>\n",
              "    "
            ],
            "text/plain": [
              "<IPython.core.display.HTML object>"
            ]
          },
          "metadata": {},
          "output_type": "display_data"
        },
        {
          "name": "stderr",
          "output_type": "stream",
          "text": [
            "/tmp/ipython-input-337047085.py:37: FutureWarning: `tokenizer` is deprecated and will be removed in version 5.0.0 for `Trainer.__init__`. Use `processing_class` instead.\n",
            "  trainer = Trainer(\n"
          ]
        },
        {
          "data": {
            "text/html": [
              "\n",
              "    <div>\n",
              "      \n",
              "      <progress value='81' max='81' style='width:300px; height:20px; vertical-align: middle;'></progress>\n",
              "      [81/81 00:49, Epoch 3/3]\n",
              "    </div>\n",
              "    <table border=\"1\" class=\"dataframe\">\n",
              "  <thead>\n",
              " <tr style=\"text-align: left;\">\n",
              "      <th>Epoch</th>\n",
              "      <th>Training Loss</th>\n",
              "      <th>Validation Loss</th>\n",
              "      <th>Accuracy</th>\n",
              "      <th>F1-macro</th>\n",
              "      <th>Precision</th>\n",
              "      <th>Recall</th>\n",
              "    </tr>\n",
              "  </thead>\n",
              "  <tbody>\n",
              "    <tr>\n",
              "      <td>1</td>\n",
              "      <td>1.038800</td>\n",
              "      <td>0.838030</td>\n",
              "      <td>0.763441</td>\n",
              "      <td>0.216463</td>\n",
              "      <td>0.190860</td>\n",
              "      <td>0.250000</td>\n",
              "    </tr>\n",
              "    <tr>\n",
              "      <td>2</td>\n",
              "      <td>0.858300</td>\n",
              "      <td>0.796858</td>\n",
              "      <td>0.763441</td>\n",
              "      <td>0.216463</td>\n",
              "      <td>0.190860</td>\n",
              "      <td>0.250000</td>\n",
              "    </tr>\n",
              "    <tr>\n",
              "      <td>3</td>\n",
              "      <td>0.860100</td>\n",
              "      <td>0.792698</td>\n",
              "      <td>0.763441</td>\n",
              "      <td>0.216463</td>\n",
              "      <td>0.190860</td>\n",
              "      <td>0.250000</td>\n",
              "    </tr>\n",
              "  </tbody>\n",
              "</table><p>"
            ],
            "text/plain": [
              "<IPython.core.display.HTML object>"
            ]
          },
          "metadata": {},
          "output_type": "display_data"
        },
        {
          "data": {
            "text/html": [
              "\n",
              "    <div>\n",
              "      \n",
              "      <progress value='29' max='29' style='width:300px; height:20px; vertical-align: middle;'></progress>\n",
              "      [29/29 00:05]\n",
              "    </div>\n",
              "    "
            ],
            "text/plain": [
              "<IPython.core.display.HTML object>"
            ]
          },
          "metadata": {},
          "output_type": "display_data"
        },
        {
          "name": "stderr",
          "output_type": "stream",
          "text": [
            "/tmp/ipython-input-337047085.py:37: FutureWarning: `tokenizer` is deprecated and will be removed in version 5.0.0 for `Trainer.__init__`. Use `processing_class` instead.\n",
            "  trainer = Trainer(\n"
          ]
        },
        {
          "data": {
            "text/html": [
              "\n",
              "    <div>\n",
              "      \n",
              "      <progress value='507' max='507' style='width:300px; height:20px; vertical-align: middle;'></progress>\n",
              "      [507/507 05:20, Epoch 3/3]\n",
              "    </div>\n",
              "    <table border=\"1\" class=\"dataframe\">\n",
              "  <thead>\n",
              " <tr style=\"text-align: left;\">\n",
              "      <th>Epoch</th>\n",
              "      <th>Training Loss</th>\n",
              "      <th>Validation Loss</th>\n",
              "      <th>Accuracy</th>\n",
              "      <th>F1-macro</th>\n",
              "      <th>Precision</th>\n",
              "      <th>Recall</th>\n",
              "    </tr>\n",
              "  </thead>\n",
              "  <tbody>\n",
              "    <tr>\n",
              "      <td>1</td>\n",
              "      <td>0.930900</td>\n",
              "      <td>1.002141</td>\n",
              "      <td>0.648333</td>\n",
              "      <td>0.204932</td>\n",
              "      <td>0.209882</td>\n",
              "      <td>0.228111</td>\n",
              "    </tr>\n",
              "    <tr>\n",
              "      <td>2</td>\n",
              "      <td>0.940000</td>\n",
              "      <td>0.993835</td>\n",
              "      <td>0.613333</td>\n",
              "      <td>0.228286</td>\n",
              "      <td>0.203840</td>\n",
              "      <td>0.263980</td>\n",
              "    </tr>\n",
              "    <tr>\n",
              "      <td>3</td>\n",
              "      <td>0.815700</td>\n",
              "      <td>0.980791</td>\n",
              "      <td>0.628333</td>\n",
              "      <td>0.229993</td>\n",
              "      <td>0.205879</td>\n",
              "      <td>0.260874</td>\n",
              "    </tr>\n",
              "  </tbody>\n",
              "</table><p>"
            ],
            "text/plain": [
              "<IPython.core.display.HTML object>"
            ]
          },
          "metadata": {},
          "output_type": "display_data"
        },
        {
          "data": {
            "text/html": [
              "\n",
              "    <div>\n",
              "      \n",
              "      <progress value='188' max='188' style='width:300px; height:20px; vertical-align: middle;'></progress>\n",
              "      [188/188 00:32]\n",
              "    </div>\n",
              "    "
            ],
            "text/plain": [
              "<IPython.core.display.HTML object>"
            ]
          },
          "metadata": {},
          "output_type": "display_data"
        },
        {
          "name": "stderr",
          "output_type": "stream",
          "text": [
            "[I 2025-09-21 16:30:51,727] Trial 0 finished with value: 0.18236313541938698 and parameters: {'learning_rate': 1.6045062915316592e-05, 'batch_size': 32, 'num_train_epochs': 3}. Best is trial 0 with value: 0.18236313541938698.\n",
            "/tmp/ipython-input-337047085.py:37: FutureWarning: `tokenizer` is deprecated and will be removed in version 5.0.0 for `Trainer.__init__`. Use `processing_class` instead.\n",
            "  trainer = Trainer(\n"
          ]
        },
        {
          "data": {
            "text/html": [
              "\n",
              "    <div>\n",
              "      \n",
              "      <progress value='112' max='112' style='width:300px; height:20px; vertical-align: middle;'></progress>\n",
              "      [112/112 01:08, Epoch 4/4]\n",
              "    </div>\n",
              "    <table border=\"1\" class=\"dataframe\">\n",
              "  <thead>\n",
              " <tr style=\"text-align: left;\">\n",
              "      <th>Epoch</th>\n",
              "      <th>Training Loss</th>\n",
              "      <th>Validation Loss</th>\n",
              "      <th>Accuracy</th>\n",
              "      <th>F1-macro</th>\n",
              "      <th>Precision</th>\n",
              "      <th>Recall</th>\n",
              "    </tr>\n",
              "  </thead>\n",
              "  <tbody>\n",
              "    <tr>\n",
              "      <td>1</td>\n",
              "      <td>1.237100</td>\n",
              "      <td>1.003205</td>\n",
              "      <td>0.701031</td>\n",
              "      <td>0.164848</td>\n",
              "      <td>0.140206</td>\n",
              "      <td>0.200000</td>\n",
              "    </tr>\n",
              "    <tr>\n",
              "      <td>2</td>\n",
              "      <td>1.126700</td>\n",
              "      <td>0.997123</td>\n",
              "      <td>0.701031</td>\n",
              "      <td>0.164848</td>\n",
              "      <td>0.140206</td>\n",
              "      <td>0.200000</td>\n",
              "    </tr>\n",
              "    <tr>\n",
              "      <td>3</td>\n",
              "      <td>1.107200</td>\n",
              "      <td>0.991061</td>\n",
              "      <td>0.701031</td>\n",
              "      <td>0.164848</td>\n",
              "      <td>0.140206</td>\n",
              "      <td>0.200000</td>\n",
              "    </tr>\n",
              "    <tr>\n",
              "      <td>4</td>\n",
              "      <td>1.105400</td>\n",
              "      <td>0.984012</td>\n",
              "      <td>0.701031</td>\n",
              "      <td>0.164848</td>\n",
              "      <td>0.140206</td>\n",
              "      <td>0.200000</td>\n",
              "    </tr>\n",
              "  </tbody>\n",
              "</table><p>"
            ],
            "text/plain": [
              "<IPython.core.display.HTML object>"
            ]
          },
          "metadata": {},
          "output_type": "display_data"
        },
        {
          "data": {
            "text/html": [
              "\n",
              "    <div>\n",
              "      \n",
              "      <progress value='31' max='31' style='width:300px; height:20px; vertical-align: middle;'></progress>\n",
              "      [31/31 00:05]\n",
              "    </div>\n",
              "    "
            ],
            "text/plain": [
              "<IPython.core.display.HTML object>"
            ]
          },
          "metadata": {},
          "output_type": "display_data"
        },
        {
          "name": "stderr",
          "output_type": "stream",
          "text": [
            "/tmp/ipython-input-337047085.py:37: FutureWarning: `tokenizer` is deprecated and will be removed in version 5.0.0 for `Trainer.__init__`. Use `processing_class` instead.\n",
            "  trainer = Trainer(\n"
          ]
        },
        {
          "data": {
            "text/html": [
              "\n",
              "    <div>\n",
              "      \n",
              "      <progress value='676' max='676' style='width:300px; height:20px; vertical-align: middle;'></progress>\n",
              "      [676/676 07:05, Epoch 4/4]\n",
              "    </div>\n",
              "    <table border=\"1\" class=\"dataframe\">\n",
              "  <thead>\n",
              " <tr style=\"text-align: left;\">\n",
              "      <th>Epoch</th>\n",
              "      <th>Training Loss</th>\n",
              "      <th>Validation Loss</th>\n",
              "      <th>Accuracy</th>\n",
              "      <th>F1-macro</th>\n",
              "      <th>Precision</th>\n",
              "      <th>Recall</th>\n",
              "    </tr>\n",
              "  </thead>\n",
              "  <tbody>\n",
              "    <tr>\n",
              "      <td>1</td>\n",
              "      <td>0.763800</td>\n",
              "      <td>0.766191</td>\n",
              "      <td>0.755000</td>\n",
              "      <td>0.172080</td>\n",
              "      <td>0.151000</td>\n",
              "      <td>0.200000</td>\n",
              "    </tr>\n",
              "    <tr>\n",
              "      <td>2</td>\n",
              "      <td>0.751100</td>\n",
              "      <td>0.725138</td>\n",
              "      <td>0.761667</td>\n",
              "      <td>0.192055</td>\n",
              "      <td>0.267068</td>\n",
              "      <td>0.210256</td>\n",
              "    </tr>\n",
              "    <tr>\n",
              "      <td>3</td>\n",
              "      <td>0.629800</td>\n",
              "      <td>0.723502</td>\n",
              "      <td>0.755000</td>\n",
              "      <td>0.224615</td>\n",
              "      <td>0.236676</td>\n",
              "      <td>0.231839</td>\n",
              "    </tr>\n",
              "    <tr>\n",
              "      <td>4</td>\n",
              "      <td>0.696300</td>\n",
              "      <td>0.728024</td>\n",
              "      <td>0.745000</td>\n",
              "      <td>0.223473</td>\n",
              "      <td>0.219616</td>\n",
              "      <td>0.233435</td>\n",
              "    </tr>\n",
              "  </tbody>\n",
              "</table><p>"
            ],
            "text/plain": [
              "<IPython.core.display.HTML object>"
            ]
          },
          "metadata": {},
          "output_type": "display_data"
        },
        {
          "data": {
            "text/html": [
              "\n",
              "    <div>\n",
              "      \n",
              "      <progress value='188' max='188' style='width:300px; height:20px; vertical-align: middle;'></progress>\n",
              "      [188/188 00:32]\n",
              "    </div>\n",
              "    "
            ],
            "text/plain": [
              "<IPython.core.display.HTML object>"
            ]
          },
          "metadata": {},
          "output_type": "display_data"
        },
        {
          "name": "stderr",
          "output_type": "stream",
          "text": [
            "/tmp/ipython-input-337047085.py:37: FutureWarning: `tokenizer` is deprecated and will be removed in version 5.0.0 for `Trainer.__init__`. Use `processing_class` instead.\n",
            "  trainer = Trainer(\n"
          ]
        },
        {
          "data": {
            "text/html": [
              "\n",
              "    <div>\n",
              "      \n",
              "      <progress value='140' max='140' style='width:300px; height:20px; vertical-align: middle;'></progress>\n",
              "      [140/140 01:25, Epoch 4/4]\n",
              "    </div>\n",
              "    <table border=\"1\" class=\"dataframe\">\n",
              "  <thead>\n",
              " <tr style=\"text-align: left;\">\n",
              "      <th>Epoch</th>\n",
              "      <th>Training Loss</th>\n",
              "      <th>Validation Loss</th>\n",
              "      <th>Accuracy</th>\n",
              "      <th>F1-macro</th>\n",
              "      <th>Precision</th>\n",
              "      <th>Recall</th>\n",
              "    </tr>\n",
              "  </thead>\n",
              "  <tbody>\n",
              "    <tr>\n",
              "      <td>1</td>\n",
              "      <td>1.273200</td>\n",
              "      <td>1.322951</td>\n",
              "      <td>0.528000</td>\n",
              "      <td>0.138220</td>\n",
              "      <td>0.105600</td>\n",
              "      <td>0.200000</td>\n",
              "    </tr>\n",
              "    <tr>\n",
              "      <td>2</td>\n",
              "      <td>1.245100</td>\n",
              "      <td>1.297163</td>\n",
              "      <td>0.528000</td>\n",
              "      <td>0.138220</td>\n",
              "      <td>0.105600</td>\n",
              "      <td>0.200000</td>\n",
              "    </tr>\n",
              "    <tr>\n",
              "      <td>3</td>\n",
              "      <td>1.232600</td>\n",
              "      <td>1.287097</td>\n",
              "      <td>0.528000</td>\n",
              "      <td>0.138220</td>\n",
              "      <td>0.105600</td>\n",
              "      <td>0.200000</td>\n",
              "    </tr>\n",
              "    <tr>\n",
              "      <td>4</td>\n",
              "      <td>1.207400</td>\n",
              "      <td>1.283441</td>\n",
              "      <td>0.528000</td>\n",
              "      <td>0.138220</td>\n",
              "      <td>0.105600</td>\n",
              "      <td>0.200000</td>\n",
              "    </tr>\n",
              "  </tbody>\n",
              "</table><p>"
            ],
            "text/plain": [
              "<IPython.core.display.HTML object>"
            ]
          },
          "metadata": {},
          "output_type": "display_data"
        },
        {
          "data": {
            "text/html": [
              "\n",
              "    <div>\n",
              "      \n",
              "      <progress value='39' max='39' style='width:300px; height:20px; vertical-align: middle;'></progress>\n",
              "      [39/39 00:06]\n",
              "    </div>\n",
              "    "
            ],
            "text/plain": [
              "<IPython.core.display.HTML object>"
            ]
          },
          "metadata": {},
          "output_type": "display_data"
        },
        {
          "name": "stderr",
          "output_type": "stream",
          "text": [
            "/tmp/ipython-input-337047085.py:37: FutureWarning: `tokenizer` is deprecated and will be removed in version 5.0.0 for `Trainer.__init__`. Use `processing_class` instead.\n",
            "  trainer = Trainer(\n"
          ]
        },
        {
          "data": {
            "text/html": [
              "\n",
              "    <div>\n",
              "      \n",
              "      <progress value='160' max='160' style='width:300px; height:20px; vertical-align: middle;'></progress>\n",
              "      [160/160 01:39, Epoch 4/4]\n",
              "    </div>\n",
              "    <table border=\"1\" class=\"dataframe\">\n",
              "  <thead>\n",
              " <tr style=\"text-align: left;\">\n",
              "      <th>Epoch</th>\n",
              "      <th>Training Loss</th>\n",
              "      <th>Validation Loss</th>\n",
              "      <th>Accuracy</th>\n",
              "      <th>F1-macro</th>\n",
              "      <th>Precision</th>\n",
              "      <th>Recall</th>\n",
              "    </tr>\n",
              "  </thead>\n",
              "  <tbody>\n",
              "    <tr>\n",
              "      <td>1</td>\n",
              "      <td>0.970700</td>\n",
              "      <td>1.178438</td>\n",
              "      <td>0.628571</td>\n",
              "      <td>0.154386</td>\n",
              "      <td>0.125714</td>\n",
              "      <td>0.200000</td>\n",
              "    </tr>\n",
              "    <tr>\n",
              "      <td>2</td>\n",
              "      <td>1.044500</td>\n",
              "      <td>1.162604</td>\n",
              "      <td>0.628571</td>\n",
              "      <td>0.154386</td>\n",
              "      <td>0.125714</td>\n",
              "      <td>0.200000</td>\n",
              "    </tr>\n",
              "    <tr>\n",
              "      <td>3</td>\n",
              "      <td>1.026900</td>\n",
              "      <td>1.157769</td>\n",
              "      <td>0.628571</td>\n",
              "      <td>0.154386</td>\n",
              "      <td>0.125714</td>\n",
              "      <td>0.200000</td>\n",
              "    </tr>\n",
              "    <tr>\n",
              "      <td>4</td>\n",
              "      <td>1.067400</td>\n",
              "      <td>1.153602</td>\n",
              "      <td>0.628571</td>\n",
              "      <td>0.154386</td>\n",
              "      <td>0.125714</td>\n",
              "      <td>0.200000</td>\n",
              "    </tr>\n",
              "  </tbody>\n",
              "</table><p>"
            ],
            "text/plain": [
              "<IPython.core.display.HTML object>"
            ]
          },
          "metadata": {},
          "output_type": "display_data"
        },
        {
          "data": {
            "text/html": [
              "\n",
              "    <div>\n",
              "      \n",
              "      <progress value='44' max='44' style='width:300px; height:20px; vertical-align: middle;'></progress>\n",
              "      [44/44 00:07]\n",
              "    </div>\n",
              "    "
            ],
            "text/plain": [
              "<IPython.core.display.HTML object>"
            ]
          },
          "metadata": {},
          "output_type": "display_data"
        },
        {
          "name": "stderr",
          "output_type": "stream",
          "text": [
            "/tmp/ipython-input-337047085.py:37: FutureWarning: `tokenizer` is deprecated and will be removed in version 5.0.0 for `Trainer.__init__`. Use `processing_class` instead.\n",
            "  trainer = Trainer(\n"
          ]
        },
        {
          "data": {
            "text/html": [
              "\n",
              "    <div>\n",
              "      \n",
              "      <progress value='176' max='176' style='width:300px; height:20px; vertical-align: middle;'></progress>\n",
              "      [176/176 01:50, Epoch 4/4]\n",
              "    </div>\n",
              "    <table border=\"1\" class=\"dataframe\">\n",
              "  <thead>\n",
              " <tr style=\"text-align: left;\">\n",
              "      <th>Epoch</th>\n",
              "      <th>Training Loss</th>\n",
              "      <th>Validation Loss</th>\n",
              "      <th>Accuracy</th>\n",
              "      <th>F1-macro</th>\n",
              "      <th>Precision</th>\n",
              "      <th>Recall</th>\n",
              "    </tr>\n",
              "  </thead>\n",
              "  <tbody>\n",
              "    <tr>\n",
              "      <td>1</td>\n",
              "      <td>1.104700</td>\n",
              "      <td>1.109940</td>\n",
              "      <td>0.602564</td>\n",
              "      <td>0.150400</td>\n",
              "      <td>0.120513</td>\n",
              "      <td>0.200000</td>\n",
              "    </tr>\n",
              "    <tr>\n",
              "      <td>2</td>\n",
              "      <td>1.101600</td>\n",
              "      <td>1.084203</td>\n",
              "      <td>0.602564</td>\n",
              "      <td>0.150400</td>\n",
              "      <td>0.120513</td>\n",
              "      <td>0.200000</td>\n",
              "    </tr>\n",
              "    <tr>\n",
              "      <td>3</td>\n",
              "      <td>1.030100</td>\n",
              "      <td>1.082095</td>\n",
              "      <td>0.602564</td>\n",
              "      <td>0.150400</td>\n",
              "      <td>0.120513</td>\n",
              "      <td>0.200000</td>\n",
              "    </tr>\n",
              "    <tr>\n",
              "      <td>4</td>\n",
              "      <td>1.038400</td>\n",
              "      <td>1.079101</td>\n",
              "      <td>0.602564</td>\n",
              "      <td>0.150400</td>\n",
              "      <td>0.120513</td>\n",
              "      <td>0.200000</td>\n",
              "    </tr>\n",
              "  </tbody>\n",
              "</table><p>"
            ],
            "text/plain": [
              "<IPython.core.display.HTML object>"
            ]
          },
          "metadata": {},
          "output_type": "display_data"
        },
        {
          "data": {
            "text/html": [
              "\n",
              "    <div>\n",
              "      \n",
              "      <progress value='49' max='49' style='width:300px; height:20px; vertical-align: middle;'></progress>\n",
              "      [49/49 00:08]\n",
              "    </div>\n",
              "    "
            ],
            "text/plain": [
              "<IPython.core.display.HTML object>"
            ]
          },
          "metadata": {},
          "output_type": "display_data"
        },
        {
          "name": "stderr",
          "output_type": "stream",
          "text": [
            "/tmp/ipython-input-337047085.py:37: FutureWarning: `tokenizer` is deprecated and will be removed in version 5.0.0 for `Trainer.__init__`. Use `processing_class` instead.\n",
            "  trainer = Trainer(\n"
          ]
        },
        {
          "data": {
            "text/html": [
              "\n",
              "    <div>\n",
              "      \n",
              "      <progress value='144' max='144' style='width:300px; height:20px; vertical-align: middle;'></progress>\n",
              "      [144/144 01:28, Epoch 4/4]\n",
              "    </div>\n",
              "    <table border=\"1\" class=\"dataframe\">\n",
              "  <thead>\n",
              " <tr style=\"text-align: left;\">\n",
              "      <th>Epoch</th>\n",
              "      <th>Training Loss</th>\n",
              "      <th>Validation Loss</th>\n",
              "      <th>Accuracy</th>\n",
              "      <th>F1-macro</th>\n",
              "      <th>Precision</th>\n",
              "      <th>Recall</th>\n",
              "    </tr>\n",
              "  </thead>\n",
              "  <tbody>\n",
              "    <tr>\n",
              "      <td>1</td>\n",
              "      <td>1.161800</td>\n",
              "      <td>1.184121</td>\n",
              "      <td>0.608000</td>\n",
              "      <td>0.151244</td>\n",
              "      <td>0.121600</td>\n",
              "      <td>0.200000</td>\n",
              "    </tr>\n",
              "    <tr>\n",
              "      <td>2</td>\n",
              "      <td>1.114200</td>\n",
              "      <td>1.178121</td>\n",
              "      <td>0.608000</td>\n",
              "      <td>0.151244</td>\n",
              "      <td>0.121600</td>\n",
              "      <td>0.200000</td>\n",
              "    </tr>\n",
              "    <tr>\n",
              "      <td>3</td>\n",
              "      <td>1.108100</td>\n",
              "      <td>1.162670</td>\n",
              "      <td>0.608000</td>\n",
              "      <td>0.151244</td>\n",
              "      <td>0.121600</td>\n",
              "      <td>0.200000</td>\n",
              "    </tr>\n",
              "    <tr>\n",
              "      <td>4</td>\n",
              "      <td>1.152800</td>\n",
              "      <td>1.159713</td>\n",
              "      <td>0.608000</td>\n",
              "      <td>0.151244</td>\n",
              "      <td>0.121600</td>\n",
              "      <td>0.200000</td>\n",
              "    </tr>\n",
              "  </tbody>\n",
              "</table><p>"
            ],
            "text/plain": [
              "<IPython.core.display.HTML object>"
            ]
          },
          "metadata": {},
          "output_type": "display_data"
        },
        {
          "data": {
            "text/html": [
              "\n",
              "    <div>\n",
              "      \n",
              "      <progress value='39' max='39' style='width:300px; height:20px; vertical-align: middle;'></progress>\n",
              "      [39/39 00:07]\n",
              "    </div>\n",
              "    "
            ],
            "text/plain": [
              "<IPython.core.display.HTML object>"
            ]
          },
          "metadata": {},
          "output_type": "display_data"
        },
        {
          "name": "stderr",
          "output_type": "stream",
          "text": [
            "/tmp/ipython-input-337047085.py:37: FutureWarning: `tokenizer` is deprecated and will be removed in version 5.0.0 for `Trainer.__init__`. Use `processing_class` instead.\n",
            "  trainer = Trainer(\n"
          ]
        },
        {
          "data": {
            "text/html": [
              "\n",
              "    <div>\n",
              "      \n",
              "      <progress value='208' max='208' style='width:300px; height:20px; vertical-align: middle;'></progress>\n",
              "      [208/208 02:11, Epoch 4/4]\n",
              "    </div>\n",
              "    <table border=\"1\" class=\"dataframe\">\n",
              "  <thead>\n",
              " <tr style=\"text-align: left;\">\n",
              "      <th>Epoch</th>\n",
              "      <th>Training Loss</th>\n",
              "      <th>Validation Loss</th>\n",
              "      <th>Accuracy</th>\n",
              "      <th>F1-macro</th>\n",
              "      <th>Precision</th>\n",
              "      <th>Recall</th>\n",
              "    </tr>\n",
              "  </thead>\n",
              "  <tbody>\n",
              "    <tr>\n",
              "      <td>1</td>\n",
              "      <td>0.943500</td>\n",
              "      <td>0.770018</td>\n",
              "      <td>0.794595</td>\n",
              "      <td>0.177108</td>\n",
              "      <td>0.158919</td>\n",
              "      <td>0.200000</td>\n",
              "    </tr>\n",
              "    <tr>\n",
              "      <td>2</td>\n",
              "      <td>1.077500</td>\n",
              "      <td>0.769699</td>\n",
              "      <td>0.794595</td>\n",
              "      <td>0.177108</td>\n",
              "      <td>0.158919</td>\n",
              "      <td>0.200000</td>\n",
              "    </tr>\n",
              "    <tr>\n",
              "      <td>3</td>\n",
              "      <td>0.821200</td>\n",
              "      <td>0.744879</td>\n",
              "      <td>0.794595</td>\n",
              "      <td>0.177108</td>\n",
              "      <td>0.158919</td>\n",
              "      <td>0.200000</td>\n",
              "    </tr>\n",
              "    <tr>\n",
              "      <td>4</td>\n",
              "      <td>0.891300</td>\n",
              "      <td>0.738400</td>\n",
              "      <td>0.794595</td>\n",
              "      <td>0.177108</td>\n",
              "      <td>0.158919</td>\n",
              "      <td>0.200000</td>\n",
              "    </tr>\n",
              "  </tbody>\n",
              "</table><p>"
            ],
            "text/plain": [
              "<IPython.core.display.HTML object>"
            ]
          },
          "metadata": {},
          "output_type": "display_data"
        },
        {
          "data": {
            "text/html": [
              "\n",
              "    <div>\n",
              "      \n",
              "      <progress value='58' max='58' style='width:300px; height:20px; vertical-align: middle;'></progress>\n",
              "      [58/58 00:10]\n",
              "    </div>\n",
              "    "
            ],
            "text/plain": [
              "<IPython.core.display.HTML object>"
            ]
          },
          "metadata": {},
          "output_type": "display_data"
        },
        {
          "name": "stderr",
          "output_type": "stream",
          "text": [
            "/tmp/ipython-input-337047085.py:37: FutureWarning: `tokenizer` is deprecated and will be removed in version 5.0.0 for `Trainer.__init__`. Use `processing_class` instead.\n",
            "  trainer = Trainer(\n"
          ]
        },
        {
          "data": {
            "text/html": [
              "\n",
              "    <div>\n",
              "      \n",
              "      <progress value='332' max='332' style='width:300px; height:20px; vertical-align: middle;'></progress>\n",
              "      [332/332 03:27, Epoch 4/4]\n",
              "    </div>\n",
              "    <table border=\"1\" class=\"dataframe\">\n",
              "  <thead>\n",
              " <tr style=\"text-align: left;\">\n",
              "      <th>Epoch</th>\n",
              "      <th>Training Loss</th>\n",
              "      <th>Validation Loss</th>\n",
              "      <th>Accuracy</th>\n",
              "      <th>F1-macro</th>\n",
              "      <th>Precision</th>\n",
              "      <th>Recall</th>\n",
              "    </tr>\n",
              "  </thead>\n",
              "  <tbody>\n",
              "    <tr>\n",
              "      <td>1</td>\n",
              "      <td>0.950200</td>\n",
              "      <td>0.965658</td>\n",
              "      <td>0.699659</td>\n",
              "      <td>0.164659</td>\n",
              "      <td>0.139932</td>\n",
              "      <td>0.200000</td>\n",
              "    </tr>\n",
              "    <tr>\n",
              "      <td>2</td>\n",
              "      <td>1.043000</td>\n",
              "      <td>0.951278</td>\n",
              "      <td>0.699659</td>\n",
              "      <td>0.164659</td>\n",
              "      <td>0.139932</td>\n",
              "      <td>0.200000</td>\n",
              "    </tr>\n",
              "    <tr>\n",
              "      <td>3</td>\n",
              "      <td>1.024900</td>\n",
              "      <td>0.945287</td>\n",
              "      <td>0.703072</td>\n",
              "      <td>0.174990</td>\n",
              "      <td>0.340411</td>\n",
              "      <td>0.205128</td>\n",
              "    </tr>\n",
              "    <tr>\n",
              "      <td>4</td>\n",
              "      <td>0.799000</td>\n",
              "      <td>0.942851</td>\n",
              "      <td>0.703072</td>\n",
              "      <td>0.174990</td>\n",
              "      <td>0.340411</td>\n",
              "      <td>0.205128</td>\n",
              "    </tr>\n",
              "  </tbody>\n",
              "</table><p>"
            ],
            "text/plain": [
              "<IPython.core.display.HTML object>"
            ]
          },
          "metadata": {},
          "output_type": "display_data"
        },
        {
          "data": {
            "text/html": [
              "\n",
              "    <div>\n",
              "      \n",
              "      <progress value='92' max='92' style='width:300px; height:20px; vertical-align: middle;'></progress>\n",
              "      [92/92 00:16]\n",
              "    </div>\n",
              "    "
            ],
            "text/plain": [
              "<IPython.core.display.HTML object>"
            ]
          },
          "metadata": {},
          "output_type": "display_data"
        },
        {
          "name": "stderr",
          "output_type": "stream",
          "text": [
            "/tmp/ipython-input-337047085.py:37: FutureWarning: `tokenizer` is deprecated and will be removed in version 5.0.0 for `Trainer.__init__`. Use `processing_class` instead.\n",
            "  trainer = Trainer(\n"
          ]
        },
        {
          "data": {
            "text/html": [
              "\n",
              "    <div>\n",
              "      \n",
              "      <progress value='676' max='676' style='width:300px; height:20px; vertical-align: middle;'></progress>\n",
              "      [676/676 07:06, Epoch 4/4]\n",
              "    </div>\n",
              "    <table border=\"1\" class=\"dataframe\">\n",
              "  <thead>\n",
              " <tr style=\"text-align: left;\">\n",
              "      <th>Epoch</th>\n",
              "      <th>Training Loss</th>\n",
              "      <th>Validation Loss</th>\n",
              "      <th>Accuracy</th>\n",
              "      <th>F1-macro</th>\n",
              "      <th>Precision</th>\n",
              "      <th>Recall</th>\n",
              "    </tr>\n",
              "  </thead>\n",
              "  <tbody>\n",
              "    <tr>\n",
              "      <td>1</td>\n",
              "      <td>0.896700</td>\n",
              "      <td>0.942087</td>\n",
              "      <td>0.661667</td>\n",
              "      <td>0.184397</td>\n",
              "      <td>0.196052</td>\n",
              "      <td>0.210873</td>\n",
              "    </tr>\n",
              "    <tr>\n",
              "      <td>2</td>\n",
              "      <td>0.878400</td>\n",
              "      <td>0.907201</td>\n",
              "      <td>0.661667</td>\n",
              "      <td>0.238635</td>\n",
              "      <td>0.289744</td>\n",
              "      <td>0.256222</td>\n",
              "    </tr>\n",
              "    <tr>\n",
              "      <td>3</td>\n",
              "      <td>0.771100</td>\n",
              "      <td>0.906829</td>\n",
              "      <td>0.670000</td>\n",
              "      <td>0.235972</td>\n",
              "      <td>0.259386</td>\n",
              "      <td>0.242703</td>\n",
              "    </tr>\n",
              "    <tr>\n",
              "      <td>4</td>\n",
              "      <td>0.832500</td>\n",
              "      <td>0.906441</td>\n",
              "      <td>0.656667</td>\n",
              "      <td>0.249471</td>\n",
              "      <td>0.256044</td>\n",
              "      <td>0.254123</td>\n",
              "    </tr>\n",
              "  </tbody>\n",
              "</table><p>"
            ],
            "text/plain": [
              "<IPython.core.display.HTML object>"
            ]
          },
          "metadata": {},
          "output_type": "display_data"
        },
        {
          "data": {
            "text/html": [
              "\n",
              "    <div>\n",
              "      \n",
              "      <progress value='188' max='188' style='width:300px; height:20px; vertical-align: middle;'></progress>\n",
              "      [188/188 00:32]\n",
              "    </div>\n",
              "    "
            ],
            "text/plain": [
              "<IPython.core.display.HTML object>"
            ]
          },
          "metadata": {},
          "output_type": "display_data"
        },
        {
          "name": "stderr",
          "output_type": "stream",
          "text": [
            "/tmp/ipython-input-337047085.py:37: FutureWarning: `tokenizer` is deprecated and will be removed in version 5.0.0 for `Trainer.__init__`. Use `processing_class` instead.\n",
            "  trainer = Trainer(\n"
          ]
        },
        {
          "data": {
            "text/html": [
              "\n",
              "    <div>\n",
              "      \n",
              "      <progress value='108' max='108' style='width:300px; height:20px; vertical-align: middle;'></progress>\n",
              "      [108/108 01:06, Epoch 4/4]\n",
              "    </div>\n",
              "    <table border=\"1\" class=\"dataframe\">\n",
              "  <thead>\n",
              " <tr style=\"text-align: left;\">\n",
              "      <th>Epoch</th>\n",
              "      <th>Training Loss</th>\n",
              "      <th>Validation Loss</th>\n",
              "      <th>Accuracy</th>\n",
              "      <th>F1-macro</th>\n",
              "      <th>Precision</th>\n",
              "      <th>Recall</th>\n",
              "    </tr>\n",
              "  </thead>\n",
              "  <tbody>\n",
              "    <tr>\n",
              "      <td>1</td>\n",
              "      <td>1.095300</td>\n",
              "      <td>0.834016</td>\n",
              "      <td>0.763441</td>\n",
              "      <td>0.216463</td>\n",
              "      <td>0.190860</td>\n",
              "      <td>0.250000</td>\n",
              "    </tr>\n",
              "    <tr>\n",
              "      <td>2</td>\n",
              "      <td>0.864600</td>\n",
              "      <td>0.792544</td>\n",
              "      <td>0.763441</td>\n",
              "      <td>0.216463</td>\n",
              "      <td>0.190860</td>\n",
              "      <td>0.250000</td>\n",
              "    </tr>\n",
              "    <tr>\n",
              "      <td>3</td>\n",
              "      <td>0.857400</td>\n",
              "      <td>0.784779</td>\n",
              "      <td>0.763441</td>\n",
              "      <td>0.216463</td>\n",
              "      <td>0.190860</td>\n",
              "      <td>0.250000</td>\n",
              "    </tr>\n",
              "    <tr>\n",
              "      <td>4</td>\n",
              "      <td>0.783800</td>\n",
              "      <td>0.783447</td>\n",
              "      <td>0.763441</td>\n",
              "      <td>0.216463</td>\n",
              "      <td>0.190860</td>\n",
              "      <td>0.250000</td>\n",
              "    </tr>\n",
              "  </tbody>\n",
              "</table><p>"
            ],
            "text/plain": [
              "<IPython.core.display.HTML object>"
            ]
          },
          "metadata": {},
          "output_type": "display_data"
        },
        {
          "data": {
            "text/html": [
              "\n",
              "    <div>\n",
              "      \n",
              "      <progress value='29' max='29' style='width:300px; height:20px; vertical-align: middle;'></progress>\n",
              "      [29/29 00:05]\n",
              "    </div>\n",
              "    "
            ],
            "text/plain": [
              "<IPython.core.display.HTML object>"
            ]
          },
          "metadata": {},
          "output_type": "display_data"
        },
        {
          "name": "stderr",
          "output_type": "stream",
          "text": [
            "/tmp/ipython-input-337047085.py:37: FutureWarning: `tokenizer` is deprecated and will be removed in version 5.0.0 for `Trainer.__init__`. Use `processing_class` instead.\n",
            "  trainer = Trainer(\n"
          ]
        },
        {
          "data": {
            "text/html": [
              "\n",
              "    <div>\n",
              "      \n",
              "      <progress value='676' max='676' style='width:300px; height:20px; vertical-align: middle;'></progress>\n",
              "      [676/676 07:06, Epoch 4/4]\n",
              "    </div>\n",
              "    <table border=\"1\" class=\"dataframe\">\n",
              "  <thead>\n",
              " <tr style=\"text-align: left;\">\n",
              "      <th>Epoch</th>\n",
              "      <th>Training Loss</th>\n",
              "      <th>Validation Loss</th>\n",
              "      <th>Accuracy</th>\n",
              "      <th>F1-macro</th>\n",
              "      <th>Precision</th>\n",
              "      <th>Recall</th>\n",
              "    </tr>\n",
              "  </thead>\n",
              "  <tbody>\n",
              "    <tr>\n",
              "      <td>1</td>\n",
              "      <td>0.966100</td>\n",
              "      <td>1.026780</td>\n",
              "      <td>0.640000</td>\n",
              "      <td>0.164078</td>\n",
              "      <td>0.228188</td>\n",
              "      <td>0.203644</td>\n",
              "    </tr>\n",
              "    <tr>\n",
              "      <td>2</td>\n",
              "      <td>0.952300</td>\n",
              "      <td>0.989502</td>\n",
              "      <td>0.623333</td>\n",
              "      <td>0.229909</td>\n",
              "      <td>0.205271</td>\n",
              "      <td>0.263990</td>\n",
              "    </tr>\n",
              "    <tr>\n",
              "      <td>3</td>\n",
              "      <td>0.823200</td>\n",
              "      <td>0.974338</td>\n",
              "      <td>0.648333</td>\n",
              "      <td>0.228615</td>\n",
              "      <td>0.208400</td>\n",
              "      <td>0.254651</td>\n",
              "    </tr>\n",
              "    <tr>\n",
              "      <td>4</td>\n",
              "      <td>0.885000</td>\n",
              "      <td>0.977171</td>\n",
              "      <td>0.621667</td>\n",
              "      <td>0.228887</td>\n",
              "      <td>0.204365</td>\n",
              "      <td>0.261907</td>\n",
              "    </tr>\n",
              "  </tbody>\n",
              "</table><p>"
            ],
            "text/plain": [
              "<IPython.core.display.HTML object>"
            ]
          },
          "metadata": {},
          "output_type": "display_data"
        },
        {
          "data": {
            "text/html": [
              "\n",
              "    <div>\n",
              "      \n",
              "      <progress value='188' max='188' style='width:300px; height:20px; vertical-align: middle;'></progress>\n",
              "      [188/188 00:32]\n",
              "    </div>\n",
              "    "
            ],
            "text/plain": [
              "<IPython.core.display.HTML object>"
            ]
          },
          "metadata": {},
          "output_type": "display_data"
        },
        {
          "name": "stderr",
          "output_type": "stream",
          "text": [
            "[I 2025-09-21 17:09:30,258] Trial 1 finished with value: 0.18987006647365867 and parameters: {'learning_rate': 1.5720136325710508e-05, 'batch_size': 32, 'num_train_epochs': 4}. Best is trial 1 with value: 0.18987006647365867.\n",
            "/tmp/ipython-input-337047085.py:37: FutureWarning: `tokenizer` is deprecated and will be removed in version 5.0.0 for `Trainer.__init__`. Use `processing_class` instead.\n",
            "  trainer = Trainer(\n"
          ]
        },
        {
          "data": {
            "text/html": [
              "\n",
              "    <div>\n",
              "      \n",
              "      <progress value='112' max='112' style='width:300px; height:20px; vertical-align: middle;'></progress>\n",
              "      [112/112 01:08, Epoch 4/4]\n",
              "    </div>\n",
              "    <table border=\"1\" class=\"dataframe\">\n",
              "  <thead>\n",
              " <tr style=\"text-align: left;\">\n",
              "      <th>Epoch</th>\n",
              "      <th>Training Loss</th>\n",
              "      <th>Validation Loss</th>\n",
              "      <th>Accuracy</th>\n",
              "      <th>F1-macro</th>\n",
              "      <th>Precision</th>\n",
              "      <th>Recall</th>\n",
              "    </tr>\n",
              "  </thead>\n",
              "  <tbody>\n",
              "    <tr>\n",
              "      <td>1</td>\n",
              "      <td>1.139800</td>\n",
              "      <td>0.991515</td>\n",
              "      <td>0.701031</td>\n",
              "      <td>0.164848</td>\n",
              "      <td>0.140206</td>\n",
              "      <td>0.200000</td>\n",
              "    </tr>\n",
              "    <tr>\n",
              "      <td>2</td>\n",
              "      <td>1.080800</td>\n",
              "      <td>0.965059</td>\n",
              "      <td>0.701031</td>\n",
              "      <td>0.164848</td>\n",
              "      <td>0.140206</td>\n",
              "      <td>0.200000</td>\n",
              "    </tr>\n",
              "    <tr>\n",
              "      <td>3</td>\n",
              "      <td>0.932600</td>\n",
              "      <td>0.909158</td>\n",
              "      <td>0.701031</td>\n",
              "      <td>0.165854</td>\n",
              "      <td>0.141667</td>\n",
              "      <td>0.200000</td>\n",
              "    </tr>\n",
              "    <tr>\n",
              "      <td>4</td>\n",
              "      <td>0.861400</td>\n",
              "      <td>0.917702</td>\n",
              "      <td>0.680412</td>\n",
              "      <td>0.234899</td>\n",
              "      <td>0.208362</td>\n",
              "      <td>0.271242</td>\n",
              "    </tr>\n",
              "  </tbody>\n",
              "</table><p>"
            ],
            "text/plain": [
              "<IPython.core.display.HTML object>"
            ]
          },
          "metadata": {},
          "output_type": "display_data"
        },
        {
          "data": {
            "text/html": [
              "\n",
              "    <div>\n",
              "      \n",
              "      <progress value='31' max='31' style='width:300px; height:20px; vertical-align: middle;'></progress>\n",
              "      [31/31 00:05]\n",
              "    </div>\n",
              "    "
            ],
            "text/plain": [
              "<IPython.core.display.HTML object>"
            ]
          },
          "metadata": {},
          "output_type": "display_data"
        },
        {
          "name": "stderr",
          "output_type": "stream",
          "text": [
            "/tmp/ipython-input-337047085.py:37: FutureWarning: `tokenizer` is deprecated and will be removed in version 5.0.0 for `Trainer.__init__`. Use `processing_class` instead.\n",
            "  trainer = Trainer(\n"
          ]
        },
        {
          "data": {
            "text/html": [
              "\n",
              "    <div>\n",
              "      \n",
              "      <progress value='676' max='676' style='width:300px; height:20px; vertical-align: middle;'></progress>\n",
              "      [676/676 07:06, Epoch 4/4]\n",
              "    </div>\n",
              "    <table border=\"1\" class=\"dataframe\">\n",
              "  <thead>\n",
              " <tr style=\"text-align: left;\">\n",
              "      <th>Epoch</th>\n",
              "      <th>Training Loss</th>\n",
              "      <th>Validation Loss</th>\n",
              "      <th>Accuracy</th>\n",
              "      <th>F1-macro</th>\n",
              "      <th>Precision</th>\n",
              "      <th>Recall</th>\n",
              "    </tr>\n",
              "  </thead>\n",
              "  <tbody>\n",
              "    <tr>\n",
              "      <td>1</td>\n",
              "      <td>0.734500</td>\n",
              "      <td>0.731837</td>\n",
              "      <td>0.755000</td>\n",
              "      <td>0.172080</td>\n",
              "      <td>0.151000</td>\n",
              "      <td>0.200000</td>\n",
              "    </tr>\n",
              "    <tr>\n",
              "      <td>2</td>\n",
              "      <td>0.677400</td>\n",
              "      <td>0.731919</td>\n",
              "      <td>0.736667</td>\n",
              "      <td>0.236723</td>\n",
              "      <td>0.224655</td>\n",
              "      <td>0.250331</td>\n",
              "    </tr>\n",
              "    <tr>\n",
              "      <td>3</td>\n",
              "      <td>0.467700</td>\n",
              "      <td>0.819245</td>\n",
              "      <td>0.726667</td>\n",
              "      <td>0.253941</td>\n",
              "      <td>0.265750</td>\n",
              "      <td>0.264178</td>\n",
              "    </tr>\n",
              "    <tr>\n",
              "      <td>4</td>\n",
              "      <td>0.423600</td>\n",
              "      <td>0.909654</td>\n",
              "      <td>0.728333</td>\n",
              "      <td>0.261864</td>\n",
              "      <td>0.267996</td>\n",
              "      <td>0.268623</td>\n",
              "    </tr>\n",
              "  </tbody>\n",
              "</table><p>"
            ],
            "text/plain": [
              "<IPython.core.display.HTML object>"
            ]
          },
          "metadata": {},
          "output_type": "display_data"
        },
        {
          "data": {
            "text/html": [
              "\n",
              "    <div>\n",
              "      \n",
              "      <progress value='188' max='188' style='width:300px; height:20px; vertical-align: middle;'></progress>\n",
              "      [188/188 00:32]\n",
              "    </div>\n",
              "    "
            ],
            "text/plain": [
              "<IPython.core.display.HTML object>"
            ]
          },
          "metadata": {},
          "output_type": "display_data"
        },
        {
          "name": "stderr",
          "output_type": "stream",
          "text": [
            "/tmp/ipython-input-337047085.py:37: FutureWarning: `tokenizer` is deprecated and will be removed in version 5.0.0 for `Trainer.__init__`. Use `processing_class` instead.\n",
            "  trainer = Trainer(\n"
          ]
        },
        {
          "data": {
            "text/html": [
              "\n",
              "    <div>\n",
              "      \n",
              "      <progress value='140' max='140' style='width:300px; height:20px; vertical-align: middle;'></progress>\n",
              "      [140/140 01:26, Epoch 4/4]\n",
              "    </div>\n",
              "    <table border=\"1\" class=\"dataframe\">\n",
              "  <thead>\n",
              " <tr style=\"text-align: left;\">\n",
              "      <th>Epoch</th>\n",
              "      <th>Training Loss</th>\n",
              "      <th>Validation Loss</th>\n",
              "      <th>Accuracy</th>\n",
              "      <th>F1-macro</th>\n",
              "      <th>Precision</th>\n",
              "      <th>Recall</th>\n",
              "    </tr>\n",
              "  </thead>\n",
              "  <tbody>\n",
              "    <tr>\n",
              "      <td>1</td>\n",
              "      <td>1.235700</td>\n",
              "      <td>1.309856</td>\n",
              "      <td>0.528000</td>\n",
              "      <td>0.138220</td>\n",
              "      <td>0.105600</td>\n",
              "      <td>0.200000</td>\n",
              "    </tr>\n",
              "    <tr>\n",
              "      <td>2</td>\n",
              "      <td>1.073000</td>\n",
              "      <td>1.154939</td>\n",
              "      <td>0.528000</td>\n",
              "      <td>0.204850</td>\n",
              "      <td>0.174782</td>\n",
              "      <td>0.248485</td>\n",
              "    </tr>\n",
              "    <tr>\n",
              "      <td>3</td>\n",
              "      <td>0.944900</td>\n",
              "      <td>1.114813</td>\n",
              "      <td>0.528000</td>\n",
              "      <td>0.217352</td>\n",
              "      <td>0.187500</td>\n",
              "      <td>0.266667</td>\n",
              "    </tr>\n",
              "    <tr>\n",
              "      <td>4</td>\n",
              "      <td>0.838700</td>\n",
              "      <td>1.115376</td>\n",
              "      <td>0.544000</td>\n",
              "      <td>0.222804</td>\n",
              "      <td>0.191405</td>\n",
              "      <td>0.272727</td>\n",
              "    </tr>\n",
              "  </tbody>\n",
              "</table><p>"
            ],
            "text/plain": [
              "<IPython.core.display.HTML object>"
            ]
          },
          "metadata": {},
          "output_type": "display_data"
        },
        {
          "data": {
            "text/html": [
              "\n",
              "    <div>\n",
              "      \n",
              "      <progress value='39' max='39' style='width:300px; height:20px; vertical-align: middle;'></progress>\n",
              "      [39/39 00:06]\n",
              "    </div>\n",
              "    "
            ],
            "text/plain": [
              "<IPython.core.display.HTML object>"
            ]
          },
          "metadata": {},
          "output_type": "display_data"
        },
        {
          "name": "stderr",
          "output_type": "stream",
          "text": [
            "/tmp/ipython-input-337047085.py:37: FutureWarning: `tokenizer` is deprecated and will be removed in version 5.0.0 for `Trainer.__init__`. Use `processing_class` instead.\n",
            "  trainer = Trainer(\n"
          ]
        },
        {
          "data": {
            "text/html": [
              "\n",
              "    <div>\n",
              "      \n",
              "      <progress value='160' max='160' style='width:300px; height:20px; vertical-align: middle;'></progress>\n",
              "      [160/160 01:39, Epoch 4/4]\n",
              "    </div>\n",
              "    <table border=\"1\" class=\"dataframe\">\n",
              "  <thead>\n",
              " <tr style=\"text-align: left;\">\n",
              "      <th>Epoch</th>\n",
              "      <th>Training Loss</th>\n",
              "      <th>Validation Loss</th>\n",
              "      <th>Accuracy</th>\n",
              "      <th>F1-macro</th>\n",
              "      <th>Precision</th>\n",
              "      <th>Recall</th>\n",
              "    </tr>\n",
              "  </thead>\n",
              "  <tbody>\n",
              "    <tr>\n",
              "      <td>1</td>\n",
              "      <td>0.962500</td>\n",
              "      <td>1.172004</td>\n",
              "      <td>0.628571</td>\n",
              "      <td>0.154386</td>\n",
              "      <td>0.125714</td>\n",
              "      <td>0.200000</td>\n",
              "    </tr>\n",
              "    <tr>\n",
              "      <td>2</td>\n",
              "      <td>0.934700</td>\n",
              "      <td>1.078064</td>\n",
              "      <td>0.628571</td>\n",
              "      <td>0.154386</td>\n",
              "      <td>0.125714</td>\n",
              "      <td>0.200000</td>\n",
              "    </tr>\n",
              "    <tr>\n",
              "      <td>3</td>\n",
              "      <td>0.799900</td>\n",
              "      <td>1.029518</td>\n",
              "      <td>0.621429</td>\n",
              "      <td>0.170927</td>\n",
              "      <td>0.167407</td>\n",
              "      <td>0.205981</td>\n",
              "    </tr>\n",
              "    <tr>\n",
              "      <td>4</td>\n",
              "      <td>0.744700</td>\n",
              "      <td>1.051401</td>\n",
              "      <td>0.614286</td>\n",
              "      <td>0.181279</td>\n",
              "      <td>0.163053</td>\n",
              "      <td>0.211962</td>\n",
              "    </tr>\n",
              "  </tbody>\n",
              "</table><p>"
            ],
            "text/plain": [
              "<IPython.core.display.HTML object>"
            ]
          },
          "metadata": {},
          "output_type": "display_data"
        },
        {
          "data": {
            "text/html": [
              "\n",
              "    <div>\n",
              "      \n",
              "      <progress value='44' max='44' style='width:300px; height:20px; vertical-align: middle;'></progress>\n",
              "      [44/44 00:07]\n",
              "    </div>\n",
              "    "
            ],
            "text/plain": [
              "<IPython.core.display.HTML object>"
            ]
          },
          "metadata": {},
          "output_type": "display_data"
        },
        {
          "name": "stderr",
          "output_type": "stream",
          "text": [
            "/tmp/ipython-input-337047085.py:37: FutureWarning: `tokenizer` is deprecated and will be removed in version 5.0.0 for `Trainer.__init__`. Use `processing_class` instead.\n",
            "  trainer = Trainer(\n"
          ]
        },
        {
          "data": {
            "text/html": [
              "\n",
              "    <div>\n",
              "      \n",
              "      <progress value='176' max='176' style='width:300px; height:20px; vertical-align: middle;'></progress>\n",
              "      [176/176 01:51, Epoch 4/4]\n",
              "    </div>\n",
              "    <table border=\"1\" class=\"dataframe\">\n",
              "  <thead>\n",
              " <tr style=\"text-align: left;\">\n",
              "      <th>Epoch</th>\n",
              "      <th>Training Loss</th>\n",
              "      <th>Validation Loss</th>\n",
              "      <th>Accuracy</th>\n",
              "      <th>F1-macro</th>\n",
              "      <th>Precision</th>\n",
              "      <th>Recall</th>\n",
              "    </tr>\n",
              "  </thead>\n",
              "  <tbody>\n",
              "    <tr>\n",
              "      <td>1</td>\n",
              "      <td>1.084900</td>\n",
              "      <td>1.087905</td>\n",
              "      <td>0.602564</td>\n",
              "      <td>0.150400</td>\n",
              "      <td>0.120513</td>\n",
              "      <td>0.200000</td>\n",
              "    </tr>\n",
              "    <tr>\n",
              "      <td>2</td>\n",
              "      <td>1.030100</td>\n",
              "      <td>1.029559</td>\n",
              "      <td>0.602564</td>\n",
              "      <td>0.150400</td>\n",
              "      <td>0.120513</td>\n",
              "      <td>0.200000</td>\n",
              "    </tr>\n",
              "    <tr>\n",
              "      <td>3</td>\n",
              "      <td>0.841400</td>\n",
              "      <td>0.992875</td>\n",
              "      <td>0.621795</td>\n",
              "      <td>0.225228</td>\n",
              "      <td>0.214815</td>\n",
              "      <td>0.245836</td>\n",
              "    </tr>\n",
              "    <tr>\n",
              "      <td>4</td>\n",
              "      <td>0.778200</td>\n",
              "      <td>0.996900</td>\n",
              "      <td>0.615385</td>\n",
              "      <td>0.222596</td>\n",
              "      <td>0.209720</td>\n",
              "      <td>0.243708</td>\n",
              "    </tr>\n",
              "  </tbody>\n",
              "</table><p>"
            ],
            "text/plain": [
              "<IPython.core.display.HTML object>"
            ]
          },
          "metadata": {},
          "output_type": "display_data"
        },
        {
          "data": {
            "text/html": [
              "\n",
              "    <div>\n",
              "      \n",
              "      <progress value='49' max='49' style='width:300px; height:20px; vertical-align: middle;'></progress>\n",
              "      [49/49 00:08]\n",
              "    </div>\n",
              "    "
            ],
            "text/plain": [
              "<IPython.core.display.HTML object>"
            ]
          },
          "metadata": {},
          "output_type": "display_data"
        },
        {
          "name": "stderr",
          "output_type": "stream",
          "text": [
            "/tmp/ipython-input-337047085.py:37: FutureWarning: `tokenizer` is deprecated and will be removed in version 5.0.0 for `Trainer.__init__`. Use `processing_class` instead.\n",
            "  trainer = Trainer(\n"
          ]
        },
        {
          "data": {
            "text/html": [
              "\n",
              "    <div>\n",
              "      \n",
              "      <progress value='144' max='144' style='width:300px; height:20px; vertical-align: middle;'></progress>\n",
              "      [144/144 01:28, Epoch 4/4]\n",
              "    </div>\n",
              "    <table border=\"1\" class=\"dataframe\">\n",
              "  <thead>\n",
              " <tr style=\"text-align: left;\">\n",
              "      <th>Epoch</th>\n",
              "      <th>Training Loss</th>\n",
              "      <th>Validation Loss</th>\n",
              "      <th>Accuracy</th>\n",
              "      <th>F1-macro</th>\n",
              "      <th>Precision</th>\n",
              "      <th>Recall</th>\n",
              "    </tr>\n",
              "  </thead>\n",
              "  <tbody>\n",
              "    <tr>\n",
              "      <td>1</td>\n",
              "      <td>1.138000</td>\n",
              "      <td>1.142168</td>\n",
              "      <td>0.608000</td>\n",
              "      <td>0.151244</td>\n",
              "      <td>0.121600</td>\n",
              "      <td>0.200000</td>\n",
              "    </tr>\n",
              "    <tr>\n",
              "      <td>2</td>\n",
              "      <td>1.054600</td>\n",
              "      <td>1.105894</td>\n",
              "      <td>0.608000</td>\n",
              "      <td>0.151244</td>\n",
              "      <td>0.121600</td>\n",
              "      <td>0.200000</td>\n",
              "    </tr>\n",
              "    <tr>\n",
              "      <td>3</td>\n",
              "      <td>0.917400</td>\n",
              "      <td>1.096366</td>\n",
              "      <td>0.616000</td>\n",
              "      <td>0.207738</td>\n",
              "      <td>0.377586</td>\n",
              "      <td>0.228070</td>\n",
              "    </tr>\n",
              "    <tr>\n",
              "      <td>4</td>\n",
              "      <td>0.889500</td>\n",
              "      <td>1.120780</td>\n",
              "      <td>0.624000</td>\n",
              "      <td>0.205348</td>\n",
              "      <td>0.190476</td>\n",
              "      <td>0.234737</td>\n",
              "    </tr>\n",
              "  </tbody>\n",
              "</table><p>"
            ],
            "text/plain": [
              "<IPython.core.display.HTML object>"
            ]
          },
          "metadata": {},
          "output_type": "display_data"
        },
        {
          "data": {
            "text/html": [
              "\n",
              "    <div>\n",
              "      \n",
              "      <progress value='39' max='39' style='width:300px; height:20px; vertical-align: middle;'></progress>\n",
              "      [39/39 00:07]\n",
              "    </div>\n",
              "    "
            ],
            "text/plain": [
              "<IPython.core.display.HTML object>"
            ]
          },
          "metadata": {},
          "output_type": "display_data"
        },
        {
          "name": "stderr",
          "output_type": "stream",
          "text": [
            "/tmp/ipython-input-337047085.py:37: FutureWarning: `tokenizer` is deprecated and will be removed in version 5.0.0 for `Trainer.__init__`. Use `processing_class` instead.\n",
            "  trainer = Trainer(\n"
          ]
        },
        {
          "data": {
            "text/html": [
              "\n",
              "    <div>\n",
              "      \n",
              "      <progress value='208' max='208' style='width:300px; height:20px; vertical-align: middle;'></progress>\n",
              "      [208/208 02:11, Epoch 4/4]\n",
              "    </div>\n",
              "    <table border=\"1\" class=\"dataframe\">\n",
              "  <thead>\n",
              " <tr style=\"text-align: left;\">\n",
              "      <th>Epoch</th>\n",
              "      <th>Training Loss</th>\n",
              "      <th>Validation Loss</th>\n",
              "      <th>Accuracy</th>\n",
              "      <th>F1-macro</th>\n",
              "      <th>Precision</th>\n",
              "      <th>Recall</th>\n",
              "    </tr>\n",
              "  </thead>\n",
              "  <tbody>\n",
              "    <tr>\n",
              "      <td>1</td>\n",
              "      <td>0.933000</td>\n",
              "      <td>0.756725</td>\n",
              "      <td>0.794595</td>\n",
              "      <td>0.177108</td>\n",
              "      <td>0.158919</td>\n",
              "      <td>0.200000</td>\n",
              "    </tr>\n",
              "    <tr>\n",
              "      <td>2</td>\n",
              "      <td>0.950700</td>\n",
              "      <td>0.688511</td>\n",
              "      <td>0.794595</td>\n",
              "      <td>0.177108</td>\n",
              "      <td>0.158919</td>\n",
              "      <td>0.200000</td>\n",
              "    </tr>\n",
              "    <tr>\n",
              "      <td>3</td>\n",
              "      <td>0.618100</td>\n",
              "      <td>0.679399</td>\n",
              "      <td>0.805405</td>\n",
              "      <td>0.265278</td>\n",
              "      <td>0.356190</td>\n",
              "      <td>0.259501</td>\n",
              "    </tr>\n",
              "    <tr>\n",
              "      <td>4</td>\n",
              "      <td>0.566100</td>\n",
              "      <td>0.714847</td>\n",
              "      <td>0.767568</td>\n",
              "      <td>0.256001</td>\n",
              "      <td>0.265534</td>\n",
              "      <td>0.259728</td>\n",
              "    </tr>\n",
              "  </tbody>\n",
              "</table><p>"
            ],
            "text/plain": [
              "<IPython.core.display.HTML object>"
            ]
          },
          "metadata": {},
          "output_type": "display_data"
        },
        {
          "data": {
            "text/html": [
              "\n",
              "    <div>\n",
              "      \n",
              "      <progress value='58' max='58' style='width:300px; height:20px; vertical-align: middle;'></progress>\n",
              "      [58/58 00:10]\n",
              "    </div>\n",
              "    "
            ],
            "text/plain": [
              "<IPython.core.display.HTML object>"
            ]
          },
          "metadata": {},
          "output_type": "display_data"
        },
        {
          "name": "stderr",
          "output_type": "stream",
          "text": [
            "/tmp/ipython-input-337047085.py:37: FutureWarning: `tokenizer` is deprecated and will be removed in version 5.0.0 for `Trainer.__init__`. Use `processing_class` instead.\n",
            "  trainer = Trainer(\n"
          ]
        },
        {
          "data": {
            "text/html": [
              "\n",
              "    <div>\n",
              "      \n",
              "      <progress value='332' max='332' style='width:300px; height:20px; vertical-align: middle;'></progress>\n",
              "      [332/332 03:27, Epoch 4/4]\n",
              "    </div>\n",
              "    <table border=\"1\" class=\"dataframe\">\n",
              "  <thead>\n",
              " <tr style=\"text-align: left;\">\n",
              "      <th>Epoch</th>\n",
              "      <th>Training Loss</th>\n",
              "      <th>Validation Loss</th>\n",
              "      <th>Accuracy</th>\n",
              "      <th>F1-macro</th>\n",
              "      <th>Precision</th>\n",
              "      <th>Recall</th>\n",
              "    </tr>\n",
              "  </thead>\n",
              "  <tbody>\n",
              "    <tr>\n",
              "      <td>1</td>\n",
              "      <td>0.937100</td>\n",
              "      <td>0.959242</td>\n",
              "      <td>0.699659</td>\n",
              "      <td>0.164659</td>\n",
              "      <td>0.139932</td>\n",
              "      <td>0.200000</td>\n",
              "    </tr>\n",
              "    <tr>\n",
              "      <td>2</td>\n",
              "      <td>0.974800</td>\n",
              "      <td>0.938302</td>\n",
              "      <td>0.699659</td>\n",
              "      <td>0.174372</td>\n",
              "      <td>0.207356</td>\n",
              "      <td>0.204153</td>\n",
              "    </tr>\n",
              "    <tr>\n",
              "      <td>3</td>\n",
              "      <td>0.834300</td>\n",
              "      <td>0.963732</td>\n",
              "      <td>0.665529</td>\n",
              "      <td>0.211906</td>\n",
              "      <td>0.222599</td>\n",
              "      <td>0.220465</td>\n",
              "    </tr>\n",
              "    <tr>\n",
              "      <td>4</td>\n",
              "      <td>0.514200</td>\n",
              "      <td>1.029414</td>\n",
              "      <td>0.634812</td>\n",
              "      <td>0.221071</td>\n",
              "      <td>0.241385</td>\n",
              "      <td>0.230679</td>\n",
              "    </tr>\n",
              "  </tbody>\n",
              "</table><p>"
            ],
            "text/plain": [
              "<IPython.core.display.HTML object>"
            ]
          },
          "metadata": {},
          "output_type": "display_data"
        },
        {
          "data": {
            "text/html": [
              "\n",
              "    <div>\n",
              "      \n",
              "      <progress value='92' max='92' style='width:300px; height:20px; vertical-align: middle;'></progress>\n",
              "      [92/92 00:16]\n",
              "    </div>\n",
              "    "
            ],
            "text/plain": [
              "<IPython.core.display.HTML object>"
            ]
          },
          "metadata": {},
          "output_type": "display_data"
        },
        {
          "name": "stderr",
          "output_type": "stream",
          "text": [
            "/tmp/ipython-input-337047085.py:37: FutureWarning: `tokenizer` is deprecated and will be removed in version 5.0.0 for `Trainer.__init__`. Use `processing_class` instead.\n",
            "  trainer = Trainer(\n"
          ]
        },
        {
          "data": {
            "text/html": [
              "\n",
              "    <div>\n",
              "      \n",
              "      <progress value='676' max='676' style='width:300px; height:20px; vertical-align: middle;'></progress>\n",
              "      [676/676 07:06, Epoch 4/4]\n",
              "    </div>\n",
              "    <table border=\"1\" class=\"dataframe\">\n",
              "  <thead>\n",
              " <tr style=\"text-align: left;\">\n",
              "      <th>Epoch</th>\n",
              "      <th>Training Loss</th>\n",
              "      <th>Validation Loss</th>\n",
              "      <th>Accuracy</th>\n",
              "      <th>F1-macro</th>\n",
              "      <th>Precision</th>\n",
              "      <th>Recall</th>\n",
              "    </tr>\n",
              "  </thead>\n",
              "  <tbody>\n",
              "    <tr>\n",
              "      <td>1</td>\n",
              "      <td>0.847700</td>\n",
              "      <td>0.911553</td>\n",
              "      <td>0.656667</td>\n",
              "      <td>0.227754</td>\n",
              "      <td>0.245159</td>\n",
              "      <td>0.240068</td>\n",
              "    </tr>\n",
              "    <tr>\n",
              "      <td>2</td>\n",
              "      <td>0.794100</td>\n",
              "      <td>0.942953</td>\n",
              "      <td>0.660000</td>\n",
              "      <td>0.262729</td>\n",
              "      <td>0.273346</td>\n",
              "      <td>0.266382</td>\n",
              "    </tr>\n",
              "    <tr>\n",
              "      <td>3</td>\n",
              "      <td>0.571200</td>\n",
              "      <td>1.021124</td>\n",
              "      <td>0.651667</td>\n",
              "      <td>0.258286</td>\n",
              "      <td>0.262288</td>\n",
              "      <td>0.262501</td>\n",
              "    </tr>\n",
              "    <tr>\n",
              "      <td>4</td>\n",
              "      <td>0.581000</td>\n",
              "      <td>1.081375</td>\n",
              "      <td>0.656667</td>\n",
              "      <td>0.290699</td>\n",
              "      <td>0.284728</td>\n",
              "      <td>0.297638</td>\n",
              "    </tr>\n",
              "  </tbody>\n",
              "</table><p>"
            ],
            "text/plain": [
              "<IPython.core.display.HTML object>"
            ]
          },
          "metadata": {},
          "output_type": "display_data"
        },
        {
          "data": {
            "text/html": [
              "\n",
              "    <div>\n",
              "      \n",
              "      <progress value='188' max='188' style='width:300px; height:20px; vertical-align: middle;'></progress>\n",
              "      [188/188 00:32]\n",
              "    </div>\n",
              "    "
            ],
            "text/plain": [
              "<IPython.core.display.HTML object>"
            ]
          },
          "metadata": {},
          "output_type": "display_data"
        },
        {
          "name": "stderr",
          "output_type": "stream",
          "text": [
            "/tmp/ipython-input-337047085.py:37: FutureWarning: `tokenizer` is deprecated and will be removed in version 5.0.0 for `Trainer.__init__`. Use `processing_class` instead.\n",
            "  trainer = Trainer(\n"
          ]
        },
        {
          "data": {
            "text/html": [
              "\n",
              "    <div>\n",
              "      \n",
              "      <progress value='108' max='108' style='width:300px; height:20px; vertical-align: middle;'></progress>\n",
              "      [108/108 01:06, Epoch 4/4]\n",
              "    </div>\n",
              "    <table border=\"1\" class=\"dataframe\">\n",
              "  <thead>\n",
              " <tr style=\"text-align: left;\">\n",
              "      <th>Epoch</th>\n",
              "      <th>Training Loss</th>\n",
              "      <th>Validation Loss</th>\n",
              "      <th>Accuracy</th>\n",
              "      <th>F1-macro</th>\n",
              "      <th>Precision</th>\n",
              "      <th>Recall</th>\n",
              "    </tr>\n",
              "  </thead>\n",
              "  <tbody>\n",
              "    <tr>\n",
              "      <td>1</td>\n",
              "      <td>0.911100</td>\n",
              "      <td>0.783934</td>\n",
              "      <td>0.763441</td>\n",
              "      <td>0.216463</td>\n",
              "      <td>0.190860</td>\n",
              "      <td>0.250000</td>\n",
              "    </tr>\n",
              "    <tr>\n",
              "      <td>2</td>\n",
              "      <td>0.828000</td>\n",
              "      <td>0.772448</td>\n",
              "      <td>0.763441</td>\n",
              "      <td>0.216463</td>\n",
              "      <td>0.190860</td>\n",
              "      <td>0.250000</td>\n",
              "    </tr>\n",
              "    <tr>\n",
              "      <td>3</td>\n",
              "      <td>0.824100</td>\n",
              "      <td>0.757146</td>\n",
              "      <td>0.763441</td>\n",
              "      <td>0.216463</td>\n",
              "      <td>0.190860</td>\n",
              "      <td>0.250000</td>\n",
              "    </tr>\n",
              "    <tr>\n",
              "      <td>4</td>\n",
              "      <td>0.691400</td>\n",
              "      <td>0.746047</td>\n",
              "      <td>0.763441</td>\n",
              "      <td>0.216463</td>\n",
              "      <td>0.190860</td>\n",
              "      <td>0.250000</td>\n",
              "    </tr>\n",
              "  </tbody>\n",
              "</table><p>"
            ],
            "text/plain": [
              "<IPython.core.display.HTML object>"
            ]
          },
          "metadata": {},
          "output_type": "display_data"
        },
        {
          "data": {
            "text/html": [
              "\n",
              "    <div>\n",
              "      \n",
              "      <progress value='29' max='29' style='width:300px; height:20px; vertical-align: middle;'></progress>\n",
              "      [29/29 00:05]\n",
              "    </div>\n",
              "    "
            ],
            "text/plain": [
              "<IPython.core.display.HTML object>"
            ]
          },
          "metadata": {},
          "output_type": "display_data"
        },
        {
          "name": "stderr",
          "output_type": "stream",
          "text": [
            "/tmp/ipython-input-337047085.py:37: FutureWarning: `tokenizer` is deprecated and will be removed in version 5.0.0 for `Trainer.__init__`. Use `processing_class` instead.\n",
            "  trainer = Trainer(\n"
          ]
        },
        {
          "data": {
            "text/html": [
              "\n",
              "    <div>\n",
              "      \n",
              "      <progress value='676' max='676' style='width:300px; height:20px; vertical-align: middle;'></progress>\n",
              "      [676/676 07:06, Epoch 4/4]\n",
              "    </div>\n",
              "    <table border=\"1\" class=\"dataframe\">\n",
              "  <thead>\n",
              " <tr style=\"text-align: left;\">\n",
              "      <th>Epoch</th>\n",
              "      <th>Training Loss</th>\n",
              "      <th>Validation Loss</th>\n",
              "      <th>Accuracy</th>\n",
              "      <th>F1-macro</th>\n",
              "      <th>Precision</th>\n",
              "      <th>Recall</th>\n",
              "    </tr>\n",
              "  </thead>\n",
              "  <tbody>\n",
              "    <tr>\n",
              "      <td>1</td>\n",
              "      <td>0.895400</td>\n",
              "      <td>0.983743</td>\n",
              "      <td>0.641667</td>\n",
              "      <td>0.231946</td>\n",
              "      <td>0.209180</td>\n",
              "      <td>0.260368</td>\n",
              "    </tr>\n",
              "    <tr>\n",
              "      <td>2</td>\n",
              "      <td>0.826900</td>\n",
              "      <td>0.986464</td>\n",
              "      <td>0.600000</td>\n",
              "      <td>0.234798</td>\n",
              "      <td>0.212902</td>\n",
              "      <td>0.284780</td>\n",
              "    </tr>\n",
              "    <tr>\n",
              "      <td>3</td>\n",
              "      <td>0.619400</td>\n",
              "      <td>1.032676</td>\n",
              "      <td>0.613333</td>\n",
              "      <td>0.250135</td>\n",
              "      <td>0.272040</td>\n",
              "      <td>0.274123</td>\n",
              "    </tr>\n",
              "    <tr>\n",
              "      <td>4</td>\n",
              "      <td>0.644100</td>\n",
              "      <td>1.109476</td>\n",
              "      <td>0.610000</td>\n",
              "      <td>0.260680</td>\n",
              "      <td>0.282627</td>\n",
              "      <td>0.283614</td>\n",
              "    </tr>\n",
              "  </tbody>\n",
              "</table><p>"
            ],
            "text/plain": [
              "<IPython.core.display.HTML object>"
            ]
          },
          "metadata": {},
          "output_type": "display_data"
        },
        {
          "data": {
            "text/html": [
              "\n",
              "    <div>\n",
              "      \n",
              "      <progress value='188' max='188' style='width:300px; height:20px; vertical-align: middle;'></progress>\n",
              "      [188/188 00:32]\n",
              "    </div>\n",
              "    "
            ],
            "text/plain": [
              "<IPython.core.display.HTML object>"
            ]
          },
          "metadata": {},
          "output_type": "display_data"
        },
        {
          "name": "stderr",
          "output_type": "stream",
          "text": [
            "[I 2025-09-21 17:48:11,416] Trial 2 finished with value: 0.3393988302804505 and parameters: {'learning_rate': 4.6996644145303186e-05, 'batch_size': 32, 'num_train_epochs': 4}. Best is trial 2 with value: 0.3393988302804505.\n",
            "/tmp/ipython-input-337047085.py:37: FutureWarning: `tokenizer` is deprecated and will be removed in version 5.0.0 for `Trainer.__init__`. Use `processing_class` instead.\n",
            "  trainer = Trainer(\n"
          ]
        },
        {
          "data": {
            "text/html": [
              "\n",
              "    <div>\n",
              "      \n",
              "      <progress value='84' max='84' style='width:300px; height:20px; vertical-align: middle;'></progress>\n",
              "      [84/84 00:52, Epoch 3/3]\n",
              "    </div>\n",
              "    <table border=\"1\" class=\"dataframe\">\n",
              "  <thead>\n",
              " <tr style=\"text-align: left;\">\n",
              "      <th>Epoch</th>\n",
              "      <th>Training Loss</th>\n",
              "      <th>Validation Loss</th>\n",
              "      <th>Accuracy</th>\n",
              "      <th>F1-macro</th>\n",
              "      <th>Precision</th>\n",
              "      <th>Recall</th>\n",
              "    </tr>\n",
              "  </thead>\n",
              "  <tbody>\n",
              "    <tr>\n",
              "      <td>1</td>\n",
              "      <td>1.153000</td>\n",
              "      <td>1.007538</td>\n",
              "      <td>0.701031</td>\n",
              "      <td>0.164848</td>\n",
              "      <td>0.140206</td>\n",
              "      <td>0.200000</td>\n",
              "    </tr>\n",
              "    <tr>\n",
              "      <td>2</td>\n",
              "      <td>1.100000</td>\n",
              "      <td>0.992534</td>\n",
              "      <td>0.701031</td>\n",
              "      <td>0.164848</td>\n",
              "      <td>0.140206</td>\n",
              "      <td>0.200000</td>\n",
              "    </tr>\n",
              "    <tr>\n",
              "      <td>3</td>\n",
              "      <td>1.027100</td>\n",
              "      <td>0.968256</td>\n",
              "      <td>0.701031</td>\n",
              "      <td>0.164848</td>\n",
              "      <td>0.140206</td>\n",
              "      <td>0.200000</td>\n",
              "    </tr>\n",
              "  </tbody>\n",
              "</table><p>"
            ],
            "text/plain": [
              "<IPython.core.display.HTML object>"
            ]
          },
          "metadata": {},
          "output_type": "display_data"
        },
        {
          "data": {
            "text/html": [
              "\n",
              "    <div>\n",
              "      \n",
              "      <progress value='31' max='31' style='width:300px; height:20px; vertical-align: middle;'></progress>\n",
              "      [31/31 00:05]\n",
              "    </div>\n",
              "    "
            ],
            "text/plain": [
              "<IPython.core.display.HTML object>"
            ]
          },
          "metadata": {},
          "output_type": "display_data"
        },
        {
          "name": "stderr",
          "output_type": "stream",
          "text": [
            "/tmp/ipython-input-337047085.py:37: FutureWarning: `tokenizer` is deprecated and will be removed in version 5.0.0 for `Trainer.__init__`. Use `processing_class` instead.\n",
            "  trainer = Trainer(\n"
          ]
        },
        {
          "data": {
            "text/html": [
              "\n",
              "    <div>\n",
              "      \n",
              "      <progress value='507' max='507' style='width:300px; height:20px; vertical-align: middle;'></progress>\n",
              "      [507/507 05:20, Epoch 3/3]\n",
              "    </div>\n",
              "    <table border=\"1\" class=\"dataframe\">\n",
              "  <thead>\n",
              " <tr style=\"text-align: left;\">\n",
              "      <th>Epoch</th>\n",
              "      <th>Training Loss</th>\n",
              "      <th>Validation Loss</th>\n",
              "      <th>Accuracy</th>\n",
              "      <th>F1-macro</th>\n",
              "      <th>Precision</th>\n",
              "      <th>Recall</th>\n",
              "    </tr>\n",
              "  </thead>\n",
              "  <tbody>\n",
              "    <tr>\n",
              "      <td>1</td>\n",
              "      <td>0.740000</td>\n",
              "      <td>0.732656</td>\n",
              "      <td>0.760000</td>\n",
              "      <td>0.191731</td>\n",
              "      <td>0.285522</td>\n",
              "      <td>0.209815</td>\n",
              "    </tr>\n",
              "    <tr>\n",
              "      <td>2</td>\n",
              "      <td>0.668100</td>\n",
              "      <td>0.727747</td>\n",
              "      <td>0.745000</td>\n",
              "      <td>0.231211</td>\n",
              "      <td>0.223868</td>\n",
              "      <td>0.241926</td>\n",
              "    </tr>\n",
              "    <tr>\n",
              "      <td>3</td>\n",
              "      <td>0.489600</td>\n",
              "      <td>0.768110</td>\n",
              "      <td>0.733333</td>\n",
              "      <td>0.235494</td>\n",
              "      <td>0.223116</td>\n",
              "      <td>0.249448</td>\n",
              "    </tr>\n",
              "  </tbody>\n",
              "</table><p>"
            ],
            "text/plain": [
              "<IPython.core.display.HTML object>"
            ]
          },
          "metadata": {},
          "output_type": "display_data"
        },
        {
          "data": {
            "text/html": [
              "\n",
              "    <div>\n",
              "      \n",
              "      <progress value='188' max='188' style='width:300px; height:20px; vertical-align: middle;'></progress>\n",
              "      [188/188 00:32]\n",
              "    </div>\n",
              "    "
            ],
            "text/plain": [
              "<IPython.core.display.HTML object>"
            ]
          },
          "metadata": {},
          "output_type": "display_data"
        },
        {
          "name": "stderr",
          "output_type": "stream",
          "text": [
            "/tmp/ipython-input-337047085.py:37: FutureWarning: `tokenizer` is deprecated and will be removed in version 5.0.0 for `Trainer.__init__`. Use `processing_class` instead.\n",
            "  trainer = Trainer(\n"
          ]
        },
        {
          "data": {
            "text/html": [
              "\n",
              "    <div>\n",
              "      \n",
              "      <progress value='105' max='105' style='width:300px; height:20px; vertical-align: middle;'></progress>\n",
              "      [105/105 01:04, Epoch 3/3]\n",
              "    </div>\n",
              "    <table border=\"1\" class=\"dataframe\">\n",
              "  <thead>\n",
              " <tr style=\"text-align: left;\">\n",
              "      <th>Epoch</th>\n",
              "      <th>Training Loss</th>\n",
              "      <th>Validation Loss</th>\n",
              "      <th>Accuracy</th>\n",
              "      <th>F1-macro</th>\n",
              "      <th>Precision</th>\n",
              "      <th>Recall</th>\n",
              "    </tr>\n",
              "  </thead>\n",
              "  <tbody>\n",
              "    <tr>\n",
              "      <td>1</td>\n",
              "      <td>1.227700</td>\n",
              "      <td>1.289276</td>\n",
              "      <td>0.528000</td>\n",
              "      <td>0.138220</td>\n",
              "      <td>0.105600</td>\n",
              "      <td>0.200000</td>\n",
              "    </tr>\n",
              "    <tr>\n",
              "      <td>2</td>\n",
              "      <td>1.078200</td>\n",
              "      <td>1.138670</td>\n",
              "      <td>0.552000</td>\n",
              "      <td>0.209373</td>\n",
              "      <td>0.181106</td>\n",
              "      <td>0.251515</td>\n",
              "    </tr>\n",
              "    <tr>\n",
              "      <td>3</td>\n",
              "      <td>0.976600</td>\n",
              "      <td>1.115778</td>\n",
              "      <td>0.536000</td>\n",
              "      <td>0.211648</td>\n",
              "      <td>0.181038</td>\n",
              "      <td>0.257576</td>\n",
              "    </tr>\n",
              "  </tbody>\n",
              "</table><p>"
            ],
            "text/plain": [
              "<IPython.core.display.HTML object>"
            ]
          },
          "metadata": {},
          "output_type": "display_data"
        },
        {
          "data": {
            "text/html": [
              "\n",
              "    <div>\n",
              "      \n",
              "      <progress value='39' max='39' style='width:300px; height:20px; vertical-align: middle;'></progress>\n",
              "      [39/39 00:06]\n",
              "    </div>\n",
              "    "
            ],
            "text/plain": [
              "<IPython.core.display.HTML object>"
            ]
          },
          "metadata": {},
          "output_type": "display_data"
        },
        {
          "name": "stderr",
          "output_type": "stream",
          "text": [
            "/tmp/ipython-input-337047085.py:37: FutureWarning: `tokenizer` is deprecated and will be removed in version 5.0.0 for `Trainer.__init__`. Use `processing_class` instead.\n",
            "  trainer = Trainer(\n"
          ]
        },
        {
          "data": {
            "text/html": [
              "\n",
              "    <div>\n",
              "      \n",
              "      <progress value='120' max='120' style='width:300px; height:20px; vertical-align: middle;'></progress>\n",
              "      [120/120 01:15, Epoch 3/3]\n",
              "    </div>\n",
              "    <table border=\"1\" class=\"dataframe\">\n",
              "  <thead>\n",
              " <tr style=\"text-align: left;\">\n",
              "      <th>Epoch</th>\n",
              "      <th>Training Loss</th>\n",
              "      <th>Validation Loss</th>\n",
              "      <th>Accuracy</th>\n",
              "      <th>F1-macro</th>\n",
              "      <th>Precision</th>\n",
              "      <th>Recall</th>\n",
              "    </tr>\n",
              "  </thead>\n",
              "  <tbody>\n",
              "    <tr>\n",
              "      <td>1</td>\n",
              "      <td>0.972300</td>\n",
              "      <td>1.192252</td>\n",
              "      <td>0.628571</td>\n",
              "      <td>0.154386</td>\n",
              "      <td>0.125714</td>\n",
              "      <td>0.200000</td>\n",
              "    </tr>\n",
              "    <tr>\n",
              "      <td>2</td>\n",
              "      <td>1.019700</td>\n",
              "      <td>1.123549</td>\n",
              "      <td>0.628571</td>\n",
              "      <td>0.154386</td>\n",
              "      <td>0.125714</td>\n",
              "      <td>0.200000</td>\n",
              "    </tr>\n",
              "    <tr>\n",
              "      <td>3</td>\n",
              "      <td>0.929100</td>\n",
              "      <td>1.081050</td>\n",
              "      <td>0.628571</td>\n",
              "      <td>0.154386</td>\n",
              "      <td>0.125714</td>\n",
              "      <td>0.200000</td>\n",
              "    </tr>\n",
              "  </tbody>\n",
              "</table><p>"
            ],
            "text/plain": [
              "<IPython.core.display.HTML object>"
            ]
          },
          "metadata": {},
          "output_type": "display_data"
        },
        {
          "data": {
            "text/html": [
              "\n",
              "    <div>\n",
              "      \n",
              "      <progress value='44' max='44' style='width:300px; height:20px; vertical-align: middle;'></progress>\n",
              "      [44/44 00:07]\n",
              "    </div>\n",
              "    "
            ],
            "text/plain": [
              "<IPython.core.display.HTML object>"
            ]
          },
          "metadata": {},
          "output_type": "display_data"
        },
        {
          "name": "stderr",
          "output_type": "stream",
          "text": [
            "/tmp/ipython-input-337047085.py:37: FutureWarning: `tokenizer` is deprecated and will be removed in version 5.0.0 for `Trainer.__init__`. Use `processing_class` instead.\n",
            "  trainer = Trainer(\n"
          ]
        },
        {
          "data": {
            "text/html": [
              "\n",
              "    <div>\n",
              "      \n",
              "      <progress value='132' max='132' style='width:300px; height:20px; vertical-align: middle;'></progress>\n",
              "      [132/132 01:23, Epoch 3/3]\n",
              "    </div>\n",
              "    <table border=\"1\" class=\"dataframe\">\n",
              "  <thead>\n",
              " <tr style=\"text-align: left;\">\n",
              "      <th>Epoch</th>\n",
              "      <th>Training Loss</th>\n",
              "      <th>Validation Loss</th>\n",
              "      <th>Accuracy</th>\n",
              "      <th>F1-macro</th>\n",
              "      <th>Precision</th>\n",
              "      <th>Recall</th>\n",
              "    </tr>\n",
              "  </thead>\n",
              "  <tbody>\n",
              "    <tr>\n",
              "      <td>1</td>\n",
              "      <td>1.081200</td>\n",
              "      <td>1.074443</td>\n",
              "      <td>0.602564</td>\n",
              "      <td>0.150400</td>\n",
              "      <td>0.120513</td>\n",
              "      <td>0.200000</td>\n",
              "    </tr>\n",
              "    <tr>\n",
              "      <td>2</td>\n",
              "      <td>1.007300</td>\n",
              "      <td>0.989055</td>\n",
              "      <td>0.634615</td>\n",
              "      <td>0.213608</td>\n",
              "      <td>0.236364</td>\n",
              "      <td>0.235745</td>\n",
              "    </tr>\n",
              "    <tr>\n",
              "      <td>3</td>\n",
              "      <td>0.848000</td>\n",
              "      <td>0.975618</td>\n",
              "      <td>0.621795</td>\n",
              "      <td>0.217998</td>\n",
              "      <td>0.216085</td>\n",
              "      <td>0.238663</td>\n",
              "    </tr>\n",
              "  </tbody>\n",
              "</table><p>"
            ],
            "text/plain": [
              "<IPython.core.display.HTML object>"
            ]
          },
          "metadata": {},
          "output_type": "display_data"
        },
        {
          "data": {
            "text/html": [
              "\n",
              "    <div>\n",
              "      \n",
              "      <progress value='49' max='49' style='width:300px; height:20px; vertical-align: middle;'></progress>\n",
              "      [49/49 00:08]\n",
              "    </div>\n",
              "    "
            ],
            "text/plain": [
              "<IPython.core.display.HTML object>"
            ]
          },
          "metadata": {},
          "output_type": "display_data"
        },
        {
          "name": "stderr",
          "output_type": "stream",
          "text": [
            "/tmp/ipython-input-337047085.py:37: FutureWarning: `tokenizer` is deprecated and will be removed in version 5.0.0 for `Trainer.__init__`. Use `processing_class` instead.\n",
            "  trainer = Trainer(\n"
          ]
        },
        {
          "data": {
            "text/html": [
              "\n",
              "    <div>\n",
              "      \n",
              "      <progress value='108' max='108' style='width:300px; height:20px; vertical-align: middle;'></progress>\n",
              "      [108/108 01:06, Epoch 3/3]\n",
              "    </div>\n",
              "    <table border=\"1\" class=\"dataframe\">\n",
              "  <thead>\n",
              " <tr style=\"text-align: left;\">\n",
              "      <th>Epoch</th>\n",
              "      <th>Training Loss</th>\n",
              "      <th>Validation Loss</th>\n",
              "      <th>Accuracy</th>\n",
              "      <th>F1-macro</th>\n",
              "      <th>Precision</th>\n",
              "      <th>Recall</th>\n",
              "    </tr>\n",
              "  </thead>\n",
              "  <tbody>\n",
              "    <tr>\n",
              "      <td>1</td>\n",
              "      <td>1.121300</td>\n",
              "      <td>1.136914</td>\n",
              "      <td>0.608000</td>\n",
              "      <td>0.151244</td>\n",
              "      <td>0.121600</td>\n",
              "      <td>0.200000</td>\n",
              "    </tr>\n",
              "    <tr>\n",
              "      <td>2</td>\n",
              "      <td>1.024700</td>\n",
              "      <td>1.087026</td>\n",
              "      <td>0.608000</td>\n",
              "      <td>0.151244</td>\n",
              "      <td>0.121600</td>\n",
              "      <td>0.200000</td>\n",
              "    </tr>\n",
              "    <tr>\n",
              "      <td>3</td>\n",
              "      <td>0.946300</td>\n",
              "      <td>1.065791</td>\n",
              "      <td>0.608000</td>\n",
              "      <td>0.181939</td>\n",
              "      <td>0.176496</td>\n",
              "      <td>0.214737</td>\n",
              "    </tr>\n",
              "  </tbody>\n",
              "</table><p>"
            ],
            "text/plain": [
              "<IPython.core.display.HTML object>"
            ]
          },
          "metadata": {},
          "output_type": "display_data"
        },
        {
          "data": {
            "text/html": [
              "\n",
              "    <div>\n",
              "      \n",
              "      <progress value='39' max='39' style='width:300px; height:20px; vertical-align: middle;'></progress>\n",
              "      [39/39 00:07]\n",
              "    </div>\n",
              "    "
            ],
            "text/plain": [
              "<IPython.core.display.HTML object>"
            ]
          },
          "metadata": {},
          "output_type": "display_data"
        },
        {
          "name": "stderr",
          "output_type": "stream",
          "text": [
            "/tmp/ipython-input-337047085.py:37: FutureWarning: `tokenizer` is deprecated and will be removed in version 5.0.0 for `Trainer.__init__`. Use `processing_class` instead.\n",
            "  trainer = Trainer(\n"
          ]
        },
        {
          "data": {
            "text/html": [
              "\n",
              "    <div>\n",
              "      \n",
              "      <progress value='156' max='156' style='width:300px; height:20px; vertical-align: middle;'></progress>\n",
              "      [156/156 01:38, Epoch 3/3]\n",
              "    </div>\n",
              "    <table border=\"1\" class=\"dataframe\">\n",
              "  <thead>\n",
              " <tr style=\"text-align: left;\">\n",
              "      <th>Epoch</th>\n",
              "      <th>Training Loss</th>\n",
              "      <th>Validation Loss</th>\n",
              "      <th>Accuracy</th>\n",
              "      <th>F1-macro</th>\n",
              "      <th>Precision</th>\n",
              "      <th>Recall</th>\n",
              "    </tr>\n",
              "  </thead>\n",
              "  <tbody>\n",
              "    <tr>\n",
              "      <td>1</td>\n",
              "      <td>0.941700</td>\n",
              "      <td>0.764157</td>\n",
              "      <td>0.794595</td>\n",
              "      <td>0.177108</td>\n",
              "      <td>0.158919</td>\n",
              "      <td>0.200000</td>\n",
              "    </tr>\n",
              "    <tr>\n",
              "      <td>2</td>\n",
              "      <td>1.005700</td>\n",
              "      <td>0.724034</td>\n",
              "      <td>0.794595</td>\n",
              "      <td>0.177108</td>\n",
              "      <td>0.158919</td>\n",
              "      <td>0.200000</td>\n",
              "    </tr>\n",
              "    <tr>\n",
              "      <td>3</td>\n",
              "      <td>0.715900</td>\n",
              "      <td>0.720373</td>\n",
              "      <td>0.805405</td>\n",
              "      <td>0.235598</td>\n",
              "      <td>0.560656</td>\n",
              "      <td>0.231111</td>\n",
              "    </tr>\n",
              "  </tbody>\n",
              "</table><p>"
            ],
            "text/plain": [
              "<IPython.core.display.HTML object>"
            ]
          },
          "metadata": {},
          "output_type": "display_data"
        },
        {
          "data": {
            "text/html": [
              "\n",
              "    <div>\n",
              "      \n",
              "      <progress value='58' max='58' style='width:300px; height:20px; vertical-align: middle;'></progress>\n",
              "      [58/58 00:10]\n",
              "    </div>\n",
              "    "
            ],
            "text/plain": [
              "<IPython.core.display.HTML object>"
            ]
          },
          "metadata": {},
          "output_type": "display_data"
        },
        {
          "name": "stderr",
          "output_type": "stream",
          "text": [
            "/tmp/ipython-input-337047085.py:37: FutureWarning: `tokenizer` is deprecated and will be removed in version 5.0.0 for `Trainer.__init__`. Use `processing_class` instead.\n",
            "  trainer = Trainer(\n"
          ]
        },
        {
          "data": {
            "text/html": [
              "\n",
              "    <div>\n",
              "      \n",
              "      <progress value='249' max='249' style='width:300px; height:20px; vertical-align: middle;'></progress>\n",
              "      [249/249 02:35, Epoch 3/3]\n",
              "    </div>\n",
              "    <table border=\"1\" class=\"dataframe\">\n",
              "  <thead>\n",
              " <tr style=\"text-align: left;\">\n",
              "      <th>Epoch</th>\n",
              "      <th>Training Loss</th>\n",
              "      <th>Validation Loss</th>\n",
              "      <th>Accuracy</th>\n",
              "      <th>F1-macro</th>\n",
              "      <th>Precision</th>\n",
              "      <th>Recall</th>\n",
              "    </tr>\n",
              "  </thead>\n",
              "  <tbody>\n",
              "    <tr>\n",
              "      <td>1</td>\n",
              "      <td>0.920100</td>\n",
              "      <td>0.957863</td>\n",
              "      <td>0.699659</td>\n",
              "      <td>0.164659</td>\n",
              "      <td>0.139932</td>\n",
              "      <td>0.200000</td>\n",
              "    </tr>\n",
              "    <tr>\n",
              "      <td>2</td>\n",
              "      <td>0.975100</td>\n",
              "      <td>0.950305</td>\n",
              "      <td>0.699659</td>\n",
              "      <td>0.174485</td>\n",
              "      <td>0.191176</td>\n",
              "      <td>0.204153</td>\n",
              "    </tr>\n",
              "    <tr>\n",
              "      <td>3</td>\n",
              "      <td>0.858600</td>\n",
              "      <td>0.966112</td>\n",
              "      <td>0.662116</td>\n",
              "      <td>0.190310</td>\n",
              "      <td>0.175083</td>\n",
              "      <td>0.210031</td>\n",
              "    </tr>\n",
              "  </tbody>\n",
              "</table><p>"
            ],
            "text/plain": [
              "<IPython.core.display.HTML object>"
            ]
          },
          "metadata": {},
          "output_type": "display_data"
        },
        {
          "data": {
            "text/html": [
              "\n",
              "    <div>\n",
              "      \n",
              "      <progress value='92' max='92' style='width:300px; height:20px; vertical-align: middle;'></progress>\n",
              "      [92/92 00:16]\n",
              "    </div>\n",
              "    "
            ],
            "text/plain": [
              "<IPython.core.display.HTML object>"
            ]
          },
          "metadata": {},
          "output_type": "display_data"
        },
        {
          "name": "stderr",
          "output_type": "stream",
          "text": [
            "/tmp/ipython-input-337047085.py:37: FutureWarning: `tokenizer` is deprecated and will be removed in version 5.0.0 for `Trainer.__init__`. Use `processing_class` instead.\n",
            "  trainer = Trainer(\n"
          ]
        },
        {
          "data": {
            "text/html": [
              "\n",
              "    <div>\n",
              "      \n",
              "      <progress value='507' max='507' style='width:300px; height:20px; vertical-align: middle;'></progress>\n",
              "      [507/507 05:20, Epoch 3/3]\n",
              "    </div>\n",
              "    <table border=\"1\" class=\"dataframe\">\n",
              "  <thead>\n",
              " <tr style=\"text-align: left;\">\n",
              "      <th>Epoch</th>\n",
              "      <th>Training Loss</th>\n",
              "      <th>Validation Loss</th>\n",
              "      <th>Accuracy</th>\n",
              "      <th>F1-macro</th>\n",
              "      <th>Precision</th>\n",
              "      <th>Recall</th>\n",
              "    </tr>\n",
              "  </thead>\n",
              "  <tbody>\n",
              "    <tr>\n",
              "      <td>1</td>\n",
              "      <td>0.852000</td>\n",
              "      <td>0.910352</td>\n",
              "      <td>0.663333</td>\n",
              "      <td>0.214555</td>\n",
              "      <td>0.260362</td>\n",
              "      <td>0.227423</td>\n",
              "    </tr>\n",
              "    <tr>\n",
              "      <td>2</td>\n",
              "      <td>0.800100</td>\n",
              "      <td>0.925004</td>\n",
              "      <td>0.631667</td>\n",
              "      <td>0.266769</td>\n",
              "      <td>0.263597</td>\n",
              "      <td>0.274987</td>\n",
              "    </tr>\n",
              "    <tr>\n",
              "      <td>3</td>\n",
              "      <td>0.641200</td>\n",
              "      <td>0.951066</td>\n",
              "      <td>0.653333</td>\n",
              "      <td>0.277765</td>\n",
              "      <td>0.273792</td>\n",
              "      <td>0.284140</td>\n",
              "    </tr>\n",
              "  </tbody>\n",
              "</table><p>"
            ],
            "text/plain": [
              "<IPython.core.display.HTML object>"
            ]
          },
          "metadata": {},
          "output_type": "display_data"
        },
        {
          "data": {
            "text/html": [
              "\n",
              "    <div>\n",
              "      \n",
              "      <progress value='188' max='188' style='width:300px; height:20px; vertical-align: middle;'></progress>\n",
              "      [188/188 00:32]\n",
              "    </div>\n",
              "    "
            ],
            "text/plain": [
              "<IPython.core.display.HTML object>"
            ]
          },
          "metadata": {},
          "output_type": "display_data"
        },
        {
          "name": "stderr",
          "output_type": "stream",
          "text": [
            "/tmp/ipython-input-337047085.py:37: FutureWarning: `tokenizer` is deprecated and will be removed in version 5.0.0 for `Trainer.__init__`. Use `processing_class` instead.\n",
            "  trainer = Trainer(\n"
          ]
        },
        {
          "data": {
            "text/html": [
              "\n",
              "    <div>\n",
              "      \n",
              "      <progress value='81' max='81' style='width:300px; height:20px; vertical-align: middle;'></progress>\n",
              "      [81/81 00:49, Epoch 3/3]\n",
              "    </div>\n",
              "    <table border=\"1\" class=\"dataframe\">\n",
              "  <thead>\n",
              " <tr style=\"text-align: left;\">\n",
              "      <th>Epoch</th>\n",
              "      <th>Training Loss</th>\n",
              "      <th>Validation Loss</th>\n",
              "      <th>Accuracy</th>\n",
              "      <th>F1-macro</th>\n",
              "      <th>Precision</th>\n",
              "      <th>Recall</th>\n",
              "    </tr>\n",
              "  </thead>\n",
              "  <tbody>\n",
              "    <tr>\n",
              "      <td>1</td>\n",
              "      <td>0.888700</td>\n",
              "      <td>0.788904</td>\n",
              "      <td>0.763441</td>\n",
              "      <td>0.216463</td>\n",
              "      <td>0.190860</td>\n",
              "      <td>0.250000</td>\n",
              "    </tr>\n",
              "    <tr>\n",
              "      <td>2</td>\n",
              "      <td>0.816900</td>\n",
              "      <td>0.781518</td>\n",
              "      <td>0.763441</td>\n",
              "      <td>0.216463</td>\n",
              "      <td>0.190860</td>\n",
              "      <td>0.250000</td>\n",
              "    </tr>\n",
              "    <tr>\n",
              "      <td>3</td>\n",
              "      <td>0.833800</td>\n",
              "      <td>0.772955</td>\n",
              "      <td>0.763441</td>\n",
              "      <td>0.216463</td>\n",
              "      <td>0.190860</td>\n",
              "      <td>0.250000</td>\n",
              "    </tr>\n",
              "  </tbody>\n",
              "</table><p>"
            ],
            "text/plain": [
              "<IPython.core.display.HTML object>"
            ]
          },
          "metadata": {},
          "output_type": "display_data"
        },
        {
          "data": {
            "text/html": [
              "\n",
              "    <div>\n",
              "      \n",
              "      <progress value='29' max='29' style='width:300px; height:20px; vertical-align: middle;'></progress>\n",
              "      [29/29 00:05]\n",
              "    </div>\n",
              "    "
            ],
            "text/plain": [
              "<IPython.core.display.HTML object>"
            ]
          },
          "metadata": {},
          "output_type": "display_data"
        },
        {
          "name": "stderr",
          "output_type": "stream",
          "text": [
            "/tmp/ipython-input-337047085.py:37: FutureWarning: `tokenizer` is deprecated and will be removed in version 5.0.0 for `Trainer.__init__`. Use `processing_class` instead.\n",
            "  trainer = Trainer(\n"
          ]
        },
        {
          "data": {
            "text/html": [
              "\n",
              "    <div>\n",
              "      \n",
              "      <progress value='507' max='507' style='width:300px; height:20px; vertical-align: middle;'></progress>\n",
              "      [507/507 05:20, Epoch 3/3]\n",
              "    </div>\n",
              "    <table border=\"1\" class=\"dataframe\">\n",
              "  <thead>\n",
              " <tr style=\"text-align: left;\">\n",
              "      <th>Epoch</th>\n",
              "      <th>Training Loss</th>\n",
              "      <th>Validation Loss</th>\n",
              "      <th>Accuracy</th>\n",
              "      <th>F1-macro</th>\n",
              "      <th>Precision</th>\n",
              "      <th>Recall</th>\n",
              "    </tr>\n",
              "  </thead>\n",
              "  <tbody>\n",
              "    <tr>\n",
              "      <td>1</td>\n",
              "      <td>0.899700</td>\n",
              "      <td>0.985247</td>\n",
              "      <td>0.636667</td>\n",
              "      <td>0.232280</td>\n",
              "      <td>0.208670</td>\n",
              "      <td>0.261923</td>\n",
              "    </tr>\n",
              "    <tr>\n",
              "      <td>2</td>\n",
              "      <td>0.854300</td>\n",
              "      <td>0.989287</td>\n",
              "      <td>0.613333</td>\n",
              "      <td>0.227955</td>\n",
              "      <td>0.203804</td>\n",
              "      <td>0.263980</td>\n",
              "    </tr>\n",
              "    <tr>\n",
              "      <td>3</td>\n",
              "      <td>0.643800</td>\n",
              "      <td>1.018026</td>\n",
              "      <td>0.611667</td>\n",
              "      <td>0.250830</td>\n",
              "      <td>0.293564</td>\n",
              "      <td>0.275162</td>\n",
              "    </tr>\n",
              "  </tbody>\n",
              "</table><p>"
            ],
            "text/plain": [
              "<IPython.core.display.HTML object>"
            ]
          },
          "metadata": {},
          "output_type": "display_data"
        },
        {
          "data": {
            "text/html": [
              "\n",
              "    <div>\n",
              "      \n",
              "      <progress value='188' max='188' style='width:300px; height:20px; vertical-align: middle;'></progress>\n",
              "      [188/188 00:32]\n",
              "    </div>\n",
              "    "
            ],
            "text/plain": [
              "<IPython.core.display.HTML object>"
            ]
          },
          "metadata": {},
          "output_type": "display_data"
        },
        {
          "name": "stderr",
          "output_type": "stream",
          "text": [
            "[I 2025-09-21 18:18:01,027] Trial 3 finished with value: 0.24226835354946727 and parameters: {'learning_rate': 3.8655059663402604e-05, 'batch_size': 32, 'num_train_epochs': 3}. Best is trial 2 with value: 0.3393988302804505.\n",
            "/tmp/ipython-input-337047085.py:37: FutureWarning: `tokenizer` is deprecated and will be removed in version 5.0.0 for `Trainer.__init__`. Use `processing_class` instead.\n",
            "  trainer = Trainer(\n"
          ]
        },
        {
          "data": {
            "text/html": [
              "\n",
              "    <div>\n",
              "      \n",
              "      <progress value='112' max='112' style='width:300px; height:20px; vertical-align: middle;'></progress>\n",
              "      [112/112 01:08, Epoch 4/4]\n",
              "    </div>\n",
              "    <table border=\"1\" class=\"dataframe\">\n",
              "  <thead>\n",
              " <tr style=\"text-align: left;\">\n",
              "      <th>Epoch</th>\n",
              "      <th>Training Loss</th>\n",
              "      <th>Validation Loss</th>\n",
              "      <th>Accuracy</th>\n",
              "      <th>F1-macro</th>\n",
              "      <th>Precision</th>\n",
              "      <th>Recall</th>\n",
              "    </tr>\n",
              "  </thead>\n",
              "  <tbody>\n",
              "    <tr>\n",
              "      <td>1</td>\n",
              "      <td>1.242400</td>\n",
              "      <td>1.006398</td>\n",
              "      <td>0.701031</td>\n",
              "      <td>0.164848</td>\n",
              "      <td>0.140206</td>\n",
              "      <td>0.200000</td>\n",
              "    </tr>\n",
              "    <tr>\n",
              "      <td>2</td>\n",
              "      <td>1.128200</td>\n",
              "      <td>0.996913</td>\n",
              "      <td>0.701031</td>\n",
              "      <td>0.164848</td>\n",
              "      <td>0.140206</td>\n",
              "      <td>0.200000</td>\n",
              "    </tr>\n",
              "    <tr>\n",
              "      <td>3</td>\n",
              "      <td>1.109000</td>\n",
              "      <td>0.992244</td>\n",
              "      <td>0.701031</td>\n",
              "      <td>0.164848</td>\n",
              "      <td>0.140206</td>\n",
              "      <td>0.200000</td>\n",
              "    </tr>\n",
              "    <tr>\n",
              "      <td>4</td>\n",
              "      <td>1.107700</td>\n",
              "      <td>0.985406</td>\n",
              "      <td>0.701031</td>\n",
              "      <td>0.164848</td>\n",
              "      <td>0.140206</td>\n",
              "      <td>0.200000</td>\n",
              "    </tr>\n",
              "  </tbody>\n",
              "</table><p>"
            ],
            "text/plain": [
              "<IPython.core.display.HTML object>"
            ]
          },
          "metadata": {},
          "output_type": "display_data"
        },
        {
          "data": {
            "text/html": [
              "\n",
              "    <div>\n",
              "      \n",
              "      <progress value='31' max='31' style='width:300px; height:20px; vertical-align: middle;'></progress>\n",
              "      [31/31 00:05]\n",
              "    </div>\n",
              "    "
            ],
            "text/plain": [
              "<IPython.core.display.HTML object>"
            ]
          },
          "metadata": {},
          "output_type": "display_data"
        },
        {
          "name": "stderr",
          "output_type": "stream",
          "text": [
            "/tmp/ipython-input-337047085.py:37: FutureWarning: `tokenizer` is deprecated and will be removed in version 5.0.0 for `Trainer.__init__`. Use `processing_class` instead.\n",
            "  trainer = Trainer(\n"
          ]
        },
        {
          "data": {
            "text/html": [
              "\n",
              "    <div>\n",
              "      \n",
              "      <progress value='676' max='676' style='width:300px; height:20px; vertical-align: middle;'></progress>\n",
              "      [676/676 07:06, Epoch 4/4]\n",
              "    </div>\n",
              "    <table border=\"1\" class=\"dataframe\">\n",
              "  <thead>\n",
              " <tr style=\"text-align: left;\">\n",
              "      <th>Epoch</th>\n",
              "      <th>Training Loss</th>\n",
              "      <th>Validation Loss</th>\n",
              "      <th>Accuracy</th>\n",
              "      <th>F1-macro</th>\n",
              "      <th>Precision</th>\n",
              "      <th>Recall</th>\n",
              "    </tr>\n",
              "  </thead>\n",
              "  <tbody>\n",
              "    <tr>\n",
              "      <td>1</td>\n",
              "      <td>0.768000</td>\n",
              "      <td>0.771016</td>\n",
              "      <td>0.755000</td>\n",
              "      <td>0.172080</td>\n",
              "      <td>0.151000</td>\n",
              "      <td>0.200000</td>\n",
              "    </tr>\n",
              "    <tr>\n",
              "      <td>2</td>\n",
              "      <td>0.754300</td>\n",
              "      <td>0.727448</td>\n",
              "      <td>0.758333</td>\n",
              "      <td>0.182539</td>\n",
              "      <td>0.232269</td>\n",
              "      <td>0.205128</td>\n",
              "    </tr>\n",
              "    <tr>\n",
              "      <td>3</td>\n",
              "      <td>0.636100</td>\n",
              "      <td>0.722725</td>\n",
              "      <td>0.755000</td>\n",
              "      <td>0.219396</td>\n",
              "      <td>0.233991</td>\n",
              "      <td>0.227594</td>\n",
              "    </tr>\n",
              "    <tr>\n",
              "      <td>4</td>\n",
              "      <td>0.702600</td>\n",
              "      <td>0.726146</td>\n",
              "      <td>0.743333</td>\n",
              "      <td>0.220855</td>\n",
              "      <td>0.217599</td>\n",
              "      <td>0.230871</td>\n",
              "    </tr>\n",
              "  </tbody>\n",
              "</table><p>"
            ],
            "text/plain": [
              "<IPython.core.display.HTML object>"
            ]
          },
          "metadata": {},
          "output_type": "display_data"
        },
        {
          "data": {
            "text/html": [
              "\n",
              "    <div>\n",
              "      \n",
              "      <progress value='188' max='188' style='width:300px; height:20px; vertical-align: middle;'></progress>\n",
              "      [188/188 00:32]\n",
              "    </div>\n",
              "    "
            ],
            "text/plain": [
              "<IPython.core.display.HTML object>"
            ]
          },
          "metadata": {},
          "output_type": "display_data"
        },
        {
          "name": "stderr",
          "output_type": "stream",
          "text": [
            "/tmp/ipython-input-337047085.py:37: FutureWarning: `tokenizer` is deprecated and will be removed in version 5.0.0 for `Trainer.__init__`. Use `processing_class` instead.\n",
            "  trainer = Trainer(\n"
          ]
        },
        {
          "data": {
            "text/html": [
              "\n",
              "    <div>\n",
              "      \n",
              "      <progress value='140' max='140' style='width:300px; height:20px; vertical-align: middle;'></progress>\n",
              "      [140/140 01:26, Epoch 4/4]\n",
              "    </div>\n",
              "    <table border=\"1\" class=\"dataframe\">\n",
              "  <thead>\n",
              " <tr style=\"text-align: left;\">\n",
              "      <th>Epoch</th>\n",
              "      <th>Training Loss</th>\n",
              "      <th>Validation Loss</th>\n",
              "      <th>Accuracy</th>\n",
              "      <th>F1-macro</th>\n",
              "      <th>Precision</th>\n",
              "      <th>Recall</th>\n",
              "    </tr>\n",
              "  </thead>\n",
              "  <tbody>\n",
              "    <tr>\n",
              "      <td>1</td>\n",
              "      <td>1.277100</td>\n",
              "      <td>1.322492</td>\n",
              "      <td>0.528000</td>\n",
              "      <td>0.138220</td>\n",
              "      <td>0.105600</td>\n",
              "      <td>0.200000</td>\n",
              "    </tr>\n",
              "    <tr>\n",
              "      <td>2</td>\n",
              "      <td>1.246800</td>\n",
              "      <td>1.298056</td>\n",
              "      <td>0.528000</td>\n",
              "      <td>0.138220</td>\n",
              "      <td>0.105600</td>\n",
              "      <td>0.200000</td>\n",
              "    </tr>\n",
              "    <tr>\n",
              "      <td>3</td>\n",
              "      <td>1.235800</td>\n",
              "      <td>1.288614</td>\n",
              "      <td>0.528000</td>\n",
              "      <td>0.138220</td>\n",
              "      <td>0.105600</td>\n",
              "      <td>0.200000</td>\n",
              "    </tr>\n",
              "    <tr>\n",
              "      <td>4</td>\n",
              "      <td>1.212200</td>\n",
              "      <td>1.285667</td>\n",
              "      <td>0.528000</td>\n",
              "      <td>0.138220</td>\n",
              "      <td>0.105600</td>\n",
              "      <td>0.200000</td>\n",
              "    </tr>\n",
              "  </tbody>\n",
              "</table><p>"
            ],
            "text/plain": [
              "<IPython.core.display.HTML object>"
            ]
          },
          "metadata": {},
          "output_type": "display_data"
        },
        {
          "data": {
            "text/html": [
              "\n",
              "    <div>\n",
              "      \n",
              "      <progress value='39' max='39' style='width:300px; height:20px; vertical-align: middle;'></progress>\n",
              "      [39/39 00:06]\n",
              "    </div>\n",
              "    "
            ],
            "text/plain": [
              "<IPython.core.display.HTML object>"
            ]
          },
          "metadata": {},
          "output_type": "display_data"
        },
        {
          "name": "stderr",
          "output_type": "stream",
          "text": [
            "/tmp/ipython-input-337047085.py:37: FutureWarning: `tokenizer` is deprecated and will be removed in version 5.0.0 for `Trainer.__init__`. Use `processing_class` instead.\n",
            "  trainer = Trainer(\n"
          ]
        },
        {
          "data": {
            "text/html": [
              "\n",
              "    <div>\n",
              "      \n",
              "      <progress value='160' max='160' style='width:300px; height:20px; vertical-align: middle;'></progress>\n",
              "      [160/160 01:39, Epoch 4/4]\n",
              "    </div>\n",
              "    <table border=\"1\" class=\"dataframe\">\n",
              "  <thead>\n",
              " <tr style=\"text-align: left;\">\n",
              "      <th>Epoch</th>\n",
              "      <th>Training Loss</th>\n",
              "      <th>Validation Loss</th>\n",
              "      <th>Accuracy</th>\n",
              "      <th>F1-macro</th>\n",
              "      <th>Precision</th>\n",
              "      <th>Recall</th>\n",
              "    </tr>\n",
              "  </thead>\n",
              "  <tbody>\n",
              "    <tr>\n",
              "      <td>1</td>\n",
              "      <td>0.971600</td>\n",
              "      <td>1.179082</td>\n",
              "      <td>0.628571</td>\n",
              "      <td>0.154386</td>\n",
              "      <td>0.125714</td>\n",
              "      <td>0.200000</td>\n",
              "    </tr>\n",
              "    <tr>\n",
              "      <td>2</td>\n",
              "      <td>1.046100</td>\n",
              "      <td>1.163555</td>\n",
              "      <td>0.628571</td>\n",
              "      <td>0.154386</td>\n",
              "      <td>0.125714</td>\n",
              "      <td>0.200000</td>\n",
              "    </tr>\n",
              "    <tr>\n",
              "      <td>3</td>\n",
              "      <td>1.032800</td>\n",
              "      <td>1.160388</td>\n",
              "      <td>0.628571</td>\n",
              "      <td>0.154386</td>\n",
              "      <td>0.125714</td>\n",
              "      <td>0.200000</td>\n",
              "    </tr>\n",
              "    <tr>\n",
              "      <td>4</td>\n",
              "      <td>1.075900</td>\n",
              "      <td>1.156637</td>\n",
              "      <td>0.628571</td>\n",
              "      <td>0.154386</td>\n",
              "      <td>0.125714</td>\n",
              "      <td>0.200000</td>\n",
              "    </tr>\n",
              "  </tbody>\n",
              "</table><p>"
            ],
            "text/plain": [
              "<IPython.core.display.HTML object>"
            ]
          },
          "metadata": {},
          "output_type": "display_data"
        },
        {
          "data": {
            "text/html": [
              "\n",
              "    <div>\n",
              "      \n",
              "      <progress value='44' max='44' style='width:300px; height:20px; vertical-align: middle;'></progress>\n",
              "      [44/44 00:07]\n",
              "    </div>\n",
              "    "
            ],
            "text/plain": [
              "<IPython.core.display.HTML object>"
            ]
          },
          "metadata": {},
          "output_type": "display_data"
        },
        {
          "name": "stderr",
          "output_type": "stream",
          "text": [
            "/tmp/ipython-input-337047085.py:37: FutureWarning: `tokenizer` is deprecated and will be removed in version 5.0.0 for `Trainer.__init__`. Use `processing_class` instead.\n",
            "  trainer = Trainer(\n"
          ]
        },
        {
          "data": {
            "text/html": [
              "\n",
              "    <div>\n",
              "      \n",
              "      <progress value='176' max='176' style='width:300px; height:20px; vertical-align: middle;'></progress>\n",
              "      [176/176 01:51, Epoch 4/4]\n",
              "    </div>\n",
              "    <table border=\"1\" class=\"dataframe\">\n",
              "  <thead>\n",
              " <tr style=\"text-align: left;\">\n",
              "      <th>Epoch</th>\n",
              "      <th>Training Loss</th>\n",
              "      <th>Validation Loss</th>\n",
              "      <th>Accuracy</th>\n",
              "      <th>F1-macro</th>\n",
              "      <th>Precision</th>\n",
              "      <th>Recall</th>\n",
              "    </tr>\n",
              "  </thead>\n",
              "  <tbody>\n",
              "    <tr>\n",
              "      <td>1</td>\n",
              "      <td>1.106400</td>\n",
              "      <td>1.112674</td>\n",
              "      <td>0.602564</td>\n",
              "      <td>0.150400</td>\n",
              "      <td>0.120513</td>\n",
              "      <td>0.200000</td>\n",
              "    </tr>\n",
              "    <tr>\n",
              "      <td>2</td>\n",
              "      <td>1.102400</td>\n",
              "      <td>1.085897</td>\n",
              "      <td>0.602564</td>\n",
              "      <td>0.150400</td>\n",
              "      <td>0.120513</td>\n",
              "      <td>0.200000</td>\n",
              "    </tr>\n",
              "    <tr>\n",
              "      <td>3</td>\n",
              "      <td>1.030800</td>\n",
              "      <td>1.083734</td>\n",
              "      <td>0.602564</td>\n",
              "      <td>0.150400</td>\n",
              "      <td>0.120513</td>\n",
              "      <td>0.200000</td>\n",
              "    </tr>\n",
              "    <tr>\n",
              "      <td>4</td>\n",
              "      <td>1.040800</td>\n",
              "      <td>1.081159</td>\n",
              "      <td>0.602564</td>\n",
              "      <td>0.150400</td>\n",
              "      <td>0.120513</td>\n",
              "      <td>0.200000</td>\n",
              "    </tr>\n",
              "  </tbody>\n",
              "</table><p>"
            ],
            "text/plain": [
              "<IPython.core.display.HTML object>"
            ]
          },
          "metadata": {},
          "output_type": "display_data"
        },
        {
          "data": {
            "text/html": [
              "\n",
              "    <div>\n",
              "      \n",
              "      <progress value='49' max='49' style='width:300px; height:20px; vertical-align: middle;'></progress>\n",
              "      [49/49 00:08]\n",
              "    </div>\n",
              "    "
            ],
            "text/plain": [
              "<IPython.core.display.HTML object>"
            ]
          },
          "metadata": {},
          "output_type": "display_data"
        },
        {
          "name": "stderr",
          "output_type": "stream",
          "text": [
            "/tmp/ipython-input-337047085.py:37: FutureWarning: `tokenizer` is deprecated and will be removed in version 5.0.0 for `Trainer.__init__`. Use `processing_class` instead.\n",
            "  trainer = Trainer(\n"
          ]
        },
        {
          "data": {
            "text/html": [
              "\n",
              "    <div>\n",
              "      \n",
              "      <progress value='144' max='144' style='width:300px; height:20px; vertical-align: middle;'></progress>\n",
              "      [144/144 01:29, Epoch 4/4]\n",
              "    </div>\n",
              "    <table border=\"1\" class=\"dataframe\">\n",
              "  <thead>\n",
              " <tr style=\"text-align: left;\">\n",
              "      <th>Epoch</th>\n",
              "      <th>Training Loss</th>\n",
              "      <th>Validation Loss</th>\n",
              "      <th>Accuracy</th>\n",
              "      <th>F1-macro</th>\n",
              "      <th>Precision</th>\n",
              "      <th>Recall</th>\n",
              "    </tr>\n",
              "  </thead>\n",
              "  <tbody>\n",
              "    <tr>\n",
              "      <td>1</td>\n",
              "      <td>1.164800</td>\n",
              "      <td>1.185813</td>\n",
              "      <td>0.608000</td>\n",
              "      <td>0.151244</td>\n",
              "      <td>0.121600</td>\n",
              "      <td>0.200000</td>\n",
              "    </tr>\n",
              "    <tr>\n",
              "      <td>2</td>\n",
              "      <td>1.114500</td>\n",
              "      <td>1.178872</td>\n",
              "      <td>0.608000</td>\n",
              "      <td>0.151244</td>\n",
              "      <td>0.121600</td>\n",
              "      <td>0.200000</td>\n",
              "    </tr>\n",
              "    <tr>\n",
              "      <td>3</td>\n",
              "      <td>1.110100</td>\n",
              "      <td>1.164317</td>\n",
              "      <td>0.608000</td>\n",
              "      <td>0.151244</td>\n",
              "      <td>0.121600</td>\n",
              "      <td>0.200000</td>\n",
              "    </tr>\n",
              "    <tr>\n",
              "      <td>4</td>\n",
              "      <td>1.154800</td>\n",
              "      <td>1.161054</td>\n",
              "      <td>0.608000</td>\n",
              "      <td>0.151244</td>\n",
              "      <td>0.121600</td>\n",
              "      <td>0.200000</td>\n",
              "    </tr>\n",
              "  </tbody>\n",
              "</table><p>"
            ],
            "text/plain": [
              "<IPython.core.display.HTML object>"
            ]
          },
          "metadata": {},
          "output_type": "display_data"
        },
        {
          "data": {
            "text/html": [
              "\n",
              "    <div>\n",
              "      \n",
              "      <progress value='39' max='39' style='width:300px; height:20px; vertical-align: middle;'></progress>\n",
              "      [39/39 00:07]\n",
              "    </div>\n",
              "    "
            ],
            "text/plain": [
              "<IPython.core.display.HTML object>"
            ]
          },
          "metadata": {},
          "output_type": "display_data"
        },
        {
          "name": "stderr",
          "output_type": "stream",
          "text": [
            "/tmp/ipython-input-337047085.py:37: FutureWarning: `tokenizer` is deprecated and will be removed in version 5.0.0 for `Trainer.__init__`. Use `processing_class` instead.\n",
            "  trainer = Trainer(\n"
          ]
        },
        {
          "data": {
            "text/html": [
              "\n",
              "    <div>\n",
              "      \n",
              "      <progress value='208' max='208' style='width:300px; height:20px; vertical-align: middle;'></progress>\n",
              "      [208/208 02:11, Epoch 4/4]\n",
              "    </div>\n",
              "    <table border=\"1\" class=\"dataframe\">\n",
              "  <thead>\n",
              " <tr style=\"text-align: left;\">\n",
              "      <th>Epoch</th>\n",
              "      <th>Training Loss</th>\n",
              "      <th>Validation Loss</th>\n",
              "      <th>Accuracy</th>\n",
              "      <th>F1-macro</th>\n",
              "      <th>Precision</th>\n",
              "      <th>Recall</th>\n",
              "    </tr>\n",
              "  </thead>\n",
              "  <tbody>\n",
              "    <tr>\n",
              "      <td>1</td>\n",
              "      <td>0.943100</td>\n",
              "      <td>0.769509</td>\n",
              "      <td>0.794595</td>\n",
              "      <td>0.177108</td>\n",
              "      <td>0.158919</td>\n",
              "      <td>0.200000</td>\n",
              "    </tr>\n",
              "    <tr>\n",
              "      <td>2</td>\n",
              "      <td>1.078300</td>\n",
              "      <td>0.769824</td>\n",
              "      <td>0.794595</td>\n",
              "      <td>0.177108</td>\n",
              "      <td>0.158919</td>\n",
              "      <td>0.200000</td>\n",
              "    </tr>\n",
              "    <tr>\n",
              "      <td>3</td>\n",
              "      <td>0.822100</td>\n",
              "      <td>0.746423</td>\n",
              "      <td>0.794595</td>\n",
              "      <td>0.177108</td>\n",
              "      <td>0.158919</td>\n",
              "      <td>0.200000</td>\n",
              "    </tr>\n",
              "    <tr>\n",
              "      <td>4</td>\n",
              "      <td>0.893400</td>\n",
              "      <td>0.740291</td>\n",
              "      <td>0.794595</td>\n",
              "      <td>0.177108</td>\n",
              "      <td>0.158919</td>\n",
              "      <td>0.200000</td>\n",
              "    </tr>\n",
              "  </tbody>\n",
              "</table><p>"
            ],
            "text/plain": [
              "<IPython.core.display.HTML object>"
            ]
          },
          "metadata": {},
          "output_type": "display_data"
        },
        {
          "data": {
            "text/html": [
              "\n",
              "    <div>\n",
              "      \n",
              "      <progress value='58' max='58' style='width:300px; height:20px; vertical-align: middle;'></progress>\n",
              "      [58/58 00:10]\n",
              "    </div>\n",
              "    "
            ],
            "text/plain": [
              "<IPython.core.display.HTML object>"
            ]
          },
          "metadata": {},
          "output_type": "display_data"
        },
        {
          "name": "stderr",
          "output_type": "stream",
          "text": [
            "/tmp/ipython-input-337047085.py:37: FutureWarning: `tokenizer` is deprecated and will be removed in version 5.0.0 for `Trainer.__init__`. Use `processing_class` instead.\n",
            "  trainer = Trainer(\n"
          ]
        },
        {
          "data": {
            "text/html": [
              "\n",
              "    <div>\n",
              "      \n",
              "      <progress value='332' max='332' style='width:300px; height:20px; vertical-align: middle;'></progress>\n",
              "      [332/332 03:27, Epoch 4/4]\n",
              "    </div>\n",
              "    <table border=\"1\" class=\"dataframe\">\n",
              "  <thead>\n",
              " <tr style=\"text-align: left;\">\n",
              "      <th>Epoch</th>\n",
              "      <th>Training Loss</th>\n",
              "      <th>Validation Loss</th>\n",
              "      <th>Accuracy</th>\n",
              "      <th>F1-macro</th>\n",
              "      <th>Precision</th>\n",
              "      <th>Recall</th>\n",
              "    </tr>\n",
              "  </thead>\n",
              "  <tbody>\n",
              "    <tr>\n",
              "      <td>1</td>\n",
              "      <td>0.950900</td>\n",
              "      <td>0.965980</td>\n",
              "      <td>0.699659</td>\n",
              "      <td>0.164659</td>\n",
              "      <td>0.139932</td>\n",
              "      <td>0.200000</td>\n",
              "    </tr>\n",
              "    <tr>\n",
              "      <td>2</td>\n",
              "      <td>1.046100</td>\n",
              "      <td>0.951875</td>\n",
              "      <td>0.699659</td>\n",
              "      <td>0.164659</td>\n",
              "      <td>0.139932</td>\n",
              "      <td>0.200000</td>\n",
              "    </tr>\n",
              "    <tr>\n",
              "      <td>3</td>\n",
              "      <td>1.031600</td>\n",
              "      <td>0.946903</td>\n",
              "      <td>0.703072</td>\n",
              "      <td>0.174990</td>\n",
              "      <td>0.340411</td>\n",
              "      <td>0.205128</td>\n",
              "    </tr>\n",
              "    <tr>\n",
              "      <td>4</td>\n",
              "      <td>0.807800</td>\n",
              "      <td>0.942707</td>\n",
              "      <td>0.703072</td>\n",
              "      <td>0.174990</td>\n",
              "      <td>0.340411</td>\n",
              "      <td>0.205128</td>\n",
              "    </tr>\n",
              "  </tbody>\n",
              "</table><p>"
            ],
            "text/plain": [
              "<IPython.core.display.HTML object>"
            ]
          },
          "metadata": {},
          "output_type": "display_data"
        },
        {
          "data": {
            "text/html": [
              "\n",
              "    <div>\n",
              "      \n",
              "      <progress value='92' max='92' style='width:300px; height:20px; vertical-align: middle;'></progress>\n",
              "      [92/92 00:16]\n",
              "    </div>\n",
              "    "
            ],
            "text/plain": [
              "<IPython.core.display.HTML object>"
            ]
          },
          "metadata": {},
          "output_type": "display_data"
        },
        {
          "name": "stderr",
          "output_type": "stream",
          "text": [
            "/tmp/ipython-input-337047085.py:37: FutureWarning: `tokenizer` is deprecated and will be removed in version 5.0.0 for `Trainer.__init__`. Use `processing_class` instead.\n",
            "  trainer = Trainer(\n"
          ]
        },
        {
          "data": {
            "text/html": [
              "\n",
              "    <div>\n",
              "      \n",
              "      <progress value='676' max='676' style='width:300px; height:20px; vertical-align: middle;'></progress>\n",
              "      [676/676 07:06, Epoch 4/4]\n",
              "    </div>\n",
              "    <table border=\"1\" class=\"dataframe\">\n",
              "  <thead>\n",
              " <tr style=\"text-align: left;\">\n",
              "      <th>Epoch</th>\n",
              "      <th>Training Loss</th>\n",
              "      <th>Validation Loss</th>\n",
              "      <th>Accuracy</th>\n",
              "      <th>F1-macro</th>\n",
              "      <th>Precision</th>\n",
              "      <th>Recall</th>\n",
              "    </tr>\n",
              "  </thead>\n",
              "  <tbody>\n",
              "    <tr>\n",
              "      <td>1</td>\n",
              "      <td>0.897600</td>\n",
              "      <td>0.943158</td>\n",
              "      <td>0.668333</td>\n",
              "      <td>0.186340</td>\n",
              "      <td>0.213173</td>\n",
              "      <td>0.212878</td>\n",
              "    </tr>\n",
              "    <tr>\n",
              "      <td>2</td>\n",
              "      <td>0.881200</td>\n",
              "      <td>0.908451</td>\n",
              "      <td>0.660000</td>\n",
              "      <td>0.236675</td>\n",
              "      <td>0.288040</td>\n",
              "      <td>0.254024</td>\n",
              "    </tr>\n",
              "    <tr>\n",
              "      <td>3</td>\n",
              "      <td>0.773800</td>\n",
              "      <td>0.907772</td>\n",
              "      <td>0.670000</td>\n",
              "      <td>0.235972</td>\n",
              "      <td>0.259386</td>\n",
              "      <td>0.242703</td>\n",
              "    </tr>\n",
              "    <tr>\n",
              "      <td>4</td>\n",
              "      <td>0.838700</td>\n",
              "      <td>0.907211</td>\n",
              "      <td>0.655000</td>\n",
              "      <td>0.245154</td>\n",
              "      <td>0.252575</td>\n",
              "      <td>0.250228</td>\n",
              "    </tr>\n",
              "  </tbody>\n",
              "</table><p>"
            ],
            "text/plain": [
              "<IPython.core.display.HTML object>"
            ]
          },
          "metadata": {},
          "output_type": "display_data"
        },
        {
          "data": {
            "text/html": [
              "\n",
              "    <div>\n",
              "      \n",
              "      <progress value='188' max='188' style='width:300px; height:20px; vertical-align: middle;'></progress>\n",
              "      [188/188 00:32]\n",
              "    </div>\n",
              "    "
            ],
            "text/plain": [
              "<IPython.core.display.HTML object>"
            ]
          },
          "metadata": {},
          "output_type": "display_data"
        },
        {
          "name": "stderr",
          "output_type": "stream",
          "text": [
            "/tmp/ipython-input-337047085.py:37: FutureWarning: `tokenizer` is deprecated and will be removed in version 5.0.0 for `Trainer.__init__`. Use `processing_class` instead.\n",
            "  trainer = Trainer(\n"
          ]
        },
        {
          "data": {
            "text/html": [
              "\n",
              "    <div>\n",
              "      \n",
              "      <progress value='108' max='108' style='width:300px; height:20px; vertical-align: middle;'></progress>\n",
              "      [108/108 01:06, Epoch 4/4]\n",
              "    </div>\n",
              "    <table border=\"1\" class=\"dataframe\">\n",
              "  <thead>\n",
              " <tr style=\"text-align: left;\">\n",
              "      <th>Epoch</th>\n",
              "      <th>Training Loss</th>\n",
              "      <th>Validation Loss</th>\n",
              "      <th>Accuracy</th>\n",
              "      <th>F1-macro</th>\n",
              "      <th>Precision</th>\n",
              "      <th>Recall</th>\n",
              "    </tr>\n",
              "  </thead>\n",
              "  <tbody>\n",
              "    <tr>\n",
              "      <td>1</td>\n",
              "      <td>1.107300</td>\n",
              "      <td>0.838651</td>\n",
              "      <td>0.763441</td>\n",
              "      <td>0.216463</td>\n",
              "      <td>0.190860</td>\n",
              "      <td>0.250000</td>\n",
              "    </tr>\n",
              "    <tr>\n",
              "      <td>2</td>\n",
              "      <td>0.868000</td>\n",
              "      <td>0.793984</td>\n",
              "      <td>0.763441</td>\n",
              "      <td>0.216463</td>\n",
              "      <td>0.190860</td>\n",
              "      <td>0.250000</td>\n",
              "    </tr>\n",
              "    <tr>\n",
              "      <td>3</td>\n",
              "      <td>0.858700</td>\n",
              "      <td>0.786022</td>\n",
              "      <td>0.763441</td>\n",
              "      <td>0.216463</td>\n",
              "      <td>0.190860</td>\n",
              "      <td>0.250000</td>\n",
              "    </tr>\n",
              "    <tr>\n",
              "      <td>4</td>\n",
              "      <td>0.785700</td>\n",
              "      <td>0.784706</td>\n",
              "      <td>0.763441</td>\n",
              "      <td>0.216463</td>\n",
              "      <td>0.190860</td>\n",
              "      <td>0.250000</td>\n",
              "    </tr>\n",
              "  </tbody>\n",
              "</table><p>"
            ],
            "text/plain": [
              "<IPython.core.display.HTML object>"
            ]
          },
          "metadata": {},
          "output_type": "display_data"
        },
        {
          "data": {
            "text/html": [
              "\n",
              "    <div>\n",
              "      \n",
              "      <progress value='29' max='29' style='width:300px; height:20px; vertical-align: middle;'></progress>\n",
              "      [29/29 00:05]\n",
              "    </div>\n",
              "    "
            ],
            "text/plain": [
              "<IPython.core.display.HTML object>"
            ]
          },
          "metadata": {},
          "output_type": "display_data"
        },
        {
          "name": "stderr",
          "output_type": "stream",
          "text": [
            "/tmp/ipython-input-337047085.py:37: FutureWarning: `tokenizer` is deprecated and will be removed in version 5.0.0 for `Trainer.__init__`. Use `processing_class` instead.\n",
            "  trainer = Trainer(\n"
          ]
        },
        {
          "data": {
            "text/html": [
              "\n",
              "    <div>\n",
              "      \n",
              "      <progress value='676' max='676' style='width:300px; height:20px; vertical-align: middle;'></progress>\n",
              "      [676/676 07:06, Epoch 4/4]\n",
              "    </div>\n",
              "    <table border=\"1\" class=\"dataframe\">\n",
              "  <thead>\n",
              " <tr style=\"text-align: left;\">\n",
              "      <th>Epoch</th>\n",
              "      <th>Training Loss</th>\n",
              "      <th>Validation Loss</th>\n",
              "      <th>Accuracy</th>\n",
              "      <th>F1-macro</th>\n",
              "      <th>Precision</th>\n",
              "      <th>Recall</th>\n",
              "    </tr>\n",
              "  </thead>\n",
              "  <tbody>\n",
              "    <tr>\n",
              "      <td>1</td>\n",
              "      <td>0.968900</td>\n",
              "      <td>1.029810</td>\n",
              "      <td>0.638333</td>\n",
              "      <td>0.159841</td>\n",
              "      <td>0.227759</td>\n",
              "      <td>0.201561</td>\n",
              "    </tr>\n",
              "    <tr>\n",
              "      <td>2</td>\n",
              "      <td>0.955400</td>\n",
              "      <td>0.991321</td>\n",
              "      <td>0.621667</td>\n",
              "      <td>0.230263</td>\n",
              "      <td>0.205527</td>\n",
              "      <td>0.265029</td>\n",
              "    </tr>\n",
              "    <tr>\n",
              "      <td>3</td>\n",
              "      <td>0.829200</td>\n",
              "      <td>0.975256</td>\n",
              "      <td>0.646667</td>\n",
              "      <td>0.228162</td>\n",
              "      <td>0.208000</td>\n",
              "      <td>0.254129</td>\n",
              "    </tr>\n",
              "    <tr>\n",
              "      <td>4</td>\n",
              "      <td>0.891200</td>\n",
              "      <td>0.977443</td>\n",
              "      <td>0.625000</td>\n",
              "      <td>0.230294</td>\n",
              "      <td>0.205655</td>\n",
              "      <td>0.262951</td>\n",
              "    </tr>\n",
              "  </tbody>\n",
              "</table><p>"
            ],
            "text/plain": [
              "<IPython.core.display.HTML object>"
            ]
          },
          "metadata": {},
          "output_type": "display_data"
        },
        {
          "data": {
            "text/html": [
              "\n",
              "    <div>\n",
              "      \n",
              "      <progress value='188' max='188' style='width:300px; height:20px; vertical-align: middle;'></progress>\n",
              "      [188/188 00:32]\n",
              "    </div>\n",
              "    "
            ],
            "text/plain": [
              "<IPython.core.display.HTML object>"
            ]
          },
          "metadata": {},
          "output_type": "display_data"
        },
        {
          "name": "stderr",
          "output_type": "stream",
          "text": [
            "[I 2025-09-21 18:56:42,287] Trial 4 finished with value: 0.18853172949006544 and parameters: {'learning_rate': 1.5191070477141732e-05, 'batch_size': 32, 'num_train_epochs': 4}. Best is trial 2 with value: 0.3393988302804505.\n",
            "/tmp/ipython-input-337047085.py:37: FutureWarning: `tokenizer` is deprecated and will be removed in version 5.0.0 for `Trainer.__init__`. Use `processing_class` instead.\n",
            "  trainer = Trainer(\n"
          ]
        },
        {
          "data": {
            "text/html": [
              "\n",
              "    <div>\n",
              "      \n",
              "      <progress value='220' max='220' style='width:300px; height:20px; vertical-align: middle;'></progress>\n",
              "      [220/220 00:38, Epoch 2/2]\n",
              "    </div>\n",
              "    <table border=\"1\" class=\"dataframe\">\n",
              "  <thead>\n",
              " <tr style=\"text-align: left;\">\n",
              "      <th>Epoch</th>\n",
              "      <th>Training Loss</th>\n",
              "      <th>Validation Loss</th>\n",
              "      <th>Accuracy</th>\n",
              "      <th>F1-macro</th>\n",
              "      <th>Precision</th>\n",
              "      <th>Recall</th>\n",
              "    </tr>\n",
              "  </thead>\n",
              "  <tbody>\n",
              "    <tr>\n",
              "      <td>1</td>\n",
              "      <td>1.123500</td>\n",
              "      <td>0.954748</td>\n",
              "      <td>0.701031</td>\n",
              "      <td>0.164848</td>\n",
              "      <td>0.140206</td>\n",
              "      <td>0.200000</td>\n",
              "    </tr>\n",
              "    <tr>\n",
              "      <td>2</td>\n",
              "      <td>0.761200</td>\n",
              "      <td>0.913115</td>\n",
              "      <td>0.721649</td>\n",
              "      <td>0.244620</td>\n",
              "      <td>0.234603</td>\n",
              "      <td>0.263725</td>\n",
              "    </tr>\n",
              "  </tbody>\n",
              "</table><p>"
            ],
            "text/plain": [
              "<IPython.core.display.HTML object>"
            ]
          },
          "metadata": {},
          "output_type": "display_data"
        },
        {
          "data": {
            "text/html": [
              "\n",
              "    <div>\n",
              "      \n",
              "      <progress value='122' max='122' style='width:300px; height:20px; vertical-align: middle;'></progress>\n",
              "      [122/122 00:05]\n",
              "    </div>\n",
              "    "
            ],
            "text/plain": [
              "<IPython.core.display.HTML object>"
            ]
          },
          "metadata": {},
          "output_type": "display_data"
        },
        {
          "name": "stderr",
          "output_type": "stream",
          "text": [
            "/tmp/ipython-input-337047085.py:37: FutureWarning: `tokenizer` is deprecated and will be removed in version 5.0.0 for `Trainer.__init__`. Use `processing_class` instead.\n",
            "  trainer = Trainer(\n"
          ]
        },
        {
          "data": {
            "text/html": [
              "\n",
              "    <div>\n",
              "      \n",
              "      <progress value='1350' max='1350' style='width:300px; height:20px; vertical-align: middle;'></progress>\n",
              "      [1350/1350 03:50, Epoch 2/2]\n",
              "    </div>\n",
              "    <table border=\"1\" class=\"dataframe\">\n",
              "  <thead>\n",
              " <tr style=\"text-align: left;\">\n",
              "      <th>Epoch</th>\n",
              "      <th>Training Loss</th>\n",
              "      <th>Validation Loss</th>\n",
              "      <th>Accuracy</th>\n",
              "      <th>F1-macro</th>\n",
              "      <th>Precision</th>\n",
              "      <th>Recall</th>\n",
              "    </tr>\n",
              "  </thead>\n",
              "  <tbody>\n",
              "    <tr>\n",
              "      <td>1</td>\n",
              "      <td>0.828700</td>\n",
              "      <td>0.721394</td>\n",
              "      <td>0.755000</td>\n",
              "      <td>0.172080</td>\n",
              "      <td>0.151000</td>\n",
              "      <td>0.200000</td>\n",
              "    </tr>\n",
              "    <tr>\n",
              "      <td>2</td>\n",
              "      <td>0.716700</td>\n",
              "      <td>0.777091</td>\n",
              "      <td>0.741667</td>\n",
              "      <td>0.246490</td>\n",
              "      <td>0.231179</td>\n",
              "      <td>0.264391</td>\n",
              "    </tr>\n",
              "  </tbody>\n",
              "</table><p>"
            ],
            "text/plain": [
              "<IPython.core.display.HTML object>"
            ]
          },
          "metadata": {},
          "output_type": "display_data"
        },
        {
          "data": {
            "text/html": [
              "\n",
              "    <div>\n",
              "      \n",
              "      <progress value='750' max='750' style='width:300px; height:20px; vertical-align: middle;'></progress>\n",
              "      [750/750 00:33]\n",
              "    </div>\n",
              "    "
            ],
            "text/plain": [
              "<IPython.core.display.HTML object>"
            ]
          },
          "metadata": {},
          "output_type": "display_data"
        },
        {
          "name": "stderr",
          "output_type": "stream",
          "text": [
            "/tmp/ipython-input-337047085.py:37: FutureWarning: `tokenizer` is deprecated and will be removed in version 5.0.0 for `Trainer.__init__`. Use `processing_class` instead.\n",
            "  trainer = Trainer(\n"
          ]
        },
        {
          "data": {
            "text/html": [
              "\n",
              "    <div>\n",
              "      \n",
              "      <progress value='280' max='280' style='width:300px; height:20px; vertical-align: middle;'></progress>\n",
              "      [280/280 00:46, Epoch 2/2]\n",
              "    </div>\n",
              "    <table border=\"1\" class=\"dataframe\">\n",
              "  <thead>\n",
              " <tr style=\"text-align: left;\">\n",
              "      <th>Epoch</th>\n",
              "      <th>Training Loss</th>\n",
              "      <th>Validation Loss</th>\n",
              "      <th>Accuracy</th>\n",
              "      <th>F1-macro</th>\n",
              "      <th>Precision</th>\n",
              "      <th>Recall</th>\n",
              "    </tr>\n",
              "  </thead>\n",
              "  <tbody>\n",
              "    <tr>\n",
              "      <td>1</td>\n",
              "      <td>1.094900</td>\n",
              "      <td>1.096736</td>\n",
              "      <td>0.512000</td>\n",
              "      <td>0.208747</td>\n",
              "      <td>0.184000</td>\n",
              "      <td>0.254545</td>\n",
              "    </tr>\n",
              "    <tr>\n",
              "      <td>2</td>\n",
              "      <td>0.821900</td>\n",
              "      <td>1.111984</td>\n",
              "      <td>0.528000</td>\n",
              "      <td>0.223415</td>\n",
              "      <td>0.198701</td>\n",
              "      <td>0.278788</td>\n",
              "    </tr>\n",
              "  </tbody>\n",
              "</table><p>"
            ],
            "text/plain": [
              "<IPython.core.display.HTML object>"
            ]
          },
          "metadata": {},
          "output_type": "display_data"
        },
        {
          "data": {
            "text/html": [
              "\n",
              "    <div>\n",
              "      \n",
              "      <progress value='156' max='156' style='width:300px; height:20px; vertical-align: middle;'></progress>\n",
              "      [156/156 00:06]\n",
              "    </div>\n",
              "    "
            ],
            "text/plain": [
              "<IPython.core.display.HTML object>"
            ]
          },
          "metadata": {},
          "output_type": "display_data"
        },
        {
          "name": "stderr",
          "output_type": "stream",
          "text": [
            "/tmp/ipython-input-337047085.py:37: FutureWarning: `tokenizer` is deprecated and will be removed in version 5.0.0 for `Trainer.__init__`. Use `processing_class` instead.\n",
            "  trainer = Trainer(\n"
          ]
        },
        {
          "data": {
            "text/html": [
              "\n",
              "    <div>\n",
              "      \n",
              "      <progress value='314' max='314' style='width:300px; height:20px; vertical-align: middle;'></progress>\n",
              "      [314/314 00:54, Epoch 2/2]\n",
              "    </div>\n",
              "    <table border=\"1\" class=\"dataframe\">\n",
              "  <thead>\n",
              " <tr style=\"text-align: left;\">\n",
              "      <th>Epoch</th>\n",
              "      <th>Training Loss</th>\n",
              "      <th>Validation Loss</th>\n",
              "      <th>Accuracy</th>\n",
              "      <th>F1-macro</th>\n",
              "      <th>Precision</th>\n",
              "      <th>Recall</th>\n",
              "    </tr>\n",
              "  </thead>\n",
              "  <tbody>\n",
              "    <tr>\n",
              "      <td>1</td>\n",
              "      <td>0.884600</td>\n",
              "      <td>1.108767</td>\n",
              "      <td>0.628571</td>\n",
              "      <td>0.154386</td>\n",
              "      <td>0.125714</td>\n",
              "      <td>0.200000</td>\n",
              "    </tr>\n",
              "    <tr>\n",
              "      <td>2</td>\n",
              "      <td>0.822900</td>\n",
              "      <td>1.036505</td>\n",
              "      <td>0.642857</td>\n",
              "      <td>0.191925</td>\n",
              "      <td>0.229412</td>\n",
              "      <td>0.221053</td>\n",
              "    </tr>\n",
              "  </tbody>\n",
              "</table><p>"
            ],
            "text/plain": [
              "<IPython.core.display.HTML object>"
            ]
          },
          "metadata": {},
          "output_type": "display_data"
        },
        {
          "data": {
            "text/html": [
              "\n",
              "    <div>\n",
              "      \n",
              "      <progress value='175' max='175' style='width:300px; height:20px; vertical-align: middle;'></progress>\n",
              "      [175/175 00:07]\n",
              "    </div>\n",
              "    "
            ],
            "text/plain": [
              "<IPython.core.display.HTML object>"
            ]
          },
          "metadata": {},
          "output_type": "display_data"
        },
        {
          "name": "stderr",
          "output_type": "stream",
          "text": [
            "/tmp/ipython-input-337047085.py:37: FutureWarning: `tokenizer` is deprecated and will be removed in version 5.0.0 for `Trainer.__init__`. Use `processing_class` instead.\n",
            "  trainer = Trainer(\n"
          ]
        },
        {
          "data": {
            "text/html": [
              "\n",
              "    <div>\n",
              "      \n",
              "      <progress value='350' max='350' style='width:300px; height:20px; vertical-align: middle;'></progress>\n",
              "      [350/350 01:01, Epoch 2/2]\n",
              "    </div>\n",
              "    <table border=\"1\" class=\"dataframe\">\n",
              "  <thead>\n",
              " <tr style=\"text-align: left;\">\n",
              "      <th>Epoch</th>\n",
              "      <th>Training Loss</th>\n",
              "      <th>Validation Loss</th>\n",
              "      <th>Accuracy</th>\n",
              "      <th>F1-macro</th>\n",
              "      <th>Precision</th>\n",
              "      <th>Recall</th>\n",
              "    </tr>\n",
              "  </thead>\n",
              "  <tbody>\n",
              "    <tr>\n",
              "      <td>1</td>\n",
              "      <td>0.889500</td>\n",
              "      <td>1.099956</td>\n",
              "      <td>0.602564</td>\n",
              "      <td>0.150400</td>\n",
              "      <td>0.120513</td>\n",
              "      <td>0.200000</td>\n",
              "    </tr>\n",
              "    <tr>\n",
              "      <td>2</td>\n",
              "      <td>0.899300</td>\n",
              "      <td>1.004937</td>\n",
              "      <td>0.621795</td>\n",
              "      <td>0.235348</td>\n",
              "      <td>0.219808</td>\n",
              "      <td>0.256596</td>\n",
              "    </tr>\n",
              "  </tbody>\n",
              "</table><p>"
            ],
            "text/plain": [
              "<IPython.core.display.HTML object>"
            ]
          },
          "metadata": {},
          "output_type": "display_data"
        },
        {
          "data": {
            "text/html": [
              "\n",
              "    <div>\n",
              "      \n",
              "      <progress value='194' max='194' style='width:300px; height:20px; vertical-align: middle;'></progress>\n",
              "      [194/194 00:08]\n",
              "    </div>\n",
              "    "
            ],
            "text/plain": [
              "<IPython.core.display.HTML object>"
            ]
          },
          "metadata": {},
          "output_type": "display_data"
        },
        {
          "name": "stderr",
          "output_type": "stream",
          "text": [
            "/tmp/ipython-input-337047085.py:37: FutureWarning: `tokenizer` is deprecated and will be removed in version 5.0.0 for `Trainer.__init__`. Use `processing_class` instead.\n",
            "  trainer = Trainer(\n"
          ]
        },
        {
          "data": {
            "text/html": [
              "\n",
              "    <div>\n",
              "      \n",
              "      <progress value='282' max='282' style='width:300px; height:20px; vertical-align: middle;'></progress>\n",
              "      [282/282 00:47, Epoch 2/2]\n",
              "    </div>\n",
              "    <table border=\"1\" class=\"dataframe\">\n",
              "  <thead>\n",
              " <tr style=\"text-align: left;\">\n",
              "      <th>Epoch</th>\n",
              "      <th>Training Loss</th>\n",
              "      <th>Validation Loss</th>\n",
              "      <th>Accuracy</th>\n",
              "      <th>F1-macro</th>\n",
              "      <th>Precision</th>\n",
              "      <th>Recall</th>\n",
              "    </tr>\n",
              "  </thead>\n",
              "  <tbody>\n",
              "    <tr>\n",
              "      <td>1</td>\n",
              "      <td>1.086100</td>\n",
              "      <td>1.092453</td>\n",
              "      <td>0.568000</td>\n",
              "      <td>0.194268</td>\n",
              "      <td>0.171797</td>\n",
              "      <td>0.223684</td>\n",
              "    </tr>\n",
              "    <tr>\n",
              "      <td>2</td>\n",
              "      <td>1.192700</td>\n",
              "      <td>1.109023</td>\n",
              "      <td>0.600000</td>\n",
              "      <td>0.203815</td>\n",
              "      <td>0.180733</td>\n",
              "      <td>0.234211</td>\n",
              "    </tr>\n",
              "  </tbody>\n",
              "</table><p>"
            ],
            "text/plain": [
              "<IPython.core.display.HTML object>"
            ]
          },
          "metadata": {},
          "output_type": "display_data"
        },
        {
          "data": {
            "text/html": [
              "\n",
              "    <div>\n",
              "      \n",
              "      <progress value='156' max='156' style='width:300px; height:20px; vertical-align: middle;'></progress>\n",
              "      [156/156 00:06]\n",
              "    </div>\n",
              "    "
            ],
            "text/plain": [
              "<IPython.core.display.HTML object>"
            ]
          },
          "metadata": {},
          "output_type": "display_data"
        },
        {
          "name": "stderr",
          "output_type": "stream",
          "text": [
            "/tmp/ipython-input-337047085.py:37: FutureWarning: `tokenizer` is deprecated and will be removed in version 5.0.0 for `Trainer.__init__`. Use `processing_class` instead.\n",
            "  trainer = Trainer(\n"
          ]
        },
        {
          "data": {
            "text/html": [
              "\n",
              "    <div>\n",
              "      \n",
              "      <progress value='416' max='416' style='width:300px; height:20px; vertical-align: middle;'></progress>\n",
              "      [416/416 01:11, Epoch 2/2]\n",
              "    </div>\n",
              "    <table border=\"1\" class=\"dataframe\">\n",
              "  <thead>\n",
              " <tr style=\"text-align: left;\">\n",
              "      <th>Epoch</th>\n",
              "      <th>Training Loss</th>\n",
              "      <th>Validation Loss</th>\n",
              "      <th>Accuracy</th>\n",
              "      <th>F1-macro</th>\n",
              "      <th>Precision</th>\n",
              "      <th>Recall</th>\n",
              "    </tr>\n",
              "  </thead>\n",
              "  <tbody>\n",
              "    <tr>\n",
              "      <td>1</td>\n",
              "      <td>0.804900</td>\n",
              "      <td>0.706558</td>\n",
              "      <td>0.794595</td>\n",
              "      <td>0.177108</td>\n",
              "      <td>0.158919</td>\n",
              "      <td>0.200000</td>\n",
              "    </tr>\n",
              "    <tr>\n",
              "      <td>2</td>\n",
              "      <td>0.879600</td>\n",
              "      <td>0.708310</td>\n",
              "      <td>0.800000</td>\n",
              "      <td>0.231894</td>\n",
              "      <td>0.460440</td>\n",
              "      <td>0.229751</td>\n",
              "    </tr>\n",
              "  </tbody>\n",
              "</table><p>"
            ],
            "text/plain": [
              "<IPython.core.display.HTML object>"
            ]
          },
          "metadata": {},
          "output_type": "display_data"
        },
        {
          "data": {
            "text/html": [
              "\n",
              "    <div>\n",
              "      \n",
              "      <progress value='232' max='232' style='width:300px; height:20px; vertical-align: middle;'></progress>\n",
              "      [232/232 00:10]\n",
              "    </div>\n",
              "    "
            ],
            "text/plain": [
              "<IPython.core.display.HTML object>"
            ]
          },
          "metadata": {},
          "output_type": "display_data"
        },
        {
          "name": "stderr",
          "output_type": "stream",
          "text": [
            "/tmp/ipython-input-337047085.py:37: FutureWarning: `tokenizer` is deprecated and will be removed in version 5.0.0 for `Trainer.__init__`. Use `processing_class` instead.\n",
            "  trainer = Trainer(\n"
          ]
        },
        {
          "data": {
            "text/html": [
              "\n",
              "    <div>\n",
              "      \n",
              "      <progress value='658' max='658' style='width:300px; height:20px; vertical-align: middle;'></progress>\n",
              "      [658/658 01:51, Epoch 2/2]\n",
              "    </div>\n",
              "    <table border=\"1\" class=\"dataframe\">\n",
              "  <thead>\n",
              " <tr style=\"text-align: left;\">\n",
              "      <th>Epoch</th>\n",
              "      <th>Training Loss</th>\n",
              "      <th>Validation Loss</th>\n",
              "      <th>Accuracy</th>\n",
              "      <th>F1-macro</th>\n",
              "      <th>Precision</th>\n",
              "      <th>Recall</th>\n",
              "    </tr>\n",
              "  </thead>\n",
              "  <tbody>\n",
              "    <tr>\n",
              "      <td>1</td>\n",
              "      <td>0.949900</td>\n",
              "      <td>0.966969</td>\n",
              "      <td>0.699659</td>\n",
              "      <td>0.164659</td>\n",
              "      <td>0.139932</td>\n",
              "      <td>0.200000</td>\n",
              "    </tr>\n",
              "    <tr>\n",
              "      <td>2</td>\n",
              "      <td>0.738600</td>\n",
              "      <td>0.960406</td>\n",
              "      <td>0.699659</td>\n",
              "      <td>0.164659</td>\n",
              "      <td>0.139932</td>\n",
              "      <td>0.200000</td>\n",
              "    </tr>\n",
              "  </tbody>\n",
              "</table><p>"
            ],
            "text/plain": [
              "<IPython.core.display.HTML object>"
            ]
          },
          "metadata": {},
          "output_type": "display_data"
        },
        {
          "data": {
            "text/html": [
              "\n",
              "    <div>\n",
              "      \n",
              "      <progress value='366' max='366' style='width:300px; height:20px; vertical-align: middle;'></progress>\n",
              "      [366/366 00:15]\n",
              "    </div>\n",
              "    "
            ],
            "text/plain": [
              "<IPython.core.display.HTML object>"
            ]
          },
          "metadata": {},
          "output_type": "display_data"
        },
        {
          "name": "stderr",
          "output_type": "stream",
          "text": [
            "/tmp/ipython-input-337047085.py:37: FutureWarning: `tokenizer` is deprecated and will be removed in version 5.0.0 for `Trainer.__init__`. Use `processing_class` instead.\n",
            "  trainer = Trainer(\n"
          ]
        },
        {
          "data": {
            "text/html": [
              "\n",
              "    <div>\n",
              "      \n",
              "      <progress value='1350' max='1350' style='width:300px; height:20px; vertical-align: middle;'></progress>\n",
              "      [1350/1350 03:50, Epoch 2/2]\n",
              "    </div>\n",
              "    <table border=\"1\" class=\"dataframe\">\n",
              "  <thead>\n",
              " <tr style=\"text-align: left;\">\n",
              "      <th>Epoch</th>\n",
              "      <th>Training Loss</th>\n",
              "      <th>Validation Loss</th>\n",
              "      <th>Accuracy</th>\n",
              "      <th>F1-macro</th>\n",
              "      <th>Precision</th>\n",
              "      <th>Recall</th>\n",
              "    </tr>\n",
              "  </thead>\n",
              "  <tbody>\n",
              "    <tr>\n",
              "      <td>1</td>\n",
              "      <td>0.973500</td>\n",
              "      <td>0.902655</td>\n",
              "      <td>0.678333</td>\n",
              "      <td>0.216310</td>\n",
              "      <td>0.284161</td>\n",
              "      <td>0.229780</td>\n",
              "    </tr>\n",
              "    <tr>\n",
              "      <td>2</td>\n",
              "      <td>0.713300</td>\n",
              "      <td>0.966534</td>\n",
              "      <td>0.630000</td>\n",
              "      <td>0.274896</td>\n",
              "      <td>0.266482</td>\n",
              "      <td>0.283909</td>\n",
              "    </tr>\n",
              "  </tbody>\n",
              "</table><p>"
            ],
            "text/plain": [
              "<IPython.core.display.HTML object>"
            ]
          },
          "metadata": {},
          "output_type": "display_data"
        },
        {
          "data": {
            "text/html": [
              "\n",
              "    <div>\n",
              "      \n",
              "      <progress value='750' max='750' style='width:300px; height:20px; vertical-align: middle;'></progress>\n",
              "      [750/750 00:32]\n",
              "    </div>\n",
              "    "
            ],
            "text/plain": [
              "<IPython.core.display.HTML object>"
            ]
          },
          "metadata": {},
          "output_type": "display_data"
        },
        {
          "name": "stderr",
          "output_type": "stream",
          "text": [
            "/tmp/ipython-input-337047085.py:37: FutureWarning: `tokenizer` is deprecated and will be removed in version 5.0.0 for `Trainer.__init__`. Use `processing_class` instead.\n",
            "  trainer = Trainer(\n"
          ]
        },
        {
          "data": {
            "text/html": [
              "\n",
              "    <div>\n",
              "      \n",
              "      <progress value='210' max='210' style='width:300px; height:20px; vertical-align: middle;'></progress>\n",
              "      [210/210 00:35, Epoch 2/2]\n",
              "    </div>\n",
              "    <table border=\"1\" class=\"dataframe\">\n",
              "  <thead>\n",
              " <tr style=\"text-align: left;\">\n",
              "      <th>Epoch</th>\n",
              "      <th>Training Loss</th>\n",
              "      <th>Validation Loss</th>\n",
              "      <th>Accuracy</th>\n",
              "      <th>F1-macro</th>\n",
              "      <th>Precision</th>\n",
              "      <th>Recall</th>\n",
              "    </tr>\n",
              "  </thead>\n",
              "  <tbody>\n",
              "    <tr>\n",
              "      <td>1</td>\n",
              "      <td>0.772600</td>\n",
              "      <td>0.774151</td>\n",
              "      <td>0.763441</td>\n",
              "      <td>0.216463</td>\n",
              "      <td>0.190860</td>\n",
              "      <td>0.250000</td>\n",
              "    </tr>\n",
              "    <tr>\n",
              "      <td>2</td>\n",
              "      <td>0.872500</td>\n",
              "      <td>0.761213</td>\n",
              "      <td>0.763441</td>\n",
              "      <td>0.216463</td>\n",
              "      <td>0.190860</td>\n",
              "      <td>0.250000</td>\n",
              "    </tr>\n",
              "  </tbody>\n",
              "</table><p>"
            ],
            "text/plain": [
              "<IPython.core.display.HTML object>"
            ]
          },
          "metadata": {},
          "output_type": "display_data"
        },
        {
          "data": {
            "text/html": [
              "\n",
              "    <div>\n",
              "      \n",
              "      <progress value='116' max='116' style='width:300px; height:20px; vertical-align: middle;'></progress>\n",
              "      [116/116 00:05]\n",
              "    </div>\n",
              "    "
            ],
            "text/plain": [
              "<IPython.core.display.HTML object>"
            ]
          },
          "metadata": {},
          "output_type": "display_data"
        },
        {
          "name": "stderr",
          "output_type": "stream",
          "text": [
            "/tmp/ipython-input-337047085.py:37: FutureWarning: `tokenizer` is deprecated and will be removed in version 5.0.0 for `Trainer.__init__`. Use `processing_class` instead.\n",
            "  trainer = Trainer(\n"
          ]
        },
        {
          "data": {
            "text/html": [
              "\n",
              "    <div>\n",
              "      \n",
              "      <progress value='1350' max='1350' style='width:300px; height:20px; vertical-align: middle;'></progress>\n",
              "      [1350/1350 03:51, Epoch 2/2]\n",
              "    </div>\n",
              "    <table border=\"1\" class=\"dataframe\">\n",
              "  <thead>\n",
              " <tr style=\"text-align: left;\">\n",
              "      <th>Epoch</th>\n",
              "      <th>Training Loss</th>\n",
              "      <th>Validation Loss</th>\n",
              "      <th>Accuracy</th>\n",
              "      <th>F1-macro</th>\n",
              "      <th>Precision</th>\n",
              "      <th>Recall</th>\n",
              "    </tr>\n",
              "  </thead>\n",
              "  <tbody>\n",
              "    <tr>\n",
              "      <td>1</td>\n",
              "      <td>0.924700</td>\n",
              "      <td>0.966056</td>\n",
              "      <td>0.640000</td>\n",
              "      <td>0.233059</td>\n",
              "      <td>0.209275</td>\n",
              "      <td>0.262968</td>\n",
              "    </tr>\n",
              "    <tr>\n",
              "      <td>2</td>\n",
              "      <td>0.813800</td>\n",
              "      <td>1.014637</td>\n",
              "      <td>0.618333</td>\n",
              "      <td>0.235472</td>\n",
              "      <td>0.210242</td>\n",
              "      <td>0.276474</td>\n",
              "    </tr>\n",
              "  </tbody>\n",
              "</table><p>"
            ],
            "text/plain": [
              "<IPython.core.display.HTML object>"
            ]
          },
          "metadata": {},
          "output_type": "display_data"
        },
        {
          "data": {
            "text/html": [
              "\n",
              "    <div>\n",
              "      \n",
              "      <progress value='750' max='750' style='width:300px; height:20px; vertical-align: middle;'></progress>\n",
              "      [750/750 00:33]\n",
              "    </div>\n",
              "    "
            ],
            "text/plain": [
              "<IPython.core.display.HTML object>"
            ]
          },
          "metadata": {},
          "output_type": "display_data"
        },
        {
          "name": "stderr",
          "output_type": "stream",
          "text": [
            "[I 2025-09-21 19:18:57,312] Trial 5 finished with value: 0.26030276677453235 and parameters: {'learning_rate': 4.938606244415787e-05, 'batch_size': 8, 'num_train_epochs': 2}. Best is trial 2 with value: 0.3393988302804505.\n",
            "/tmp/ipython-input-337047085.py:37: FutureWarning: `tokenizer` is deprecated and will be removed in version 5.0.0 for `Trainer.__init__`. Use `processing_class` instead.\n",
            "  trainer = Trainer(\n"
          ]
        },
        {
          "data": {
            "text/html": [
              "\n",
              "    <div>\n",
              "      \n",
              "      <progress value='440' max='440' style='width:300px; height:20px; vertical-align: middle;'></progress>\n",
              "      [440/440 01:15, Epoch 4/4]\n",
              "    </div>\n",
              "    <table border=\"1\" class=\"dataframe\">\n",
              "  <thead>\n",
              " <tr style=\"text-align: left;\">\n",
              "      <th>Epoch</th>\n",
              "      <th>Training Loss</th>\n",
              "      <th>Validation Loss</th>\n",
              "      <th>Accuracy</th>\n",
              "      <th>F1-macro</th>\n",
              "      <th>Precision</th>\n",
              "      <th>Recall</th>\n",
              "    </tr>\n",
              "  </thead>\n",
              "  <tbody>\n",
              "    <tr>\n",
              "      <td>1</td>\n",
              "      <td>1.083300</td>\n",
              "      <td>0.957008</td>\n",
              "      <td>0.701031</td>\n",
              "      <td>0.164848</td>\n",
              "      <td>0.140206</td>\n",
              "      <td>0.200000</td>\n",
              "    </tr>\n",
              "    <tr>\n",
              "      <td>2</td>\n",
              "      <td>0.715700</td>\n",
              "      <td>0.894527</td>\n",
              "      <td>0.680412</td>\n",
              "      <td>0.230443</td>\n",
              "      <td>0.203086</td>\n",
              "      <td>0.271242</td>\n",
              "    </tr>\n",
              "    <tr>\n",
              "      <td>3</td>\n",
              "      <td>0.860500</td>\n",
              "      <td>0.987430</td>\n",
              "      <td>0.608247</td>\n",
              "      <td>0.205332</td>\n",
              "      <td>0.186930</td>\n",
              "      <td>0.250654</td>\n",
              "    </tr>\n",
              "    <tr>\n",
              "      <td>4</td>\n",
              "      <td>0.526800</td>\n",
              "      <td>1.047850</td>\n",
              "      <td>0.608247</td>\n",
              "      <td>0.208273</td>\n",
              "      <td>0.189712</td>\n",
              "      <td>0.250654</td>\n",
              "    </tr>\n",
              "  </tbody>\n",
              "</table><p>"
            ],
            "text/plain": [
              "<IPython.core.display.HTML object>"
            ]
          },
          "metadata": {},
          "output_type": "display_data"
        },
        {
          "data": {
            "text/html": [
              "\n",
              "    <div>\n",
              "      \n",
              "      <progress value='122' max='122' style='width:300px; height:20px; vertical-align: middle;'></progress>\n",
              "      [122/122 00:05]\n",
              "    </div>\n",
              "    "
            ],
            "text/plain": [
              "<IPython.core.display.HTML object>"
            ]
          },
          "metadata": {},
          "output_type": "display_data"
        },
        {
          "name": "stderr",
          "output_type": "stream",
          "text": [
            "/tmp/ipython-input-337047085.py:37: FutureWarning: `tokenizer` is deprecated and will be removed in version 5.0.0 for `Trainer.__init__`. Use `processing_class` instead.\n",
            "  trainer = Trainer(\n"
          ]
        },
        {
          "data": {
            "text/html": [
              "\n",
              "    <div>\n",
              "      \n",
              "      <progress value='2700' max='2700' style='width:300px; height:20px; vertical-align: middle;'></progress>\n",
              "      [2700/2700 07:41, Epoch 4/4]\n",
              "    </div>\n",
              "    <table border=\"1\" class=\"dataframe\">\n",
              "  <thead>\n",
              " <tr style=\"text-align: left;\">\n",
              "      <th>Epoch</th>\n",
              "      <th>Training Loss</th>\n",
              "      <th>Validation Loss</th>\n",
              "      <th>Accuracy</th>\n",
              "      <th>F1-macro</th>\n",
              "      <th>Precision</th>\n",
              "      <th>Recall</th>\n",
              "    </tr>\n",
              "  </thead>\n",
              "  <tbody>\n",
              "    <tr>\n",
              "      <td>1</td>\n",
              "      <td>0.782500</td>\n",
              "      <td>0.722668</td>\n",
              "      <td>0.755000</td>\n",
              "      <td>0.172080</td>\n",
              "      <td>0.151000</td>\n",
              "      <td>0.200000</td>\n",
              "    </tr>\n",
              "    <tr>\n",
              "      <td>2</td>\n",
              "      <td>0.695100</td>\n",
              "      <td>0.743923</td>\n",
              "      <td>0.750000</td>\n",
              "      <td>0.243038</td>\n",
              "      <td>0.231889</td>\n",
              "      <td>0.255986</td>\n",
              "    </tr>\n",
              "    <tr>\n",
              "      <td>3</td>\n",
              "      <td>0.362800</td>\n",
              "      <td>1.025941</td>\n",
              "      <td>0.713333</td>\n",
              "      <td>0.246358</td>\n",
              "      <td>0.242740</td>\n",
              "      <td>0.254279</td>\n",
              "    </tr>\n",
              "    <tr>\n",
              "      <td>4</td>\n",
              "      <td>0.307300</td>\n",
              "      <td>1.111999</td>\n",
              "      <td>0.710000</td>\n",
              "      <td>0.242241</td>\n",
              "      <td>0.240793</td>\n",
              "      <td>0.244663</td>\n",
              "    </tr>\n",
              "  </tbody>\n",
              "</table><p>"
            ],
            "text/plain": [
              "<IPython.core.display.HTML object>"
            ]
          },
          "metadata": {},
          "output_type": "display_data"
        },
        {
          "data": {
            "text/html": [
              "\n",
              "    <div>\n",
              "      \n",
              "      <progress value='750' max='750' style='width:300px; height:20px; vertical-align: middle;'></progress>\n",
              "      [750/750 00:32]\n",
              "    </div>\n",
              "    "
            ],
            "text/plain": [
              "<IPython.core.display.HTML object>"
            ]
          },
          "metadata": {},
          "output_type": "display_data"
        },
        {
          "name": "stderr",
          "output_type": "stream",
          "text": [
            "/tmp/ipython-input-337047085.py:37: FutureWarning: `tokenizer` is deprecated and will be removed in version 5.0.0 for `Trainer.__init__`. Use `processing_class` instead.\n",
            "  trainer = Trainer(\n"
          ]
        },
        {
          "data": {
            "text/html": [
              "\n",
              "    <div>\n",
              "      \n",
              "      <progress value='560' max='560' style='width:300px; height:20px; vertical-align: middle;'></progress>\n",
              "      [560/560 01:32, Epoch 4/4]\n",
              "    </div>\n",
              "    <table border=\"1\" class=\"dataframe\">\n",
              "  <thead>\n",
              " <tr style=\"text-align: left;\">\n",
              "      <th>Epoch</th>\n",
              "      <th>Training Loss</th>\n",
              "      <th>Validation Loss</th>\n",
              "      <th>Accuracy</th>\n",
              "      <th>F1-macro</th>\n",
              "      <th>Precision</th>\n",
              "      <th>Recall</th>\n",
              "    </tr>\n",
              "  </thead>\n",
              "  <tbody>\n",
              "    <tr>\n",
              "      <td>1</td>\n",
              "      <td>1.189800</td>\n",
              "      <td>1.261423</td>\n",
              "      <td>0.528000</td>\n",
              "      <td>0.138220</td>\n",
              "      <td>0.105600</td>\n",
              "      <td>0.200000</td>\n",
              "    </tr>\n",
              "    <tr>\n",
              "      <td>2</td>\n",
              "      <td>0.976000</td>\n",
              "      <td>1.084118</td>\n",
              "      <td>0.552000</td>\n",
              "      <td>0.238355</td>\n",
              "      <td>0.213826</td>\n",
              "      <td>0.300000</td>\n",
              "    </tr>\n",
              "    <tr>\n",
              "      <td>3</td>\n",
              "      <td>0.816200</td>\n",
              "      <td>1.085780</td>\n",
              "      <td>0.584000</td>\n",
              "      <td>0.249095</td>\n",
              "      <td>0.215132</td>\n",
              "      <td>0.312121</td>\n",
              "    </tr>\n",
              "    <tr>\n",
              "      <td>4</td>\n",
              "      <td>0.774400</td>\n",
              "      <td>1.097575</td>\n",
              "      <td>0.576000</td>\n",
              "      <td>0.270927</td>\n",
              "      <td>0.324157</td>\n",
              "      <td>0.328708</td>\n",
              "    </tr>\n",
              "  </tbody>\n",
              "</table><p>"
            ],
            "text/plain": [
              "<IPython.core.display.HTML object>"
            ]
          },
          "metadata": {},
          "output_type": "display_data"
        },
        {
          "data": {
            "text/html": [
              "\n",
              "    <div>\n",
              "      \n",
              "      <progress value='156' max='156' style='width:300px; height:20px; vertical-align: middle;'></progress>\n",
              "      [156/156 00:06]\n",
              "    </div>\n",
              "    "
            ],
            "text/plain": [
              "<IPython.core.display.HTML object>"
            ]
          },
          "metadata": {},
          "output_type": "display_data"
        },
        {
          "name": "stderr",
          "output_type": "stream",
          "text": [
            "/tmp/ipython-input-337047085.py:37: FutureWarning: `tokenizer` is deprecated and will be removed in version 5.0.0 for `Trainer.__init__`. Use `processing_class` instead.\n",
            "  trainer = Trainer(\n"
          ]
        },
        {
          "data": {
            "text/html": [
              "\n",
              "    <div>\n",
              "      \n",
              "      <progress value='628' max='628' style='width:300px; height:20px; vertical-align: middle;'></progress>\n",
              "      [628/628 01:49, Epoch 4/4]\n",
              "    </div>\n",
              "    <table border=\"1\" class=\"dataframe\">\n",
              "  <thead>\n",
              " <tr style=\"text-align: left;\">\n",
              "      <th>Epoch</th>\n",
              "      <th>Training Loss</th>\n",
              "      <th>Validation Loss</th>\n",
              "      <th>Accuracy</th>\n",
              "      <th>F1-macro</th>\n",
              "      <th>Precision</th>\n",
              "      <th>Recall</th>\n",
              "    </tr>\n",
              "  </thead>\n",
              "  <tbody>\n",
              "    <tr>\n",
              "      <td>1</td>\n",
              "      <td>0.839700</td>\n",
              "      <td>1.213233</td>\n",
              "      <td>0.628571</td>\n",
              "      <td>0.154386</td>\n",
              "      <td>0.125714</td>\n",
              "      <td>0.200000</td>\n",
              "    </tr>\n",
              "    <tr>\n",
              "      <td>2</td>\n",
              "      <td>0.920700</td>\n",
              "      <td>1.125944</td>\n",
              "      <td>0.628571</td>\n",
              "      <td>0.154386</td>\n",
              "      <td>0.125714</td>\n",
              "      <td>0.200000</td>\n",
              "    </tr>\n",
              "    <tr>\n",
              "      <td>3</td>\n",
              "      <td>0.859800</td>\n",
              "      <td>1.052142</td>\n",
              "      <td>0.614286</td>\n",
              "      <td>0.198095</td>\n",
              "      <td>0.174954</td>\n",
              "      <td>0.228469</td>\n",
              "    </tr>\n",
              "    <tr>\n",
              "      <td>4</td>\n",
              "      <td>0.712400</td>\n",
              "      <td>1.153157</td>\n",
              "      <td>0.614286</td>\n",
              "      <td>0.190528</td>\n",
              "      <td>0.169399</td>\n",
              "      <td>0.220215</td>\n",
              "    </tr>\n",
              "  </tbody>\n",
              "</table><p>"
            ],
            "text/plain": [
              "<IPython.core.display.HTML object>"
            ]
          },
          "metadata": {},
          "output_type": "display_data"
        },
        {
          "data": {
            "text/html": [
              "\n",
              "    <div>\n",
              "      \n",
              "      <progress value='175' max='175' style='width:300px; height:20px; vertical-align: middle;'></progress>\n",
              "      [175/175 00:07]\n",
              "    </div>\n",
              "    "
            ],
            "text/plain": [
              "<IPython.core.display.HTML object>"
            ]
          },
          "metadata": {},
          "output_type": "display_data"
        },
        {
          "name": "stderr",
          "output_type": "stream",
          "text": [
            "/tmp/ipython-input-337047085.py:37: FutureWarning: `tokenizer` is deprecated and will be removed in version 5.0.0 for `Trainer.__init__`. Use `processing_class` instead.\n",
            "  trainer = Trainer(\n"
          ]
        },
        {
          "data": {
            "text/html": [
              "\n",
              "    <div>\n",
              "      \n",
              "      <progress value='700' max='700' style='width:300px; height:20px; vertical-align: middle;'></progress>\n",
              "      [700/700 02:03, Epoch 4/4]\n",
              "    </div>\n",
              "    <table border=\"1\" class=\"dataframe\">\n",
              "  <thead>\n",
              " <tr style=\"text-align: left;\">\n",
              "      <th>Epoch</th>\n",
              "      <th>Training Loss</th>\n",
              "      <th>Validation Loss</th>\n",
              "      <th>Accuracy</th>\n",
              "      <th>F1-macro</th>\n",
              "      <th>Precision</th>\n",
              "      <th>Recall</th>\n",
              "    </tr>\n",
              "  </thead>\n",
              "  <tbody>\n",
              "    <tr>\n",
              "      <td>1</td>\n",
              "      <td>0.860600</td>\n",
              "      <td>1.007530</td>\n",
              "      <td>0.608974</td>\n",
              "      <td>0.162424</td>\n",
              "      <td>0.222078</td>\n",
              "      <td>0.205714</td>\n",
              "    </tr>\n",
              "    <tr>\n",
              "      <td>2</td>\n",
              "      <td>0.926700</td>\n",
              "      <td>0.970526</td>\n",
              "      <td>0.589744</td>\n",
              "      <td>0.168565</td>\n",
              "      <td>0.156643</td>\n",
              "      <td>0.202918</td>\n",
              "    </tr>\n",
              "    <tr>\n",
              "      <td>3</td>\n",
              "      <td>0.576000</td>\n",
              "      <td>1.077375</td>\n",
              "      <td>0.602564</td>\n",
              "      <td>0.220470</td>\n",
              "      <td>0.202141</td>\n",
              "      <td>0.243040</td>\n",
              "    </tr>\n",
              "    <tr>\n",
              "      <td>4</td>\n",
              "      <td>0.439300</td>\n",
              "      <td>1.172750</td>\n",
              "      <td>0.583333</td>\n",
              "      <td>0.220116</td>\n",
              "      <td>0.200870</td>\n",
              "      <td>0.243830</td>\n",
              "    </tr>\n",
              "  </tbody>\n",
              "</table><p>"
            ],
            "text/plain": [
              "<IPython.core.display.HTML object>"
            ]
          },
          "metadata": {},
          "output_type": "display_data"
        },
        {
          "data": {
            "text/html": [
              "\n",
              "    <div>\n",
              "      \n",
              "      <progress value='194' max='194' style='width:300px; height:20px; vertical-align: middle;'></progress>\n",
              "      [194/194 00:08]\n",
              "    </div>\n",
              "    "
            ],
            "text/plain": [
              "<IPython.core.display.HTML object>"
            ]
          },
          "metadata": {},
          "output_type": "display_data"
        },
        {
          "name": "stderr",
          "output_type": "stream",
          "text": [
            "/tmp/ipython-input-337047085.py:37: FutureWarning: `tokenizer` is deprecated and will be removed in version 5.0.0 for `Trainer.__init__`. Use `processing_class` instead.\n",
            "  trainer = Trainer(\n"
          ]
        },
        {
          "data": {
            "text/html": [
              "\n",
              "    <div>\n",
              "      \n",
              "      <progress value='564' max='564' style='width:300px; height:20px; vertical-align: middle;'></progress>\n",
              "      [564/564 01:35, Epoch 4/4]\n",
              "    </div>\n",
              "    <table border=\"1\" class=\"dataframe\">\n",
              "  <thead>\n",
              " <tr style=\"text-align: left;\">\n",
              "      <th>Epoch</th>\n",
              "      <th>Training Loss</th>\n",
              "      <th>Validation Loss</th>\n",
              "      <th>Accuracy</th>\n",
              "      <th>F1-macro</th>\n",
              "      <th>Precision</th>\n",
              "      <th>Recall</th>\n",
              "    </tr>\n",
              "  </thead>\n",
              "  <tbody>\n",
              "    <tr>\n",
              "      <td>1</td>\n",
              "      <td>1.131300</td>\n",
              "      <td>1.111168</td>\n",
              "      <td>0.616000</td>\n",
              "      <td>0.202704</td>\n",
              "      <td>0.186061</td>\n",
              "      <td>0.232105</td>\n",
              "    </tr>\n",
              "    <tr>\n",
              "      <td>2</td>\n",
              "      <td>1.178600</td>\n",
              "      <td>1.058113</td>\n",
              "      <td>0.584000</td>\n",
              "      <td>0.209936</td>\n",
              "      <td>0.186231</td>\n",
              "      <td>0.243684</td>\n",
              "    </tr>\n",
              "    <tr>\n",
              "      <td>3</td>\n",
              "      <td>0.679300</td>\n",
              "      <td>1.196784</td>\n",
              "      <td>0.592000</td>\n",
              "      <td>0.216891</td>\n",
              "      <td>0.213439</td>\n",
              "      <td>0.234912</td>\n",
              "    </tr>\n",
              "    <tr>\n",
              "      <td>4</td>\n",
              "      <td>0.568600</td>\n",
              "      <td>1.279060</td>\n",
              "      <td>0.584000</td>\n",
              "      <td>0.221921</td>\n",
              "      <td>0.276767</td>\n",
              "      <td>0.239649</td>\n",
              "    </tr>\n",
              "  </tbody>\n",
              "</table><p>"
            ],
            "text/plain": [
              "<IPython.core.display.HTML object>"
            ]
          },
          "metadata": {},
          "output_type": "display_data"
        },
        {
          "data": {
            "text/html": [
              "\n",
              "    <div>\n",
              "      \n",
              "      <progress value='156' max='156' style='width:300px; height:20px; vertical-align: middle;'></progress>\n",
              "      [156/156 00:06]\n",
              "    </div>\n",
              "    "
            ],
            "text/plain": [
              "<IPython.core.display.HTML object>"
            ]
          },
          "metadata": {},
          "output_type": "display_data"
        },
        {
          "name": "stderr",
          "output_type": "stream",
          "text": [
            "/tmp/ipython-input-337047085.py:37: FutureWarning: `tokenizer` is deprecated and will be removed in version 5.0.0 for `Trainer.__init__`. Use `processing_class` instead.\n",
            "  trainer = Trainer(\n"
          ]
        },
        {
          "data": {
            "text/html": [
              "\n",
              "    <div>\n",
              "      \n",
              "      <progress value='832' max='832' style='width:300px; height:20px; vertical-align: middle;'></progress>\n",
              "      [832/832 02:25, Epoch 4/4]\n",
              "    </div>\n",
              "    <table border=\"1\" class=\"dataframe\">\n",
              "  <thead>\n",
              " <tr style=\"text-align: left;\">\n",
              "      <th>Epoch</th>\n",
              "      <th>Training Loss</th>\n",
              "      <th>Validation Loss</th>\n",
              "      <th>Accuracy</th>\n",
              "      <th>F1-macro</th>\n",
              "      <th>Precision</th>\n",
              "      <th>Recall</th>\n",
              "    </tr>\n",
              "  </thead>\n",
              "  <tbody>\n",
              "    <tr>\n",
              "      <td>1</td>\n",
              "      <td>0.835500</td>\n",
              "      <td>0.743707</td>\n",
              "      <td>0.794595</td>\n",
              "      <td>0.177108</td>\n",
              "      <td>0.158919</td>\n",
              "      <td>0.200000</td>\n",
              "    </tr>\n",
              "    <tr>\n",
              "      <td>2</td>\n",
              "      <td>0.850800</td>\n",
              "      <td>0.690284</td>\n",
              "      <td>0.794595</td>\n",
              "      <td>0.177108</td>\n",
              "      <td>0.158919</td>\n",
              "      <td>0.200000</td>\n",
              "    </tr>\n",
              "    <tr>\n",
              "      <td>3</td>\n",
              "      <td>0.515800</td>\n",
              "      <td>0.709213</td>\n",
              "      <td>0.794595</td>\n",
              "      <td>0.281205</td>\n",
              "      <td>0.298862</td>\n",
              "      <td>0.276281</td>\n",
              "    </tr>\n",
              "    <tr>\n",
              "      <td>4</td>\n",
              "      <td>0.505400</td>\n",
              "      <td>0.789844</td>\n",
              "      <td>0.762162</td>\n",
              "      <td>0.279513</td>\n",
              "      <td>0.272970</td>\n",
              "      <td>0.287619</td>\n",
              "    </tr>\n",
              "  </tbody>\n",
              "</table><p>"
            ],
            "text/plain": [
              "<IPython.core.display.HTML object>"
            ]
          },
          "metadata": {},
          "output_type": "display_data"
        },
        {
          "data": {
            "text/html": [
              "\n",
              "    <div>\n",
              "      \n",
              "      <progress value='232' max='232' style='width:300px; height:20px; vertical-align: middle;'></progress>\n",
              "      [232/232 00:10]\n",
              "    </div>\n",
              "    "
            ],
            "text/plain": [
              "<IPython.core.display.HTML object>"
            ]
          },
          "metadata": {},
          "output_type": "display_data"
        },
        {
          "name": "stderr",
          "output_type": "stream",
          "text": [
            "/tmp/ipython-input-337047085.py:37: FutureWarning: `tokenizer` is deprecated and will be removed in version 5.0.0 for `Trainer.__init__`. Use `processing_class` instead.\n",
            "  trainer = Trainer(\n"
          ]
        },
        {
          "data": {
            "text/html": [
              "\n",
              "    <div>\n",
              "      \n",
              "      <progress value='1316' max='1316' style='width:300px; height:20px; vertical-align: middle;'></progress>\n",
              "      [1316/1316 03:43, Epoch 4/4]\n",
              "    </div>\n",
              "    <table border=\"1\" class=\"dataframe\">\n",
              "  <thead>\n",
              " <tr style=\"text-align: left;\">\n",
              "      <th>Epoch</th>\n",
              "      <th>Training Loss</th>\n",
              "      <th>Validation Loss</th>\n",
              "      <th>Accuracy</th>\n",
              "      <th>F1-macro</th>\n",
              "      <th>Precision</th>\n",
              "      <th>Recall</th>\n",
              "    </tr>\n",
              "  </thead>\n",
              "  <tbody>\n",
              "    <tr>\n",
              "      <td>1</td>\n",
              "      <td>0.898600</td>\n",
              "      <td>0.942791</td>\n",
              "      <td>0.699659</td>\n",
              "      <td>0.164659</td>\n",
              "      <td>0.139932</td>\n",
              "      <td>0.200000</td>\n",
              "    </tr>\n",
              "    <tr>\n",
              "      <td>2</td>\n",
              "      <td>0.677300</td>\n",
              "      <td>0.958370</td>\n",
              "      <td>0.696246</td>\n",
              "      <td>0.201531</td>\n",
              "      <td>0.384404</td>\n",
              "      <td>0.217403</td>\n",
              "    </tr>\n",
              "    <tr>\n",
              "      <td>3</td>\n",
              "      <td>0.532000</td>\n",
              "      <td>1.220662</td>\n",
              "      <td>0.614334</td>\n",
              "      <td>0.225621</td>\n",
              "      <td>0.219605</td>\n",
              "      <td>0.234899</td>\n",
              "    </tr>\n",
              "    <tr>\n",
              "      <td>4</td>\n",
              "      <td>0.345200</td>\n",
              "      <td>1.349191</td>\n",
              "      <td>0.610922</td>\n",
              "      <td>0.217863</td>\n",
              "      <td>0.213326</td>\n",
              "      <td>0.225618</td>\n",
              "    </tr>\n",
              "  </tbody>\n",
              "</table><p>"
            ],
            "text/plain": [
              "<IPython.core.display.HTML object>"
            ]
          },
          "metadata": {},
          "output_type": "display_data"
        },
        {
          "data": {
            "text/html": [
              "\n",
              "    <div>\n",
              "      \n",
              "      <progress value='366' max='366' style='width:300px; height:20px; vertical-align: middle;'></progress>\n",
              "      [366/366 00:15]\n",
              "    </div>\n",
              "    "
            ],
            "text/plain": [
              "<IPython.core.display.HTML object>"
            ]
          },
          "metadata": {},
          "output_type": "display_data"
        },
        {
          "name": "stderr",
          "output_type": "stream",
          "text": [
            "/tmp/ipython-input-337047085.py:37: FutureWarning: `tokenizer` is deprecated and will be removed in version 5.0.0 for `Trainer.__init__`. Use `processing_class` instead.\n",
            "  trainer = Trainer(\n"
          ]
        },
        {
          "data": {
            "text/html": [
              "\n",
              "    <div>\n",
              "      \n",
              "      <progress value='2700' max='2700' style='width:300px; height:20px; vertical-align: middle;'></progress>\n",
              "      [2700/2700 07:42, Epoch 4/4]\n",
              "    </div>\n",
              "    <table border=\"1\" class=\"dataframe\">\n",
              "  <thead>\n",
              " <tr style=\"text-align: left;\">\n",
              "      <th>Epoch</th>\n",
              "      <th>Training Loss</th>\n",
              "      <th>Validation Loss</th>\n",
              "      <th>Accuracy</th>\n",
              "      <th>F1-macro</th>\n",
              "      <th>Precision</th>\n",
              "      <th>Recall</th>\n",
              "    </tr>\n",
              "  </thead>\n",
              "  <tbody>\n",
              "    <tr>\n",
              "      <td>1</td>\n",
              "      <td>0.970900</td>\n",
              "      <td>0.910020</td>\n",
              "      <td>0.671667</td>\n",
              "      <td>0.200666</td>\n",
              "      <td>0.253278</td>\n",
              "      <td>0.220989</td>\n",
              "    </tr>\n",
              "    <tr>\n",
              "      <td>2</td>\n",
              "      <td>0.726700</td>\n",
              "      <td>0.957224</td>\n",
              "      <td>0.658333</td>\n",
              "      <td>0.269097</td>\n",
              "      <td>0.270137</td>\n",
              "      <td>0.274227</td>\n",
              "    </tr>\n",
              "    <tr>\n",
              "      <td>3</td>\n",
              "      <td>0.618000</td>\n",
              "      <td>1.179523</td>\n",
              "      <td>0.660000</td>\n",
              "      <td>0.274945</td>\n",
              "      <td>0.278955</td>\n",
              "      <td>0.277341</td>\n",
              "    </tr>\n",
              "    <tr>\n",
              "      <td>4</td>\n",
              "      <td>0.431700</td>\n",
              "      <td>1.307191</td>\n",
              "      <td>0.640000</td>\n",
              "      <td>0.280719</td>\n",
              "      <td>0.273426</td>\n",
              "      <td>0.288613</td>\n",
              "    </tr>\n",
              "  </tbody>\n",
              "</table><p>"
            ],
            "text/plain": [
              "<IPython.core.display.HTML object>"
            ]
          },
          "metadata": {},
          "output_type": "display_data"
        },
        {
          "data": {
            "text/html": [
              "\n",
              "    <div>\n",
              "      \n",
              "      <progress value='750' max='750' style='width:300px; height:20px; vertical-align: middle;'></progress>\n",
              "      [750/750 00:33]\n",
              "    </div>\n",
              "    "
            ],
            "text/plain": [
              "<IPython.core.display.HTML object>"
            ]
          },
          "metadata": {},
          "output_type": "display_data"
        },
        {
          "name": "stderr",
          "output_type": "stream",
          "text": [
            "/tmp/ipython-input-337047085.py:37: FutureWarning: `tokenizer` is deprecated and will be removed in version 5.0.0 for `Trainer.__init__`. Use `processing_class` instead.\n",
            "  trainer = Trainer(\n"
          ]
        },
        {
          "data": {
            "text/html": [
              "\n",
              "    <div>\n",
              "      \n",
              "      <progress value='420' max='420' style='width:300px; height:20px; vertical-align: middle;'></progress>\n",
              "      [420/420 01:09, Epoch 4/4]\n",
              "    </div>\n",
              "    <table border=\"1\" class=\"dataframe\">\n",
              "  <thead>\n",
              " <tr style=\"text-align: left;\">\n",
              "      <th>Epoch</th>\n",
              "      <th>Training Loss</th>\n",
              "      <th>Validation Loss</th>\n",
              "      <th>Accuracy</th>\n",
              "      <th>F1-macro</th>\n",
              "      <th>Precision</th>\n",
              "      <th>Recall</th>\n",
              "    </tr>\n",
              "  </thead>\n",
              "  <tbody>\n",
              "    <tr>\n",
              "      <td>1</td>\n",
              "      <td>0.740800</td>\n",
              "      <td>0.778970</td>\n",
              "      <td>0.763441</td>\n",
              "      <td>0.216463</td>\n",
              "      <td>0.190860</td>\n",
              "      <td>0.250000</td>\n",
              "    </tr>\n",
              "    <tr>\n",
              "      <td>2</td>\n",
              "      <td>0.817000</td>\n",
              "      <td>0.785526</td>\n",
              "      <td>0.763441</td>\n",
              "      <td>0.216463</td>\n",
              "      <td>0.190860</td>\n",
              "      <td>0.250000</td>\n",
              "    </tr>\n",
              "    <tr>\n",
              "      <td>3</td>\n",
              "      <td>0.662400</td>\n",
              "      <td>0.784289</td>\n",
              "      <td>0.731183</td>\n",
              "      <td>0.244025</td>\n",
              "      <td>0.252841</td>\n",
              "      <td>0.258643</td>\n",
              "    </tr>\n",
              "    <tr>\n",
              "      <td>4</td>\n",
              "      <td>0.403900</td>\n",
              "      <td>0.852083</td>\n",
              "      <td>0.709677</td>\n",
              "      <td>0.240927</td>\n",
              "      <td>0.243452</td>\n",
              "      <td>0.251601</td>\n",
              "    </tr>\n",
              "  </tbody>\n",
              "</table><p>"
            ],
            "text/plain": [
              "<IPython.core.display.HTML object>"
            ]
          },
          "metadata": {},
          "output_type": "display_data"
        },
        {
          "data": {
            "text/html": [
              "\n",
              "    <div>\n",
              "      \n",
              "      <progress value='116' max='116' style='width:300px; height:20px; vertical-align: middle;'></progress>\n",
              "      [116/116 00:05]\n",
              "    </div>\n",
              "    "
            ],
            "text/plain": [
              "<IPython.core.display.HTML object>"
            ]
          },
          "metadata": {},
          "output_type": "display_data"
        },
        {
          "name": "stderr",
          "output_type": "stream",
          "text": [
            "/tmp/ipython-input-337047085.py:37: FutureWarning: `tokenizer` is deprecated and will be removed in version 5.0.0 for `Trainer.__init__`. Use `processing_class` instead.\n",
            "  trainer = Trainer(\n"
          ]
        },
        {
          "data": {
            "text/html": [
              "\n",
              "    <div>\n",
              "      \n",
              "      <progress value='2700' max='2700' style='width:300px; height:20px; vertical-align: middle;'></progress>\n",
              "      [2700/2700 07:41, Epoch 4/4]\n",
              "    </div>\n",
              "    <table border=\"1\" class=\"dataframe\">\n",
              "  <thead>\n",
              " <tr style=\"text-align: left;\">\n",
              "      <th>Epoch</th>\n",
              "      <th>Training Loss</th>\n",
              "      <th>Validation Loss</th>\n",
              "      <th>Accuracy</th>\n",
              "      <th>F1-macro</th>\n",
              "      <th>Precision</th>\n",
              "      <th>Recall</th>\n",
              "    </tr>\n",
              "  </thead>\n",
              "  <tbody>\n",
              "    <tr>\n",
              "      <td>1</td>\n",
              "      <td>0.895300</td>\n",
              "      <td>0.962931</td>\n",
              "      <td>0.655000</td>\n",
              "      <td>0.226930</td>\n",
              "      <td>0.216035</td>\n",
              "      <td>0.248934</td>\n",
              "    </tr>\n",
              "    <tr>\n",
              "      <td>2</td>\n",
              "      <td>0.821000</td>\n",
              "      <td>1.012418</td>\n",
              "      <td>0.615000</td>\n",
              "      <td>0.239412</td>\n",
              "      <td>0.215189</td>\n",
              "      <td>0.286358</td>\n",
              "    </tr>\n",
              "    <tr>\n",
              "      <td>3</td>\n",
              "      <td>0.485400</td>\n",
              "      <td>1.194546</td>\n",
              "      <td>0.626667</td>\n",
              "      <td>0.240737</td>\n",
              "      <td>0.271611</td>\n",
              "      <td>0.266204</td>\n",
              "    </tr>\n",
              "    <tr>\n",
              "      <td>4</td>\n",
              "      <td>0.487700</td>\n",
              "      <td>1.306425</td>\n",
              "      <td>0.593333</td>\n",
              "      <td>0.260165</td>\n",
              "      <td>0.258992</td>\n",
              "      <td>0.271363</td>\n",
              "    </tr>\n",
              "  </tbody>\n",
              "</table><p>"
            ],
            "text/plain": [
              "<IPython.core.display.HTML object>"
            ]
          },
          "metadata": {},
          "output_type": "display_data"
        },
        {
          "data": {
            "text/html": [
              "\n",
              "    <div>\n",
              "      \n",
              "      <progress value='750' max='750' style='width:300px; height:20px; vertical-align: middle;'></progress>\n",
              "      [750/750 00:32]\n",
              "    </div>\n",
              "    "
            ],
            "text/plain": [
              "<IPython.core.display.HTML object>"
            ]
          },
          "metadata": {},
          "output_type": "display_data"
        },
        {
          "name": "stderr",
          "output_type": "stream",
          "text": [
            "[I 2025-09-21 20:00:33,332] Trial 6 finished with value: 0.4399047138988092 and parameters: {'learning_rate': 3.320960595862777e-05, 'batch_size': 8, 'num_train_epochs': 4}. Best is trial 6 with value: 0.4399047138988092.\n",
            "/tmp/ipython-input-337047085.py:37: FutureWarning: `tokenizer` is deprecated and will be removed in version 5.0.0 for `Trainer.__init__`. Use `processing_class` instead.\n",
            "  trainer = Trainer(\n"
          ]
        },
        {
          "data": {
            "text/html": [
              "\n",
              "    <div>\n",
              "      \n",
              "      <progress value='220' max='220' style='width:300px; height:20px; vertical-align: middle;'></progress>\n",
              "      [220/220 01:11, Epoch 4/4]\n",
              "    </div>\n",
              "    <table border=\"1\" class=\"dataframe\">\n",
              "  <thead>\n",
              " <tr style=\"text-align: left;\">\n",
              "      <th>Epoch</th>\n",
              "      <th>Training Loss</th>\n",
              "      <th>Validation Loss</th>\n",
              "      <th>Accuracy</th>\n",
              "      <th>F1-macro</th>\n",
              "      <th>Precision</th>\n",
              "      <th>Recall</th>\n",
              "    </tr>\n",
              "  </thead>\n",
              "  <tbody>\n",
              "    <tr>\n",
              "      <td>1</td>\n",
              "      <td>1.081900</td>\n",
              "      <td>0.999455</td>\n",
              "      <td>0.701031</td>\n",
              "      <td>0.164848</td>\n",
              "      <td>0.140206</td>\n",
              "      <td>0.200000</td>\n",
              "    </tr>\n",
              "    <tr>\n",
              "      <td>2</td>\n",
              "      <td>1.027800</td>\n",
              "      <td>0.998873</td>\n",
              "      <td>0.701031</td>\n",
              "      <td>0.164848</td>\n",
              "      <td>0.140206</td>\n",
              "      <td>0.200000</td>\n",
              "    </tr>\n",
              "    <tr>\n",
              "      <td>3</td>\n",
              "      <td>0.949300</td>\n",
              "      <td>0.987785</td>\n",
              "      <td>0.701031</td>\n",
              "      <td>0.164848</td>\n",
              "      <td>0.140206</td>\n",
              "      <td>0.200000</td>\n",
              "    </tr>\n",
              "    <tr>\n",
              "      <td>4</td>\n",
              "      <td>1.034000</td>\n",
              "      <td>0.974718</td>\n",
              "      <td>0.701031</td>\n",
              "      <td>0.164848</td>\n",
              "      <td>0.140206</td>\n",
              "      <td>0.200000</td>\n",
              "    </tr>\n",
              "  </tbody>\n",
              "</table><p>"
            ],
            "text/plain": [
              "<IPython.core.display.HTML object>"
            ]
          },
          "metadata": {},
          "output_type": "display_data"
        },
        {
          "data": {
            "text/html": [
              "\n",
              "    <div>\n",
              "      \n",
              "      <progress value='61' max='61' style='width:300px; height:20px; vertical-align: middle;'></progress>\n",
              "      [61/61 00:05]\n",
              "    </div>\n",
              "    "
            ],
            "text/plain": [
              "<IPython.core.display.HTML object>"
            ]
          },
          "metadata": {},
          "output_type": "display_data"
        },
        {
          "name": "stderr",
          "output_type": "stream",
          "text": [
            "/tmp/ipython-input-337047085.py:37: FutureWarning: `tokenizer` is deprecated and will be removed in version 5.0.0 for `Trainer.__init__`. Use `processing_class` instead.\n",
            "  trainer = Trainer(\n"
          ]
        },
        {
          "data": {
            "text/html": [
              "\n",
              "    <div>\n",
              "      \n",
              "      <progress value='1352' max='1352' style='width:300px; height:20px; vertical-align: middle;'></progress>\n",
              "      [1352/1352 07:18, Epoch 4/4]\n",
              "    </div>\n",
              "    <table border=\"1\" class=\"dataframe\">\n",
              "  <thead>\n",
              " <tr style=\"text-align: left;\">\n",
              "      <th>Epoch</th>\n",
              "      <th>Training Loss</th>\n",
              "      <th>Validation Loss</th>\n",
              "      <th>Accuracy</th>\n",
              "      <th>F1-macro</th>\n",
              "      <th>Precision</th>\n",
              "      <th>Recall</th>\n",
              "    </tr>\n",
              "  </thead>\n",
              "  <tbody>\n",
              "    <tr>\n",
              "      <td>1</td>\n",
              "      <td>0.777600</td>\n",
              "      <td>0.743795</td>\n",
              "      <td>0.755000</td>\n",
              "      <td>0.172080</td>\n",
              "      <td>0.151000</td>\n",
              "      <td>0.200000</td>\n",
              "    </tr>\n",
              "    <tr>\n",
              "      <td>2</td>\n",
              "      <td>0.857600</td>\n",
              "      <td>0.723508</td>\n",
              "      <td>0.748333</td>\n",
              "      <td>0.216437</td>\n",
              "      <td>0.222103</td>\n",
              "      <td>0.225828</td>\n",
              "    </tr>\n",
              "    <tr>\n",
              "      <td>3</td>\n",
              "      <td>0.739700</td>\n",
              "      <td>0.735961</td>\n",
              "      <td>0.728333</td>\n",
              "      <td>0.231206</td>\n",
              "      <td>0.218095</td>\n",
              "      <td>0.246001</td>\n",
              "    </tr>\n",
              "    <tr>\n",
              "      <td>4</td>\n",
              "      <td>0.789400</td>\n",
              "      <td>0.747334</td>\n",
              "      <td>0.733333</td>\n",
              "      <td>0.231777</td>\n",
              "      <td>0.220000</td>\n",
              "      <td>0.245203</td>\n",
              "    </tr>\n",
              "  </tbody>\n",
              "</table><p>"
            ],
            "text/plain": [
              "<IPython.core.display.HTML object>"
            ]
          },
          "metadata": {},
          "output_type": "display_data"
        },
        {
          "data": {
            "text/html": [
              "\n",
              "    <div>\n",
              "      \n",
              "      <progress value='375' max='375' style='width:300px; height:20px; vertical-align: middle;'></progress>\n",
              "      [375/375 00:33]\n",
              "    </div>\n",
              "    "
            ],
            "text/plain": [
              "<IPython.core.display.HTML object>"
            ]
          },
          "metadata": {},
          "output_type": "display_data"
        },
        {
          "name": "stderr",
          "output_type": "stream",
          "text": [
            "/tmp/ipython-input-337047085.py:37: FutureWarning: `tokenizer` is deprecated and will be removed in version 5.0.0 for `Trainer.__init__`. Use `processing_class` instead.\n",
            "  trainer = Trainer(\n"
          ]
        },
        {
          "data": {
            "text/html": [
              "\n",
              "    <div>\n",
              "      \n",
              "      <progress value='280' max='280' style='width:300px; height:20px; vertical-align: middle;'></progress>\n",
              "      [280/280 01:29, Epoch 4/4]\n",
              "    </div>\n",
              "    <table border=\"1\" class=\"dataframe\">\n",
              "  <thead>\n",
              " <tr style=\"text-align: left;\">\n",
              "      <th>Epoch</th>\n",
              "      <th>Training Loss</th>\n",
              "      <th>Validation Loss</th>\n",
              "      <th>Accuracy</th>\n",
              "      <th>F1-macro</th>\n",
              "      <th>Precision</th>\n",
              "      <th>Recall</th>\n",
              "    </tr>\n",
              "  </thead>\n",
              "  <tbody>\n",
              "    <tr>\n",
              "      <td>1</td>\n",
              "      <td>1.176100</td>\n",
              "      <td>1.319917</td>\n",
              "      <td>0.528000</td>\n",
              "      <td>0.138220</td>\n",
              "      <td>0.105600</td>\n",
              "      <td>0.200000</td>\n",
              "    </tr>\n",
              "    <tr>\n",
              "      <td>2</td>\n",
              "      <td>1.212700</td>\n",
              "      <td>1.283641</td>\n",
              "      <td>0.528000</td>\n",
              "      <td>0.138220</td>\n",
              "      <td>0.105600</td>\n",
              "      <td>0.200000</td>\n",
              "    </tr>\n",
              "    <tr>\n",
              "      <td>3</td>\n",
              "      <td>1.126000</td>\n",
              "      <td>1.250207</td>\n",
              "      <td>0.528000</td>\n",
              "      <td>0.138220</td>\n",
              "      <td>0.105600</td>\n",
              "      <td>0.200000</td>\n",
              "    </tr>\n",
              "    <tr>\n",
              "      <td>4</td>\n",
              "      <td>1.161900</td>\n",
              "      <td>1.231192</td>\n",
              "      <td>0.536000</td>\n",
              "      <td>0.156339</td>\n",
              "      <td>0.306452</td>\n",
              "      <td>0.209091</td>\n",
              "    </tr>\n",
              "  </tbody>\n",
              "</table><p>"
            ],
            "text/plain": [
              "<IPython.core.display.HTML object>"
            ]
          },
          "metadata": {},
          "output_type": "display_data"
        },
        {
          "data": {
            "text/html": [
              "\n",
              "    <div>\n",
              "      \n",
              "      <progress value='78' max='78' style='width:300px; height:20px; vertical-align: middle;'></progress>\n",
              "      [78/78 00:06]\n",
              "    </div>\n",
              "    "
            ],
            "text/plain": [
              "<IPython.core.display.HTML object>"
            ]
          },
          "metadata": {},
          "output_type": "display_data"
        },
        {
          "name": "stderr",
          "output_type": "stream",
          "text": [
            "/tmp/ipython-input-337047085.py:37: FutureWarning: `tokenizer` is deprecated and will be removed in version 5.0.0 for `Trainer.__init__`. Use `processing_class` instead.\n",
            "  trainer = Trainer(\n"
          ]
        },
        {
          "data": {
            "text/html": [
              "\n",
              "    <div>\n",
              "      \n",
              "      <progress value='316' max='316' style='width:300px; height:20px; vertical-align: middle;'></progress>\n",
              "      [316/316 01:43, Epoch 4/4]\n",
              "    </div>\n",
              "    <table border=\"1\" class=\"dataframe\">\n",
              "  <thead>\n",
              " <tr style=\"text-align: left;\">\n",
              "      <th>Epoch</th>\n",
              "      <th>Training Loss</th>\n",
              "      <th>Validation Loss</th>\n",
              "      <th>Accuracy</th>\n",
              "      <th>F1-macro</th>\n",
              "      <th>Precision</th>\n",
              "      <th>Recall</th>\n",
              "    </tr>\n",
              "  </thead>\n",
              "  <tbody>\n",
              "    <tr>\n",
              "      <td>1</td>\n",
              "      <td>1.064000</td>\n",
              "      <td>1.185112</td>\n",
              "      <td>0.628571</td>\n",
              "      <td>0.154386</td>\n",
              "      <td>0.125714</td>\n",
              "      <td>0.200000</td>\n",
              "    </tr>\n",
              "    <tr>\n",
              "      <td>2</td>\n",
              "      <td>0.981100</td>\n",
              "      <td>1.159052</td>\n",
              "      <td>0.628571</td>\n",
              "      <td>0.154386</td>\n",
              "      <td>0.125714</td>\n",
              "      <td>0.200000</td>\n",
              "    </tr>\n",
              "    <tr>\n",
              "      <td>3</td>\n",
              "      <td>0.947900</td>\n",
              "      <td>1.142882</td>\n",
              "      <td>0.628571</td>\n",
              "      <td>0.154386</td>\n",
              "      <td>0.125714</td>\n",
              "      <td>0.200000</td>\n",
              "    </tr>\n",
              "    <tr>\n",
              "      <td>4</td>\n",
              "      <td>0.908100</td>\n",
              "      <td>1.130314</td>\n",
              "      <td>0.628571</td>\n",
              "      <td>0.154386</td>\n",
              "      <td>0.125714</td>\n",
              "      <td>0.200000</td>\n",
              "    </tr>\n",
              "  </tbody>\n",
              "</table><p>"
            ],
            "text/plain": [
              "<IPython.core.display.HTML object>"
            ]
          },
          "metadata": {},
          "output_type": "display_data"
        },
        {
          "data": {
            "text/html": [
              "\n",
              "    <div>\n",
              "      \n",
              "      <progress value='88' max='88' style='width:300px; height:20px; vertical-align: middle;'></progress>\n",
              "      [88/88 00:08]\n",
              "    </div>\n",
              "    "
            ],
            "text/plain": [
              "<IPython.core.display.HTML object>"
            ]
          },
          "metadata": {},
          "output_type": "display_data"
        },
        {
          "name": "stderr",
          "output_type": "stream",
          "text": [
            "/tmp/ipython-input-337047085.py:37: FutureWarning: `tokenizer` is deprecated and will be removed in version 5.0.0 for `Trainer.__init__`. Use `processing_class` instead.\n",
            "  trainer = Trainer(\n"
          ]
        },
        {
          "data": {
            "text/html": [
              "\n",
              "    <div>\n",
              "      \n",
              "      <progress value='352' max='352' style='width:300px; height:20px; vertical-align: middle;'></progress>\n",
              "      [352/352 01:54, Epoch 4/4]\n",
              "    </div>\n",
              "    <table border=\"1\" class=\"dataframe\">\n",
              "  <thead>\n",
              " <tr style=\"text-align: left;\">\n",
              "      <th>Epoch</th>\n",
              "      <th>Training Loss</th>\n",
              "      <th>Validation Loss</th>\n",
              "      <th>Accuracy</th>\n",
              "      <th>F1-macro</th>\n",
              "      <th>Precision</th>\n",
              "      <th>Recall</th>\n",
              "    </tr>\n",
              "  </thead>\n",
              "  <tbody>\n",
              "    <tr>\n",
              "      <td>1</td>\n",
              "      <td>1.043400</td>\n",
              "      <td>1.105066</td>\n",
              "      <td>0.602564</td>\n",
              "      <td>0.150400</td>\n",
              "      <td>0.120513</td>\n",
              "      <td>0.200000</td>\n",
              "    </tr>\n",
              "    <tr>\n",
              "      <td>2</td>\n",
              "      <td>1.004800</td>\n",
              "      <td>1.076531</td>\n",
              "      <td>0.602564</td>\n",
              "      <td>0.150400</td>\n",
              "      <td>0.120513</td>\n",
              "      <td>0.200000</td>\n",
              "    </tr>\n",
              "    <tr>\n",
              "      <td>3</td>\n",
              "      <td>0.993800</td>\n",
              "      <td>1.054915</td>\n",
              "      <td>0.602564</td>\n",
              "      <td>0.150400</td>\n",
              "      <td>0.120513</td>\n",
              "      <td>0.200000</td>\n",
              "    </tr>\n",
              "    <tr>\n",
              "      <td>4</td>\n",
              "      <td>0.941200</td>\n",
              "      <td>1.042557</td>\n",
              "      <td>0.602564</td>\n",
              "      <td>0.150400</td>\n",
              "      <td>0.120513</td>\n",
              "      <td>0.200000</td>\n",
              "    </tr>\n",
              "  </tbody>\n",
              "</table><p>"
            ],
            "text/plain": [
              "<IPython.core.display.HTML object>"
            ]
          },
          "metadata": {},
          "output_type": "display_data"
        },
        {
          "data": {
            "text/html": [
              "\n",
              "    <div>\n",
              "      \n",
              "      <progress value='97' max='97' style='width:300px; height:20px; vertical-align: middle;'></progress>\n",
              "      [97/97 00:08]\n",
              "    </div>\n",
              "    "
            ],
            "text/plain": [
              "<IPython.core.display.HTML object>"
            ]
          },
          "metadata": {},
          "output_type": "display_data"
        },
        {
          "name": "stderr",
          "output_type": "stream",
          "text": [
            "/tmp/ipython-input-337047085.py:37: FutureWarning: `tokenizer` is deprecated and will be removed in version 5.0.0 for `Trainer.__init__`. Use `processing_class` instead.\n",
            "  trainer = Trainer(\n"
          ]
        },
        {
          "data": {
            "text/html": [
              "\n",
              "    <div>\n",
              "      \n",
              "      <progress value='284' max='284' style='width:300px; height:20px; vertical-align: middle;'></progress>\n",
              "      [284/284 01:31, Epoch 4/4]\n",
              "    </div>\n",
              "    <table border=\"1\" class=\"dataframe\">\n",
              "  <thead>\n",
              " <tr style=\"text-align: left;\">\n",
              "      <th>Epoch</th>\n",
              "      <th>Training Loss</th>\n",
              "      <th>Validation Loss</th>\n",
              "      <th>Accuracy</th>\n",
              "      <th>F1-macro</th>\n",
              "      <th>Precision</th>\n",
              "      <th>Recall</th>\n",
              "    </tr>\n",
              "  </thead>\n",
              "  <tbody>\n",
              "    <tr>\n",
              "      <td>1</td>\n",
              "      <td>1.151500</td>\n",
              "      <td>1.180105</td>\n",
              "      <td>0.608000</td>\n",
              "      <td>0.151244</td>\n",
              "      <td>0.121600</td>\n",
              "      <td>0.200000</td>\n",
              "    </tr>\n",
              "    <tr>\n",
              "      <td>2</td>\n",
              "      <td>1.238600</td>\n",
              "      <td>1.172723</td>\n",
              "      <td>0.608000</td>\n",
              "      <td>0.151244</td>\n",
              "      <td>0.121600</td>\n",
              "      <td>0.200000</td>\n",
              "    </tr>\n",
              "    <tr>\n",
              "      <td>3</td>\n",
              "      <td>1.057800</td>\n",
              "      <td>1.146028</td>\n",
              "      <td>0.608000</td>\n",
              "      <td>0.151244</td>\n",
              "      <td>0.121600</td>\n",
              "      <td>0.200000</td>\n",
              "    </tr>\n",
              "    <tr>\n",
              "      <td>4</td>\n",
              "      <td>1.089700</td>\n",
              "      <td>1.138670</td>\n",
              "      <td>0.608000</td>\n",
              "      <td>0.151244</td>\n",
              "      <td>0.121600</td>\n",
              "      <td>0.200000</td>\n",
              "    </tr>\n",
              "  </tbody>\n",
              "</table><p>"
            ],
            "text/plain": [
              "<IPython.core.display.HTML object>"
            ]
          },
          "metadata": {},
          "output_type": "display_data"
        },
        {
          "data": {
            "text/html": [
              "\n",
              "    <div>\n",
              "      \n",
              "      <progress value='78' max='78' style='width:300px; height:20px; vertical-align: middle;'></progress>\n",
              "      [78/78 00:07]\n",
              "    </div>\n",
              "    "
            ],
            "text/plain": [
              "<IPython.core.display.HTML object>"
            ]
          },
          "metadata": {},
          "output_type": "display_data"
        },
        {
          "name": "stderr",
          "output_type": "stream",
          "text": [
            "/tmp/ipython-input-337047085.py:37: FutureWarning: `tokenizer` is deprecated and will be removed in version 5.0.0 for `Trainer.__init__`. Use `processing_class` instead.\n",
            "  trainer = Trainer(\n"
          ]
        },
        {
          "data": {
            "text/html": [
              "\n",
              "    <div>\n",
              "      \n",
              "      <progress value='416' max='416' style='width:300px; height:20px; vertical-align: middle;'></progress>\n",
              "      [416/416 02:16, Epoch 4/4]\n",
              "    </div>\n",
              "    <table border=\"1\" class=\"dataframe\">\n",
              "  <thead>\n",
              " <tr style=\"text-align: left;\">\n",
              "      <th>Epoch</th>\n",
              "      <th>Training Loss</th>\n",
              "      <th>Validation Loss</th>\n",
              "      <th>Accuracy</th>\n",
              "      <th>F1-macro</th>\n",
              "      <th>Precision</th>\n",
              "      <th>Recall</th>\n",
              "    </tr>\n",
              "  </thead>\n",
              "  <tbody>\n",
              "    <tr>\n",
              "      <td>1</td>\n",
              "      <td>0.802200</td>\n",
              "      <td>0.767392</td>\n",
              "      <td>0.794595</td>\n",
              "      <td>0.177108</td>\n",
              "      <td>0.158919</td>\n",
              "      <td>0.200000</td>\n",
              "    </tr>\n",
              "    <tr>\n",
              "      <td>2</td>\n",
              "      <td>1.031700</td>\n",
              "      <td>0.764105</td>\n",
              "      <td>0.794595</td>\n",
              "      <td>0.177108</td>\n",
              "      <td>0.158919</td>\n",
              "      <td>0.200000</td>\n",
              "    </tr>\n",
              "    <tr>\n",
              "      <td>3</td>\n",
              "      <td>0.769500</td>\n",
              "      <td>0.729781</td>\n",
              "      <td>0.794595</td>\n",
              "      <td>0.177108</td>\n",
              "      <td>0.158919</td>\n",
              "      <td>0.200000</td>\n",
              "    </tr>\n",
              "    <tr>\n",
              "      <td>4</td>\n",
              "      <td>0.872000</td>\n",
              "      <td>0.720435</td>\n",
              "      <td>0.794595</td>\n",
              "      <td>0.177108</td>\n",
              "      <td>0.158919</td>\n",
              "      <td>0.200000</td>\n",
              "    </tr>\n",
              "  </tbody>\n",
              "</table><p>"
            ],
            "text/plain": [
              "<IPython.core.display.HTML object>"
            ]
          },
          "metadata": {},
          "output_type": "display_data"
        },
        {
          "data": {
            "text/html": [
              "\n",
              "    <div>\n",
              "      \n",
              "      <progress value='116' max='116' style='width:300px; height:20px; vertical-align: middle;'></progress>\n",
              "      [116/116 00:10]\n",
              "    </div>\n",
              "    "
            ],
            "text/plain": [
              "<IPython.core.display.HTML object>"
            ]
          },
          "metadata": {},
          "output_type": "display_data"
        },
        {
          "name": "stderr",
          "output_type": "stream",
          "text": [
            "/tmp/ipython-input-337047085.py:37: FutureWarning: `tokenizer` is deprecated and will be removed in version 5.0.0 for `Trainer.__init__`. Use `processing_class` instead.\n",
            "  trainer = Trainer(\n"
          ]
        },
        {
          "data": {
            "text/html": [
              "\n",
              "    <div>\n",
              "      \n",
              "      <progress value='660' max='660' style='width:300px; height:20px; vertical-align: middle;'></progress>\n",
              "      [660/660 03:32, Epoch 4/4]\n",
              "    </div>\n",
              "    <table border=\"1\" class=\"dataframe\">\n",
              "  <thead>\n",
              " <tr style=\"text-align: left;\">\n",
              "      <th>Epoch</th>\n",
              "      <th>Training Loss</th>\n",
              "      <th>Validation Loss</th>\n",
              "      <th>Accuracy</th>\n",
              "      <th>F1-macro</th>\n",
              "      <th>Precision</th>\n",
              "      <th>Recall</th>\n",
              "    </tr>\n",
              "  </thead>\n",
              "  <tbody>\n",
              "    <tr>\n",
              "      <td>1</td>\n",
              "      <td>0.936100</td>\n",
              "      <td>0.965600</td>\n",
              "      <td>0.699659</td>\n",
              "      <td>0.164659</td>\n",
              "      <td>0.139932</td>\n",
              "      <td>0.200000</td>\n",
              "    </tr>\n",
              "    <tr>\n",
              "      <td>2</td>\n",
              "      <td>0.867000</td>\n",
              "      <td>0.945612</td>\n",
              "      <td>0.703072</td>\n",
              "      <td>0.174990</td>\n",
              "      <td>0.340411</td>\n",
              "      <td>0.205128</td>\n",
              "    </tr>\n",
              "    <tr>\n",
              "      <td>3</td>\n",
              "      <td>0.948800</td>\n",
              "      <td>0.940683</td>\n",
              "      <td>0.703072</td>\n",
              "      <td>0.175180</td>\n",
              "      <td>0.208046</td>\n",
              "      <td>0.205128</td>\n",
              "    </tr>\n",
              "    <tr>\n",
              "      <td>4</td>\n",
              "      <td>0.733700</td>\n",
              "      <td>0.950715</td>\n",
              "      <td>0.675768</td>\n",
              "      <td>0.183870</td>\n",
              "      <td>0.174436</td>\n",
              "      <td>0.205629</td>\n",
              "    </tr>\n",
              "  </tbody>\n",
              "</table><p>"
            ],
            "text/plain": [
              "<IPython.core.display.HTML object>"
            ]
          },
          "metadata": {},
          "output_type": "display_data"
        },
        {
          "data": {
            "text/html": [
              "\n",
              "    <div>\n",
              "      \n",
              "      <progress value='183' max='183' style='width:300px; height:20px; vertical-align: middle;'></progress>\n",
              "      [183/183 00:16]\n",
              "    </div>\n",
              "    "
            ],
            "text/plain": [
              "<IPython.core.display.HTML object>"
            ]
          },
          "metadata": {},
          "output_type": "display_data"
        },
        {
          "name": "stderr",
          "output_type": "stream",
          "text": [
            "/tmp/ipython-input-337047085.py:37: FutureWarning: `tokenizer` is deprecated and will be removed in version 5.0.0 for `Trainer.__init__`. Use `processing_class` instead.\n",
            "  trainer = Trainer(\n"
          ]
        },
        {
          "data": {
            "text/html": [
              "\n",
              "    <div>\n",
              "      \n",
              "      <progress value='1352' max='1352' style='width:300px; height:20px; vertical-align: middle;'></progress>\n",
              "      [1352/1352 07:19, Epoch 4/4]\n",
              "    </div>\n",
              "    <table border=\"1\" class=\"dataframe\">\n",
              "  <thead>\n",
              " <tr style=\"text-align: left;\">\n",
              "      <th>Epoch</th>\n",
              "      <th>Training Loss</th>\n",
              "      <th>Validation Loss</th>\n",
              "      <th>Accuracy</th>\n",
              "      <th>F1-macro</th>\n",
              "      <th>Precision</th>\n",
              "      <th>Recall</th>\n",
              "    </tr>\n",
              "  </thead>\n",
              "  <tbody>\n",
              "    <tr>\n",
              "      <td>1</td>\n",
              "      <td>1.014800</td>\n",
              "      <td>0.930927</td>\n",
              "      <td>0.656667</td>\n",
              "      <td>0.201920</td>\n",
              "      <td>0.195178</td>\n",
              "      <td>0.222942</td>\n",
              "    </tr>\n",
              "    <tr>\n",
              "      <td>2</td>\n",
              "      <td>0.996600</td>\n",
              "      <td>0.903194</td>\n",
              "      <td>0.658333</td>\n",
              "      <td>0.246818</td>\n",
              "      <td>0.272043</td>\n",
              "      <td>0.259851</td>\n",
              "    </tr>\n",
              "    <tr>\n",
              "      <td>3</td>\n",
              "      <td>0.743500</td>\n",
              "      <td>0.909490</td>\n",
              "      <td>0.675000</td>\n",
              "      <td>0.251337</td>\n",
              "      <td>0.274551</td>\n",
              "      <td>0.255785</td>\n",
              "    </tr>\n",
              "    <tr>\n",
              "      <td>4</td>\n",
              "      <td>0.827200</td>\n",
              "      <td>0.918424</td>\n",
              "      <td>0.658333</td>\n",
              "      <td>0.271518</td>\n",
              "      <td>0.273310</td>\n",
              "      <td>0.275304</td>\n",
              "    </tr>\n",
              "  </tbody>\n",
              "</table><p>"
            ],
            "text/plain": [
              "<IPython.core.display.HTML object>"
            ]
          },
          "metadata": {},
          "output_type": "display_data"
        },
        {
          "data": {
            "text/html": [
              "\n",
              "    <div>\n",
              "      \n",
              "      <progress value='375' max='375' style='width:300px; height:20px; vertical-align: middle;'></progress>\n",
              "      [375/375 00:33]\n",
              "    </div>\n",
              "    "
            ],
            "text/plain": [
              "<IPython.core.display.HTML object>"
            ]
          },
          "metadata": {},
          "output_type": "display_data"
        },
        {
          "name": "stderr",
          "output_type": "stream",
          "text": [
            "/tmp/ipython-input-337047085.py:37: FutureWarning: `tokenizer` is deprecated and will be removed in version 5.0.0 for `Trainer.__init__`. Use `processing_class` instead.\n",
            "  trainer = Trainer(\n"
          ]
        },
        {
          "data": {
            "text/html": [
              "\n",
              "    <div>\n",
              "      \n",
              "      <progress value='212' max='212' style='width:300px; height:20px; vertical-align: middle;'></progress>\n",
              "      [212/212 01:07, Epoch 4/4]\n",
              "    </div>\n",
              "    <table border=\"1\" class=\"dataframe\">\n",
              "  <thead>\n",
              " <tr style=\"text-align: left;\">\n",
              "      <th>Epoch</th>\n",
              "      <th>Training Loss</th>\n",
              "      <th>Validation Loss</th>\n",
              "      <th>Accuracy</th>\n",
              "      <th>F1-macro</th>\n",
              "      <th>Precision</th>\n",
              "      <th>Recall</th>\n",
              "    </tr>\n",
              "  </thead>\n",
              "  <tbody>\n",
              "    <tr>\n",
              "      <td>1</td>\n",
              "      <td>0.806000</td>\n",
              "      <td>0.799170</td>\n",
              "      <td>0.763441</td>\n",
              "      <td>0.216463</td>\n",
              "      <td>0.190860</td>\n",
              "      <td>0.250000</td>\n",
              "    </tr>\n",
              "    <tr>\n",
              "      <td>2</td>\n",
              "      <td>0.843700</td>\n",
              "      <td>0.785717</td>\n",
              "      <td>0.763441</td>\n",
              "      <td>0.216463</td>\n",
              "      <td>0.190860</td>\n",
              "      <td>0.250000</td>\n",
              "    </tr>\n",
              "    <tr>\n",
              "      <td>3</td>\n",
              "      <td>0.881600</td>\n",
              "      <td>0.779301</td>\n",
              "      <td>0.763441</td>\n",
              "      <td>0.216463</td>\n",
              "      <td>0.190860</td>\n",
              "      <td>0.250000</td>\n",
              "    </tr>\n",
              "    <tr>\n",
              "      <td>4</td>\n",
              "      <td>0.762800</td>\n",
              "      <td>0.778240</td>\n",
              "      <td>0.763441</td>\n",
              "      <td>0.216463</td>\n",
              "      <td>0.190860</td>\n",
              "      <td>0.250000</td>\n",
              "    </tr>\n",
              "  </tbody>\n",
              "</table><p>"
            ],
            "text/plain": [
              "<IPython.core.display.HTML object>"
            ]
          },
          "metadata": {},
          "output_type": "display_data"
        },
        {
          "data": {
            "text/html": [
              "\n",
              "    <div>\n",
              "      \n",
              "      <progress value='58' max='58' style='width:300px; height:20px; vertical-align: middle;'></progress>\n",
              "      [58/58 00:05]\n",
              "    </div>\n",
              "    "
            ],
            "text/plain": [
              "<IPython.core.display.HTML object>"
            ]
          },
          "metadata": {},
          "output_type": "display_data"
        },
        {
          "name": "stderr",
          "output_type": "stream",
          "text": [
            "/tmp/ipython-input-337047085.py:37: FutureWarning: `tokenizer` is deprecated and will be removed in version 5.0.0 for `Trainer.__init__`. Use `processing_class` instead.\n",
            "  trainer = Trainer(\n"
          ]
        },
        {
          "data": {
            "text/html": [
              "\n",
              "    <div>\n",
              "      \n",
              "      <progress value='1352' max='1352' style='width:300px; height:20px; vertical-align: middle;'></progress>\n",
              "      [1352/1352 07:19, Epoch 4/4]\n",
              "    </div>\n",
              "    <table border=\"1\" class=\"dataframe\">\n",
              "  <thead>\n",
              " <tr style=\"text-align: left;\">\n",
              "      <th>Epoch</th>\n",
              "      <th>Training Loss</th>\n",
              "      <th>Validation Loss</th>\n",
              "      <th>Accuracy</th>\n",
              "      <th>F1-macro</th>\n",
              "      <th>Precision</th>\n",
              "      <th>Recall</th>\n",
              "    </tr>\n",
              "  </thead>\n",
              "  <tbody>\n",
              "    <tr>\n",
              "      <td>1</td>\n",
              "      <td>1.088800</td>\n",
              "      <td>1.006262</td>\n",
              "      <td>0.651667</td>\n",
              "      <td>0.209065</td>\n",
              "      <td>0.206472</td>\n",
              "      <td>0.232278</td>\n",
              "    </tr>\n",
              "    <tr>\n",
              "      <td>2</td>\n",
              "      <td>1.020100</td>\n",
              "      <td>0.984289</td>\n",
              "      <td>0.621667</td>\n",
              "      <td>0.233166</td>\n",
              "      <td>0.207818</td>\n",
              "      <td>0.269713</td>\n",
              "    </tr>\n",
              "    <tr>\n",
              "      <td>3</td>\n",
              "      <td>0.797700</td>\n",
              "      <td>0.972216</td>\n",
              "      <td>0.616667</td>\n",
              "      <td>0.227352</td>\n",
              "      <td>0.203208</td>\n",
              "      <td>0.261902</td>\n",
              "    </tr>\n",
              "    <tr>\n",
              "      <td>4</td>\n",
              "      <td>0.855700</td>\n",
              "      <td>0.980349</td>\n",
              "      <td>0.615000</td>\n",
              "      <td>0.227895</td>\n",
              "      <td>0.203846</td>\n",
              "      <td>0.262941</td>\n",
              "    </tr>\n",
              "  </tbody>\n",
              "</table><p>"
            ],
            "text/plain": [
              "<IPython.core.display.HTML object>"
            ]
          },
          "metadata": {},
          "output_type": "display_data"
        },
        {
          "data": {
            "text/html": [
              "\n",
              "    <div>\n",
              "      \n",
              "      <progress value='375' max='375' style='width:300px; height:20px; vertical-align: middle;'></progress>\n",
              "      [375/375 00:33]\n",
              "    </div>\n",
              "    "
            ],
            "text/plain": [
              "<IPython.core.display.HTML object>"
            ]
          },
          "metadata": {},
          "output_type": "display_data"
        },
        {
          "name": "stderr",
          "output_type": "stream",
          "text": [
            "[I 2025-09-21 20:40:17,822] Trial 7 finished with value: 0.20200686988819355 and parameters: {'learning_rate': 1.3736593390642966e-05, 'batch_size': 16, 'num_train_epochs': 4}. Best is trial 6 with value: 0.4399047138988092.\n",
            "/tmp/ipython-input-337047085.py:37: FutureWarning: `tokenizer` is deprecated and will be removed in version 5.0.0 for `Trainer.__init__`. Use `processing_class` instead.\n",
            "  trainer = Trainer(\n"
          ]
        },
        {
          "data": {
            "text/html": [
              "\n",
              "    <div>\n",
              "      \n",
              "      <progress value='220' max='220' style='width:300px; height:20px; vertical-align: middle;'></progress>\n",
              "      [220/220 00:38, Epoch 2/2]\n",
              "    </div>\n",
              "    <table border=\"1\" class=\"dataframe\">\n",
              "  <thead>\n",
              " <tr style=\"text-align: left;\">\n",
              "      <th>Epoch</th>\n",
              "      <th>Training Loss</th>\n",
              "      <th>Validation Loss</th>\n",
              "      <th>Accuracy</th>\n",
              "      <th>F1-macro</th>\n",
              "      <th>Precision</th>\n",
              "      <th>Recall</th>\n",
              "    </tr>\n",
              "  </thead>\n",
              "  <tbody>\n",
              "    <tr>\n",
              "      <td>1</td>\n",
              "      <td>1.118500</td>\n",
              "      <td>0.963925</td>\n",
              "      <td>0.701031</td>\n",
              "      <td>0.164848</td>\n",
              "      <td>0.140206</td>\n",
              "      <td>0.200000</td>\n",
              "    </tr>\n",
              "    <tr>\n",
              "      <td>2</td>\n",
              "      <td>0.818000</td>\n",
              "      <td>0.931679</td>\n",
              "      <td>0.701031</td>\n",
              "      <td>0.164848</td>\n",
              "      <td>0.140206</td>\n",
              "      <td>0.200000</td>\n",
              "    </tr>\n",
              "  </tbody>\n",
              "</table><p>"
            ],
            "text/plain": [
              "<IPython.core.display.HTML object>"
            ]
          },
          "metadata": {},
          "output_type": "display_data"
        },
        {
          "data": {
            "text/html": [
              "\n",
              "    <div>\n",
              "      \n",
              "      <progress value='122' max='122' style='width:300px; height:20px; vertical-align: middle;'></progress>\n",
              "      [122/122 00:05]\n",
              "    </div>\n",
              "    "
            ],
            "text/plain": [
              "<IPython.core.display.HTML object>"
            ]
          },
          "metadata": {},
          "output_type": "display_data"
        },
        {
          "name": "stderr",
          "output_type": "stream",
          "text": [
            "/tmp/ipython-input-337047085.py:37: FutureWarning: `tokenizer` is deprecated and will be removed in version 5.0.0 for `Trainer.__init__`. Use `processing_class` instead.\n",
            "  trainer = Trainer(\n"
          ]
        },
        {
          "data": {
            "text/html": [
              "\n",
              "    <div>\n",
              "      \n",
              "      <progress value='1350' max='1350' style='width:300px; height:20px; vertical-align: middle;'></progress>\n",
              "      [1350/1350 03:51, Epoch 2/2]\n",
              "    </div>\n",
              "    <table border=\"1\" class=\"dataframe\">\n",
              "  <thead>\n",
              " <tr style=\"text-align: left;\">\n",
              "      <th>Epoch</th>\n",
              "      <th>Training Loss</th>\n",
              "      <th>Validation Loss</th>\n",
              "      <th>Accuracy</th>\n",
              "      <th>F1-macro</th>\n",
              "      <th>Precision</th>\n",
              "      <th>Recall</th>\n",
              "    </tr>\n",
              "  </thead>\n",
              "  <tbody>\n",
              "    <tr>\n",
              "      <td>1</td>\n",
              "      <td>0.831300</td>\n",
              "      <td>0.722559</td>\n",
              "      <td>0.758333</td>\n",
              "      <td>0.182407</td>\n",
              "      <td>0.351505</td>\n",
              "      <td>0.205128</td>\n",
              "    </tr>\n",
              "    <tr>\n",
              "      <td>2</td>\n",
              "      <td>0.716700</td>\n",
              "      <td>0.763294</td>\n",
              "      <td>0.728333</td>\n",
              "      <td>0.230838</td>\n",
              "      <td>0.217470</td>\n",
              "      <td>0.246001</td>\n",
              "    </tr>\n",
              "  </tbody>\n",
              "</table><p>"
            ],
            "text/plain": [
              "<IPython.core.display.HTML object>"
            ]
          },
          "metadata": {},
          "output_type": "display_data"
        },
        {
          "data": {
            "text/html": [
              "\n",
              "    <div>\n",
              "      \n",
              "      <progress value='750' max='750' style='width:300px; height:20px; vertical-align: middle;'></progress>\n",
              "      [750/750 00:33]\n",
              "    </div>\n",
              "    "
            ],
            "text/plain": [
              "<IPython.core.display.HTML object>"
            ]
          },
          "metadata": {},
          "output_type": "display_data"
        },
        {
          "name": "stderr",
          "output_type": "stream",
          "text": [
            "/tmp/ipython-input-337047085.py:37: FutureWarning: `tokenizer` is deprecated and will be removed in version 5.0.0 for `Trainer.__init__`. Use `processing_class` instead.\n",
            "  trainer = Trainer(\n"
          ]
        },
        {
          "data": {
            "text/html": [
              "\n",
              "    <div>\n",
              "      \n",
              "      <progress value='280' max='280' style='width:300px; height:20px; vertical-align: middle;'></progress>\n",
              "      [280/280 00:46, Epoch 2/2]\n",
              "    </div>\n",
              "    <table border=\"1\" class=\"dataframe\">\n",
              "  <thead>\n",
              " <tr style=\"text-align: left;\">\n",
              "      <th>Epoch</th>\n",
              "      <th>Training Loss</th>\n",
              "      <th>Validation Loss</th>\n",
              "      <th>Accuracy</th>\n",
              "      <th>F1-macro</th>\n",
              "      <th>Precision</th>\n",
              "      <th>Recall</th>\n",
              "    </tr>\n",
              "  </thead>\n",
              "  <tbody>\n",
              "    <tr>\n",
              "      <td>1</td>\n",
              "      <td>1.096700</td>\n",
              "      <td>1.103253</td>\n",
              "      <td>0.520000</td>\n",
              "      <td>0.207729</td>\n",
              "      <td>0.181888</td>\n",
              "      <td>0.251515</td>\n",
              "    </tr>\n",
              "    <tr>\n",
              "      <td>2</td>\n",
              "      <td>0.844900</td>\n",
              "      <td>1.106551</td>\n",
              "      <td>0.520000</td>\n",
              "      <td>0.217623</td>\n",
              "      <td>0.192505</td>\n",
              "      <td>0.269697</td>\n",
              "    </tr>\n",
              "  </tbody>\n",
              "</table><p>"
            ],
            "text/plain": [
              "<IPython.core.display.HTML object>"
            ]
          },
          "metadata": {},
          "output_type": "display_data"
        },
        {
          "data": {
            "text/html": [
              "\n",
              "    <div>\n",
              "      \n",
              "      <progress value='156' max='156' style='width:300px; height:20px; vertical-align: middle;'></progress>\n",
              "      [156/156 00:06]\n",
              "    </div>\n",
              "    "
            ],
            "text/plain": [
              "<IPython.core.display.HTML object>"
            ]
          },
          "metadata": {},
          "output_type": "display_data"
        },
        {
          "name": "stderr",
          "output_type": "stream",
          "text": [
            "/tmp/ipython-input-337047085.py:37: FutureWarning: `tokenizer` is deprecated and will be removed in version 5.0.0 for `Trainer.__init__`. Use `processing_class` instead.\n",
            "  trainer = Trainer(\n"
          ]
        },
        {
          "data": {
            "text/html": [
              "\n",
              "    <div>\n",
              "      \n",
              "      <progress value='314' max='314' style='width:300px; height:20px; vertical-align: middle;'></progress>\n",
              "      [314/314 00:54, Epoch 2/2]\n",
              "    </div>\n",
              "    <table border=\"1\" class=\"dataframe\">\n",
              "  <thead>\n",
              " <tr style=\"text-align: left;\">\n",
              "      <th>Epoch</th>\n",
              "      <th>Training Loss</th>\n",
              "      <th>Validation Loss</th>\n",
              "      <th>Accuracy</th>\n",
              "      <th>F1-macro</th>\n",
              "      <th>Precision</th>\n",
              "      <th>Recall</th>\n",
              "    </tr>\n",
              "  </thead>\n",
              "  <tbody>\n",
              "    <tr>\n",
              "      <td>1</td>\n",
              "      <td>0.860900</td>\n",
              "      <td>1.186145</td>\n",
              "      <td>0.628571</td>\n",
              "      <td>0.154386</td>\n",
              "      <td>0.125714</td>\n",
              "      <td>0.200000</td>\n",
              "    </tr>\n",
              "    <tr>\n",
              "      <td>2</td>\n",
              "      <td>0.886300</td>\n",
              "      <td>1.042330</td>\n",
              "      <td>0.635714</td>\n",
              "      <td>0.175066</td>\n",
              "      <td>0.326619</td>\n",
              "      <td>0.210526</td>\n",
              "    </tr>\n",
              "  </tbody>\n",
              "</table><p>"
            ],
            "text/plain": [
              "<IPython.core.display.HTML object>"
            ]
          },
          "metadata": {},
          "output_type": "display_data"
        },
        {
          "data": {
            "text/html": [
              "\n",
              "    <div>\n",
              "      \n",
              "      <progress value='175' max='175' style='width:300px; height:20px; vertical-align: middle;'></progress>\n",
              "      [175/175 00:07]\n",
              "    </div>\n",
              "    "
            ],
            "text/plain": [
              "<IPython.core.display.HTML object>"
            ]
          },
          "metadata": {},
          "output_type": "display_data"
        },
        {
          "name": "stderr",
          "output_type": "stream",
          "text": [
            "/tmp/ipython-input-337047085.py:37: FutureWarning: `tokenizer` is deprecated and will be removed in version 5.0.0 for `Trainer.__init__`. Use `processing_class` instead.\n",
            "  trainer = Trainer(\n"
          ]
        },
        {
          "data": {
            "text/html": [
              "\n",
              "    <div>\n",
              "      \n",
              "      <progress value='350' max='350' style='width:300px; height:20px; vertical-align: middle;'></progress>\n",
              "      [350/350 01:01, Epoch 2/2]\n",
              "    </div>\n",
              "    <table border=\"1\" class=\"dataframe\">\n",
              "  <thead>\n",
              " <tr style=\"text-align: left;\">\n",
              "      <th>Epoch</th>\n",
              "      <th>Training Loss</th>\n",
              "      <th>Validation Loss</th>\n",
              "      <th>Accuracy</th>\n",
              "      <th>F1-macro</th>\n",
              "      <th>Precision</th>\n",
              "      <th>Recall</th>\n",
              "    </tr>\n",
              "  </thead>\n",
              "  <tbody>\n",
              "    <tr>\n",
              "      <td>1</td>\n",
              "      <td>0.899400</td>\n",
              "      <td>1.099124</td>\n",
              "      <td>0.602564</td>\n",
              "      <td>0.150400</td>\n",
              "      <td>0.120513</td>\n",
              "      <td>0.200000</td>\n",
              "    </tr>\n",
              "    <tr>\n",
              "      <td>2</td>\n",
              "      <td>0.943200</td>\n",
              "      <td>1.006982</td>\n",
              "      <td>0.615385</td>\n",
              "      <td>0.189275</td>\n",
              "      <td>0.224324</td>\n",
              "      <td>0.218602</td>\n",
              "    </tr>\n",
              "  </tbody>\n",
              "</table><p>"
            ],
            "text/plain": [
              "<IPython.core.display.HTML object>"
            ]
          },
          "metadata": {},
          "output_type": "display_data"
        },
        {
          "data": {
            "text/html": [
              "\n",
              "    <div>\n",
              "      \n",
              "      <progress value='194' max='194' style='width:300px; height:20px; vertical-align: middle;'></progress>\n",
              "      [194/194 00:08]\n",
              "    </div>\n",
              "    "
            ],
            "text/plain": [
              "<IPython.core.display.HTML object>"
            ]
          },
          "metadata": {},
          "output_type": "display_data"
        },
        {
          "name": "stderr",
          "output_type": "stream",
          "text": [
            "/tmp/ipython-input-337047085.py:37: FutureWarning: `tokenizer` is deprecated and will be removed in version 5.0.0 for `Trainer.__init__`. Use `processing_class` instead.\n",
            "  trainer = Trainer(\n"
          ]
        },
        {
          "data": {
            "text/html": [
              "\n",
              "    <div>\n",
              "      \n",
              "      <progress value='282' max='282' style='width:300px; height:20px; vertical-align: middle;'></progress>\n",
              "      [282/282 00:47, Epoch 2/2]\n",
              "    </div>\n",
              "    <table border=\"1\" class=\"dataframe\">\n",
              "  <thead>\n",
              " <tr style=\"text-align: left;\">\n",
              "      <th>Epoch</th>\n",
              "      <th>Training Loss</th>\n",
              "      <th>Validation Loss</th>\n",
              "      <th>Accuracy</th>\n",
              "      <th>F1-macro</th>\n",
              "      <th>Precision</th>\n",
              "      <th>Recall</th>\n",
              "    </tr>\n",
              "  </thead>\n",
              "  <tbody>\n",
              "    <tr>\n",
              "      <td>1</td>\n",
              "      <td>1.105300</td>\n",
              "      <td>1.086925</td>\n",
              "      <td>0.616000</td>\n",
              "      <td>0.185061</td>\n",
              "      <td>0.205000</td>\n",
              "      <td>0.217368</td>\n",
              "    </tr>\n",
              "    <tr>\n",
              "      <td>2</td>\n",
              "      <td>1.194700</td>\n",
              "      <td>1.099657</td>\n",
              "      <td>0.608000</td>\n",
              "      <td>0.206558</td>\n",
              "      <td>0.184158</td>\n",
              "      <td>0.236842</td>\n",
              "    </tr>\n",
              "  </tbody>\n",
              "</table><p>"
            ],
            "text/plain": [
              "<IPython.core.display.HTML object>"
            ]
          },
          "metadata": {},
          "output_type": "display_data"
        },
        {
          "data": {
            "text/html": [
              "\n",
              "    <div>\n",
              "      \n",
              "      <progress value='156' max='156' style='width:300px; height:20px; vertical-align: middle;'></progress>\n",
              "      [156/156 00:06]\n",
              "    </div>\n",
              "    "
            ],
            "text/plain": [
              "<IPython.core.display.HTML object>"
            ]
          },
          "metadata": {},
          "output_type": "display_data"
        },
        {
          "name": "stderr",
          "output_type": "stream",
          "text": [
            "/tmp/ipython-input-337047085.py:37: FutureWarning: `tokenizer` is deprecated and will be removed in version 5.0.0 for `Trainer.__init__`. Use `processing_class` instead.\n",
            "  trainer = Trainer(\n"
          ]
        },
        {
          "data": {
            "text/html": [
              "\n",
              "    <div>\n",
              "      \n",
              "      <progress value='416' max='416' style='width:300px; height:20px; vertical-align: middle;'></progress>\n",
              "      [416/416 01:12, Epoch 2/2]\n",
              "    </div>\n",
              "    <table border=\"1\" class=\"dataframe\">\n",
              "  <thead>\n",
              " <tr style=\"text-align: left;\">\n",
              "      <th>Epoch</th>\n",
              "      <th>Training Loss</th>\n",
              "      <th>Validation Loss</th>\n",
              "      <th>Accuracy</th>\n",
              "      <th>F1-macro</th>\n",
              "      <th>Precision</th>\n",
              "      <th>Recall</th>\n",
              "    </tr>\n",
              "  </thead>\n",
              "  <tbody>\n",
              "    <tr>\n",
              "      <td>1</td>\n",
              "      <td>0.803400</td>\n",
              "      <td>0.704699</td>\n",
              "      <td>0.794595</td>\n",
              "      <td>0.177108</td>\n",
              "      <td>0.158919</td>\n",
              "      <td>0.200000</td>\n",
              "    </tr>\n",
              "    <tr>\n",
              "      <td>2</td>\n",
              "      <td>0.837000</td>\n",
              "      <td>0.692044</td>\n",
              "      <td>0.794595</td>\n",
              "      <td>0.177108</td>\n",
              "      <td>0.158919</td>\n",
              "      <td>0.200000</td>\n",
              "    </tr>\n",
              "  </tbody>\n",
              "</table><p>"
            ],
            "text/plain": [
              "<IPython.core.display.HTML object>"
            ]
          },
          "metadata": {},
          "output_type": "display_data"
        },
        {
          "data": {
            "text/html": [
              "\n",
              "    <div>\n",
              "      \n",
              "      <progress value='232' max='232' style='width:300px; height:20px; vertical-align: middle;'></progress>\n",
              "      [232/232 00:10]\n",
              "    </div>\n",
              "    "
            ],
            "text/plain": [
              "<IPython.core.display.HTML object>"
            ]
          },
          "metadata": {},
          "output_type": "display_data"
        },
        {
          "name": "stderr",
          "output_type": "stream",
          "text": [
            "/tmp/ipython-input-337047085.py:37: FutureWarning: `tokenizer` is deprecated and will be removed in version 5.0.0 for `Trainer.__init__`. Use `processing_class` instead.\n",
            "  trainer = Trainer(\n"
          ]
        },
        {
          "data": {
            "text/html": [
              "\n",
              "    <div>\n",
              "      \n",
              "      <progress value='658' max='658' style='width:300px; height:20px; vertical-align: middle;'></progress>\n",
              "      [658/658 01:51, Epoch 2/2]\n",
              "    </div>\n",
              "    <table border=\"1\" class=\"dataframe\">\n",
              "  <thead>\n",
              " <tr style=\"text-align: left;\">\n",
              "      <th>Epoch</th>\n",
              "      <th>Training Loss</th>\n",
              "      <th>Validation Loss</th>\n",
              "      <th>Accuracy</th>\n",
              "      <th>F1-macro</th>\n",
              "      <th>Precision</th>\n",
              "      <th>Recall</th>\n",
              "    </tr>\n",
              "  </thead>\n",
              "  <tbody>\n",
              "    <tr>\n",
              "      <td>1</td>\n",
              "      <td>0.902400</td>\n",
              "      <td>0.946595</td>\n",
              "      <td>0.699659</td>\n",
              "      <td>0.164659</td>\n",
              "      <td>0.139932</td>\n",
              "      <td>0.200000</td>\n",
              "    </tr>\n",
              "    <tr>\n",
              "      <td>2</td>\n",
              "      <td>0.719400</td>\n",
              "      <td>0.937684</td>\n",
              "      <td>0.696246</td>\n",
              "      <td>0.173675</td>\n",
              "      <td>0.190484</td>\n",
              "      <td>0.203177</td>\n",
              "    </tr>\n",
              "  </tbody>\n",
              "</table><p>"
            ],
            "text/plain": [
              "<IPython.core.display.HTML object>"
            ]
          },
          "metadata": {},
          "output_type": "display_data"
        },
        {
          "data": {
            "text/html": [
              "\n",
              "    <div>\n",
              "      \n",
              "      <progress value='366' max='366' style='width:300px; height:20px; vertical-align: middle;'></progress>\n",
              "      [366/366 00:15]\n",
              "    </div>\n",
              "    "
            ],
            "text/plain": [
              "<IPython.core.display.HTML object>"
            ]
          },
          "metadata": {},
          "output_type": "display_data"
        },
        {
          "name": "stderr",
          "output_type": "stream",
          "text": [
            "/tmp/ipython-input-337047085.py:37: FutureWarning: `tokenizer` is deprecated and will be removed in version 5.0.0 for `Trainer.__init__`. Use `processing_class` instead.\n",
            "  trainer = Trainer(\n"
          ]
        },
        {
          "data": {
            "text/html": [
              "\n",
              "    <div>\n",
              "      \n",
              "      <progress value='1350' max='1350' style='width:300px; height:20px; vertical-align: middle;'></progress>\n",
              "      [1350/1350 03:51, Epoch 2/2]\n",
              "    </div>\n",
              "    <table border=\"1\" class=\"dataframe\">\n",
              "  <thead>\n",
              " <tr style=\"text-align: left;\">\n",
              "      <th>Epoch</th>\n",
              "      <th>Training Loss</th>\n",
              "      <th>Validation Loss</th>\n",
              "      <th>Accuracy</th>\n",
              "      <th>F1-macro</th>\n",
              "      <th>Precision</th>\n",
              "      <th>Recall</th>\n",
              "    </tr>\n",
              "  </thead>\n",
              "  <tbody>\n",
              "    <tr>\n",
              "      <td>1</td>\n",
              "      <td>0.968900</td>\n",
              "      <td>0.903433</td>\n",
              "      <td>0.675000</td>\n",
              "      <td>0.220930</td>\n",
              "      <td>0.272541</td>\n",
              "      <td>0.232170</td>\n",
              "    </tr>\n",
              "    <tr>\n",
              "      <td>2</td>\n",
              "      <td>0.719300</td>\n",
              "      <td>0.946417</td>\n",
              "      <td>0.630000</td>\n",
              "      <td>0.268652</td>\n",
              "      <td>0.262586</td>\n",
              "      <td>0.275885</td>\n",
              "    </tr>\n",
              "  </tbody>\n",
              "</table><p>"
            ],
            "text/plain": [
              "<IPython.core.display.HTML object>"
            ]
          },
          "metadata": {},
          "output_type": "display_data"
        },
        {
          "data": {
            "text/html": [
              "\n",
              "    <div>\n",
              "      \n",
              "      <progress value='750' max='750' style='width:300px; height:20px; vertical-align: middle;'></progress>\n",
              "      [750/750 00:32]\n",
              "    </div>\n",
              "    "
            ],
            "text/plain": [
              "<IPython.core.display.HTML object>"
            ]
          },
          "metadata": {},
          "output_type": "display_data"
        },
        {
          "name": "stderr",
          "output_type": "stream",
          "text": [
            "/tmp/ipython-input-337047085.py:37: FutureWarning: `tokenizer` is deprecated and will be removed in version 5.0.0 for `Trainer.__init__`. Use `processing_class` instead.\n",
            "  trainer = Trainer(\n"
          ]
        },
        {
          "data": {
            "text/html": [
              "\n",
              "    <div>\n",
              "      \n",
              "      <progress value='210' max='210' style='width:300px; height:20px; vertical-align: middle;'></progress>\n",
              "      [210/210 00:35, Epoch 2/2]\n",
              "    </div>\n",
              "    <table border=\"1\" class=\"dataframe\">\n",
              "  <thead>\n",
              " <tr style=\"text-align: left;\">\n",
              "      <th>Epoch</th>\n",
              "      <th>Training Loss</th>\n",
              "      <th>Validation Loss</th>\n",
              "      <th>Accuracy</th>\n",
              "      <th>F1-macro</th>\n",
              "      <th>Precision</th>\n",
              "      <th>Recall</th>\n",
              "    </tr>\n",
              "  </thead>\n",
              "  <tbody>\n",
              "    <tr>\n",
              "      <td>1</td>\n",
              "      <td>0.766800</td>\n",
              "      <td>0.773819</td>\n",
              "      <td>0.763441</td>\n",
              "      <td>0.216463</td>\n",
              "      <td>0.190860</td>\n",
              "      <td>0.250000</td>\n",
              "    </tr>\n",
              "    <tr>\n",
              "      <td>2</td>\n",
              "      <td>0.871800</td>\n",
              "      <td>0.762627</td>\n",
              "      <td>0.763441</td>\n",
              "      <td>0.216463</td>\n",
              "      <td>0.190860</td>\n",
              "      <td>0.250000</td>\n",
              "    </tr>\n",
              "  </tbody>\n",
              "</table><p>"
            ],
            "text/plain": [
              "<IPython.core.display.HTML object>"
            ]
          },
          "metadata": {},
          "output_type": "display_data"
        },
        {
          "data": {
            "text/html": [
              "\n",
              "    <div>\n",
              "      \n",
              "      <progress value='116' max='116' style='width:300px; height:20px; vertical-align: middle;'></progress>\n",
              "      [116/116 00:05]\n",
              "    </div>\n",
              "    "
            ],
            "text/plain": [
              "<IPython.core.display.HTML object>"
            ]
          },
          "metadata": {},
          "output_type": "display_data"
        },
        {
          "name": "stderr",
          "output_type": "stream",
          "text": [
            "/tmp/ipython-input-337047085.py:37: FutureWarning: `tokenizer` is deprecated and will be removed in version 5.0.0 for `Trainer.__init__`. Use `processing_class` instead.\n",
            "  trainer = Trainer(\n"
          ]
        },
        {
          "data": {
            "text/html": [
              "\n",
              "    <div>\n",
              "      \n",
              "      <progress value='1350' max='1350' style='width:300px; height:20px; vertical-align: middle;'></progress>\n",
              "      [1350/1350 03:51, Epoch 2/2]\n",
              "    </div>\n",
              "    <table border=\"1\" class=\"dataframe\">\n",
              "  <thead>\n",
              " <tr style=\"text-align: left;\">\n",
              "      <th>Epoch</th>\n",
              "      <th>Training Loss</th>\n",
              "      <th>Validation Loss</th>\n",
              "      <th>Accuracy</th>\n",
              "      <th>F1-macro</th>\n",
              "      <th>Precision</th>\n",
              "      <th>Recall</th>\n",
              "    </tr>\n",
              "  </thead>\n",
              "  <tbody>\n",
              "    <tr>\n",
              "      <td>1</td>\n",
              "      <td>0.911700</td>\n",
              "      <td>0.972832</td>\n",
              "      <td>0.641667</td>\n",
              "      <td>0.228051</td>\n",
              "      <td>0.207631</td>\n",
              "      <td>0.254123</td>\n",
              "    </tr>\n",
              "    <tr>\n",
              "      <td>2</td>\n",
              "      <td>0.844800</td>\n",
              "      <td>1.009733</td>\n",
              "      <td>0.601667</td>\n",
              "      <td>0.223343</td>\n",
              "      <td>0.199851</td>\n",
              "      <td>0.258763</td>\n",
              "    </tr>\n",
              "  </tbody>\n",
              "</table><p>"
            ],
            "text/plain": [
              "<IPython.core.display.HTML object>"
            ]
          },
          "metadata": {},
          "output_type": "display_data"
        },
        {
          "data": {
            "text/html": [
              "\n",
              "    <div>\n",
              "      \n",
              "      <progress value='750' max='750' style='width:300px; height:20px; vertical-align: middle;'></progress>\n",
              "      [750/750 00:32]\n",
              "    </div>\n",
              "    "
            ],
            "text/plain": [
              "<IPython.core.display.HTML object>"
            ]
          },
          "metadata": {},
          "output_type": "display_data"
        },
        {
          "name": "stderr",
          "output_type": "stream",
          "text": [
            "[I 2025-09-21 21:02:36,470] Trial 8 finished with value: 0.24170137399525962 and parameters: {'learning_rate': 4.24394872159565e-05, 'batch_size': 8, 'num_train_epochs': 2}. Best is trial 6 with value: 0.4399047138988092.\n",
            "/tmp/ipython-input-337047085.py:37: FutureWarning: `tokenizer` is deprecated and will be removed in version 5.0.0 for `Trainer.__init__`. Use `processing_class` instead.\n",
            "  trainer = Trainer(\n"
          ]
        },
        {
          "data": {
            "text/html": [
              "\n",
              "    <div>\n",
              "      \n",
              "      <progress value='220' max='220' style='width:300px; height:20px; vertical-align: middle;'></progress>\n",
              "      [220/220 01:11, Epoch 4/4]\n",
              "    </div>\n",
              "    <table border=\"1\" class=\"dataframe\">\n",
              "  <thead>\n",
              " <tr style=\"text-align: left;\">\n",
              "      <th>Epoch</th>\n",
              "      <th>Training Loss</th>\n",
              "      <th>Validation Loss</th>\n",
              "      <th>Accuracy</th>\n",
              "      <th>F1-macro</th>\n",
              "      <th>Precision</th>\n",
              "      <th>Recall</th>\n",
              "    </tr>\n",
              "  </thead>\n",
              "  <tbody>\n",
              "    <tr>\n",
              "      <td>1</td>\n",
              "      <td>1.083600</td>\n",
              "      <td>0.996724</td>\n",
              "      <td>0.701031</td>\n",
              "      <td>0.164848</td>\n",
              "      <td>0.140206</td>\n",
              "      <td>0.200000</td>\n",
              "    </tr>\n",
              "    <tr>\n",
              "      <td>2</td>\n",
              "      <td>0.930400</td>\n",
              "      <td>0.934355</td>\n",
              "      <td>0.701031</td>\n",
              "      <td>0.164848</td>\n",
              "      <td>0.140206</td>\n",
              "      <td>0.200000</td>\n",
              "    </tr>\n",
              "    <tr>\n",
              "      <td>3</td>\n",
              "      <td>0.747600</td>\n",
              "      <td>0.900133</td>\n",
              "      <td>0.701031</td>\n",
              "      <td>0.220422</td>\n",
              "      <td>0.213333</td>\n",
              "      <td>0.238562</td>\n",
              "    </tr>\n",
              "    <tr>\n",
              "      <td>4</td>\n",
              "      <td>0.784300</td>\n",
              "      <td>0.924476</td>\n",
              "      <td>0.649485</td>\n",
              "      <td>0.204082</td>\n",
              "      <td>0.187764</td>\n",
              "      <td>0.223856</td>\n",
              "    </tr>\n",
              "  </tbody>\n",
              "</table><p>"
            ],
            "text/plain": [
              "<IPython.core.display.HTML object>"
            ]
          },
          "metadata": {},
          "output_type": "display_data"
        },
        {
          "data": {
            "text/html": [
              "\n",
              "    <div>\n",
              "      \n",
              "      <progress value='61' max='61' style='width:300px; height:20px; vertical-align: middle;'></progress>\n",
              "      [61/61 00:05]\n",
              "    </div>\n",
              "    "
            ],
            "text/plain": [
              "<IPython.core.display.HTML object>"
            ]
          },
          "metadata": {},
          "output_type": "display_data"
        },
        {
          "name": "stderr",
          "output_type": "stream",
          "text": [
            "/tmp/ipython-input-337047085.py:37: FutureWarning: `tokenizer` is deprecated and will be removed in version 5.0.0 for `Trainer.__init__`. Use `processing_class` instead.\n",
            "  trainer = Trainer(\n"
          ]
        },
        {
          "data": {
            "text/html": [
              "\n",
              "    <div>\n",
              "      \n",
              "      <progress value='1352' max='1352' style='width:300px; height:20px; vertical-align: middle;'></progress>\n",
              "      [1352/1352 07:20, Epoch 4/4]\n",
              "    </div>\n",
              "    <table border=\"1\" class=\"dataframe\">\n",
              "  <thead>\n",
              " <tr style=\"text-align: left;\">\n",
              "      <th>Epoch</th>\n",
              "      <th>Training Loss</th>\n",
              "      <th>Validation Loss</th>\n",
              "      <th>Accuracy</th>\n",
              "      <th>F1-macro</th>\n",
              "      <th>Precision</th>\n",
              "      <th>Recall</th>\n",
              "    </tr>\n",
              "  </thead>\n",
              "  <tbody>\n",
              "    <tr>\n",
              "      <td>1</td>\n",
              "      <td>0.755300</td>\n",
              "      <td>0.740766</td>\n",
              "      <td>0.755000</td>\n",
              "      <td>0.172080</td>\n",
              "      <td>0.151000</td>\n",
              "      <td>0.200000</td>\n",
              "    </tr>\n",
              "    <tr>\n",
              "      <td>2</td>\n",
              "      <td>0.815800</td>\n",
              "      <td>0.729598</td>\n",
              "      <td>0.733333</td>\n",
              "      <td>0.239086</td>\n",
              "      <td>0.224496</td>\n",
              "      <td>0.255816</td>\n",
              "    </tr>\n",
              "    <tr>\n",
              "      <td>3</td>\n",
              "      <td>0.619600</td>\n",
              "      <td>0.795395</td>\n",
              "      <td>0.726667</td>\n",
              "      <td>0.261453</td>\n",
              "      <td>0.333675</td>\n",
              "      <td>0.287769</td>\n",
              "    </tr>\n",
              "    <tr>\n",
              "      <td>4</td>\n",
              "      <td>0.642800</td>\n",
              "      <td>0.857622</td>\n",
              "      <td>0.725000</td>\n",
              "      <td>0.235714</td>\n",
              "      <td>0.223527</td>\n",
              "      <td>0.249363</td>\n",
              "    </tr>\n",
              "  </tbody>\n",
              "</table><p>"
            ],
            "text/plain": [
              "<IPython.core.display.HTML object>"
            ]
          },
          "metadata": {},
          "output_type": "display_data"
        },
        {
          "data": {
            "text/html": [
              "\n",
              "    <div>\n",
              "      \n",
              "      <progress value='375' max='375' style='width:300px; height:20px; vertical-align: middle;'></progress>\n",
              "      [375/375 00:33]\n",
              "    </div>\n",
              "    "
            ],
            "text/plain": [
              "<IPython.core.display.HTML object>"
            ]
          },
          "metadata": {},
          "output_type": "display_data"
        },
        {
          "name": "stderr",
          "output_type": "stream",
          "text": [
            "/tmp/ipython-input-337047085.py:37: FutureWarning: `tokenizer` is deprecated and will be removed in version 5.0.0 for `Trainer.__init__`. Use `processing_class` instead.\n",
            "  trainer = Trainer(\n"
          ]
        },
        {
          "data": {
            "text/html": [
              "\n",
              "    <div>\n",
              "      \n",
              "      <progress value='280' max='280' style='width:300px; height:20px; vertical-align: middle;'></progress>\n",
              "      [280/280 01:28, Epoch 4/4]\n",
              "    </div>\n",
              "    <table border=\"1\" class=\"dataframe\">\n",
              "  <thead>\n",
              " <tr style=\"text-align: left;\">\n",
              "      <th>Epoch</th>\n",
              "      <th>Training Loss</th>\n",
              "      <th>Validation Loss</th>\n",
              "      <th>Accuracy</th>\n",
              "      <th>F1-macro</th>\n",
              "      <th>Precision</th>\n",
              "      <th>Recall</th>\n",
              "    </tr>\n",
              "  </thead>\n",
              "  <tbody>\n",
              "    <tr>\n",
              "      <td>1</td>\n",
              "      <td>1.159500</td>\n",
              "      <td>1.297612</td>\n",
              "      <td>0.528000</td>\n",
              "      <td>0.138220</td>\n",
              "      <td>0.105600</td>\n",
              "      <td>0.200000</td>\n",
              "    </tr>\n",
              "    <tr>\n",
              "      <td>2</td>\n",
              "      <td>1.069000</td>\n",
              "      <td>1.143261</td>\n",
              "      <td>0.528000</td>\n",
              "      <td>0.204850</td>\n",
              "      <td>0.174782</td>\n",
              "      <td>0.248485</td>\n",
              "    </tr>\n",
              "    <tr>\n",
              "      <td>3</td>\n",
              "      <td>0.922400</td>\n",
              "      <td>1.104445</td>\n",
              "      <td>0.528000</td>\n",
              "      <td>0.216357</td>\n",
              "      <td>0.186389</td>\n",
              "      <td>0.266667</td>\n",
              "    </tr>\n",
              "    <tr>\n",
              "      <td>4</td>\n",
              "      <td>0.921400</td>\n",
              "      <td>1.097589</td>\n",
              "      <td>0.552000</td>\n",
              "      <td>0.225546</td>\n",
              "      <td>0.193418</td>\n",
              "      <td>0.275758</td>\n",
              "    </tr>\n",
              "  </tbody>\n",
              "</table><p>"
            ],
            "text/plain": [
              "<IPython.core.display.HTML object>"
            ]
          },
          "metadata": {},
          "output_type": "display_data"
        },
        {
          "data": {
            "text/html": [
              "\n",
              "    <div>\n",
              "      \n",
              "      <progress value='78' max='78' style='width:300px; height:20px; vertical-align: middle;'></progress>\n",
              "      [78/78 00:06]\n",
              "    </div>\n",
              "    "
            ],
            "text/plain": [
              "<IPython.core.display.HTML object>"
            ]
          },
          "metadata": {},
          "output_type": "display_data"
        },
        {
          "name": "stderr",
          "output_type": "stream",
          "text": [
            "/tmp/ipython-input-337047085.py:37: FutureWarning: `tokenizer` is deprecated and will be removed in version 5.0.0 for `Trainer.__init__`. Use `processing_class` instead.\n",
            "  trainer = Trainer(\n"
          ]
        },
        {
          "data": {
            "text/html": [
              "\n",
              "    <div>\n",
              "      \n",
              "      <progress value='316' max='316' style='width:300px; height:20px; vertical-align: middle;'></progress>\n",
              "      [316/316 01:43, Epoch 4/4]\n",
              "    </div>\n",
              "    <table border=\"1\" class=\"dataframe\">\n",
              "  <thead>\n",
              " <tr style=\"text-align: left;\">\n",
              "      <th>Epoch</th>\n",
              "      <th>Training Loss</th>\n",
              "      <th>Validation Loss</th>\n",
              "      <th>Accuracy</th>\n",
              "      <th>F1-macro</th>\n",
              "      <th>Precision</th>\n",
              "      <th>Recall</th>\n",
              "    </tr>\n",
              "  </thead>\n",
              "  <tbody>\n",
              "    <tr>\n",
              "      <td>1</td>\n",
              "      <td>1.060700</td>\n",
              "      <td>1.178057</td>\n",
              "      <td>0.628571</td>\n",
              "      <td>0.154386</td>\n",
              "      <td>0.125714</td>\n",
              "      <td>0.200000</td>\n",
              "    </tr>\n",
              "    <tr>\n",
              "      <td>2</td>\n",
              "      <td>0.913800</td>\n",
              "      <td>1.095871</td>\n",
              "      <td>0.628571</td>\n",
              "      <td>0.154386</td>\n",
              "      <td>0.125714</td>\n",
              "      <td>0.200000</td>\n",
              "    </tr>\n",
              "    <tr>\n",
              "      <td>3</td>\n",
              "      <td>0.798000</td>\n",
              "      <td>1.032284</td>\n",
              "      <td>0.621429</td>\n",
              "      <td>0.171859</td>\n",
              "      <td>0.151515</td>\n",
              "      <td>0.205981</td>\n",
              "    </tr>\n",
              "    <tr>\n",
              "      <td>4</td>\n",
              "      <td>0.664500</td>\n",
              "      <td>1.076330</td>\n",
              "      <td>0.614286</td>\n",
              "      <td>0.169537</td>\n",
              "      <td>0.151993</td>\n",
              "      <td>0.203708</td>\n",
              "    </tr>\n",
              "  </tbody>\n",
              "</table><p>"
            ],
            "text/plain": [
              "<IPython.core.display.HTML object>"
            ]
          },
          "metadata": {},
          "output_type": "display_data"
        },
        {
          "data": {
            "text/html": [
              "\n",
              "    <div>\n",
              "      \n",
              "      <progress value='88' max='88' style='width:300px; height:20px; vertical-align: middle;'></progress>\n",
              "      [88/88 00:08]\n",
              "    </div>\n",
              "    "
            ],
            "text/plain": [
              "<IPython.core.display.HTML object>"
            ]
          },
          "metadata": {},
          "output_type": "display_data"
        },
        {
          "name": "stderr",
          "output_type": "stream",
          "text": [
            "/tmp/ipython-input-337047085.py:37: FutureWarning: `tokenizer` is deprecated and will be removed in version 5.0.0 for `Trainer.__init__`. Use `processing_class` instead.\n",
            "  trainer = Trainer(\n"
          ]
        },
        {
          "data": {
            "text/html": [
              "\n",
              "    <div>\n",
              "      \n",
              "      <progress value='352' max='352' style='width:300px; height:20px; vertical-align: middle;'></progress>\n",
              "      [352/352 01:54, Epoch 4/4]\n",
              "    </div>\n",
              "    <table border=\"1\" class=\"dataframe\">\n",
              "  <thead>\n",
              " <tr style=\"text-align: left;\">\n",
              "      <th>Epoch</th>\n",
              "      <th>Training Loss</th>\n",
              "      <th>Validation Loss</th>\n",
              "      <th>Accuracy</th>\n",
              "      <th>F1-macro</th>\n",
              "      <th>Precision</th>\n",
              "      <th>Recall</th>\n",
              "    </tr>\n",
              "  </thead>\n",
              "  <tbody>\n",
              "    <tr>\n",
              "      <td>1</td>\n",
              "      <td>1.044900</td>\n",
              "      <td>1.101501</td>\n",
              "      <td>0.602564</td>\n",
              "      <td>0.150400</td>\n",
              "      <td>0.120513</td>\n",
              "      <td>0.200000</td>\n",
              "    </tr>\n",
              "    <tr>\n",
              "      <td>2</td>\n",
              "      <td>0.959000</td>\n",
              "      <td>1.021382</td>\n",
              "      <td>0.602564</td>\n",
              "      <td>0.150400</td>\n",
              "      <td>0.120513</td>\n",
              "      <td>0.200000</td>\n",
              "    </tr>\n",
              "    <tr>\n",
              "      <td>3</td>\n",
              "      <td>0.855400</td>\n",
              "      <td>0.970602</td>\n",
              "      <td>0.621795</td>\n",
              "      <td>0.228846</td>\n",
              "      <td>0.216617</td>\n",
              "      <td>0.249422</td>\n",
              "    </tr>\n",
              "    <tr>\n",
              "      <td>4</td>\n",
              "      <td>0.765700</td>\n",
              "      <td>0.971309</td>\n",
              "      <td>0.641026</td>\n",
              "      <td>0.235267</td>\n",
              "      <td>0.225323</td>\n",
              "      <td>0.255805</td>\n",
              "    </tr>\n",
              "  </tbody>\n",
              "</table><p>"
            ],
            "text/plain": [
              "<IPython.core.display.HTML object>"
            ]
          },
          "metadata": {},
          "output_type": "display_data"
        },
        {
          "data": {
            "text/html": [
              "\n",
              "    <div>\n",
              "      \n",
              "      <progress value='97' max='97' style='width:300px; height:20px; vertical-align: middle;'></progress>\n",
              "      [97/97 00:08]\n",
              "    </div>\n",
              "    "
            ],
            "text/plain": [
              "<IPython.core.display.HTML object>"
            ]
          },
          "metadata": {},
          "output_type": "display_data"
        },
        {
          "name": "stderr",
          "output_type": "stream",
          "text": [
            "/tmp/ipython-input-337047085.py:37: FutureWarning: `tokenizer` is deprecated and will be removed in version 5.0.0 for `Trainer.__init__`. Use `processing_class` instead.\n",
            "  trainer = Trainer(\n"
          ]
        },
        {
          "data": {
            "text/html": [
              "\n",
              "    <div>\n",
              "      \n",
              "      <progress value='284' max='284' style='width:300px; height:20px; vertical-align: middle;'></progress>\n",
              "      [284/284 01:31, Epoch 4/4]\n",
              "    </div>\n",
              "    <table border=\"1\" class=\"dataframe\">\n",
              "  <thead>\n",
              " <tr style=\"text-align: left;\">\n",
              "      <th>Epoch</th>\n",
              "      <th>Training Loss</th>\n",
              "      <th>Validation Loss</th>\n",
              "      <th>Accuracy</th>\n",
              "      <th>F1-macro</th>\n",
              "      <th>Precision</th>\n",
              "      <th>Recall</th>\n",
              "    </tr>\n",
              "  </thead>\n",
              "  <tbody>\n",
              "    <tr>\n",
              "      <td>1</td>\n",
              "      <td>1.148300</td>\n",
              "      <td>1.160129</td>\n",
              "      <td>0.608000</td>\n",
              "      <td>0.151244</td>\n",
              "      <td>0.121600</td>\n",
              "      <td>0.200000</td>\n",
              "    </tr>\n",
              "    <tr>\n",
              "      <td>2</td>\n",
              "      <td>1.205600</td>\n",
              "      <td>1.119861</td>\n",
              "      <td>0.608000</td>\n",
              "      <td>0.151244</td>\n",
              "      <td>0.121600</td>\n",
              "      <td>0.200000</td>\n",
              "    </tr>\n",
              "    <tr>\n",
              "      <td>3</td>\n",
              "      <td>0.964500</td>\n",
              "      <td>1.104411</td>\n",
              "      <td>0.608000</td>\n",
              "      <td>0.168951</td>\n",
              "      <td>0.173967</td>\n",
              "      <td>0.207368</td>\n",
              "    </tr>\n",
              "    <tr>\n",
              "      <td>4</td>\n",
              "      <td>0.943000</td>\n",
              "      <td>1.109221</td>\n",
              "      <td>0.608000</td>\n",
              "      <td>0.181753</td>\n",
              "      <td>0.172031</td>\n",
              "      <td>0.214737</td>\n",
              "    </tr>\n",
              "  </tbody>\n",
              "</table><p>"
            ],
            "text/plain": [
              "<IPython.core.display.HTML object>"
            ]
          },
          "metadata": {},
          "output_type": "display_data"
        },
        {
          "data": {
            "text/html": [
              "\n",
              "    <div>\n",
              "      \n",
              "      <progress value='78' max='78' style='width:300px; height:20px; vertical-align: middle;'></progress>\n",
              "      [78/78 00:07]\n",
              "    </div>\n",
              "    "
            ],
            "text/plain": [
              "<IPython.core.display.HTML object>"
            ]
          },
          "metadata": {},
          "output_type": "display_data"
        },
        {
          "name": "stderr",
          "output_type": "stream",
          "text": [
            "/tmp/ipython-input-337047085.py:37: FutureWarning: `tokenizer` is deprecated and will be removed in version 5.0.0 for `Trainer.__init__`. Use `processing_class` instead.\n",
            "  trainer = Trainer(\n"
          ]
        },
        {
          "data": {
            "text/html": [
              "\n",
              "    <div>\n",
              "      \n",
              "      <progress value='416' max='416' style='width:300px; height:20px; vertical-align: middle;'></progress>\n",
              "      [416/416 02:16, Epoch 4/4]\n",
              "    </div>\n",
              "    <table border=\"1\" class=\"dataframe\">\n",
              "  <thead>\n",
              " <tr style=\"text-align: left;\">\n",
              "      <th>Epoch</th>\n",
              "      <th>Training Loss</th>\n",
              "      <th>Validation Loss</th>\n",
              "      <th>Accuracy</th>\n",
              "      <th>F1-macro</th>\n",
              "      <th>Precision</th>\n",
              "      <th>Recall</th>\n",
              "    </tr>\n",
              "  </thead>\n",
              "  <tbody>\n",
              "    <tr>\n",
              "      <td>1</td>\n",
              "      <td>0.802400</td>\n",
              "      <td>0.758022</td>\n",
              "      <td>0.794595</td>\n",
              "      <td>0.177108</td>\n",
              "      <td>0.158919</td>\n",
              "      <td>0.200000</td>\n",
              "    </tr>\n",
              "    <tr>\n",
              "      <td>2</td>\n",
              "      <td>0.984600</td>\n",
              "      <td>0.698060</td>\n",
              "      <td>0.794595</td>\n",
              "      <td>0.177108</td>\n",
              "      <td>0.158919</td>\n",
              "      <td>0.200000</td>\n",
              "    </tr>\n",
              "    <tr>\n",
              "      <td>3</td>\n",
              "      <td>0.620100</td>\n",
              "      <td>0.680004</td>\n",
              "      <td>0.805405</td>\n",
              "      <td>0.229441</td>\n",
              "      <td>0.413333</td>\n",
              "      <td>0.231111</td>\n",
              "    </tr>\n",
              "    <tr>\n",
              "      <td>4</td>\n",
              "      <td>0.719800</td>\n",
              "      <td>0.697625</td>\n",
              "      <td>0.783784</td>\n",
              "      <td>0.269565</td>\n",
              "      <td>0.285948</td>\n",
              "      <td>0.264671</td>\n",
              "    </tr>\n",
              "  </tbody>\n",
              "</table><p>"
            ],
            "text/plain": [
              "<IPython.core.display.HTML object>"
            ]
          },
          "metadata": {},
          "output_type": "display_data"
        },
        {
          "data": {
            "text/html": [
              "\n",
              "    <div>\n",
              "      \n",
              "      <progress value='116' max='116' style='width:300px; height:20px; vertical-align: middle;'></progress>\n",
              "      [116/116 00:10]\n",
              "    </div>\n",
              "    "
            ],
            "text/plain": [
              "<IPython.core.display.HTML object>"
            ]
          },
          "metadata": {},
          "output_type": "display_data"
        },
        {
          "name": "stderr",
          "output_type": "stream",
          "text": [
            "/tmp/ipython-input-337047085.py:37: FutureWarning: `tokenizer` is deprecated and will be removed in version 5.0.0 for `Trainer.__init__`. Use `processing_class` instead.\n",
            "  trainer = Trainer(\n"
          ]
        },
        {
          "data": {
            "text/html": [
              "\n",
              "    <div>\n",
              "      \n",
              "      <progress value='660' max='660' style='width:300px; height:20px; vertical-align: middle;'></progress>\n",
              "      [660/660 03:32, Epoch 4/4]\n",
              "    </div>\n",
              "    <table border=\"1\" class=\"dataframe\">\n",
              "  <thead>\n",
              " <tr style=\"text-align: left;\">\n",
              "      <th>Epoch</th>\n",
              "      <th>Training Loss</th>\n",
              "      <th>Validation Loss</th>\n",
              "      <th>Accuracy</th>\n",
              "      <th>F1-macro</th>\n",
              "      <th>Precision</th>\n",
              "      <th>Recall</th>\n",
              "    </tr>\n",
              "  </thead>\n",
              "  <tbody>\n",
              "    <tr>\n",
              "      <td>1</td>\n",
              "      <td>0.907100</td>\n",
              "      <td>0.950268</td>\n",
              "      <td>0.699659</td>\n",
              "      <td>0.164659</td>\n",
              "      <td>0.139932</td>\n",
              "      <td>0.200000</td>\n",
              "    </tr>\n",
              "    <tr>\n",
              "      <td>2</td>\n",
              "      <td>0.829600</td>\n",
              "      <td>0.953512</td>\n",
              "      <td>0.703072</td>\n",
              "      <td>0.175079</td>\n",
              "      <td>0.240893</td>\n",
              "      <td>0.205128</td>\n",
              "    </tr>\n",
              "    <tr>\n",
              "      <td>3</td>\n",
              "      <td>0.854000</td>\n",
              "      <td>0.984672</td>\n",
              "      <td>0.668942</td>\n",
              "      <td>0.212357</td>\n",
              "      <td>0.371242</td>\n",
              "      <td>0.219672</td>\n",
              "    </tr>\n",
              "    <tr>\n",
              "      <td>4</td>\n",
              "      <td>0.551200</td>\n",
              "      <td>1.031904</td>\n",
              "      <td>0.634812</td>\n",
              "      <td>0.200615</td>\n",
              "      <td>0.273062</td>\n",
              "      <td>0.212300</td>\n",
              "    </tr>\n",
              "  </tbody>\n",
              "</table><p>"
            ],
            "text/plain": [
              "<IPython.core.display.HTML object>"
            ]
          },
          "metadata": {},
          "output_type": "display_data"
        },
        {
          "data": {
            "text/html": [
              "\n",
              "    <div>\n",
              "      \n",
              "      <progress value='183' max='183' style='width:300px; height:20px; vertical-align: middle;'></progress>\n",
              "      [183/183 00:16]\n",
              "    </div>\n",
              "    "
            ],
            "text/plain": [
              "<IPython.core.display.HTML object>"
            ]
          },
          "metadata": {},
          "output_type": "display_data"
        },
        {
          "name": "stderr",
          "output_type": "stream",
          "text": [
            "/tmp/ipython-input-337047085.py:37: FutureWarning: `tokenizer` is deprecated and will be removed in version 5.0.0 for `Trainer.__init__`. Use `processing_class` instead.\n",
            "  trainer = Trainer(\n"
          ]
        },
        {
          "data": {
            "text/html": [
              "\n",
              "    <div>\n",
              "      \n",
              "      <progress value='1352' max='1352' style='width:300px; height:20px; vertical-align: middle;'></progress>\n",
              "      [1352/1352 07:20, Epoch 4/4]\n",
              "    </div>\n",
              "    <table border=\"1\" class=\"dataframe\">\n",
              "  <thead>\n",
              " <tr style=\"text-align: left;\">\n",
              "      <th>Epoch</th>\n",
              "      <th>Training Loss</th>\n",
              "      <th>Validation Loss</th>\n",
              "      <th>Accuracy</th>\n",
              "      <th>F1-macro</th>\n",
              "      <th>Precision</th>\n",
              "      <th>Recall</th>\n",
              "    </tr>\n",
              "  </thead>\n",
              "  <tbody>\n",
              "    <tr>\n",
              "      <td>1</td>\n",
              "      <td>1.002300</td>\n",
              "      <td>0.912712</td>\n",
              "      <td>0.656667</td>\n",
              "      <td>0.216607</td>\n",
              "      <td>0.227824</td>\n",
              "      <td>0.230966</td>\n",
              "    </tr>\n",
              "    <tr>\n",
              "      <td>2</td>\n",
              "      <td>0.917100</td>\n",
              "      <td>0.922138</td>\n",
              "      <td>0.655000</td>\n",
              "      <td>0.276580</td>\n",
              "      <td>0.280045</td>\n",
              "      <td>0.280927</td>\n",
              "    </tr>\n",
              "    <tr>\n",
              "      <td>3</td>\n",
              "      <td>0.648200</td>\n",
              "      <td>0.991134</td>\n",
              "      <td>0.666667</td>\n",
              "      <td>0.274827</td>\n",
              "      <td>0.279251</td>\n",
              "      <td>0.279049</td>\n",
              "    </tr>\n",
              "    <tr>\n",
              "      <td>4</td>\n",
              "      <td>0.681200</td>\n",
              "      <td>1.033622</td>\n",
              "      <td>0.665000</td>\n",
              "      <td>0.298517</td>\n",
              "      <td>0.291502</td>\n",
              "      <td>0.306311</td>\n",
              "    </tr>\n",
              "  </tbody>\n",
              "</table><p>"
            ],
            "text/plain": [
              "<IPython.core.display.HTML object>"
            ]
          },
          "metadata": {},
          "output_type": "display_data"
        },
        {
          "data": {
            "text/html": [
              "\n",
              "    <div>\n",
              "      \n",
              "      <progress value='375' max='375' style='width:300px; height:20px; vertical-align: middle;'></progress>\n",
              "      [375/375 00:33]\n",
              "    </div>\n",
              "    "
            ],
            "text/plain": [
              "<IPython.core.display.HTML object>"
            ]
          },
          "metadata": {},
          "output_type": "display_data"
        },
        {
          "name": "stderr",
          "output_type": "stream",
          "text": [
            "/tmp/ipython-input-337047085.py:37: FutureWarning: `tokenizer` is deprecated and will be removed in version 5.0.0 for `Trainer.__init__`. Use `processing_class` instead.\n",
            "  trainer = Trainer(\n"
          ]
        },
        {
          "data": {
            "text/html": [
              "\n",
              "    <div>\n",
              "      \n",
              "      <progress value='212' max='212' style='width:300px; height:20px; vertical-align: middle;'></progress>\n",
              "      [212/212 01:07, Epoch 4/4]\n",
              "    </div>\n",
              "    <table border=\"1\" class=\"dataframe\">\n",
              "  <thead>\n",
              " <tr style=\"text-align: left;\">\n",
              "      <th>Epoch</th>\n",
              "      <th>Training Loss</th>\n",
              "      <th>Validation Loss</th>\n",
              "      <th>Accuracy</th>\n",
              "      <th>F1-macro</th>\n",
              "      <th>Precision</th>\n",
              "      <th>Recall</th>\n",
              "    </tr>\n",
              "  </thead>\n",
              "  <tbody>\n",
              "    <tr>\n",
              "      <td>1</td>\n",
              "      <td>0.792200</td>\n",
              "      <td>0.779731</td>\n",
              "      <td>0.763441</td>\n",
              "      <td>0.216463</td>\n",
              "      <td>0.190860</td>\n",
              "      <td>0.250000</td>\n",
              "    </tr>\n",
              "    <tr>\n",
              "      <td>2</td>\n",
              "      <td>0.823600</td>\n",
              "      <td>0.769541</td>\n",
              "      <td>0.763441</td>\n",
              "      <td>0.216463</td>\n",
              "      <td>0.190860</td>\n",
              "      <td>0.250000</td>\n",
              "    </tr>\n",
              "    <tr>\n",
              "      <td>3</td>\n",
              "      <td>0.859400</td>\n",
              "      <td>0.757501</td>\n",
              "      <td>0.763441</td>\n",
              "      <td>0.216463</td>\n",
              "      <td>0.190860</td>\n",
              "      <td>0.250000</td>\n",
              "    </tr>\n",
              "    <tr>\n",
              "      <td>4</td>\n",
              "      <td>0.707500</td>\n",
              "      <td>0.750579</td>\n",
              "      <td>0.763441</td>\n",
              "      <td>0.216463</td>\n",
              "      <td>0.190860</td>\n",
              "      <td>0.250000</td>\n",
              "    </tr>\n",
              "  </tbody>\n",
              "</table><p>"
            ],
            "text/plain": [
              "<IPython.core.display.HTML object>"
            ]
          },
          "metadata": {},
          "output_type": "display_data"
        },
        {
          "data": {
            "text/html": [
              "\n",
              "    <div>\n",
              "      \n",
              "      <progress value='58' max='58' style='width:300px; height:20px; vertical-align: middle;'></progress>\n",
              "      [58/58 00:05]\n",
              "    </div>\n",
              "    "
            ],
            "text/plain": [
              "<IPython.core.display.HTML object>"
            ]
          },
          "metadata": {},
          "output_type": "display_data"
        },
        {
          "name": "stderr",
          "output_type": "stream",
          "text": [
            "/tmp/ipython-input-337047085.py:37: FutureWarning: `tokenizer` is deprecated and will be removed in version 5.0.0 for `Trainer.__init__`. Use `processing_class` instead.\n",
            "  trainer = Trainer(\n"
          ]
        },
        {
          "data": {
            "text/html": [
              "\n",
              "    <div>\n",
              "      \n",
              "      <progress value='1352' max='1352' style='width:300px; height:20px; vertical-align: middle;'></progress>\n",
              "      [1352/1352 07:19, Epoch 4/4]\n",
              "    </div>\n",
              "    <table border=\"1\" class=\"dataframe\">\n",
              "  <thead>\n",
              " <tr style=\"text-align: left;\">\n",
              "      <th>Epoch</th>\n",
              "      <th>Training Loss</th>\n",
              "      <th>Validation Loss</th>\n",
              "      <th>Accuracy</th>\n",
              "      <th>F1-macro</th>\n",
              "      <th>Precision</th>\n",
              "      <th>Recall</th>\n",
              "    </tr>\n",
              "  </thead>\n",
              "  <tbody>\n",
              "    <tr>\n",
              "      <td>1</td>\n",
              "      <td>1.072300</td>\n",
              "      <td>0.989818</td>\n",
              "      <td>0.606667</td>\n",
              "      <td>0.223685</td>\n",
              "      <td>0.199790</td>\n",
              "      <td>0.257207</td>\n",
              "    </tr>\n",
              "    <tr>\n",
              "      <td>2</td>\n",
              "      <td>0.946300</td>\n",
              "      <td>0.981883</td>\n",
              "      <td>0.600000</td>\n",
              "      <td>0.228941</td>\n",
              "      <td>0.206244</td>\n",
              "      <td>0.270730</td>\n",
              "    </tr>\n",
              "    <tr>\n",
              "      <td>3</td>\n",
              "      <td>0.679100</td>\n",
              "      <td>1.015798</td>\n",
              "      <td>0.628333</td>\n",
              "      <td>0.263790</td>\n",
              "      <td>0.302017</td>\n",
              "      <td>0.286432</td>\n",
              "    </tr>\n",
              "    <tr>\n",
              "      <td>4</td>\n",
              "      <td>0.739800</td>\n",
              "      <td>1.075867</td>\n",
              "      <td>0.618333</td>\n",
              "      <td>0.272813</td>\n",
              "      <td>0.305983</td>\n",
              "      <td>0.296957</td>\n",
              "    </tr>\n",
              "  </tbody>\n",
              "</table><p>"
            ],
            "text/plain": [
              "<IPython.core.display.HTML object>"
            ]
          },
          "metadata": {},
          "output_type": "display_data"
        },
        {
          "data": {
            "text/html": [
              "\n",
              "    <div>\n",
              "      \n",
              "      <progress value='375' max='375' style='width:300px; height:20px; vertical-align: middle;'></progress>\n",
              "      [375/375 00:33]\n",
              "    </div>\n",
              "    "
            ],
            "text/plain": [
              "<IPython.core.display.HTML object>"
            ]
          },
          "metadata": {},
          "output_type": "display_data"
        },
        {
          "name": "stderr",
          "output_type": "stream",
          "text": [
            "[I 2025-09-21 21:42:24,046] Trial 9 finished with value: 0.31384861108388823 and parameters: {'learning_rate': 2.6005578383601e-05, 'batch_size': 16, 'num_train_epochs': 4}. Best is trial 6 with value: 0.4399047138988092.\n"
          ]
        },
        {
          "name": "stdout",
          "output_type": "stream",
          "text": [
            "Beste Hyperparameter: {'learning_rate': 3.320960595862777e-05, 'batch_size': 8, 'num_train_epochs': 4}\n"
          ]
        }
      ],
      "source": [
        "study = optuna.create_study(direction=\"maximize\")  # Maximieren von F1\n",
        "study.optimize(model_training_optuna_annotators, n_trials=10) # 10 verschiedene Kombinationen testen\n",
        "\n",
        "print(\"Beste Hyperparameter:\", study.best_params)"
      ]
    }
  ],
  "metadata": {
    "accelerator": "GPU",
    "colab": {
      "collapsed_sections": [
        "1IUDdVhrYt00",
        "PJKZmnjv569e",
        "wf3oi0qEUieR",
        "sK_4i9pPHlRO",
        "084CRgS1IoGF",
        "cLo8J5eeUxOg",
        "1WWfAckAH2pI",
        "OQtU5LIWU-QU",
        "Nxj1NV7VQRZh",
        "rAjsTVLYZRGU",
        "IEVEMcLWWM47",
        "lYCLOTGsoGIg",
        "YXY_RoCFGdzb",
        "JK_MmihoqyOi",
        "Nun8yN7p9Kd_",
        "6yiWtLGKRcii",
        "4qKA1OtISLr3",
        "iLA1_O0XV_E0",
        "KRyb6ENBnd84",
        "1w8n8lLFewzb",
        "wNN2wLokVmXu",
        "7GT1wlrBfCdV",
        "IE6F81Q0e8ef",
        "-MmgHfaZGSbD",
        "XHtWtm2_avj7",
        "Jo3bHWwTa1ls",
        "IDRZPBJtJHNM",
        "zPh6_Lk8V4Uh",
        "X99OQBBHiSSn",
        "hzM-FacCp7rQ",
        "OmElGZl_Uo93",
        "9uzfU4D4jq8x",
        "r2ABAuAonsXe",
        "VaiqheTykNwB",
        "bK9uz-4ANdOS",
        "5qoNpPRJkXTN",
        "cwyCKXX7H0WJ",
        "I4NHZdIMXjBa",
        "JQrmD-BIWKEt",
        "D6Q5YHr7WafX",
        "pOe8H84b8Tky"
      ],
      "gpuType": "T4",
      "machine_shape": "hm",
      "provenance": []
    },
    "kernelspec": {
      "display_name": "Python 3",
      "name": "python3"
    },
    "language_info": {
      "name": "python"
    }
  },
  "nbformat": 4,
  "nbformat_minor": 0
}